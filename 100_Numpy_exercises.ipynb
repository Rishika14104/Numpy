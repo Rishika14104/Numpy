{
 "cells": [
  {
   "cell_type": "markdown",
   "id": "6293cc50",
   "metadata": {},
   "source": [
    "# 100 numpy exercises\n",
    "\n",
    "This is a collection of exercises that have been collected in the numpy mailing list, on stack overflow\n",
    "and in the numpy documentation. The goal of this collection is to offer a quick reference for both old\n",
    "and new users but also to provide a set of exercises for those who teach.\n",
    "\n",
    "\n",
    "If you find an error or think you've a better way to solve some of them, feel\n",
    "free to open an issue at <https://github.com/rougier/numpy-100>."
   ]
  },
  {
   "cell_type": "markdown",
   "id": "a167c052",
   "metadata": {},
   "source": [
    "File automatically generated. See the documentation to update questions/answers/hints programmatically."
   ]
  },
  {
   "cell_type": "markdown",
   "id": "57fc0ee5",
   "metadata": {},
   "source": [
    "Run the `initialize.py` module, then for each question you can query the\n",
    "answer or an hint with `hint(n)` or `answer(n)` for `n` question number."
   ]
  },
  {
   "cell_type": "code",
   "execution_count": null,
   "id": "3d46fba2",
   "metadata": {},
   "outputs": [],
   "source": [
    "%run initialise.py"
   ]
  },
  {
   "cell_type": "markdown",
   "id": "3c1222ff",
   "metadata": {},
   "source": [
    "#### 1. Import the numpy package under the name `np` (★☆☆)"
   ]
  },
  {
   "cell_type": "code",
   "execution_count": 3,
   "id": "f52e6a0b",
   "metadata": {},
   "outputs": [],
   "source": [
    "import numpy as np"
   ]
  },
  {
   "cell_type": "markdown",
   "id": "9d9f4753",
   "metadata": {},
   "source": [
    "#### 2. Print the numpy version and the configuration (★☆☆)"
   ]
  },
  {
   "cell_type": "code",
   "execution_count": 5,
   "id": "b7fa5fa1",
   "metadata": {},
   "outputs": [
    {
     "name": "stdout",
     "output_type": "stream",
     "text": [
      "NumPy version: 2.1.3\n",
      "{\n",
      "  \"Compilers\": {\n",
      "    \"c\": {\n",
      "      \"name\": \"msvc\",\n",
      "      \"linker\": \"link\",\n",
      "      \"version\": \"19.29.30156\",\n",
      "      \"commands\": \"cl\"\n",
      "    },\n",
      "    \"cython\": {\n",
      "      \"name\": \"cython\",\n",
      "      \"linker\": \"cython\",\n",
      "      \"version\": \"3.0.11\",\n",
      "      \"commands\": \"cython\"\n",
      "    },\n",
      "    \"c++\": {\n",
      "      \"name\": \"msvc\",\n",
      "      \"linker\": \"link\",\n",
      "      \"version\": \"19.29.30156\",\n",
      "      \"commands\": \"cl\"\n",
      "    }\n",
      "  },\n",
      "  \"Machine Information\": {\n",
      "    \"host\": {\n",
      "      \"cpu\": \"x86_64\",\n",
      "      \"family\": \"x86_64\",\n",
      "      \"endian\": \"little\",\n",
      "      \"system\": \"windows\"\n",
      "    },\n",
      "    \"build\": {\n",
      "      \"cpu\": \"x86_64\",\n",
      "      \"family\": \"x86_64\",\n",
      "      \"endian\": \"little\",\n",
      "      \"system\": \"windows\"\n",
      "    }\n",
      "  },\n",
      "  \"Build Dependencies\": {\n",
      "    \"blas\": {\n",
      "      \"name\": \"scipy-openblas\",\n",
      "      \"found\": true,\n",
      "      \"version\": \"0.3.27\",\n",
      "      \"detection method\": \"pkgconfig\",\n",
      "      \"include directory\": \"C:/Users/runneradmin/AppData/Local/Temp/cibw-run-j8vn_sl2/cp311-win_amd64/build/venv/Lib/site-packages/scipy_openblas64/include\",\n",
      "      \"lib directory\": \"C:/Users/runneradmin/AppData/Local/Temp/cibw-run-j8vn_sl2/cp311-win_amd64/build/venv/Lib/site-packages/scipy_openblas64/lib\",\n",
      "      \"openblas configuration\": \"OpenBLAS 0.3.27  USE64BITINT DYNAMIC_ARCH NO_AFFINITY Haswell MAX_THREADS=24\",\n",
      "      \"pc file directory\": \"D:/a/numpy/numpy/.openblas\"\n",
      "    },\n",
      "    \"lapack\": {\n",
      "      \"name\": \"scipy-openblas\",\n",
      "      \"found\": true,\n",
      "      \"version\": \"0.3.27\",\n",
      "      \"detection method\": \"pkgconfig\",\n",
      "      \"include directory\": \"C:/Users/runneradmin/AppData/Local/Temp/cibw-run-j8vn_sl2/cp311-win_amd64/build/venv/Lib/site-packages/scipy_openblas64/include\",\n",
      "      \"lib directory\": \"C:/Users/runneradmin/AppData/Local/Temp/cibw-run-j8vn_sl2/cp311-win_amd64/build/venv/Lib/site-packages/scipy_openblas64/lib\",\n",
      "      \"openblas configuration\": \"OpenBLAS 0.3.27  USE64BITINT DYNAMIC_ARCH NO_AFFINITY Haswell MAX_THREADS=24\",\n",
      "      \"pc file directory\": \"D:/a/numpy/numpy/.openblas\"\n",
      "    }\n",
      "  },\n",
      "  \"Python Information\": {\n",
      "    \"path\": \"C:\\\\Users\\\\runneradmin\\\\AppData\\\\Local\\\\Temp\\\\build-env-0xvfl3v_\\\\Scripts\\\\python.exe\",\n",
      "    \"version\": \"3.11\"\n",
      "  },\n",
      "  \"SIMD Extensions\": {\n",
      "    \"baseline\": [\n",
      "      \"SSE\",\n",
      "      \"SSE2\",\n",
      "      \"SSE3\"\n",
      "    ],\n",
      "    \"found\": [\n",
      "      \"SSSE3\",\n",
      "      \"SSE41\",\n",
      "      \"POPCNT\",\n",
      "      \"SSE42\",\n",
      "      \"AVX\",\n",
      "      \"F16C\",\n",
      "      \"FMA3\",\n",
      "      \"AVX2\",\n",
      "      \"AVX512F\",\n",
      "      \"AVX512CD\",\n",
      "      \"AVX512_SKX\",\n",
      "      \"AVX512_CLX\",\n",
      "      \"AVX512_CNL\",\n",
      "      \"AVX512_ICL\"\n",
      "    ]\n",
      "  }\n",
      "}\n"
     ]
    },
    {
     "name": "stderr",
     "output_type": "stream",
     "text": [
      "C:\\Users\\rishi\\AppData\\Local\\Packages\\PythonSoftwareFoundation.Python.3.11_qbz5n2kfra8p0\\LocalCache\\local-packages\\Python311\\site-packages\\numpy\\__config__.py:155: UserWarning: Install `pyyaml` for better output\n",
      "  warnings.warn(\"Install `pyyaml` for better output\", stacklevel=1)\n"
     ]
    }
   ],
   "source": [
    "print(\"NumPy version:\", np.__version__)\n",
    "np.show_config()"
   ]
  },
  {
   "cell_type": "markdown",
   "id": "3e4c23c6",
   "metadata": {},
   "source": [
    "#### 3. Create a null vector of size 10 (★☆☆)"
   ]
  },
  {
   "cell_type": "code",
   "execution_count": 6,
   "id": "083c5c46",
   "metadata": {},
   "outputs": [
    {
     "name": "stdout",
     "output_type": "stream",
     "text": [
      "[0. 0. 0. 0. 0. 0. 0. 0. 0. 0.]\n"
     ]
    }
   ],
   "source": [
    "null_vector = np.zeros(10)\n",
    "print(null_vector)"
   ]
  },
  {
   "cell_type": "markdown",
   "id": "c38bbe82",
   "metadata": {},
   "source": [
    "#### 4. How to find the memory size of any array (★☆☆)"
   ]
  },
  {
   "cell_type": "code",
   "execution_count": 7,
   "id": "02b04021",
   "metadata": {},
   "outputs": [
    {
     "name": "stdout",
     "output_type": "stream",
     "text": [
      "total memory size: 72 bytes\n",
      "memory size per element: 8 bytes\n",
      "manual calculation: 72 bytes\n"
     ]
    }
   ],
   "source": [
    "arr = np.zeros((3,3))\n",
    "print(\"total memory size:\", arr.nbytes,\"bytes\")\n",
    "print(\"memory size per element:\", arr.itemsize, \"bytes\")\n",
    "print(\"manual calculation:\", arr.size * arr.itemsize, \"bytes\")"
   ]
  },
  {
   "cell_type": "markdown",
   "id": "67f893d4",
   "metadata": {},
   "source": [
    "#### 5. How to get the documentation of the numpy add function from the command line? (★☆☆)"
   ]
  },
  {
   "cell_type": "code",
   "execution_count": 8,
   "id": "40e6b70d",
   "metadata": {},
   "outputs": [
    {
     "name": "stdout",
     "output_type": "stream",
     "text": [
      "Help on ufunc:\n",
      "\n",
      "add = <ufunc 'add'>\n",
      "    add(x1, x2, /, out=None, *, where=True, casting='same_kind', order='K', dtype=None, subok=True[, signature])\n",
      "    \n",
      "    Add arguments element-wise.\n",
      "    \n",
      "    Parameters\n",
      "    ----------\n",
      "    x1, x2 : array_like\n",
      "        The arrays to be added.\n",
      "        If ``x1.shape != x2.shape``, they must be broadcastable to a common\n",
      "        shape (which becomes the shape of the output).\n",
      "    out : ndarray, None, or tuple of ndarray and None, optional\n",
      "        A location into which the result is stored. If provided, it must have\n",
      "        a shape that the inputs broadcast to. If not provided or None,\n",
      "        a freshly-allocated array is returned. A tuple (possible only as a\n",
      "        keyword argument) must have length equal to the number of outputs.\n",
      "    where : array_like, optional\n",
      "        This condition is broadcast over the input. At locations where the\n",
      "        condition is True, the `out` array will be set to the ufunc result.\n",
      "        Elsewhere, the `out` array will retain its original value.\n",
      "        Note that if an uninitialized `out` array is created via the default\n",
      "        ``out=None``, locations within it where the condition is False will\n",
      "        remain uninitialized.\n",
      "    **kwargs\n",
      "        For other keyword-only arguments, see the\n",
      "        :ref:`ufunc docs <ufuncs.kwargs>`.\n",
      "    \n",
      "    Returns\n",
      "    -------\n",
      "    add : ndarray or scalar\n",
      "        The sum of `x1` and `x2`, element-wise.\n",
      "        This is a scalar if both `x1` and `x2` are scalars.\n",
      "    \n",
      "    Notes\n",
      "    -----\n",
      "    Equivalent to `x1` + `x2` in terms of array broadcasting.\n",
      "    \n",
      "    Examples\n",
      "    --------\n",
      "    >>> import numpy as np\n",
      "    >>> np.add(1.0, 4.0)\n",
      "    5.0\n",
      "    >>> x1 = np.arange(9.0).reshape((3, 3))\n",
      "    >>> x2 = np.arange(3.0)\n",
      "    >>> np.add(x1, x2)\n",
      "    array([[  0.,   2.,   4.],\n",
      "           [  3.,   5.,   7.],\n",
      "           [  6.,   8.,  10.]])\n",
      "    \n",
      "    The ``+`` operator can be used as a shorthand for ``np.add`` on ndarrays.\n",
      "    \n",
      "    >>> x1 = np.arange(9.0).reshape((3, 3))\n",
      "    >>> x2 = np.arange(3.0)\n",
      "    >>> x1 + x2\n",
      "    array([[ 0.,  2.,  4.],\n",
      "           [ 3.,  5.,  7.],\n",
      "           [ 6.,  8., 10.]])\n",
      "\n"
     ]
    }
   ],
   "source": [
    "help(np.add)"
   ]
  },
  {
   "cell_type": "markdown",
   "id": "e0c739c6",
   "metadata": {},
   "source": [
    "#### 6. Create a null vector of size 10 but the fifth value which is 1 (★☆☆)"
   ]
  },
  {
   "cell_type": "code",
   "execution_count": 9,
   "id": "bcceacf7",
   "metadata": {},
   "outputs": [
    {
     "name": "stdout",
     "output_type": "stream",
     "text": [
      "[0. 0. 0. 0. 1. 0. 0. 0. 0. 0.]\n"
     ]
    }
   ],
   "source": [
    "null_vector = np.zeros(10)\n",
    "null_vector[4] = 1\n",
    "print(null_vector)"
   ]
  },
  {
   "cell_type": "markdown",
   "id": "fbebedab",
   "metadata": {},
   "source": [
    "#### 7. Create a vector with values ranging from 10 to 49 (★☆☆)"
   ]
  },
  {
   "cell_type": "code",
   "execution_count": 10,
   "id": "3d117d54",
   "metadata": {},
   "outputs": [
    {
     "name": "stdout",
     "output_type": "stream",
     "text": [
      "[10 11 12 13 14 15 16 17 18 19 20 21 22 23 24 25 26 27 28 29 30 31 32 33\n",
      " 34 35 36 37 38 39 40 41 42 43 44 45 46 47 48 49]\n"
     ]
    }
   ],
   "source": [
    "import numpy as np\n",
    "vector = np.arange(10,50)\n",
    "print(vector)"
   ]
  },
  {
   "cell_type": "markdown",
   "id": "ad0bff02",
   "metadata": {},
   "source": [
    "#### 8. Reverse a vector (first element becomes last) (★☆☆)"
   ]
  },
  {
   "cell_type": "code",
   "execution_count": 11,
   "id": "22d23470",
   "metadata": {},
   "outputs": [
    {
     "name": "stdout",
     "output_type": "stream",
     "text": [
      "original vector: [0 1 2 3 4 5 6 7 8 9]\n",
      "reversed vector: [9 8 7 6 5 4 3 2 1 0]\n"
     ]
    }
   ],
   "source": [
    "vector = np.arange(10)\n",
    "reversed_vector = vector[::-1]\n",
    "print(\"original vector:\", vector)\n",
    "print(\"reversed vector:\", reversed_vector )"
   ]
  },
  {
   "cell_type": "markdown",
   "id": "9f59d7e1",
   "metadata": {},
   "source": [
    "#### 9. Create a 3x3 matrix with values ranging from 0 to 8 (★☆☆)"
   ]
  },
  {
   "cell_type": "code",
   "execution_count": 12,
   "id": "7449e82d",
   "metadata": {},
   "outputs": [
    {
     "name": "stdout",
     "output_type": "stream",
     "text": [
      "[[0 1 2]\n",
      " [3 4 5]\n",
      " [6 7 8]]\n"
     ]
    }
   ],
   "source": [
    "matrix = np.arange(9).reshape(3,3)\n",
    "print(matrix)"
   ]
  },
  {
   "cell_type": "markdown",
   "id": "f374c4cf",
   "metadata": {},
   "source": [
    "#### 10. Find indices of non-zero elements from [1,2,0,0,4,0] (★☆☆)"
   ]
  },
  {
   "cell_type": "code",
   "execution_count": 13,
   "id": "1a84bed8",
   "metadata": {},
   "outputs": [
    {
     "name": "stdout",
     "output_type": "stream",
     "text": [
      "indices of non-zero element: (array([0, 1, 4]),)\n"
     ]
    }
   ],
   "source": [
    "arr = np.array([1,2,0,0,4,0])\n",
    "non_zero_indices = np.nonzero(arr)\n",
    "print(\"indices of non-zero element:\", non_zero_indices)"
   ]
  },
  {
   "cell_type": "markdown",
   "id": "9c4707f5",
   "metadata": {},
   "source": [
    "#### 11. Create a 3x3 identity matrix (★☆☆)"
   ]
  },
  {
   "cell_type": "code",
   "execution_count": 14,
   "id": "29dc1fd3",
   "metadata": {},
   "outputs": [
    {
     "name": "stdout",
     "output_type": "stream",
     "text": [
      "[[1. 0. 0.]\n",
      " [0. 1. 0.]\n",
      " [0. 0. 1.]]\n"
     ]
    }
   ],
   "source": [
    "identity_matrix = np.eye(3)\n",
    "print(identity_matrix)"
   ]
  },
  {
   "cell_type": "markdown",
   "id": "3bac294a",
   "metadata": {},
   "source": [
    "#### 12. Create a 3x3x3 array with random values (★☆☆)"
   ]
  },
  {
   "cell_type": "code",
   "execution_count": 15,
   "id": "eadfae67",
   "metadata": {},
   "outputs": [
    {
     "name": "stdout",
     "output_type": "stream",
     "text": [
      "[[[0.82317205 0.02176684 0.25999659]\n",
      "  [0.74979719 0.94125384 0.38022342]\n",
      "  [0.04329663 0.39360565 0.71486913]]\n",
      "\n",
      " [[0.87749853 0.43153151 0.78325136]\n",
      "  [0.18041591 0.4342368  0.81831496]\n",
      "  [0.270129   0.37104731 0.38062673]]\n",
      "\n",
      " [[0.07673983 0.31625217 0.37932723]\n",
      "  [0.18043108 0.44840897 0.38421927]\n",
      "  [0.7465266  0.97762382 0.75098774]]]\n"
     ]
    }
   ],
   "source": [
    "random_array = np.random.rand(3,3,3)\n",
    "print(random_array)"
   ]
  },
  {
   "cell_type": "markdown",
   "id": "466c2989",
   "metadata": {},
   "source": [
    "#### 13. Create a 10x10 array with random values and find the minimum and maximum values (★☆☆)"
   ]
  },
  {
   "cell_type": "code",
   "execution_count": 16,
   "id": "9a74dbfc",
   "metadata": {},
   "outputs": [
    {
     "name": "stdout",
     "output_type": "stream",
     "text": [
      "10*10 random array:\n",
      "[[0.67048894 0.17840379 0.87335292 0.81065661 0.51041332 0.9661762\n",
      "  0.87870796 0.27606354 0.40159658 0.7107071 ]\n",
      " [0.88797387 0.02271848 0.05653921 0.35342585 0.4374636  0.10977211\n",
      "  0.05093654 0.76920124 0.26432775 0.82436442]\n",
      " [0.27107957 0.60754785 0.73986158 0.39388787 0.73921705 0.2255762\n",
      "  0.06771366 0.53685983 0.28566041 0.62859082]\n",
      " [0.80602403 0.45344265 0.69284746 0.87173824 0.33116247 0.95371583\n",
      "  0.08783825 0.02220779 0.42573609 0.02156756]\n",
      " [0.35822316 0.2887035  0.92909434 0.05834703 0.50375364 0.93220305\n",
      "  0.42550629 0.31713812 0.08050398 0.57454429]\n",
      " [0.4491285  0.06182112 0.22976342 0.1567747  0.39660407 0.35584969\n",
      "  0.44859332 0.5335496  0.13166419 0.84975089]\n",
      " [0.65609616 0.70922233 0.27324595 0.55057802 0.18544529 0.12248093\n",
      "  0.36196166 0.30174889 0.13595202 0.86944066]\n",
      " [0.38179272 0.97439799 0.06736298 0.94985274 0.23450448 0.4663429\n",
      "  0.63048467 0.70596998 0.47953408 0.50875028]\n",
      " [0.19887096 0.64571709 0.87484369 0.18530197 0.78672189 0.91875592\n",
      "  0.77180382 0.36671844 0.18933487 0.62603621]\n",
      " [0.41194589 0.93277573 0.78567776 0.95217538 0.4513113  0.59146371\n",
      "  0.83164693 0.56228912 0.78129175 0.7569572 ]]\n",
      "minimum value:0.02156755559037682\n",
      "maximum value:0.9743979883169469\n"
     ]
    }
   ],
   "source": [
    "random_array = np.random.rand(10,10)\n",
    "min_value = random_array.min()\n",
    "max_value = random_array.max()\n",
    "print(\"10*10 random array:\")\n",
    "print(random_array)\n",
    "print(f\"minimum value:{min_value}\")\n",
    "print(f\"maximum value:{max_value}\")"
   ]
  },
  {
   "cell_type": "markdown",
   "id": "53a8edb2",
   "metadata": {},
   "source": [
    "#### 14. Create a random vector of size 30 and find the mean value (★☆☆)"
   ]
  },
  {
   "cell_type": "code",
   "execution_count": 17,
   "id": "6691530b",
   "metadata": {},
   "outputs": [
    {
     "name": "stdout",
     "output_type": "stream",
     "text": [
      "random vector: [0.43061478 0.44336505 0.77797943 0.83157174 0.79295277 0.95978083\n",
      " 0.61349446 0.50153097 0.4800028  0.36975475 0.00376693 0.21708181\n",
      " 0.66274506 0.51638483 0.07232928 0.04262236 0.14955945 0.37761314\n",
      " 0.83925096 0.73899934 0.07452876 0.21544127 0.98199419 0.88555996\n",
      " 0.98960325 0.31207784 0.7673691  0.63503684 0.33592882 0.05678659]\n",
      "mean value: 0.502524245501399\n"
     ]
    }
   ],
   "source": [
    "random_vector = np.random.rand(30)\n",
    "mean_value = random_vector.mean()\n",
    "print(\"random vector:\",random_vector)\n",
    "print(\"mean value:\",mean_value)"
   ]
  },
  {
   "cell_type": "markdown",
   "id": "cbaad31c",
   "metadata": {},
   "source": [
    "#### 15. Create a 2d array with 1 on the border and 0 inside (★☆☆)"
   ]
  },
  {
   "cell_type": "code",
   "execution_count": 19,
   "id": "ad8308e3",
   "metadata": {},
   "outputs": [
    {
     "name": "stdout",
     "output_type": "stream",
     "text": [
      "[[1. 1. 1. 1.]\n",
      " [1. 0. 0. 1.]\n",
      " [1. 0. 0. 1.]\n",
      " [1. 1. 1. 1.]]\n"
     ]
    }
   ],
   "source": [
    "arr = np.ones((4,4))\n",
    "arr[1:-1, 1:-1] = 0\n",
    "print(arr)"
   ]
  },
  {
   "cell_type": "markdown",
   "id": "c5ecc267",
   "metadata": {},
   "source": [
    "#### 16. How to add a border (filled with 0's) around an existing array? (★☆☆)"
   ]
  },
  {
   "cell_type": "code",
   "execution_count": 18,
   "id": "9d5c78c4",
   "metadata": {},
   "outputs": [
    {
     "name": "stdout",
     "output_type": "stream",
     "text": [
      "original array:\n",
      "[[0.78459637 0.73518203 0.27118081]\n",
      " [0.19388818 0.4440983  0.14294546]\n",
      " [0.25911281 0.4580069  0.89440896]]\n",
      "\n",
      "array with border:\n",
      "[[0.         0.         0.         0.         0.        ]\n",
      " [0.         0.78459637 0.73518203 0.27118081 0.        ]\n",
      " [0.         0.19388818 0.4440983  0.14294546 0.        ]\n",
      " [0.         0.25911281 0.4580069  0.89440896 0.        ]\n",
      " [0.         0.         0.         0.         0.        ]]\n"
     ]
    }
   ],
   "source": [
    "array = np.random.rand(3,3)\n",
    "array_with_border = np.pad(array,pad_width = 1,mode = 'constant',constant_values = 0)\n",
    "print(\"original array:\")\n",
    "print(array)\n",
    "print(\"\\narray with border:\")\n",
    "print(array_with_border)"
   ]
  },
  {
   "cell_type": "markdown",
   "id": "ef909b72",
   "metadata": {},
   "source": [
    "#### 17. What is the result of the following expression? (★☆☆)\n",
    "```python\n",
    "0 * np.nan\n",
    "np.nan == np.nan\n",
    "np.inf > np.nan\n",
    "np.nan - np.nan\n",
    "np.nan in set([np.nan])\n",
    "0.3 == 3 * 0.1\n",
    "```"
   ]
  },
  {
   "cell_type": "code",
   "execution_count": 171,
   "id": "3b4985f2",
   "metadata": {},
   "outputs": [
    {
     "name": "stdout",
     "output_type": "stream",
     "text": [
      "nan\n",
      "False\n",
      "False\n",
      "nan\n",
      "True\n",
      "False\n"
     ]
    }
   ],
   "source": [
    "import numpy as np\n",
    "result = 0 * np.nan\n",
    "print(result)  # Output: nan\n",
    "import numpy as np\n",
    "result = np.nan == np.nan\n",
    "print(result)  # Output: False\n",
    "import numpy as np\n",
    "result = np.inf > np.nan\n",
    "print(result)  # Output: False\n",
    "import numpy as np\n",
    "result = np.nan - np.nan\n",
    "print(result)  # Output: nan\n",
    "import numpy as np\n",
    "result = np.nan in set([np.nan])\n",
    "print(result)  # Output: False\n",
    "result = 0.3 == 3 * 0.1\n",
    "print(result)  # Output: False\n",
    "\n"
   ]
  },
  {
   "cell_type": "markdown",
   "id": "502738ac",
   "metadata": {},
   "source": [
    "#### 18. Create a 5x5 matrix with values 1,2,3,4 just below the diagonal (★☆☆)"
   ]
  },
  {
   "cell_type": "code",
   "execution_count": 21,
   "id": "faed6e2b",
   "metadata": {},
   "outputs": [
    {
     "name": "stdout",
     "output_type": "stream",
     "text": [
      "[[0. 0. 0.]\n",
      " [0. 0. 0.]\n",
      " [0. 0. 0.]]\n"
     ]
    }
   ],
   "source": [
    "matrix = np.zeros((3,3))\n",
    "np.fill_diagonal(matrix[1:1],[1,2,3,4])\n",
    "print(matrix)"
   ]
  },
  {
   "cell_type": "markdown",
   "id": "a65da660",
   "metadata": {},
   "source": [
    "#### 19. Create a 8x8 matrix and fill it with a checkerboard pattern (★☆☆)"
   ]
  },
  {
   "cell_type": "code",
   "execution_count": 22,
   "id": "ed150400",
   "metadata": {},
   "outputs": [
    {
     "name": "stdout",
     "output_type": "stream",
     "text": [
      "8*8 checkboard pattern:\n",
      "[[0 1 0 1 0 1 0 1]\n",
      " [1 0 1 0 1 0 1 0]\n",
      " [0 1 0 1 0 1 0 1]\n",
      " [1 0 1 0 1 0 1 0]\n",
      " [0 1 0 1 0 1 0 1]\n",
      " [1 0 1 0 1 0 1 0]\n",
      " [0 1 0 1 0 1 0 1]\n",
      " [1 0 1 0 1 0 1 0]]\n"
     ]
    }
   ],
   "source": [
    "checkboard=np.zeros((8,8),dtype=int)\n",
    "checkboard[1::2,::2]=1\n",
    "checkboard[::2,1::2]=1\n",
    "print(\"8*8 checkboard pattern:\")\n",
    "print(checkboard)"
   ]
  },
  {
   "cell_type": "markdown",
   "id": "9f7f9c49",
   "metadata": {},
   "source": [
    "#### 20. Consider a (6,7,8) shape array, what is the index (x,y,z) of the 100th element? (★☆☆)"
   ]
  },
  {
   "cell_type": "code",
   "execution_count": 27,
   "id": "3782b5a9",
   "metadata": {},
   "outputs": [
    {
     "name": "stdout",
     "output_type": "stream",
     "text": [
      "the index of the 100th element is:(x,y,z)=(1,5,3)\n"
     ]
    }
   ],
   "source": [
    "import numpy as np\n",
    "shape=(6,7,8)\n",
    "flat_index=99\n",
    "x=flat_index//(shape[1]*shape[2])\n",
    "y=(flat_index%(shape[1]*shape[2]))//shape[2]\n",
    "z=flat_index% shape[2]\n",
    "print(f\"the index of the 100th element is:(x,y,z)=({x},{y},{z})\")"
   ]
  },
  {
   "cell_type": "markdown",
   "id": "66bfda35",
   "metadata": {},
   "source": [
    "#### 21. Create a checkerboard 8x8 matrix using the tile function (★☆☆)"
   ]
  },
  {
   "cell_type": "code",
   "execution_count": 28,
   "id": "4c07477c",
   "metadata": {},
   "outputs": [
    {
     "name": "stdout",
     "output_type": "stream",
     "text": [
      "[[0 1 0 1 0 1 0 1]\n",
      " [1 0 1 0 1 0 1 0]\n",
      " [0 1 0 1 0 1 0 1]\n",
      " [1 0 1 0 1 0 1 0]\n",
      " [0 1 0 1 0 1 0 1]\n",
      " [1 0 1 0 1 0 1 0]\n",
      " [0 1 0 1 0 1 0 1]\n",
      " [1 0 1 0 1 0 1 0]]\n"
     ]
    }
   ],
   "source": [
    "pattern = np.array([[0, 1],[1,0]])\n",
    "checkerboard = np.tile(pattern,(4,4))\n",
    "print(checkerboard)"
   ]
  },
  {
   "cell_type": "markdown",
   "id": "d5bcfc08",
   "metadata": {},
   "source": [
    "#### 22. Normalize a 5x5 random matrix (★☆☆)"
   ]
  },
  {
   "cell_type": "code",
   "execution_count": 34,
   "id": "cea6c993",
   "metadata": {},
   "outputs": [
    {
     "name": "stdout",
     "output_type": "stream",
     "text": [
      "Oridinal Matrix:\n",
      "[[0.82148715 0.96739778 0.71549552 0.19730401 0.49530167]\n",
      " [0.25027043 0.07763865 0.57323435 0.07503749 0.84343678]\n",
      " [0.06249756 0.99932336 0.70239294 0.38326826 0.71410203]\n",
      " [0.65594513 0.46259171 0.49551526 0.16742571 0.92827201]\n",
      " [0.32428199 0.47139845 0.1829242  0.84848635 0.89392753]]\n",
      "\n",
      "Normalized Matrix:\n",
      "[[0.81017153 0.96592154 0.69703243 0.14389704 0.46198996]\n",
      " [0.20043521 0.01616212 0.54517798 0.01338555 0.83360132]\n",
      " [0.         1.         0.68304628 0.34240165 0.69554497]\n",
      " [0.63346629 0.42707422 0.46221795 0.11200391 0.92415736]\n",
      " [0.27943768 0.43647484 0.12854753 0.8389914  0.88749688]]\n"
     ]
    }
   ],
   "source": [
    "random_matrix = np.random.rand(5 ,5)\n",
    "normalized_matrix = (random_matrix-random_matrix.min())/(random_matrix.max()-random_matrix.min())\n",
    "print(\"Oridinal Matrix:\")\n",
    "print(random_matrix)\n",
    "print(\"\\nNormalized Matrix:\")\n",
    "print(normalized_matrix)\n"
   ]
  },
  {
   "cell_type": "markdown",
   "id": "f9a0911e",
   "metadata": {},
   "source": [
    "#### 23. Create a custom dtype that describes a color as four unsigned bytes (RGBA) (★☆☆)"
   ]
  },
  {
   "cell_type": "code",
   "execution_count": 35,
   "id": "d165044b",
   "metadata": {},
   "outputs": [
    {
     "name": "stdout",
     "output_type": "stream",
     "text": [
      "custom RGBA color Array:\n",
      "[[255   0   0 255]\n",
      " [  0 255   0 255]\n",
      " [  0   0 255 255]\n",
      " [255 255   0 255]]\n"
     ]
    }
   ],
   "source": [
    "rgbs_dtype = np.dtype([('red',np.uint8),('green',np.uint8),('blue',np.uint8),('alpha',np.uint8)])\n",
    "color = np.array([(255,0,0,255),(0,255,0,255),(0,0,255,255),(255,255,0,255)])\n",
    "print(\"custom RGBA color Array:\")\n",
    "print(color)"
   ]
  },
  {
   "cell_type": "markdown",
   "id": "654805b1",
   "metadata": {},
   "source": [
    "#### 24. Multiply a 5x3 matrix by a 3x2 matrix (real matrix product) (★☆☆)"
   ]
  },
  {
   "cell_type": "code",
   "execution_count": 37,
   "id": "6a42619f",
   "metadata": {},
   "outputs": [
    {
     "name": "stdout",
     "output_type": "stream",
     "text": [
      "5*3 matrix:\n",
      "[[0.47967638 0.68218165 0.20539661]\n",
      " [0.95006204 0.72479725 0.74696173]\n",
      " [0.10004274 0.83181263 0.32154985]\n",
      " [0.97349203 0.28438075 0.9943717 ]\n",
      " [0.28533041 0.32524651 0.03012487]]\n",
      "\n",
      "3*2Matrix:\n",
      "[[0.3379209  0.27010923]\n",
      " [0.89089163 0.70712063]\n",
      " [0.36555527 0.11591749]]\n",
      "\n",
      "Resulantant 5*2 Matrix:\n",
      "[[0.84492642 0.6357588 ]\n",
      " [1.23981743 0.85572554]\n",
      " [0.89240569 0.65248759]\n",
      " [0.94581355 0.57930575]\n",
      " [0.39719081 0.31055089]]\n"
     ]
    }
   ],
   "source": [
    "matrix1 = np.random.rand(5,3)\n",
    "matrix2 = np.random.rand(3,2)\n",
    "result = np.dot(matrix1,matrix2)\n",
    "print(\"5*3 matrix:\")\n",
    "print(matrix1)\n",
    "print(\"\\n3*2Matrix:\")\n",
    "print(matrix2)\n",
    "print(\"\\nResulantant 5*2 Matrix:\")\n",
    "print(result)"
   ]
  },
  {
   "cell_type": "markdown",
   "id": "994c25df",
   "metadata": {},
   "source": [
    "#### 25. Given a 1D array, negate all elements which are between 3 and 8, in place. (★☆☆)"
   ]
  },
  {
   "cell_type": "code",
   "execution_count": 39,
   "id": "e4b39c03",
   "metadata": {},
   "outputs": [
    {
     "name": "stdout",
     "output_type": "stream",
     "text": [
      "Modified Array:\n",
      "[ 1 -4 -6  9  2 -7  3  8 10]\n"
     ]
    }
   ],
   "source": [
    "array = np.array([1, 4, 6, 9, 2, 7, 3, 8, 10])\n",
    "array[(array >3) & (array < 8)]*= -1\n",
    "print(\"Modified Array:\")\n",
    "print(array)"
   ]
  },
  {
   "cell_type": "markdown",
   "id": "b7d15d1a",
   "metadata": {},
   "source": [
    "#### 26. What is the output of the following script? (★☆☆)\n",
    "```python\n",
    "# Author: Jake VanderPlas\n",
    "\n",
    "print(sum(range(5),-1))\n",
    "from numpy import *\n",
    "print(sum(range(5),-1))\n",
    "```"
   ]
  },
  {
   "cell_type": "code",
   "execution_count": 41,
   "id": "4c95bc3f",
   "metadata": {},
   "outputs": [
    {
     "name": "stdout",
     "output_type": "stream",
     "text": [
      "9\n",
      "10\n"
     ]
    }
   ],
   "source": [
    "print(sum(range(5), -1))\n",
    "from numpy import *\n",
    "print(sum(range(5), -1))\n"
   ]
  },
  {
   "cell_type": "markdown",
   "id": "a34f0d08",
   "metadata": {},
   "source": [
    "#### 27. Consider an integer vector Z, which of these expressions are legal? (★☆☆)\n",
    "```python\n",
    "Z**Z\n",
    "2 << Z >> 2\n",
    "Z <- Z\n",
    "1j*Z\n",
    "Z/1/1\n",
    "Z<Z>Z\n",
    "```"
   ]
  },
  {
   "cell_type": "code",
   "execution_count": 177,
   "id": "9b5d97f6",
   "metadata": {},
   "outputs": [],
   "source": [
    "import numpy as np\n",
    "Z = np.array([2, 3, 4])\n",
    "result = Z**Z  \n",
    "\n",
    "import numpy as np\n",
    "Z = np.array([1, 2, 3])\n",
    "result = 2 << Z >> 2 \n",
    "\n",
    "Z = np.array([1, 2, 3])\n",
    "Z <- Z  \n",
    "\n",
    "import numpy as np\n",
    "Z = np.array([1, 2, 3])\n",
    "result = 1j * Z  \n",
    "\n",
    "import numpy as np\n",
    "Z = np.array([2, 4, 6])\n",
    "result = Z / 1 / 1  \n",
    "\n"
   ]
  },
  {
   "cell_type": "markdown",
   "id": "c34e94bf",
   "metadata": {},
   "source": [
    "#### 28. What are the result of the following expressions? (★☆☆)\n",
    "```python\n",
    "np.array(0) / np.array(0)\n",
    "np.array(0) // np.array(0)\n",
    "np.array([np.nan]).astype(int).astype(float)\n",
    "```"
   ]
  },
  {
   "cell_type": "code",
   "execution_count": 170,
   "id": "56663562",
   "metadata": {},
   "outputs": [
    {
     "name": "stdout",
     "output_type": "stream",
     "text": [
      "nan\n",
      "0\n",
      "[-9.22337204e+18]\n"
     ]
    },
    {
     "name": "stderr",
     "output_type": "stream",
     "text": [
      "C:\\Users\\rishi\\AppData\\Local\\Temp\\ipykernel_20088\\3274636652.py:2: RuntimeWarning: invalid value encountered in divide\n",
      "  result = np.array(0) / np.array(0)\n",
      "C:\\Users\\rishi\\AppData\\Local\\Temp\\ipykernel_20088\\3274636652.py:6: RuntimeWarning: divide by zero encountered in floor_divide\n",
      "  result = np.array(0) // np.array(0)\n",
      "C:\\Users\\rishi\\AppData\\Local\\Temp\\ipykernel_20088\\3274636652.py:12: RuntimeWarning: invalid value encountered in cast\n",
      "  result = np.array([np.nan]).astype(int).astype(float)\n"
     ]
    }
   ],
   "source": [
    "import numpy as np\n",
    "result = np.array(0) / np.array(0)\n",
    "print(result)  # Output: nan\n",
    "import numpy as np\n",
    "try:\n",
    "    result = np.array(0) // np.array(0)\n",
    "    print(result)\n",
    "except ZeroDivisionError:\n",
    "    print(\"ZeroDivisionError\")  # Output: ZeroDivisionError\n",
    "    import numpy as np\n",
    "try:\n",
    "    result = np.array([np.nan]).astype(int).astype(float)\n",
    "    print(result)\n",
    "except ValueError as e:\n",
    "    print(e)  # Output: cannot convert float NaN to integer\n",
    "\n"
   ]
  },
  {
   "cell_type": "markdown",
   "id": "546f5e7b",
   "metadata": {},
   "source": [
    "#### 29. How to round away from zero a float array ? (★☆☆)"
   ]
  },
  {
   "cell_type": "code",
   "execution_count": 43,
   "id": "f725a6d2",
   "metadata": {},
   "outputs": [
    {
     "name": "stdout",
     "output_type": "stream",
     "text": [
      "[ 2. -2.  3. -3.  0.  0.]\n"
     ]
    }
   ],
   "source": [
    "arr = np.array([1.5, -1.5, 2.3, -2.7, 0,0])\n",
    "rounded_arr = np.copysign(np.ceil(np.abs(arr)),arr)\n",
    "print(rounded_arr)"
   ]
  },
  {
   "cell_type": "markdown",
   "id": "eadca856",
   "metadata": {},
   "source": [
    "#### 30. How to find common values between two arrays? (★☆☆)"
   ]
  },
  {
   "cell_type": "code",
   "execution_count": 49,
   "id": "e0270b5b",
   "metadata": {},
   "outputs": [
    {
     "name": "stdout",
     "output_type": "stream",
     "text": [
      "[3 4 5]\n"
     ]
    }
   ],
   "source": [
    "arr1 = np.array([1, 2, 3, 4, 5])\n",
    "arr2 = np.array([3, 4, 5, 6, 7])\n",
    "common_values = np.intersect1d(arr1, arr2)\n",
    "print(common_values)\n"
   ]
  },
  {
   "cell_type": "markdown",
   "id": "ca16ca22",
   "metadata": {},
   "source": [
    "#### 31. How to ignore all numpy warnings (not recommended)? (★☆☆)"
   ]
  },
  {
   "cell_type": "code",
   "execution_count": 52,
   "id": "7d7208ef",
   "metadata": {},
   "outputs": [
    {
     "name": "stderr",
     "output_type": "stream",
     "text": [
      "C:\\Users\\rishi\\AppData\\Local\\Temp\\ipykernel_20088\\4076471980.py:4: RuntimeWarning: divide by zero encountered in divide\n",
      "  result = np.array([1, 2, 0]) / np.array([1, 0, 3])\n"
     ]
    }
   ],
   "source": [
    "import warnings\n",
    "warnings.filterwarnings(\"ignore\",category=UserWarning,module=\"numpy\")\n",
    "np.seterr(divide='warn')\n",
    "result = np.array([1, 2, 0]) / np.array([1, 0, 3])\n"
   ]
  },
  {
   "cell_type": "markdown",
   "id": "c7871d0d",
   "metadata": {},
   "source": [
    "#### 32. Is the following expressions true? (★☆☆)\n",
    "```python\n",
    "np.sqrt(-1) == np.emath.sqrt(-1)\n",
    "```"
   ]
  },
  {
   "cell_type": "code",
   "execution_count": 53,
   "id": "acc3701a",
   "metadata": {},
   "outputs": [
    {
     "name": "stderr",
     "output_type": "stream",
     "text": [
      "C:\\Users\\rishi\\AppData\\Local\\Temp\\ipykernel_20088\\2961820512.py:1: RuntimeWarning: invalid value encountered in sqrt\n",
      "  np.sqrt(-1) == np.emath.sqrt(-1)\n"
     ]
    },
    {
     "data": {
      "text/plain": [
       "np.False_"
      ]
     },
     "execution_count": 53,
     "metadata": {},
     "output_type": "execute_result"
    }
   ],
   "source": [
    "np.sqrt(-1) == np.emath.sqrt(-1)\n"
   ]
  },
  {
   "cell_type": "markdown",
   "id": "e0433e30",
   "metadata": {},
   "source": [
    "#### 33. How to get the dates of yesterday, today and tomorrow? (★☆☆)"
   ]
  },
  {
   "cell_type": "code",
   "execution_count": 63,
   "id": "9c4d2152",
   "metadata": {},
   "outputs": [
    {
     "name": "stdout",
     "output_type": "stream",
     "text": [
      "Yesterday: 2024-12-07\n",
      "Today: 2024-12-08\n",
      "Tomorrow: 2024-12-09\n"
     ]
    }
   ],
   "source": [
    "from datetime import datetime, timedelta\n",
    "\n",
    "today = datetime.today().date()\n",
    "\n",
    "yesterday = today - timedelta(days=1)\n",
    "\n",
    "tomorrow = today + timedelta(days=1)\n",
    "\n",
    "print(\"Yesterday:\", yesterday)\n",
    "print(\"Today:\", today)\n",
    "print(\"Tomorrow:\", tomorrow)\n"
   ]
  },
  {
   "cell_type": "markdown",
   "id": "9f52a2ef",
   "metadata": {},
   "source": [
    "#### 34. How to get all the dates corresponding to the month of July 2016? (★★☆)"
   ]
  },
  {
   "cell_type": "code",
   "execution_count": 62,
   "id": "d6c34dec",
   "metadata": {},
   "outputs": [
    {
     "name": "stdout",
     "output_type": "stream",
     "text": [
      "DatetimeIndex(['2016-07-01', '2016-07-02', '2016-07-03', '2016-07-04',\n",
      "               '2016-07-05', '2016-07-06', '2016-07-07', '2016-07-08',\n",
      "               '2016-07-09', '2016-07-10', '2016-07-11', '2016-07-12',\n",
      "               '2016-07-13', '2016-07-14', '2016-07-15', '2016-07-16',\n",
      "               '2016-07-17', '2016-07-18', '2016-07-19', '2016-07-20',\n",
      "               '2016-07-21', '2016-07-22', '2016-07-23', '2016-07-24',\n",
      "               '2016-07-25', '2016-07-26', '2016-07-27', '2016-07-28',\n",
      "               '2016-07-29', '2016-07-30', '2016-07-31'],\n",
      "              dtype='datetime64[ns]', freq='D')\n"
     ]
    }
   ],
   "source": [
    "import pandas as pd\n",
    "\n",
    "july_dates = pd.date_range('2016-07-01', '2016-07-31')\n",
    "\n",
    "print(july_dates)\n"
   ]
  },
  {
   "cell_type": "markdown",
   "id": "4a64e059",
   "metadata": {},
   "source": [
    "#### 35. How to compute ((A+B)*(-A/2)) in place (without copy)? (★★☆)"
   ]
  },
  {
   "cell_type": "code",
   "execution_count": 61,
   "id": "49267f60",
   "metadata": {},
   "outputs": [
    {
     "name": "stdout",
     "output_type": "stream",
     "text": [
      "[-12.5 -24.5 -40.5]\n"
     ]
    }
   ],
   "source": [
    "import numpy as np\n",
    "\n",
    "A = np.array([1, 2, 3])\n",
    "B = np.array([4, 5, 6])\n",
    "\n",
    "A = A + B            \n",
    "A = A * (-A/2)        \n",
    "\n",
    "print(A)\n"
   ]
  },
  {
   "cell_type": "markdown",
   "id": "8a98c2a8",
   "metadata": {},
   "source": [
    "#### 36. Extract the integer part of a random array of positive numbers using 4 different methods (★★☆)"
   ]
  },
  {
   "cell_type": "code",
   "execution_count": 65,
   "id": "368130b3",
   "metadata": {},
   "outputs": [
    {
     "name": "stdout",
     "output_type": "stream",
     "text": [
      "Original array: [9.43509153 7.402607   6.85831966 9.09607872 1.58362072]\n",
      "Integer part using floor: [9. 7. 6. 9. 1.]\n"
     ]
    }
   ],
   "source": [
    "import numpy as np\n",
    "\n",
    "arr = np.random.rand(5) * 10  \n",
    "print(\"Original array:\", arr)\n",
    "\n",
    "int_part_floor = np.floor(arr)\n",
    "print(\"Integer part using floor:\", int_part_floor)\n"
   ]
  },
  {
   "cell_type": "markdown",
   "id": "5a2e3d85",
   "metadata": {},
   "source": [
    "#### 37. Create a 5x5 matrix with row values ranging from 0 to 4 (★★☆)"
   ]
  },
  {
   "cell_type": "code",
   "execution_count": 66,
   "id": "1d974e8f",
   "metadata": {},
   "outputs": [
    {
     "name": "stdout",
     "output_type": "stream",
     "text": [
      "[[0 1 2 3 4]\n",
      " [0 1 2 3 4]\n",
      " [0 1 2 3 4]\n",
      " [0 1 2 3 4]\n",
      " [0 1 2 3 4]]\n"
     ]
    }
   ],
   "source": [
    "import numpy as np\n",
    "\n",
    "matrix = np.tile(np.arange(5), (5, 1))\n",
    "\n",
    "print(matrix)\n"
   ]
  },
  {
   "cell_type": "markdown",
   "id": "9720e2d5",
   "metadata": {},
   "source": [
    "#### 38. Consider a generator function that generates 10 integers and use it to build an array (★☆☆)"
   ]
  },
  {
   "cell_type": "code",
   "execution_count": 67,
   "id": "e5dd8fc9",
   "metadata": {},
   "outputs": [
    {
     "name": "stdout",
     "output_type": "stream",
     "text": [
      "[0 1 2 3 4 5 6 7 8 9]\n"
     ]
    }
   ],
   "source": [
    "import numpy as np\n",
    "\n",
    "def generate_integers():\n",
    "    for i in range(10):\n",
    "        yield i  \n",
    "\n",
    "generated_array = np.array(list(generate_integers()))\n",
    "\n",
    "print(generated_array)\n"
   ]
  },
  {
   "cell_type": "markdown",
   "id": "c6f2c912",
   "metadata": {},
   "source": [
    "#### 39. Create a vector of size 10 with values ranging from 0 to 1, both excluded (★★☆)"
   ]
  },
  {
   "cell_type": "code",
   "execution_count": 68,
   "id": "6aaa27d3",
   "metadata": {},
   "outputs": [
    {
     "name": "stdout",
     "output_type": "stream",
     "text": [
      "[0.09090909 0.18181818 0.27272727 0.36363636 0.45454545 0.54545455\n",
      " 0.63636364 0.72727273 0.81818182 0.90909091]\n"
     ]
    }
   ],
   "source": [
    "import numpy as np\n",
    "\n",
    "vector = np.linspace(0, 1, 12)[1:-1]  \n",
    "\n",
    "print(vector)\n"
   ]
  },
  {
   "cell_type": "markdown",
   "id": "a36d6ee4",
   "metadata": {},
   "source": [
    "#### 40. Create a random vector of size 10 and sort it (★★☆)"
   ]
  },
  {
   "cell_type": "code",
   "execution_count": 69,
   "id": "e589d216",
   "metadata": {},
   "outputs": [
    {
     "name": "stdout",
     "output_type": "stream",
     "text": [
      "[0.02201482 0.13623595 0.51054349 0.52123774 0.55475483 0.6915599\n",
      " 0.75376376 0.76483612 0.79752807 0.83809662]\n"
     ]
    }
   ],
   "source": [
    "import numpy as np\n",
    "\n",
    "random_vector = np.random.rand(10)\n",
    "\n",
    "sorted_vector = np.sort(random_vector)\n",
    "\n",
    "print(sorted_vector)\n"
   ]
  },
  {
   "cell_type": "markdown",
   "id": "0fb4ad68",
   "metadata": {},
   "source": [
    "#### 41. How to sum a small array faster than np.sum? (★★☆)"
   ]
  },
  {
   "cell_type": "code",
   "execution_count": 70,
   "id": "a1ba05a0",
   "metadata": {},
   "outputs": [
    {
     "name": "stdout",
     "output_type": "stream",
     "text": [
      "15\n"
     ]
    }
   ],
   "source": [
    "import numpy as np\n",
    "\n",
    "arr = np.array([1, 2, 3, 4, 5])\n",
    "\n",
    "result = sum(arr)\n",
    "\n",
    "print(result)\n"
   ]
  },
  {
   "cell_type": "markdown",
   "id": "024ac365",
   "metadata": {},
   "source": [
    "#### 42. Consider two random array A and B, check if they are equal (★★☆)"
   ]
  },
  {
   "cell_type": "code",
   "execution_count": 71,
   "id": "7db3846d",
   "metadata": {},
   "outputs": [
    {
     "name": "stdout",
     "output_type": "stream",
     "text": [
      "Arrays A and B are equal: False\n"
     ]
    }
   ],
   "source": [
    "import numpy as np\n",
    "\n",
    "A = np.random.rand(5)\n",
    "B = np.random.rand(5)\n",
    "\n",
    "are_equal = np.array_equal(A, B)\n",
    "\n",
    "print(\"Arrays A and B are equal:\", are_equal)\n"
   ]
  },
  {
   "cell_type": "markdown",
   "id": "c68d2401",
   "metadata": {},
   "source": [
    "#### 43. Make an array immutable (read-only) (★★☆)"
   ]
  },
  {
   "cell_type": "code",
   "execution_count": 72,
   "id": "7828539d",
   "metadata": {},
   "outputs": [
    {
     "name": "stdout",
     "output_type": "stream",
     "text": [
      "Error: assignment destination is read-only\n",
      "Is array read-only? False\n"
     ]
    }
   ],
   "source": [
    "import numpy as np\n",
    "\n",
    "arr = np.random.rand(5)\n",
    "\n",
    "arr.flags.writeable = False\n",
    "\n",
    "try:\n",
    "    arr[0] = 10\n",
    "except ValueError as e:\n",
    "    print(\"Error:\", e)\n",
    "    \n",
    "print(\"Is array read-only?\", arr.flags.writeable)\n"
   ]
  },
  {
   "cell_type": "markdown",
   "id": "55df6280",
   "metadata": {},
   "source": [
    "#### 44. Consider a random 10x2 matrix representing cartesian coordinates, convert them to polar coordinates (★★☆)"
   ]
  },
  {
   "cell_type": "code",
   "execution_count": 73,
   "id": "f1c86ea0",
   "metadata": {},
   "outputs": [
    {
     "name": "stdout",
     "output_type": "stream",
     "text": [
      "Cartesian Coordinates:\n",
      " [[0.72024517 0.98825313]\n",
      " [0.73240977 0.23927262]\n",
      " [0.73235959 0.83699678]\n",
      " [0.35338377 0.96574716]\n",
      " [0.37299767 0.47171569]\n",
      " [0.89636961 0.13101803]\n",
      " [0.72196813 0.71045046]\n",
      " [0.56653379 0.75725967]\n",
      " [0.1641381  0.90288734]\n",
      " [0.45738252 0.78912074]]\n",
      "Polar Coordinates (r, θ):\n",
      " [[1.22286441 0.94099769]\n",
      " [0.77050338 0.31576175]\n",
      " [1.11216644 0.85197485]\n",
      " [1.02837137 1.22001209]\n",
      " [0.60136757 0.90173615]\n",
      " [0.90589415 0.14513742]\n",
      " [1.01290564 0.77735762]\n",
      " [0.94572869 0.92848876]\n",
      " [0.9176856  1.39096774]\n",
      " [0.91209118 1.04550418]]\n"
     ]
    }
   ],
   "source": [
    "import numpy as np\n",
    "\n",
    "cartesian_coords = np.random.rand(10, 2)\n",
    "\n",
    "r = np.sqrt(cartesian_coords[:, 0]**2 + cartesian_coords[:, 1]**2)  # Radius\n",
    "theta = np.arctan2(cartesian_coords[:, 1], cartesian_coords[:, 0])  # Angle\n",
    "\n",
    "polar_coords = np.vstack((r, theta)).T\n",
    "\n",
    "print(\"Cartesian Coordinates:\\n\", cartesian_coords)\n",
    "print(\"Polar Coordinates (r, θ):\\n\", polar_coords)\n"
   ]
  },
  {
   "cell_type": "markdown",
   "id": "2f60f1ec",
   "metadata": {},
   "source": [
    "#### 45. Create random vector of size 10 and replace the maximum value by 0 (★★☆)"
   ]
  },
  {
   "cell_type": "code",
   "execution_count": 74,
   "id": "d9f48f1c",
   "metadata": {},
   "outputs": [
    {
     "name": "stdout",
     "output_type": "stream",
     "text": [
      "Modified vector: [0.         0.34118593 0.02342832 0.15812968 0.50062957 0.26132103\n",
      " 0.35266898 0.63509785 0.11893014 0.19810964]\n"
     ]
    }
   ],
   "source": [
    "import numpy as np\n",
    "\n",
    "vector = np.random.rand(10)\n",
    "\n",
    "max_index = np.argmax(vector)\n",
    "\n",
    "vector[max_index] = 0\n",
    "\n",
    "print(\"Modified vector:\", vector)\n"
   ]
  },
  {
   "cell_type": "markdown",
   "id": "084e8ad4",
   "metadata": {},
   "source": [
    "#### 46. Create a structured array with `x` and `y` coordinates covering the [0,1]x[0,1] area (★★☆)"
   ]
  },
  {
   "cell_type": "code",
   "execution_count": 75,
   "id": "58b47c13",
   "metadata": {},
   "outputs": [
    {
     "name": "stdout",
     "output_type": "stream",
     "text": [
      "[(0.  , 0.  ) (0.25, 0.  ) (0.5 , 0.  ) (0.75, 0.  ) (1.  , 0.  )\n",
      " (0.  , 0.25) (0.25, 0.25) (0.5 , 0.25) (0.75, 0.25) (1.  , 0.25)\n",
      " (0.  , 0.5 ) (0.25, 0.5 ) (0.5 , 0.5 ) (0.75, 0.5 ) (1.  , 0.5 )\n",
      " (0.  , 0.75) (0.25, 0.75) (0.5 , 0.75) (0.75, 0.75) (1.  , 0.75)\n",
      " (0.  , 1.  ) (0.25, 1.  ) (0.5 , 1.  ) (0.75, 1.  ) (1.  , 1.  )]\n"
     ]
    },
    {
     "name": "stderr",
     "output_type": "stream",
     "text": [
      "C:\\Users\\rishi\\AppData\\Local\\Temp\\ipykernel_20088\\246242346.py:11: DeprecationWarning: numpy.core is deprecated and has been renamed to numpy._core. The numpy._core namespace contains private NumPy internals and its use is discouraged, as NumPy internals can change without warning in any release. In practice, most real-world usage of numpy.core is to access functionality in the public NumPy API. If that is the case, use the public NumPy API. If not, you are using NumPy internals. If you would still like to access an internal attribute, use numpy._core.records.\n",
      "  structured_array = np.core.records.fromarrays([x_flat, y_flat], names='x,y')\n"
     ]
    }
   ],
   "source": [
    "import numpy as np\n",
    "\n",
    "x = np.linspace(0, 1, 5)  # 5 points for x-axis\n",
    "y = np.linspace(0, 1, 5)  # 5 points for y-axis\n",
    "\n",
    "x_grid, y_grid = np.meshgrid(x, y)\n",
    "\n",
    "x_flat = x_grid.flatten()\n",
    "y_flat = y_grid.flatten()\n",
    "\n",
    "structured_array = np.core.records.fromarrays([x_flat, y_flat], names='x,y')\n",
    "\n",
    "print(structured_array)\n"
   ]
  },
  {
   "cell_type": "markdown",
   "id": "d7b9bc42",
   "metadata": {},
   "source": [
    "#### 47. Given two arrays, X and Y, construct the Cauchy matrix C (Cij =1/(xi - yj)) (★★☆)"
   ]
  },
  {
   "cell_type": "code",
   "execution_count": 76,
   "id": "a24824fb",
   "metadata": {},
   "outputs": [
    {
     "name": "stdout",
     "output_type": "stream",
     "text": [
      "Cauchy Matrix C:\n",
      "[[-0.33333333 -0.25       -0.2       ]\n",
      " [-0.5        -0.33333333 -0.25      ]\n",
      " [-1.         -0.5        -0.33333333]]\n"
     ]
    }
   ],
   "source": [
    "import numpy as np\n",
    "\n",
    "X = np.array([1, 2, 3])\n",
    "Y = np.array([4, 5, 6])\n",
    "\n",
    "C = 1 / (X[:, None] - Y)  \n",
    "\n",
    "print(\"Cauchy Matrix C:\")\n",
    "print(C)\n"
   ]
  },
  {
   "cell_type": "markdown",
   "id": "65ebc11b",
   "metadata": {},
   "source": [
    "#### 48. Print the minimum and maximum representable value for each numpy scalar type (★★☆)"
   ]
  },
  {
   "cell_type": "code",
   "execution_count": 77,
   "id": "e45d38fb",
   "metadata": {},
   "outputs": [
    {
     "name": "stdout",
     "output_type": "stream",
     "text": [
      "Integer types:\n",
      "<class 'numpy.int8'>: min = -128, max = 127\n",
      "<class 'numpy.int16'>: min = -32768, max = 32767\n",
      "<class 'numpy.int32'>: min = -2147483648, max = 2147483647\n",
      "<class 'numpy.int64'>: min = -9223372036854775808, max = 9223372036854775807\n",
      "<class 'numpy.uint8'>: min = 0, max = 255\n",
      "<class 'numpy.uint16'>: min = 0, max = 65535\n",
      "<class 'numpy.uint32'>: min = 0, max = 4294967295\n",
      "<class 'numpy.uint64'>: min = 0, max = 18446744073709551615\n",
      "\n",
      "Floating-point types:\n",
      "<class 'numpy.float16'>: min = -65504.0, max = 65504.0\n",
      "<class 'numpy.float32'>: min = -3.4028234663852886e+38, max = 3.4028234663852886e+38\n",
      "<class 'numpy.float64'>: min = -1.7976931348623157e+308, max = 1.7976931348623157e+308\n"
     ]
    }
   ],
   "source": [
    "import numpy as np\n",
    "\n",
    "int_types = [np.int8, np.int16, np.int32, np.int64, np.uint8, np.uint16, np.uint32, np.uint64]\n",
    "float_types = [np.float16, np.float32, np.float64]\n",
    "\n",
    "print(\"Integer types:\")\n",
    "for dtype in int_types:\n",
    "    info = np.iinfo(dtype)\n",
    "    print(f\"{dtype}: min = {info.min}, max = {info.max}\")\n",
    "    \n",
    "print(\"\\nFloating-point types:\")\n",
    "for dtype in float_types:\n",
    "    info = np.finfo(dtype)\n",
    "    print(f\"{dtype}: min = {info.min}, max = {info.max}\")\n"
   ]
  },
  {
   "cell_type": "markdown",
   "id": "9b317a98",
   "metadata": {},
   "source": [
    "#### 49. How to print all the values of an array? (★★☆)"
   ]
  },
  {
   "cell_type": "code",
   "execution_count": 78,
   "id": "309cdeb9",
   "metadata": {},
   "outputs": [
    {
     "name": "stdout",
     "output_type": "stream",
     "text": [
      "[[0.02814511 0.32533812 0.72061295 0.11692201 0.84117438 0.64670879\n",
      "  0.42899124 0.5859992  0.14867992 0.04724202]\n",
      " [0.44286173 0.03103423 0.04550517 0.03889698 0.03657825 0.33260917\n",
      "  0.51786776 0.03338653 0.04401428 0.77147594]\n",
      " [0.27310267 0.87904423 0.4787083  0.3844057  0.91423722 0.62579102\n",
      "  0.65244482 0.57611227 0.99032367 0.19607537]\n",
      " [0.88576397 0.4587726  0.87989112 0.12322045 0.96570128 0.2880803\n",
      "  0.30515185 0.44209546 0.36444078 0.92005414]\n",
      " [0.66984876 0.88911662 0.97613363 0.61914796 0.5509802  0.10505525\n",
      "  0.17214054 0.9071713  0.91321233 0.04551917]\n",
      " [0.13315725 0.34912099 0.20707247 0.04379887 0.53257406 0.57078022\n",
      "  0.47616323 0.50108479 0.96681857 0.22611175]\n",
      " [0.7438386  0.20688874 0.68380048 0.40966788 0.68153626 0.89674275\n",
      "  0.56378875 0.22157819 0.21129715 0.86395581]\n",
      " [0.33235769 0.01447093 0.01902065 0.41486537 0.58169614 0.13183678\n",
      "  0.5256937  0.91739091 0.09673605 0.10548125]\n",
      " [0.75586934 0.07799882 0.10809328 0.86389869 0.97310873 0.38542109\n",
      "  0.74701216 0.87685199 0.73331199 0.03382423]\n",
      " [0.42989886 0.05128282 0.63060103 0.82268905 0.60364562 0.47340036\n",
      "  0.13496613 0.26076766 0.07510394 0.0604785 ]]\n"
     ]
    }
   ],
   "source": [
    "import numpy as np\n",
    "\n",
    "arr = np.random.rand(10, 10)\n",
    "\n",
    "np.set_printoptions(threshold=np.inf)\n",
    "\n",
    "print(arr)\n"
   ]
  },
  {
   "cell_type": "markdown",
   "id": "b580f9d0",
   "metadata": {},
   "source": [
    "#### 50. How to find the closest value (to a given scalar) in a vector? (★★☆)"
   ]
  },
  {
   "cell_type": "code",
   "execution_count": 79,
   "id": "ebfb6714",
   "metadata": {},
   "outputs": [
    {
     "name": "stdout",
     "output_type": "stream",
     "text": [
      "Closest value: 7\n"
     ]
    }
   ],
   "source": [
    "import numpy as np\n",
    "\n",
    "vector = np.array([1, 3, 7, 9, 12, 15])\n",
    "\n",
    "scalar = 8\n",
    "\n",
    "index = np.argmin(np.abs(vector - scalar))\n",
    "\n",
    "closest_value = vector[index]\n",
    "\n",
    "print(\"Closest value:\", closest_value)\n"
   ]
  },
  {
   "cell_type": "markdown",
   "id": "602e6252",
   "metadata": {},
   "source": [
    "#### 51. Create a structured array representing a position (x,y) and a color (r,g,b) (★★☆)"
   ]
  },
  {
   "cell_type": "code",
   "execution_count": 80,
   "id": "cf002b3a",
   "metadata": {},
   "outputs": [
    {
     "name": "stdout",
     "output_type": "stream",
     "text": [
      "[([1.5, 2.5], [255,   0,   0]) ([2. , 3. ], [  0, 255,   0])\n",
      " ([3. , 4. ], [  0,   0, 255])]\n"
     ]
    }
   ],
   "source": [
    "import numpy as np\n",
    "\n",
    "dtype = np.dtype([('position', np.float64, (2,)), ('color', np.uint8, (3,))])\n",
    "\n",
    "data = np.array([((1.5, 2.5), (255, 0, 0)),\n",
    "                 ((2.0, 3.0), (0, 255, 0)),\n",
    "                 ((3.0, 4.0), (0, 0, 255))],\n",
    "                dtype=dtype)\n",
    "\n",
    "print(data)\n"
   ]
  },
  {
   "cell_type": "markdown",
   "id": "78bcd92f",
   "metadata": {},
   "source": [
    "#### 52. Consider a random vector with shape (100,2) representing coordinates, find point by point distances (★★☆)"
   ]
  },
  {
   "cell_type": "code",
   "execution_count": 81,
   "id": "fea7f9a6",
   "metadata": {},
   "outputs": [
    {
     "name": "stdout",
     "output_type": "stream",
     "text": [
      "[0.27008827 0.49442165 0.54636137 0.4906445  0.70903043 0.26615324\n",
      " 0.42743419 0.38146297 0.7435978  0.75804982 0.82357637 0.14759434\n",
      " 0.2881064  0.53967302 0.66352134 0.39604238 0.62415793 0.6192917\n",
      " 0.28364597 0.2707655  0.60383301 0.14281527 0.27748814 0.58261783\n",
      " 0.77966407 0.52986873 0.60857425 0.5395654  0.75703917 0.96404041\n",
      " 0.37465637 0.36659018 0.54838888 0.06374166 0.60111418 0.61863817\n",
      " 0.85439892 0.94174956 0.75216582 0.42503801 0.38682915 0.95001478\n",
      " 0.5928431  0.46079018 0.53204869 0.35002203 0.69192727 0.52867474\n",
      " 0.28606512 0.38189887 0.66778245 0.9108203  0.70229765 0.53461481\n",
      " 0.57162136 0.6721353  0.68405209 0.09826198 0.32329723 0.47792131\n",
      " 0.21437873 0.7620243  0.88720672 0.65355099 0.76173745 0.61213156\n",
      " 0.76220711 0.58867434 0.14584194 0.16005942 0.37335657 0.81634282\n",
      " 0.81250544 0.37477101 0.50251551 0.92228445 0.39640934 0.34935843\n",
      " 0.20257082 0.18768685 0.70987812 0.87592866 0.71924587 0.6237618\n",
      " 0.6982527  0.88044729 0.40041737 0.43515214 0.77678048 0.79003048\n",
      " 0.19583574 0.19434296 0.31514371 0.55761485 0.45704769 0.59653408\n",
      " 0.17511986 0.38206182 0.63340763]\n"
     ]
    }
   ],
   "source": [
    "import numpy as np\n",
    "\n",
    "coordinates = np.random.rand(100, 2)\n",
    "\n",
    "distances = np.linalg.norm(np.diff(coordinates, axis=0), axis=1)\n",
    "\n",
    "print(distances)\n"
   ]
  },
  {
   "cell_type": "markdown",
   "id": "343c5a85",
   "metadata": {},
   "source": [
    "#### 53. How to convert a float (32 bits) array into an integer (32 bits) in place?"
   ]
  },
  {
   "cell_type": "code",
   "execution_count": 82,
   "id": "fc1b687b",
   "metadata": {},
   "outputs": [
    {
     "name": "stdout",
     "output_type": "stream",
     "text": [
      "Converted array: [0 0 0 0 0]\n"
     ]
    }
   ],
   "source": [
    "import numpy as np\n",
    "\n",
    "float_array = np.random.rand(5).astype(np.float32)\n",
    "\n",
    "float_array = float_array.astype(np.int32)\n",
    "\n",
    "print(\"Converted array:\", float_array)\n"
   ]
  },
  {
   "cell_type": "markdown",
   "id": "a69e1ace",
   "metadata": {},
   "source": [
    "#### 54. How to read the following file? (★★☆)\n",
    "```\n",
    "1, 2, 3, 4, 5\n",
    "6,  ,  , 7, 8\n",
    " ,  , 9,10,11\n",
    "```"
   ]
  },
  {
   "cell_type": "code",
   "execution_count": 83,
   "id": "1c7957d4",
   "metadata": {},
   "outputs": [
    {
     "ename": "FileNotFoundError",
     "evalue": "data.csv not found.",
     "output_type": "error",
     "traceback": [
      "\u001b[1;31m---------------------------------------------------------------------------\u001b[0m",
      "\u001b[1;31mFileNotFoundError\u001b[0m                         Traceback (most recent call last)",
      "Cell \u001b[1;32mIn[83], line 5\u001b[0m\n\u001b[0;32m      1\u001b[0m \u001b[38;5;28;01mimport\u001b[39;00m \u001b[38;5;21;01mnumpy\u001b[39;00m \u001b[38;5;28;01mas\u001b[39;00m \u001b[38;5;21;01mnp\u001b[39;00m\n\u001b[0;32m      3\u001b[0m file_path \u001b[38;5;241m=\u001b[39m \u001b[38;5;124m'\u001b[39m\u001b[38;5;124mdata.csv\u001b[39m\u001b[38;5;124m'\u001b[39m\n\u001b[1;32m----> 5\u001b[0m data \u001b[38;5;241m=\u001b[39m \u001b[43mnp\u001b[49m\u001b[38;5;241;43m.\u001b[39;49m\u001b[43mgenfromtxt\u001b[49m\u001b[43m(\u001b[49m\u001b[43mfile_path\u001b[49m\u001b[43m,\u001b[49m\u001b[43m \u001b[49m\u001b[43mdelimiter\u001b[49m\u001b[38;5;241;43m=\u001b[39;49m\u001b[38;5;124;43m'\u001b[39;49m\u001b[38;5;124;43m,\u001b[39;49m\u001b[38;5;124;43m'\u001b[39;49m\u001b[43m,\u001b[49m\u001b[43m \u001b[49m\u001b[43mfilling_values\u001b[49m\u001b[38;5;241;43m=\u001b[39;49m\u001b[43mnp\u001b[49m\u001b[38;5;241;43m.\u001b[39;49m\u001b[43mnan\u001b[49m\u001b[43m)\u001b[49m\n\u001b[0;32m      7\u001b[0m \u001b[38;5;28mprint\u001b[39m(\u001b[38;5;124m\"\u001b[39m\u001b[38;5;124mData read from the file:\u001b[39m\u001b[38;5;124m\"\u001b[39m)\n\u001b[0;32m      8\u001b[0m \u001b[38;5;28mprint\u001b[39m(data)\n",
      "File \u001b[1;32m~\\AppData\\Local\\Packages\\PythonSoftwareFoundation.Python.3.11_qbz5n2kfra8p0\\LocalCache\\local-packages\\Python311\\site-packages\\numpy\\lib\\_npyio_impl.py:2007\u001b[0m, in \u001b[0;36mgenfromtxt\u001b[1;34m(fname, dtype, comments, delimiter, skip_header, skip_footer, converters, missing_values, filling_values, usecols, names, excludelist, deletechars, replace_space, autostrip, case_sensitive, defaultfmt, unpack, usemask, loose, invalid_raise, max_rows, encoding, ndmin, like)\u001b[0m\n\u001b[0;32m   2005\u001b[0m     fname \u001b[38;5;241m=\u001b[39m os\u001b[38;5;241m.\u001b[39mfspath(fname)\n\u001b[0;32m   2006\u001b[0m \u001b[38;5;28;01mif\u001b[39;00m \u001b[38;5;28misinstance\u001b[39m(fname, \u001b[38;5;28mstr\u001b[39m):\n\u001b[1;32m-> 2007\u001b[0m     fid \u001b[38;5;241m=\u001b[39m \u001b[43mnp\u001b[49m\u001b[38;5;241;43m.\u001b[39;49m\u001b[43mlib\u001b[49m\u001b[38;5;241;43m.\u001b[39;49m\u001b[43m_datasource\u001b[49m\u001b[38;5;241;43m.\u001b[39;49m\u001b[43mopen\u001b[49m\u001b[43m(\u001b[49m\u001b[43mfname\u001b[49m\u001b[43m,\u001b[49m\u001b[43m \u001b[49m\u001b[38;5;124;43m'\u001b[39;49m\u001b[38;5;124;43mrt\u001b[39;49m\u001b[38;5;124;43m'\u001b[39;49m\u001b[43m,\u001b[49m\u001b[43m \u001b[49m\u001b[43mencoding\u001b[49m\u001b[38;5;241;43m=\u001b[39;49m\u001b[43mencoding\u001b[49m\u001b[43m)\u001b[49m\n\u001b[0;32m   2008\u001b[0m     fid_ctx \u001b[38;5;241m=\u001b[39m contextlib\u001b[38;5;241m.\u001b[39mclosing(fid)\n\u001b[0;32m   2009\u001b[0m \u001b[38;5;28;01melse\u001b[39;00m:\n",
      "File \u001b[1;32m~\\AppData\\Local\\Packages\\PythonSoftwareFoundation.Python.3.11_qbz5n2kfra8p0\\LocalCache\\local-packages\\Python311\\site-packages\\numpy\\lib\\_datasource.py:192\u001b[0m, in \u001b[0;36mopen\u001b[1;34m(path, mode, destpath, encoding, newline)\u001b[0m\n\u001b[0;32m    155\u001b[0m \u001b[38;5;250m\u001b[39m\u001b[38;5;124;03m\"\"\"\u001b[39;00m\n\u001b[0;32m    156\u001b[0m \u001b[38;5;124;03mOpen `path` with `mode` and return the file object.\u001b[39;00m\n\u001b[0;32m    157\u001b[0m \n\u001b[1;32m   (...)\u001b[0m\n\u001b[0;32m    188\u001b[0m \n\u001b[0;32m    189\u001b[0m \u001b[38;5;124;03m\"\"\"\u001b[39;00m\n\u001b[0;32m    191\u001b[0m ds \u001b[38;5;241m=\u001b[39m DataSource(destpath)\n\u001b[1;32m--> 192\u001b[0m \u001b[38;5;28;01mreturn\u001b[39;00m \u001b[43mds\u001b[49m\u001b[38;5;241;43m.\u001b[39;49m\u001b[43mopen\u001b[49m\u001b[43m(\u001b[49m\u001b[43mpath\u001b[49m\u001b[43m,\u001b[49m\u001b[43m \u001b[49m\u001b[43mmode\u001b[49m\u001b[43m,\u001b[49m\u001b[43m \u001b[49m\u001b[43mencoding\u001b[49m\u001b[38;5;241;43m=\u001b[39;49m\u001b[43mencoding\u001b[49m\u001b[43m,\u001b[49m\u001b[43m \u001b[49m\u001b[43mnewline\u001b[49m\u001b[38;5;241;43m=\u001b[39;49m\u001b[43mnewline\u001b[49m\u001b[43m)\u001b[49m\n",
      "File \u001b[1;32m~\\AppData\\Local\\Packages\\PythonSoftwareFoundation.Python.3.11_qbz5n2kfra8p0\\LocalCache\\local-packages\\Python311\\site-packages\\numpy\\lib\\_datasource.py:529\u001b[0m, in \u001b[0;36mDataSource.open\u001b[1;34m(self, path, mode, encoding, newline)\u001b[0m\n\u001b[0;32m    526\u001b[0m     \u001b[38;5;28;01mreturn\u001b[39;00m _file_openers[ext](found, mode\u001b[38;5;241m=\u001b[39mmode,\n\u001b[0;32m    527\u001b[0m                               encoding\u001b[38;5;241m=\u001b[39mencoding, newline\u001b[38;5;241m=\u001b[39mnewline)\n\u001b[0;32m    528\u001b[0m \u001b[38;5;28;01melse\u001b[39;00m:\n\u001b[1;32m--> 529\u001b[0m     \u001b[38;5;28;01mraise\u001b[39;00m \u001b[38;5;167;01mFileNotFoundError\u001b[39;00m(\u001b[38;5;124mf\u001b[39m\u001b[38;5;124m\"\u001b[39m\u001b[38;5;132;01m{\u001b[39;00mpath\u001b[38;5;132;01m}\u001b[39;00m\u001b[38;5;124m not found.\u001b[39m\u001b[38;5;124m\"\u001b[39m)\n",
      "\u001b[1;31mFileNotFoundError\u001b[0m: data.csv not found."
     ]
    }
   ],
   "source": [
    "import numpy as np\n",
    "\n",
    "file_path = 'data.csv'\n",
    "\n",
    "data = np.genfromtxt(file_path, delimiter=',', filling_values=np.nan)\n",
    "\n",
    "print(\"Data read from the file:\")\n",
    "print(data)\n"
   ]
  },
  {
   "cell_type": "markdown",
   "id": "c23bd80d",
   "metadata": {},
   "source": [
    "#### 55. What is the equivalent of enumerate for numpy arrays? (★★☆)"
   ]
  },
  {
   "cell_type": "code",
   "execution_count": 84,
   "id": "d95d9578",
   "metadata": {},
   "outputs": [
    {
     "name": "stdout",
     "output_type": "stream",
     "text": [
      "Index: (0,), Value: 10\n",
      "Index: (1,), Value: 20\n",
      "Index: (2,), Value: 30\n",
      "Index: (3,), Value: 40\n",
      "Index: (4,), Value: 50\n"
     ]
    }
   ],
   "source": [
    "import numpy as np\n",
    "\n",
    "arr = np.array([10, 20, 30, 40, 50])\n",
    "\n",
    "for index, value in np.ndenumerate(arr):\n",
    "    print(f\"Index: {index}, Value: {value}\")\n"
   ]
  },
  {
   "cell_type": "markdown",
   "id": "2153a5ec",
   "metadata": {},
   "source": [
    "#### 56. Generate a generic 2D Gaussian-like array (★★☆)"
   ]
  },
  {
   "cell_type": "code",
   "execution_count": 85,
   "id": "61122d1e",
   "metadata": {},
   "outputs": [
    {
     "name": "stdout",
     "output_type": "stream",
     "text": [
      "[[ 1.62560934e+00  1.36605985e+00 -2.64551540e-01  9.43356614e-01\n",
      "   1.45179547e+00 -8.42902426e-01  1.09423478e+00  8.21558124e-01\n",
      "  -6.99939790e-01  8.75507380e-01 -3.65353345e-02  1.66482814e+00\n",
      "   5.28738643e-02 -9.04129937e-01 -6.00015935e-01 -1.12125987e+00\n",
      "  -5.43438795e-01 -1.17886496e+00 -1.20616862e-01  1.03080626e+00\n",
      "   1.12620735e+00 -1.28912092e+00 -1.88288132e+00  6.56751338e-02\n",
      "  -5.50946918e-01  1.21665422e-01  7.56828188e-01  8.57739846e-01\n",
      "   4.18810608e-01  1.52891847e+00  2.32264054e+00 -1.62348017e+00\n",
      "   4.91362584e-01 -6.02999029e-01  1.07374110e+00 -1.09115426e+00\n",
      "   1.78606728e+00 -2.56008428e-01  7.69248444e-01  3.23299387e-02\n",
      "   3.10679561e-01  6.49013493e-01 -6.64051683e-01  2.40303477e-01\n",
      "  -5.76478583e-01  5.98461204e-01  6.58263734e-01  4.93596173e-01\n",
      "  -1.65067165e+00  2.06494023e+00  2.81153214e-01 -4.93969497e-01\n",
      "   4.47030580e-01  5.24508578e-01  9.66530798e-01 -3.22472671e-01\n",
      "   9.71379487e-01  2.37922805e+00  2.89594304e+00 -3.18794773e-01\n",
      "  -3.92229315e-02  2.75032678e-01 -1.18013514e+00  2.85449958e-01\n",
      "  -1.19195132e+00  1.54125282e+00 -5.94860265e-02  1.99379247e+00\n",
      "   1.80198383e+00 -5.85864710e-01  1.24911829e+00  1.10127805e+00\n",
      "   9.51702939e-01  1.22383551e+00 -1.65402454e-01 -1.57384152e-01\n",
      "  -5.41959392e-01  4.49746702e-01  1.20484863e+00  9.30247220e-01\n",
      "  -2.78057917e-02 -2.92948821e-01 -7.90898852e-02 -6.77086724e-01\n",
      "  -2.03801830e+00 -1.35005688e+00  5.48716191e-01 -2.10923530e-01\n",
      "   6.93401669e-01  3.10857446e-01 -1.66492907e+00 -1.39854656e+00\n",
      "   2.44834466e-01 -1.21910174e-01  3.71623489e-01 -4.09657762e-01\n",
      "   9.27802441e-02 -4.83278400e-01  1.63322502e+00  1.30697873e+00]\n",
      " [ 2.25336142e-01  5.09488030e-02 -7.29700447e-01 -4.48483461e-01\n",
      "   1.90950969e+00 -4.06776994e-01 -7.92874309e-01 -9.67835313e-01\n",
      "  -2.32070214e-01  1.05619172e+00 -6.93863436e-02  1.17265449e+00\n",
      "   1.01419571e-01 -9.86337761e-01 -4.20088896e-01  9.80740892e-01\n",
      "   3.19848018e+00  1.45286629e+00  3.27110680e-01 -1.18968017e+00\n",
      "  -8.27311967e-01 -1.13234782e-01  2.30058295e+00  1.40196430e+00\n",
      "  -9.16875599e-01 -1.48318853e+00 -4.28239681e-01  1.70337760e+00\n",
      "   1.44713468e-01  4.22713895e-01  1.26795725e-01  9.57579353e-01\n",
      "  -7.00004314e-03  9.59351562e-01  8.96750140e-01 -9.95712154e-01\n",
      "   1.65021145e+00 -7.40834118e-01 -4.97496403e-01  3.53057083e-01\n",
      "  -1.44049519e+00  6.76569917e-01  7.58490138e-01 -1.62301143e+00\n",
      "   3.14791218e-01  6.16367323e-01 -8.63130252e-02  5.02593177e-02\n",
      "  -7.77323806e-01 -1.46554821e+00 -4.59871692e-01  2.30396204e-01\n",
      "  -5.37056962e-01  3.39910664e-01  2.02656004e-01  1.16049472e-01\n",
      "  -9.51893903e-01  1.70286881e+00  1.31044509e+00 -9.27393104e-01\n",
      "  -2.10490778e+00 -1.26950693e+00 -7.98937336e-02 -8.55433068e-01\n",
      "   1.27528096e+00 -1.30534786e+00  1.28601813e+00 -6.62551992e-01\n",
      "  -2.60889207e-01  1.15692833e+00  8.84741668e-01  1.22558889e+00\n",
      "   2.00832726e-01  1.32464664e+00 -4.03762130e-01 -9.06058120e-01\n",
      "  -7.29809740e-01  8.76933337e-01  8.49780784e-01  2.95601276e-01\n",
      "   1.34467435e+00  1.84233357e+00 -5.73300116e-01 -1.27448142e+00\n",
      "   8.45261360e-01 -6.86969844e-01  1.81268296e-01  1.20114700e+00\n",
      "   2.12669478e-01 -2.18035572e-02  1.72558349e+00  6.56245057e-01\n",
      "   8.00517192e-02  1.31028306e-01 -1.66096733e+00 -1.66509364e+00\n",
      "   1.67200651e+00 -1.54706380e-02  9.23474039e-01 -1.62118946e+00]\n",
      " [ 1.58082239e+00  3.68133500e-02  4.01209193e-01  1.63113111e+00\n",
      "   4.19530822e-01 -1.46958359e+00  1.91259772e+00  1.23972908e+00\n",
      "  -6.35163942e-01 -2.87709368e-02 -9.00622284e-01  1.44729641e+00\n",
      "  -3.84066783e-01  1.28077569e+00 -7.19143015e-01  1.41643401e+00\n",
      "   6.33616531e-01 -6.88828878e-02 -3.73522636e-01  5.33637686e-01\n",
      "  -1.72441369e+00 -1.45715439e+00 -9.78226976e-01 -8.38862361e-01\n",
      "  -2.50242982e-01  1.22458857e-01 -7.39679494e-01 -2.16359661e+00\n",
      "  -4.86404613e-01  1.50165306e+00 -4.18361359e-01 -2.40732886e-01\n",
      "  -9.03500566e-01 -5.17809909e-02 -3.01736692e-01  1.14822570e+00\n",
      "  -1.44285625e+00 -7.08422495e-01  1.44169086e+00 -3.76495553e-01\n",
      "   1.05845088e+00 -1.27489230e+00 -3.09352380e-01  1.49736835e-01\n",
      "  -3.04908276e-01  4.14791268e-01 -6.11156810e-01 -1.44269373e+00\n",
      "   8.05315375e-01 -4.45231980e-01 -5.19336146e-01  6.83430537e-01\n",
      "  -9.50914854e-01  1.93404340e+00 -9.22405492e-01  8.73674178e-02\n",
      "   9.62371563e-01 -5.96256458e-01 -7.18756363e-01 -5.45873808e-01\n",
      "   5.33507026e-01 -7.58992812e-01 -5.32453683e-01 -1.41755073e+00\n",
      "  -9.77629998e-01  1.29676552e+00  1.00860092e+00  5.93939019e-01\n",
      "   7.88240880e-01 -7.09503118e-01  1.19957211e+00  5.62324974e-01\n",
      "  -5.26951897e-01  1.18508923e+00  4.29559748e-01  1.11836267e+00\n",
      "  -1.42302200e+00 -5.94211075e-01 -1.04248690e+00  1.30444585e+00\n",
      "  -1.73387167e+00  2.38527768e-01 -7.63107828e-01 -2.33271765e-01\n",
      "   1.38764679e+00  1.19143408e+00  7.42932619e-03  4.17072694e-01\n",
      "   2.03553337e+00 -1.27195688e-01  1.24623096e-01 -3.17832897e-01\n",
      "   1.46246229e+00 -1.63342963e+00  1.09250061e+00 -8.27963647e-02\n",
      "   1.13609456e+00  1.31845797e+00  1.94441010e-01  3.76169025e-01]\n",
      " [ 1.25441260e+00  2.36159428e+00  3.49653404e-01  1.13715250e+00\n",
      "   2.46974531e-02 -4.93666115e-01  1.29741098e+00  3.62292935e-01\n",
      "  -3.73689595e-01  1.11514233e+00  5.75857218e-02  2.82134875e-01\n",
      "   3.38427056e-01  1.47942085e+00  8.89142394e-02  1.88457764e-01\n",
      "  -9.53901527e-02  7.31112495e-01 -7.16351894e-01 -1.09113605e-01\n",
      "   1.05856816e+00  2.62130163e-01 -3.57675815e-01  9.93724598e-02\n",
      "   1.25050822e-01  1.44638111e+00 -3.36297907e-01  7.70072280e-01\n",
      "  -1.99310842e-01  9.06998501e-01  9.45250771e-01  7.16853918e-01\n",
      "  -1.23281094e-01  1.20670828e+00 -7.66134617e-01  1.02084114e+00\n",
      "   8.66292913e-01  1.01820808e+00  7.11531466e-01 -3.96435575e-01\n",
      "   6.44596284e-01 -7.75568567e-01  4.47572517e-01 -8.22887794e-01\n",
      "   2.62516186e-01  1.95021320e+00  1.25336120e-01 -2.12439484e-01\n",
      "  -6.43650509e-01 -1.80560343e-01 -9.65980322e-01 -5.59223518e-01\n",
      "   5.85994501e-01 -1.18673424e-02  1.17493158e-01 -4.36751016e-01\n",
      "  -1.20192886e+00 -1.38651154e+00  1.05286999e+00  4.69397062e-01\n",
      "   8.62909103e-01 -5.57004503e-01 -7.48148433e-01  8.79790554e-01\n",
      "   2.13955968e-01 -6.96761959e-01  1.14475858e+00  9.66647655e-01\n",
      "   1.78216478e+00 -1.11040316e+00 -6.48932004e-01 -4.42119399e-01\n",
      "  -2.82925600e-01 -1.04165196e+00  5.71481555e-01  8.24159626e-01\n",
      "  -2.29218348e-01  2.11994708e+00 -4.92391864e-01 -8.29678841e-01\n",
      "   1.05339027e+00 -1.56415061e+00 -6.17899802e-01 -2.59291465e-01\n",
      "  -1.64230036e-01 -2.63352951e-01  2.00602549e+00 -6.10186616e-01\n",
      "   8.79477478e-01 -1.28543484e-01  7.35860692e-01 -2.74910810e-01\n",
      "  -3.64481050e-01  2.48161660e-01 -9.30695879e-01  8.28655109e-01\n",
      "  -1.51173248e+00 -3.97876131e-01 -2.20702543e+00 -1.30347039e-01]\n",
      " [ 1.27667788e-01  1.00931423e+00 -1.29521691e+00  9.30353286e-01\n",
      "   2.65776435e-01  1.08130165e+00 -2.59009384e-01 -1.33865097e+00\n",
      "   1.82735003e+00  6.09621295e-01 -7.25607787e-01  8.21355879e-01\n",
      "  -1.34789158e+00 -1.32923174e+00  5.26847993e-01  3.00207692e-01\n",
      "  -4.50924465e-01  7.86497510e-01  8.60265759e-01  8.09061225e-01\n",
      "   5.83923878e-01  1.21212900e-01  8.52966173e-01 -1.84629715e+00\n",
      "   9.79368540e-01  7.58249892e-01  1.21800060e-01  7.90666997e-01\n",
      "   1.14606199e+00  7.31977375e-01 -2.08083464e-01 -4.69593774e-02\n",
      "   1.37314122e+00 -1.54834522e+00  3.52502861e-02  1.06502127e+00\n",
      "  -5.23532032e-01 -5.78835106e-01  3.07288479e-01 -1.00603902e+00\n",
      "  -5.94721508e-01 -6.04466109e-02 -4.39897715e-01  4.87125151e-01\n",
      "  -5.51660418e-01 -2.32819340e+00  3.44800260e-01 -7.72970904e-01\n",
      "   3.27495815e-01 -1.85921330e+00  2.45379902e-01  7.01266271e-01\n",
      "  -1.00853963e+00  1.01947101e+00 -3.78073559e-01 -8.79542094e-02\n",
      "  -6.05716620e-01  8.91920020e-01  7.00102316e-01 -9.56802462e-01\n",
      "   6.96122020e-01  6.15486544e-01 -2.01708791e-01  2.92639674e-01\n",
      "  -5.44908601e-01 -1.03510511e+00  1.05691783e+00 -3.87855978e-01\n",
      "  -1.27777274e+00 -4.39023201e-01 -1.74189115e+00  1.39545468e-01\n",
      "   4.84866794e-01  5.52482449e-02  7.80113530e-01  1.21703421e+00\n",
      "  -7.25534832e-02  2.58353510e+00 -1.97640760e-01  1.73197830e-01\n",
      "   1.34223900e+00  6.57190417e-01 -3.05224498e-01  2.05194951e-02\n",
      "   1.81690709e+00 -5.24408034e-01 -1.70549688e-01  7.95395601e-02\n",
      "   7.53616395e-02  7.74345777e-02 -2.37550733e-01  5.39648476e-01\n",
      "   4.46168934e-01  4.31148166e-01  1.12462276e-01 -2.30752714e-01\n",
      "  -9.28648861e-01 -5.14022807e-01 -3.73206655e-01  4.29072562e-01]\n",
      " [ 9.45720367e-01  8.21460916e-01 -1.55874549e-03  6.12043485e-01\n",
      "  -3.97357270e-01  1.11518529e-01 -2.35060967e-01  7.68693867e-01\n",
      "   3.21656436e-01 -7.79800194e-01  9.82423460e-01 -1.29769703e+00\n",
      "   1.49542793e-01 -9.05183898e-01  5.09916892e-01  1.04557170e+00\n",
      "  -2.45807209e+00 -1.31294877e+00 -1.56076848e+00 -2.49201513e-02\n",
      "   1.36519049e+00  3.42778907e-01 -2.82809209e-01 -1.78177298e+00\n",
      "   7.76409780e-01 -7.75449622e-01 -1.09057019e+00 -4.78778607e-01\n",
      "   1.41102860e-01 -8.67861591e-02 -1.02742141e+00 -1.30173957e-01\n",
      "   1.86425199e+00 -6.03484222e-01 -3.55983974e-01 -3.19887624e-03\n",
      "  -2.08552963e+00  2.79172330e+00 -2.67216972e-01 -4.47367623e-01\n",
      "  -9.81951786e-01 -1.31864849e+00  1.85995328e-01  3.01210316e-03\n",
      "  -3.60573831e-02 -8.70013950e-01 -1.16891665e+00 -9.93806462e-01\n",
      "  -1.17834318e+00 -3.95861189e-01 -1.23971796e+00  7.79951137e-01\n",
      "   3.48749413e-01 -1.25072105e-01  9.81599272e-01 -6.19320351e-01\n",
      "  -9.24631123e-01  2.20790857e-01 -2.91506212e-01  1.44054782e+00\n",
      "  -1.13777807e+00 -9.84183383e-01  9.21172617e-01  5.08213236e-01\n",
      "  -6.15285346e-01  4.27403257e-01  5.69926614e-01  2.90045000e-01\n",
      "  -2.88108089e-01  1.78836532e-01  1.72695875e-01 -1.39341061e+00\n",
      "   2.09347790e+00 -9.79552222e-01  1.19923007e+00  5.59287447e-01\n",
      "   2.18674092e-01 -1.45910057e+00 -8.98242884e-01  7.31802248e-01\n",
      "  -9.59629083e-01  3.68665619e-01  2.47971611e+00  8.39371783e-01\n",
      "  -1.80629971e+00  6.38383674e-01 -3.79733010e-01  1.85663569e+00\n",
      "   9.09681263e-02  1.42572896e+00  4.38274022e-01  9.63002673e-01\n",
      "   3.73606284e-01 -5.02402956e-01 -8.23335749e-01  2.02252372e+00\n",
      "  -1.39810034e-01 -5.16529529e-01 -9.16101584e-01  6.74949901e-01]\n",
      " [ 1.53174643e+00  1.66886680e-01 -3.64294444e-01  7.70344878e-01\n",
      "  -6.99019026e-01 -9.32711081e-01 -6.74820410e-01 -7.07097703e-01\n",
      "  -7.62015465e-01  1.82845515e+00  1.19599907e+00 -3.31075238e-01\n",
      "  -4.09919035e-01  1.98239204e-01 -2.13793247e-01  1.58488684e+00\n",
      "   8.83992812e-01 -1.65393715e-01 -4.46086669e-01  1.80670615e+00\n",
      "  -1.26218688e+00  4.99228985e-01  1.71206188e+00  1.69913725e-01\n",
      "   5.36820347e-01 -1.59858908e+00 -1.15737766e+00  1.78587360e+00\n",
      "  -3.05416488e-01 -1.18045693e+00  1.08793635e+00 -6.83609311e-01\n",
      "   7.59587130e-01  1.79363527e+00 -8.02184621e-01 -3.69522578e-01\n",
      "  -1.22088286e+00  1.11403921e-02 -1.84735467e-01 -5.60507220e-01\n",
      "   1.90945679e-01 -2.99736403e-01  8.72881911e-01 -1.23128869e+00\n",
      "   4.62773404e-02 -1.37815855e-01 -6.79909878e-01  6.26148747e-02\n",
      "   1.53796164e+00 -7.02888548e-01  7.92746001e-01 -2.05962483e-01\n",
      "   5.96699632e-02 -9.88510087e-01  9.74537861e-01  1.66091590e+00\n",
      "   4.78655361e-01  4.14193361e-01 -1.67389288e+00  3.57798847e-01\n",
      "  -1.12860375e-01 -2.09101423e+00  9.22755484e-01  2.97158886e-01\n",
      "  -7.45127404e-01  7.45567094e-02  1.22216849e+00  9.69896925e-01\n",
      "   7.39552890e-01  1.58546779e+00 -9.72424640e-01 -1.43347974e+00\n",
      "  -5.12267563e-01 -1.05231953e+00 -2.84060381e-02 -1.19044726e+00\n",
      "   1.21435952e+00  1.22717973e+00 -1.59337632e+00  7.14071822e-01\n",
      "  -2.71397188e-01  1.09549820e+00 -1.18095164e+00 -1.81855202e+00\n",
      "  -4.99347258e-01  1.26492368e-01  1.31062749e+00 -5.30244382e-01\n",
      "   9.41697312e-01 -4.08856591e-01 -7.70406642e-01 -1.99034398e+00\n",
      "  -4.77395011e-01  5.25575177e-01 -2.78758836e-01  1.42191102e+00\n",
      "   8.79371522e-01 -1.52423123e+00  1.18401229e+00 -6.08542337e-01]\n",
      " [-1.13639225e+00  1.16285693e+00  6.27475527e-01  7.33528751e-01\n",
      "  -1.12458855e-01  8.93152369e-01 -1.05063391e+00 -1.40444669e+00\n",
      "   8.16504869e-01 -3.32798663e-01 -4.02839485e-01 -1.12050845e+00\n",
      "   5.10217810e-01  1.08440118e+00  7.22664181e-01 -6.57687486e-01\n",
      "   2.47426074e-01 -3.18256878e-01 -4.96278169e-01  7.57099009e-01\n",
      "   6.88211273e-01 -1.00502612e+00 -2.55722038e+00 -1.11923629e+00\n",
      "  -1.31605471e-01 -3.46329064e-01  1.89580707e+00 -1.31915562e-01\n",
      "   2.18724789e-01  2.30591247e-02 -1.09519116e+00  5.41059208e-01\n",
      "  -7.13693321e-01  8.26246659e-01 -4.26963330e-01  3.85476692e-01\n",
      "   2.05928463e+00  2.19112001e-01  6.22310215e-01  2.97597659e-01\n",
      "  -2.68521054e-01  4.86265717e-01 -1.47228011e+00  9.63439322e-01\n",
      "   1.01917125e+00  8.20625810e-01 -1.87988970e+00 -1.36225617e+00\n",
      "  -1.00739000e+00  5.14927180e-01  4.31375279e-01 -1.10443250e+00\n",
      "   4.63136406e-01 -1.92198966e+00  6.12604498e-01 -8.11344266e-01\n",
      "   6.81000221e-02  1.61710972e+00  2.76768407e-01  3.24002908e-01\n",
      "   8.48861362e-02 -1.23740290e+00  1.76484500e+00 -6.15101153e-01\n",
      "  -6.03822895e-01 -6.88701923e-01  1.37602920e+00 -7.79649744e-01\n",
      "   3.69609155e+00  2.69877281e-01 -6.64179986e-01 -9.49846603e-02\n",
      "  -6.63565919e-01  1.27776158e+00 -3.84722661e-01  1.41385717e+00\n",
      "   1.29062185e+00  1.01472055e+00 -6.71847720e-01  2.25283013e+00\n",
      "   5.52117986e-01  1.41686357e-02  9.47767743e-01 -2.71504878e-01\n",
      "   4.59811440e-02  1.15256933e+00  1.39947889e-01 -2.26162274e-01\n",
      "   5.12276344e-01  1.28335140e+00  1.28855017e+00 -2.12393866e+00\n",
      "  -6.04944435e-01 -1.02388952e-01 -7.81013867e-01  6.98047896e-01\n",
      "  -3.04812162e-01 -1.34724190e+00  7.30830854e-01 -7.29089710e-01]\n",
      " [ 3.48863195e-03 -6.68456542e-03  1.37501089e+00 -6.64126234e-01\n",
      "  -1.78950724e-01 -8.40871021e-01  1.20536746e-01  1.30297007e+00\n",
      "  -1.87099027e-01  5.86116168e-01  4.00305172e-01  1.29136458e-02\n",
      "  -7.05235011e-01 -4.74376992e-01  1.34734033e+00 -1.16337160e+00\n",
      "   1.77296878e+00 -9.87577561e-01 -1.30807879e+00 -1.12435370e+00\n",
      "  -1.43920599e+00  3.74680303e-01  5.50298187e-01  3.37202100e-01\n",
      "  -4.62522658e-02 -1.02998751e+00 -6.76271897e-01  7.25820561e-01\n",
      "   9.16608575e-01  2.71709852e-01 -4.09919320e-01  4.29870211e-01\n",
      "  -3.85345457e-01 -1.58135739e+00 -7.31245600e-01 -9.51705024e-01\n",
      "   7.23848127e-01  1.81963353e+00 -1.00387037e+00  4.11961116e-01\n",
      "   3.77341834e-01 -7.11856895e-01  5.05516563e-01  3.07461287e-01\n",
      "   4.73215520e-01  8.95361210e-01 -1.55988382e-01  6.87210413e-01\n",
      "   4.24948536e-01  1.05180578e+00  1.08496132e+00  3.18473362e-01\n",
      "   3.14778729e-01  7.21258079e-01  1.18173064e+00 -2.36321448e-01\n",
      "  -7.36559256e-01 -6.97180501e-01 -1.49859973e+00  7.79242197e-01\n",
      "   1.23608784e-01  1.04508992e-01 -1.02945317e+00 -4.93201936e-01\n",
      "  -1.45685473e+00 -7.35537850e-01 -2.33708016e+00 -6.46987700e-02\n",
      "   2.32796505e-01  5.75269397e-02  4.33330334e-01 -2.36334588e-01\n",
      "   1.01477630e+00 -1.52706496e+00 -1.76692642e+00 -6.81425616e-01\n",
      "  -3.31155286e-01 -1.32148559e+00  1.09307298e+00 -1.25891636e+00\n",
      "   1.26063330e+00  7.44789187e-01 -1.14400637e+00 -1.72001685e+00\n",
      "   8.95929637e-01  2.13727481e+00 -9.78055387e-02 -4.48941336e-01\n",
      "   9.04938276e-01 -1.68903245e+00 -2.23029831e-01 -1.45497727e+00\n",
      "  -5.22210649e-01  5.92521855e-01  1.55956737e+00  9.39515276e-01\n",
      "   1.19083302e+00  5.86672376e-02 -6.69956383e-01  3.37553919e-02]\n",
      " [ 5.21790286e-01 -4.74025277e-02 -1.35178159e+00  2.75242368e-01\n",
      "   9.43092190e-01 -1.13047219e-01  1.94922695e-01 -1.68195002e+00\n",
      "   3.68936723e-01  4.47697126e-01  6.05823917e-01  7.55991211e-01\n",
      "   1.72692619e+00  6.77323183e-01 -9.51959421e-01  1.67958928e+00\n",
      "   4.06068164e-01  5.66830005e-01  5.33785743e-01 -3.09904980e-01\n",
      "   2.24504159e-01  1.12047716e+00  1.57224294e-01 -1.54819810e-02\n",
      "   1.49872153e+00 -1.71875725e-01  6.58049160e-01 -1.63038326e+00\n",
      "  -1.28203357e-01 -2.11538254e-01 -4.84673281e-01  8.86746695e-01\n",
      "   7.24024298e-01  1.43194023e+00 -2.51539749e-01  9.02761421e-01\n",
      "   1.59178208e-01  1.97855825e+00 -7.89969326e-02  7.89511181e-01\n",
      "   1.09177628e+00  1.20569388e+00 -1.98474611e-01  1.08719238e+00\n",
      "  -1.29225243e+00 -1.01634934e+00  1.25324143e+00  1.07945825e+00\n",
      "  -6.13631807e-01  7.82601132e-01 -9.83164073e-01  3.22179730e-01\n",
      "   8.43301254e-01  4.27281092e-01  4.94156996e-01 -4.78612802e-01\n",
      "  -8.14983570e-01 -4.99555852e-01  1.54679699e+00  8.98145307e-01\n",
      "  -1.11920471e+00  1.86828570e+00  8.17223842e-01  4.99437618e-01\n",
      "   2.16874167e-02 -2.29570908e-01 -3.38619873e+00 -5.94199434e-02\n",
      "  -8.75579803e-01 -3.28726759e-01  1.17051487e+00  2.31965310e+00\n",
      "  -2.97401454e-01 -1.08442654e+00 -7.57429170e-01 -8.11973271e-01\n",
      "  -1.34585703e+00  6.61848217e-01 -5.77825942e-01  3.48414501e-01\n",
      "  -2.62153363e-02 -1.24820309e+00  5.55993477e-02 -3.92995484e-01\n",
      "  -1.21736608e+00  2.08760715e+00 -4.33339634e-01  1.19186504e+00\n",
      "  -1.15295144e+00  1.11511987e+00  7.76573072e-01  2.14763700e+00\n",
      "   1.26306819e+00 -6.78218163e-01  7.18854065e-01  4.63478963e-01\n",
      "   2.70808006e-01 -3.26605742e-02  7.57294390e-01  3.00162561e-01]\n",
      " [ 5.56342316e-01 -5.88645004e-01 -5.04718598e-01 -2.51129340e-01\n",
      "   2.07488001e-01 -2.22117268e+00 -7.51860259e-01 -1.92326416e+00\n",
      "  -1.25061923e+00  9.26660454e-01  6.96148880e-01 -1.11602196e+00\n",
      "   5.40905546e-01 -3.56972655e-01 -8.42579069e-01  1.85830278e+00\n",
      "   9.21244866e-01  7.49678151e-01 -3.46269114e-01 -1.72780503e+00\n",
      "  -3.56699610e-02  3.80961251e-01  3.58353037e-01 -4.67116184e-02\n",
      "   2.53412648e-01  1.62149194e-01  4.41201150e-01 -1.62756882e+00\n",
      "   1.80744791e+00  6.95872602e-01  5.19737136e-01 -1.28761585e+00\n",
      "   6.64244629e-01 -7.94662516e-02 -1.07926443e+00  6.16735157e-01\n",
      "  -1.97872965e-01  1.36439405e+00 -3.47574342e-02  1.38973280e+00\n",
      "   5.15590494e-01  9.57101673e-01 -5.57400279e-01 -2.43429514e-01\n",
      "  -9.08944649e-01  7.42689468e-01  1.20113190e+00  8.11374755e-01\n",
      "  -4.85692580e-01  1.35494416e+00  1.69471254e+00 -9.77747857e-01\n",
      "   1.09195529e+00 -2.49922153e+00  6.17034531e-01 -1.73042602e-01\n",
      "  -1.16687339e+00  7.02124732e-01 -1.35155492e+00 -5.29171356e-01\n",
      "   8.09260020e-02 -1.22714040e+00  3.79643761e-02 -1.27646924e+00\n",
      "   3.45242995e-01  7.87012159e-01 -5.61415981e-01  3.22330606e-01\n",
      "  -2.77754925e-01 -1.69300446e+00  9.83124995e-01 -4.22779669e-01\n",
      "   9.54970077e-01 -1.07239187e+00  1.91661665e+00 -1.46267147e+00\n",
      "   2.18062407e-01 -1.19601924e+00 -1.56865510e+00 -5.17175714e-01\n",
      "   9.89684765e-02 -4.85019620e-01 -1.47277413e+00  3.06406062e-02\n",
      "  -6.10986141e-02  1.60627019e-01 -1.12133816e+00 -4.29471004e-01\n",
      "  -4.00320418e-01 -1.27457761e+00 -1.88065101e+00  4.45023614e-01\n",
      "  -4.53004187e-01  6.08167777e-01 -5.33550399e-01 -8.17647256e-01\n",
      "   4.82178918e-01  8.93244611e-01 -9.42752372e-01  3.91377580e-01]\n",
      " [ 7.41414051e-01  4.14406891e-01 -8.59723025e-02  1.05405009e+00\n",
      "  -7.86658701e-01  1.73804414e+00 -1.46224372e-01  7.97092365e-01\n",
      "  -6.86054484e-01  7.02122871e-01 -6.54953584e-01  2.56010715e-01\n",
      "  -1.27992535e+00  9.00402991e-01 -1.01624146e+00 -9.79020860e-01\n",
      "  -2.67914289e-01 -1.30487425e-01 -5.63700825e-02 -1.46983920e+00\n",
      "   1.69522901e+00  1.46946389e+00 -1.22356408e+00 -9.68375924e-02\n",
      "  -3.06494124e-01 -7.64391671e-01  2.50262186e+00  4.61436607e-01\n",
      "  -1.57345187e+00  1.95033880e+00 -3.90704239e-01  6.71872013e-01\n",
      "   1.07859040e+00  6.69795942e-02 -6.99935020e-01 -1.47536803e+00\n",
      "  -1.10040220e+00  1.51934499e-01  4.19083134e-01  2.38226992e-01\n",
      "   3.48292112e-01  2.83580601e-01 -2.62473505e-01  9.56930501e-01\n",
      "  -8.05267240e-01 -1.11028151e+00  9.47115279e-01 -6.09714495e-01\n",
      "   3.56305027e-01 -4.62168832e-01 -1.97692096e-01 -5.71626137e-01\n",
      "   6.91821138e-01 -1.78203643e-01 -3.82320874e-01 -5.90069760e-01\n",
      "  -3.44479599e-01 -9.95497568e-01 -5.24140997e-01  8.70109070e-01\n",
      "  -3.51779680e-01  2.68868477e-01  1.31303722e-01 -1.41839422e+00\n",
      "   1.49921691e-01  9.85400735e-01 -4.08018585e-01 -7.48613989e-01\n",
      "   8.68501349e-01 -1.05603801e+00 -1.58625143e+00 -5.20539738e-01\n",
      "   1.39951196e+00 -1.32633773e-01 -5.44044762e-01  5.95364427e-01\n",
      "   4.25318965e-01  1.01132602e-01  7.12749525e-01  7.57440161e-02\n",
      "   6.29347646e-01 -1.96532626e+00 -1.40784325e+00 -4.24469620e-02\n",
      "  -1.22231109e-01 -2.57610187e+00  5.03624446e-01 -6.62152058e-01\n",
      "   5.52410780e-01  7.58082504e-01  1.39169789e+00 -1.72237042e+00\n",
      "   9.10340821e-01  1.44974260e+00  1.23548267e+00  2.76543012e-01\n",
      "   3.12272590e-01 -1.20086461e+00 -2.23487704e+00 -5.18782605e-01]\n",
      " [-6.58069614e-01 -7.80426903e-01 -4.97920421e-01 -6.73774301e-01\n",
      "   1.45770446e+00  9.54529368e-01 -4.11910279e-01 -1.11399315e+00\n",
      "  -2.14189765e-01 -1.42877941e+00 -2.88503762e-01 -1.28017314e+00\n",
      "   1.45962974e+00 -7.30834734e-01  1.27018289e+00  6.02012817e-02\n",
      "  -1.50782187e+00  3.44898102e-01  1.62226664e+00  1.31930439e+00\n",
      "   1.07601120e+00  6.56901068e-01  1.14630492e+00  1.17954958e+00\n",
      "  -1.85557026e+00  6.07391004e-01 -8.52578332e-01 -5.54536161e-01\n",
      "  -1.48817573e+00 -4.78297888e-02 -1.12278313e-01  1.29025205e+00\n",
      "  -9.71786089e-02  6.38536193e-01  7.47824237e-01  2.06432920e+00\n",
      "  -1.78897773e+00  3.77227828e-01  1.57622147e+00 -1.86681381e-01\n",
      "  -2.41609196e-01 -8.34840489e-01 -1.32798971e-01  1.31220758e+00\n",
      "  -9.77316408e-01  1.53164436e+00 -4.50294813e-01  1.78494019e+00\n",
      "  -6.43113399e-01  1.39845705e+00  4.77030218e-01  5.91994213e-01\n",
      "   2.73667947e-01 -5.94835886e-01  1.46026412e+00 -1.37604968e+00\n",
      "  -7.99030833e-01  1.09922807e+00  1.30680420e+00 -1.39716326e+00\n",
      "  -2.13676313e+00 -1.82787369e+00  6.50107282e-01  1.56001684e+00\n",
      "   6.62648715e-01  8.53223172e-01 -1.44179066e+00  1.81348100e-01\n",
      "   2.57544602e-01 -3.72572898e-01 -5.22658225e-01  1.15285974e-01\n",
      "  -6.50802922e-01  5.37581018e-01 -3.74965144e-01 -1.09506011e+00\n",
      "   6.55886374e-01  7.02132071e-02 -1.12962256e+00  3.33233648e-01\n",
      "   1.92055513e+00  1.16342044e+00 -1.16797211e+00  7.19127158e-01\n",
      "  -9.08857895e-01 -9.73958140e-01 -6.25146814e-02 -2.35372747e+00\n",
      "  -6.79865670e-01 -2.15916839e+00 -6.39947699e-01  5.45821693e-01\n",
      "  -3.86413936e-01 -1.46609812e+00 -9.93062377e-01 -6.83478230e-01\n",
      "   1.11748704e+00 -1.77025604e+00  1.60608404e-01  4.61898152e-01]\n",
      " [-1.55748191e+00 -4.63275550e-01 -1.39435265e-01  4.93631847e-01\n",
      "  -3.55653858e-01  3.04620890e-01 -9.94577706e-04 -1.45128950e+00\n",
      "  -7.10146040e-01 -9.04779069e-01  4.41650378e-01  4.42578365e-01\n",
      "   1.91034012e+00  1.33079054e+00 -1.81751725e+00  3.37942213e-02\n",
      "   1.30052777e+00  8.23128327e-01  5.71090725e-01  7.88930031e-01\n",
      "  -2.28555228e+00  8.33386481e-01  7.59284704e-01 -1.82374846e+00\n",
      "  -3.12351925e-01  1.28832646e+00 -1.96342715e+00 -1.18872093e+00\n",
      "  -6.90405315e-01 -2.46634378e-01  1.74442313e+00 -8.92976642e-01\n",
      "   6.12865956e-01 -1.07529085e+00 -1.78844224e+00 -9.83166510e-01\n",
      "  -3.06298051e-01  1.51931914e+00 -1.02219926e+00 -1.07181551e-01\n",
      "  -1.99786998e+00  1.21865450e+00 -7.02465505e-01  4.08665741e-01\n",
      "  -6.57243997e-01  4.69670532e-01  8.81638610e-01  6.32953781e-01\n",
      "   1.04943195e-01  4.91052950e-01  4.02450120e-01 -2.76649491e-01\n",
      "   1.16742316e+00  1.62239495e-01 -2.30752607e-01 -6.37002730e-01\n",
      "   7.38236868e-01 -4.74621637e-01 -1.51634694e-01 -3.69361581e-01\n",
      "   1.43967122e+00 -1.34031204e+00 -8.61182268e-01  1.42000080e+00\n",
      "   2.52787235e-01 -1.00447349e-01  1.67587998e-01 -1.24085164e+00\n",
      "  -1.28624514e+00 -1.08588500e+00 -8.55887069e-02  1.64457690e+00\n",
      "   1.40159299e+00  8.23426672e-01 -1.31182211e+00  4.94429718e-01\n",
      "   3.09793453e+00 -1.12184406e+00 -1.31649317e+00  8.92153570e-01\n",
      "  -2.13735677e+00 -5.93084456e-01  1.14212356e+00  3.39016913e-01\n",
      "  -2.20163646e+00  2.65328686e+00  3.30484497e-01 -9.12186524e-01\n",
      "  -2.25332737e-01 -3.83381428e-01 -8.18752480e-01  8.58979528e-01\n",
      "  -2.98885898e-01 -6.25601712e-01  4.36828314e-01 -1.00155843e+00\n",
      "   2.43805617e-02  1.37265375e+00  1.34844318e+00 -8.62515563e-02]\n",
      " [-2.86637815e-02  6.58874803e-01  7.21818351e-01 -6.86813686e-01\n",
      "   1.57297637e-01 -1.00849882e+00  1.63049933e+00  1.17274106e+00\n",
      "   5.80683534e-01  6.58796701e-01  2.25593527e+00 -9.78092464e-01\n",
      "  -1.31480006e+00  4.85224547e-01  1.42644617e+00 -6.31531411e-03\n",
      "   7.84954839e-02  1.18181647e-01 -1.40229372e-02 -6.01410227e-01\n",
      "  -3.19295634e-01 -1.64513443e+00 -8.75879219e-01  1.30087363e+00\n",
      "   6.20159687e-01 -7.85751572e-01 -2.02275080e-01 -2.09127557e-01\n",
      "   3.17538383e-02 -6.97537101e-01  1.59557055e-01  1.11858499e+00\n",
      "  -3.77202254e-01  7.16302489e-01 -1.00525103e+00 -7.48829103e-01\n",
      "  -4.54750270e-01 -2.88183322e-01  1.11556125e+00  8.94685069e-01\n",
      "  -1.44902914e+00 -8.90449284e-01  2.40892348e-01  7.49543557e-01\n",
      "   6.96913357e-01 -5.05208358e-01  6.55384233e-01  4.31405718e-01\n",
      "  -7.14867365e-01  3.10339872e-01  1.76559699e+00 -3.32038319e-01\n",
      "  -7.44919776e-01 -1.17383348e+00  1.94717798e-01 -3.97428804e-01\n",
      "  -1.42605382e+00  2.43186743e-01 -1.05171397e+00  2.50386022e-01\n",
      "  -1.75645853e+00  1.43104021e+00  8.51015289e-01 -2.23803936e+00\n",
      "  -5.90037182e-01  4.71394188e-01  1.09613969e+00  3.72005268e-02\n",
      "   3.10193374e-01  5.00074494e-02 -6.55314636e-01  2.09423747e+00\n",
      "  -9.29927729e-01 -2.52269735e-01 -1.30033049e+00 -1.39774585e+00\n",
      "  -3.98071140e-01  3.51431840e-01  2.34504974e-01  1.43895042e+00\n",
      "   1.50946383e+00 -2.04654236e-01  1.11797393e-01  5.43890964e-01\n",
      "  -1.01092550e-01 -7.40779693e-01 -1.72260954e+00 -1.09669936e+00\n",
      "  -1.36725417e+00  2.65657653e-01  1.06912291e+00 -1.68825876e+00\n",
      "  -1.02579186e+00 -5.57828727e-01  1.25249149e+00 -1.00374219e+00\n",
      "  -2.22223637e+00 -4.28872543e-01 -8.64742956e-01  4.21635815e-01]\n",
      " [-5.10951035e-01  1.07310287e+00 -3.21334293e-01 -1.69570043e+00\n",
      "  -4.98608852e-01 -5.36511831e-01  2.71015095e-03 -4.14728556e-01\n",
      "  -1.49462661e+00  5.00643737e-01 -2.73120220e-01  9.12531963e-01\n",
      "  -7.77754318e-01  9.51282363e-01  1.42859056e-01 -8.08113639e-01\n",
      "   1.53165440e-01 -6.35954695e-01 -4.98186869e-01  3.77039288e-02\n",
      "   9.06845584e-01 -2.15127889e+00  7.59061663e-01 -8.34049978e-01\n",
      "   4.23419180e-01  7.12389013e-01 -9.45766089e-02 -1.92422742e-01\n",
      "  -1.29330457e+00 -1.71387752e+00  9.32905294e-01 -1.19496956e+00\n",
      "   7.10056902e-01  5.68046342e-01 -2.50465174e-01 -9.63647886e-01\n",
      "  -1.26614446e+00  1.23404089e+00  3.36912995e-01 -3.53945359e-01\n",
      "  -1.06444666e+00  2.78862084e-01  1.86620372e+00 -3.61658307e-02\n",
      "  -1.53150497e+00  4.22118253e-01  2.92697640e-01 -9.91557208e-02\n",
      "   2.20978943e+00 -1.15315446e+00 -4.08497870e-01  7.77083981e-01\n",
      "   4.82130931e-01  5.82173702e-01  7.18548021e-01 -9.55741499e-01\n",
      "  -2.50661833e-01 -1.19289448e-01 -1.12769192e+00 -1.57131024e+00\n",
      "  -1.42666742e+00 -1.68074484e+00  1.20965796e-02  2.32073985e+00\n",
      "  -8.84485547e-01  1.99944953e-01 -1.34672801e-01  1.52641241e+00\n",
      "  -4.65448404e-01  6.03730379e-01 -3.41259855e-01 -8.83447676e-02\n",
      "  -1.07432263e+00  6.59703159e-01 -1.31545791e-01  4.19651847e-01\n",
      "  -2.18042045e-01 -1.07154163e+00  6.27870930e-01  1.45091135e+00\n",
      "  -1.15722711e+00 -6.32392273e-01  5.11963092e-01 -5.24715928e-01\n",
      "   2.54561096e-01  1.72460587e+00 -5.06746928e-01 -2.75010375e-01\n",
      "  -1.11461605e+00 -1.56646814e+00 -1.45210359e-01 -2.52415980e-01\n",
      "  -7.18337463e-01 -1.04142146e+00  1.42396920e+00 -4.53681947e-02\n",
      "  -5.42851831e-01 -8.39814576e-01  4.14068318e-01 -5.94175615e-02]\n",
      " [ 9.09922222e-01  2.22818507e-01  1.23812926e+00 -5.58209598e-02\n",
      "  -3.97499655e-02  1.56710512e+00  2.49058617e-01 -2.00330658e+00\n",
      "  -3.62388060e-01 -1.35298624e+00 -3.48487021e-01  3.48256370e-01\n",
      "   4.62835936e-01 -6.89061845e-01 -6.15812034e-01 -8.72788605e-01\n",
      "   4.41486310e-01 -3.32428603e-01  1.94579008e-01  3.80868458e-02\n",
      "  -1.38449186e+00  1.08335922e+00  1.87620050e-01 -7.58303548e-01\n",
      "   7.16112578e-01  1.73974522e+00 -8.76315248e-01  2.30741888e+00\n",
      "   7.60323803e-01 -1.19287316e-01 -4.57463486e-01  1.32489997e+00\n",
      "  -1.12863394e+00 -8.17806484e-01 -7.84821706e-01 -2.58098050e+00\n",
      "   2.82384477e+00 -3.81214913e-01 -1.02659226e+00  6.36832807e-01\n",
      "   1.25251761e+00 -3.44145536e-01 -4.43461080e-01 -1.28368437e-01\n",
      "  -1.31292344e+00  7.12194707e-02  1.77595928e+00  2.52261471e-01\n",
      "   1.16437836e-01 -2.76951155e-02 -1.48428451e+00  6.05829443e-01\n",
      "   7.87627920e-01  1.34350734e-01 -2.69356875e-01  1.73768421e+00\n",
      "   1.23808504e+00 -1.16814537e-01 -6.92562706e-01 -1.02836034e+00\n",
      "   3.22135673e-01  8.39543158e-01  8.72145086e-01  1.25514117e+00\n",
      "  -1.69133286e+00 -6.35645273e-01 -1.10261223e+00  6.77272567e-01\n",
      "   7.64253996e-01 -4.92283176e-01  8.01942831e-01 -2.16833128e-01\n",
      "   1.10106832e+00  1.42914568e+00 -1.15720423e+00  9.21157759e-01\n",
      "  -1.96416296e-01 -9.09283270e-01 -3.87440584e-01  4.82386201e-01\n",
      "   6.41218522e-01 -1.56094105e+00 -8.61660766e-01 -7.73524999e-01\n",
      "   5.69897912e-01  1.36350431e+00  8.84192944e-01  6.69005514e-03\n",
      "  -8.10925868e-02  1.10988515e+00 -2.95494755e+00  1.98400188e-01\n",
      "  -1.11260199e-01 -1.39556154e+00  3.92362391e-01  4.47535302e-01\n",
      "  -3.53253882e-03 -1.07213899e+00 -1.54536230e+00  8.71459289e-01]\n",
      " [-1.15451114e+00 -1.37986443e+00  7.74374292e-01  5.05487643e-01\n",
      "  -1.90852413e-01  4.76473280e-01 -9.17311845e-01  9.80226694e-01\n",
      "  -2.50839376e-01  1.22755703e+00  3.51321595e-01 -4.64948533e-01\n",
      "  -6.95686238e-01  2.85649254e+00  8.53833312e-01  1.02314525e+00\n",
      "  -5.27783697e-02  6.36137937e-01 -5.71051637e-01  7.97369708e-01\n",
      "  -6.12330076e-01 -1.48005659e+00 -4.84763860e-01 -1.34830693e+00\n",
      "   1.45026570e-01 -6.48100502e-01  3.25133180e-01 -6.26711848e-01\n",
      "  -5.63796693e-01  1.82130859e+00 -9.83101026e-01 -8.26244347e-02\n",
      "  -2.27370370e+00 -1.81701851e-01  9.67512236e-01  1.18797677e+00\n",
      "   7.79621858e-01 -7.84530199e-01  9.03815944e-01  6.55756497e-01\n",
      "  -2.58764821e+00 -1.75231859e+00 -6.81508668e-01 -8.36383801e-01\n",
      "   8.51069223e-01  1.35280548e+00 -9.10147489e-01 -9.93997372e-01\n",
      "   7.96820353e-01 -8.47376552e-01  1.61987774e-01 -3.87036915e-01\n",
      "  -1.61969648e+00 -2.62237838e-01  6.28478166e-01  3.41811509e-01\n",
      "  -2.89862526e-01  4.34868658e-01 -1.60135039e+00  1.57562650e+00\n",
      "   2.71197971e+00  9.35853166e-01 -4.91376748e-01 -1.84935746e-01\n",
      "   1.23175479e+00 -2.47609716e-01  3.68247417e-01 -1.13966125e+00\n",
      "  -1.24454723e+00 -1.24353822e-01 -9.96349490e-02 -1.16657705e+00\n",
      "   1.82205979e+00 -5.28709207e-02  3.85866032e-01 -5.52726492e-01\n",
      "  -1.66907353e+00 -3.53842756e-01 -2.70384751e-01  1.72659312e+00\n",
      "   1.07112483e+00  1.03765420e-01  6.44698816e-01 -1.25240049e+00\n",
      "   2.65704428e-01 -1.21981616e+00  5.25144154e-01  5.28677175e-01\n",
      "   3.46874363e-01 -2.00662889e+00 -5.96367370e-01 -8.32525950e-01\n",
      "   2.42246149e+00  3.62646725e-01 -1.46768182e+00  4.73880400e-01\n",
      "  -7.03433009e-01 -7.61053030e-01 -6.76287467e-01 -6.36907013e-01]\n",
      " [ 5.47747295e-01 -7.89016860e-01 -6.54762104e-01  3.55073173e-01\n",
      "   8.72680820e-01 -1.32972009e-01 -4.04310872e-01  9.54960693e-01\n",
      "   1.43391377e+00 -3.96736165e-01  3.56812242e-01  7.14657930e-01\n",
      "   3.17908514e-01  7.35393026e-01 -1.51746262e+00 -4.64845541e-01\n",
      "   2.60367320e-01  2.42952507e+00 -1.37044321e+00 -9.14722050e-01\n",
      "  -2.65354939e-01 -3.02016626e-01  5.41666313e-01 -2.35553474e-01\n",
      "  -1.94589474e-01  1.75355210e-01  1.43987742e+00  7.39173247e-01\n",
      "   7.14072422e-01  1.49970017e+00  1.10854666e+00 -6.09058513e-01\n",
      "  -2.25974974e-01  6.37930432e-01  9.81455594e-01  5.20163872e-01\n",
      "  -4.09404410e-01  4.82548967e-01  6.21936770e-02 -2.35942708e-01\n",
      "   5.14764736e-01 -2.52737109e-01 -3.16275422e-01  6.76109405e-01\n",
      "   1.28872702e+00  1.44237031e+00 -7.70670193e-01  1.25641343e+00\n",
      "  -1.80506070e-01 -2.68993400e+00  5.88616469e-01 -1.49932567e+00\n",
      "  -2.30567583e-01  1.60175540e-01  6.87036655e-01  3.83145113e-01\n",
      "   1.36495453e+00  7.18701836e-01 -8.76308320e-03 -1.01559709e+00\n",
      "  -3.04301179e-01  1.07639769e+00 -7.79293117e-01 -2.34087946e+00\n",
      "   8.33335052e-01  9.41766154e-01  1.55717009e+00 -1.79109709e-01\n",
      "   1.48286344e-01 -7.39616437e-01  5.58768267e-02  8.50334437e-01\n",
      "  -3.49636175e-01 -8.26187520e-02  7.47793044e-03 -2.24540993e-01\n",
      "   2.09933124e+00  9.04707085e-01  4.80882914e-01 -6.83124844e-01\n",
      "  -9.34190206e-01  7.85736617e-01  9.80120682e-01 -1.24263691e+00\n",
      "   1.51227857e-01 -1.40946113e+00 -8.41114817e-01  2.21453419e-02\n",
      "  -4.73901065e-01 -1.40629928e+00 -4.43416484e-01 -3.50627914e-01\n",
      "   1.33076932e+00  1.01469713e+00  7.74937575e-01 -6.76270862e-01\n",
      "   4.45478646e-01  2.04892633e+00 -1.84174423e+00 -3.53134757e-02]\n",
      " [ 4.89626849e-01 -1.77998276e-01  1.05951045e+00 -2.19685748e-01\n",
      "  -3.74124261e-01 -1.10887333e+00  8.60252301e-01  5.21984701e-01\n",
      "   4.01092737e-01 -5.99318242e-01  3.36687645e-01 -2.57060108e+00\n",
      "   5.69589155e-01  2.68613514e-01 -9.66239549e-01  1.05874837e+00\n",
      "  -1.00074414e+00 -7.32160583e-01 -3.21443467e-02 -7.36361100e-01\n",
      "  -1.49407649e+00  2.16157576e+00 -1.74044029e+00  1.48343766e-01\n",
      "   2.19565276e-01 -1.39146644e-01  4.31125560e-01 -1.01196578e+00\n",
      "   1.16040751e+00  1.44867046e-01 -4.35715309e-01  3.04659040e-01\n",
      "   2.59186423e-01  1.40321458e-01  1.85011591e+00 -2.85946509e-01\n",
      "  -3.52843979e-01  9.36813182e-01 -4.46185745e-01  9.15344801e-01\n",
      "  -3.79891269e-01 -7.91347477e-01  9.61303651e-01  1.00739946e+00\n",
      "  -7.48467800e-01 -1.10584688e+00 -6.59554671e-01  9.23382278e-01\n",
      "   1.34711505e+00  5.16508595e-01  9.91573996e-01 -1.62550139e-01\n",
      "   5.69918356e-01 -4.69096444e-01  9.13751493e-01 -2.00412186e+00\n",
      "  -1.15394973e+00 -2.49784005e+00  1.23025207e+00 -6.74333823e-01\n",
      "  -6.65383335e-01 -2.00103830e+00  1.61965520e-01  4.88589185e-02\n",
      "   3.00980125e+00  2.92604312e-02 -2.17122379e-01 -5.37395492e-01\n",
      "  -5.13675669e-01 -7.42058192e-02  3.38635371e-01 -2.20453438e-01\n",
      "   1.29310095e+00  2.04110396e-01 -1.90490597e-01 -8.07199410e-01\n",
      "  -1.01949434e-02 -1.09031163e+00 -1.08619532e+00  1.47246736e+00\n",
      "   1.03493478e+00 -4.05772612e-01  1.82498560e+00  1.93656741e+00\n",
      "  -1.27805274e+00 -2.21628383e-01 -3.75629492e-01 -2.43629379e+00\n",
      "  -1.10036990e-01 -2.14965042e-01 -1.14054881e+00 -8.68891681e-01\n",
      "   1.04418884e-02 -1.64309961e+00  9.90243103e-02 -3.74150900e-01\n",
      "   1.23663320e+00  1.00985633e+00 -7.37032588e-01  1.38843159e+00]\n",
      " [-8.12894151e-01  1.34395970e+00  9.85769207e-01  1.16181992e-01\n",
      "   5.47057733e-01 -8.30599476e-01  2.77060086e-01  1.51579245e-02\n",
      "   4.88225012e-01 -6.55953968e-01  7.43226174e-01  6.77726931e-01\n",
      "  -1.20418292e+00  1.29374072e+00  1.75088652e+00 -3.14422735e-02\n",
      "   2.54945915e-01 -6.56472188e-01  1.40911601e-02  2.26392753e-01\n",
      "  -1.66640629e-01  4.79626143e-01  2.21400457e-01 -5.18861496e-01\n",
      "   2.79948683e-01 -8.01458176e-02 -5.21955276e-01 -1.53096906e+00\n",
      "   4.61059276e-01  1.84267159e+00  1.43641490e+00  2.02408613e+00\n",
      "  -1.27207014e+00  5.63595201e-01  4.27840830e-01  2.16954306e+00\n",
      "   2.11858179e-01  2.67197774e-01  6.05665695e-01  1.02823149e+00\n",
      "  -5.42060985e-01  8.17714453e-01  3.57468670e-01  8.81491383e-01\n",
      "   2.28840973e-01 -7.05182478e-01  9.04507650e-02  8.64018261e-01\n",
      "  -1.51585431e+00  5.88819736e-01  7.45073136e-01  5.56418606e-01\n",
      "   1.36455274e+00 -1.38542086e-01  8.99460680e-01 -6.93163142e-01\n",
      "   8.40421469e-01 -1.31106489e+00  2.31892245e-01  1.30927868e+00\n",
      "  -9.01938351e-01  2.96996744e-01 -2.88713539e-01  1.04758622e+00\n",
      "   1.50613059e+00  2.04530542e+00 -5.28837640e-02 -9.74343570e-01\n",
      "   3.75141700e-01  1.36278755e+00  2.70410018e+00  4.69939802e-01\n",
      "   3.14859790e-01 -7.05169173e-01  1.27124962e+00  2.73551836e-01\n",
      "   2.30824420e-01 -1.48573032e+00  3.11555422e+00 -5.87823539e-01\n",
      "  -1.21819286e+00 -2.33494203e-01 -1.02555284e+00 -1.06073247e+00\n",
      "  -1.56670615e+00  5.72000249e-01  8.23574804e-01  3.09946345e-01\n",
      "   1.57981383e-01 -1.10531825e+00  2.60425132e-02 -1.03782839e+00\n",
      "  -7.53156986e-01 -1.35430906e+00 -2.09860273e-02 -6.88365342e-01\n",
      "  -3.54059944e-01  1.15962085e+00 -5.18652990e-02  9.54392799e-01]\n",
      " [-1.01856770e+00  6.42041463e-01 -1.01334578e+00 -4.71831558e-01\n",
      "  -3.24402113e-01  7.02166503e-01 -1.25302962e-01 -8.81507272e-01\n",
      "   3.67822433e-01  2.69223079e-01  1.02925271e+00  1.35751701e+00\n",
      "   7.77809549e-02 -8.63791216e-01 -5.96597084e-01  2.10811791e+00\n",
      "  -3.14131661e-01 -2.21093533e+00  4.62044509e-01 -2.73189256e-01\n",
      "   1.35600951e+00  1.50542665e+00  5.99091905e-01  6.74555071e-01\n",
      "  -4.72650405e-01 -1.22180009e+00  5.28599852e-01  9.32485496e-01\n",
      "  -3.87500638e-01 -1.02651724e-02 -1.46626809e+00  9.85468659e-01\n",
      "   1.25242280e+00 -3.12761527e-01  8.05129911e-01  1.58196806e-01\n",
      "   2.73442141e-01  2.12029844e+00 -2.92579572e+00 -2.72960533e-01\n",
      "  -6.59485328e-02  3.01005671e-01  1.13829376e+00  1.11093539e+00\n",
      "   2.53658271e+00  3.34932221e-01  9.64476446e-01 -5.53686410e-01\n",
      "  -4.57179747e-02  1.05429318e+00 -1.72558921e+00  4.14476021e-01\n",
      "   1.15603786e+00  1.50151091e+00  4.39355481e-02 -1.52876949e+00\n",
      "  -2.85596892e-01 -1.24406338e+00  1.05807679e+00  1.98050337e+00\n",
      "  -4.47573792e-03 -7.09958708e-01 -2.88368268e-01 -7.99837674e-01\n",
      "  -3.96552703e-01  1.79157271e-01 -1.46951887e+00  6.34681323e-01\n",
      "  -3.52214097e-01  6.64805770e-02 -1.18358789e+00  1.35872399e+00\n",
      "  -1.31907625e+00  4.38054964e-01  3.16294927e-01  2.57144335e-01\n",
      "   1.30994550e+00  7.35914205e-01 -9.86620902e-01 -5.67860231e-01\n",
      "   2.18638853e-01 -6.34575205e-01  1.06176744e+00 -2.14844415e-01\n",
      "   8.08084939e-02 -5.91607397e-01 -1.23845347e+00 -2.38737496e-01\n",
      "  -6.39879546e-01 -6.89618058e-01  3.09194248e-01  4.61021971e-01\n",
      "   8.37545788e-01 -2.22230087e-01  1.67108540e+00  1.18639581e-02\n",
      "   6.65332803e-03 -9.06308006e-02  5.79606418e-01 -3.81460092e-01]\n",
      " [-4.55019814e-01 -1.72065357e-01 -1.50414222e+00 -4.28642331e-01\n",
      "   1.05753516e+00 -1.25846524e+00 -2.97069296e-01  7.11208875e-02\n",
      "   4.66854018e-01 -2.10835328e+00  1.30754822e-01 -1.74201196e+00\n",
      "   7.91510115e-01  5.67788726e-01  6.84776335e-01 -4.50489951e-01\n",
      "  -2.23161958e-01 -1.61426308e+00  6.12815513e-02 -1.02512368e+00\n",
      "   5.53968392e-01  1.41944718e+00  8.69219234e-01 -4.04110559e-01\n",
      "   1.93200786e-01  3.09069983e-01  3.18510551e-01  6.08416434e-01\n",
      "   2.11780363e-01  7.05055457e-01  2.82957278e-01 -1.13149234e+00\n",
      "   1.94613609e-01 -2.53605234e-01  8.27959709e-01 -3.29842808e-01\n",
      "   2.02836217e-01 -6.71724250e-01 -1.42863731e+00  8.01830609e-01\n",
      "  -2.94516374e-01  8.15634365e-01  5.94248591e-01 -1.07376233e+00\n",
      "   9.83862264e-01  9.23279378e-01  9.62960247e-02 -2.09686596e-01\n",
      "   1.41169763e+00  2.60841189e-01 -2.11317369e-01 -4.78690277e-01\n",
      "   9.30404131e-01 -4.30363834e-01  1.33569017e+00  2.69835726e-01\n",
      "  -2.74253822e-03 -1.82301591e+00  1.37365700e+00  2.48877184e-01\n",
      "   6.44357983e-01  6.47502181e-01 -1.07673049e+00  6.20489349e-01\n",
      "   5.54085718e-01  3.56515275e-01 -4.74848559e-01 -7.41264294e-01\n",
      "  -1.30674303e-03  5.01691309e-01  1.96920768e-01  6.04488671e-01\n",
      "  -7.35157719e-02  7.48358673e-01 -1.85444022e+00 -2.20998727e+00\n",
      "  -9.31513326e-01  6.46440078e-01 -1.09798771e+00  6.31321215e-01\n",
      "   3.64998315e-01 -4.54363188e-01  1.92972889e-01 -1.36764144e-01\n",
      "  -8.81181426e-01 -7.97140412e-01 -1.19935640e+00  1.45550932e+00\n",
      "   2.25471860e-01 -6.57569355e-02 -2.30082590e-01  4.58385112e-01\n",
      "  -4.67283012e-01  3.70016136e-01 -1.19911860e+00  1.16421313e+00\n",
      "   8.00832130e-01  7.61482635e-02 -2.27910826e-01  8.31887481e-01]\n",
      " [ 5.61726870e-02  4.99101385e-01  2.10575387e+00 -9.30253707e-01\n",
      "   5.95832339e-01  1.13855397e+00  5.52727862e-01  5.14695448e-01\n",
      "   2.33883187e+00 -2.34466878e+00  9.19144222e-01 -1.74584241e-01\n",
      "  -3.03551728e-01 -9.82318350e-01 -1.30808782e+00  2.38252494e+00\n",
      "  -8.59843356e-01  9.56433487e-01  2.68592171e-01  1.10477976e+00\n",
      "  -1.34745244e+00  7.10101096e-01  1.07257621e+00  5.21981834e-02\n",
      "  -1.74122847e-02 -5.47935844e-02 -1.52336750e+00 -3.10853071e-01\n",
      "  -1.08316861e+00  6.80829257e-01 -6.93575227e-01  1.32414003e+00\n",
      "   2.56309494e-01  7.94662146e-02  2.61556398e-01 -1.61888380e+00\n",
      "   2.46300046e-01 -1.24124290e+00  9.83574921e-01  2.38974336e+00\n",
      "   4.94400911e-01  8.71600246e-01 -8.17358002e-01  1.20890241e+00\n",
      "  -6.54582090e-01 -2.49098553e-01 -5.40209733e-01 -2.26253957e-01\n",
      "   1.70726406e+00  1.06344446e+00 -1.68253305e-01 -4.54425373e-01\n",
      "   7.37282707e-02  7.61202058e-01 -8.76631128e-01  2.66351507e-01\n",
      "  -6.54235283e-01 -5.68338761e-02  4.38748295e-01 -4.18891655e-01\n",
      "  -1.98256321e-01  5.43105683e-01  1.95466032e+00 -6.26419920e-01\n",
      "  -5.65843832e-01  2.66094213e-01  7.37719671e-01 -1.12893226e+00\n",
      "  -1.33730364e+00 -2.00319818e+00  5.73861987e-01 -5.38627880e-01\n",
      "   1.57211500e+00 -1.52421961e-01  1.55978579e+00 -7.52142110e-01\n",
      "   1.73660997e+00 -1.13667804e+00  3.52302130e-01  1.54341743e+00\n",
      "  -5.59805425e-01  6.55232936e-01 -3.64087407e-01 -1.00054834e+00\n",
      "  -2.83537256e-01 -3.85949347e-01 -6.65434724e-02 -2.12214841e-01\n",
      "   6.65411920e-01 -2.64324434e+00  6.29788140e-01 -1.24226630e+00\n",
      "   6.79746088e-01 -2.59283464e-01 -4.70794854e-01  2.66891142e-01\n",
      "   1.35841754e+00  1.12373317e+00  3.46669623e-01  3.73310281e-01]\n",
      " [ 1.73309304e+00  1.41945895e+00  6.29870769e-01  7.68173305e-01\n",
      "  -2.95753678e-01 -1.31161230e+00 -1.12052378e+00 -7.65276873e-01\n",
      "   1.60248944e+00 -3.49570139e-01  1.08784089e+00  5.72135123e-01\n",
      "   5.36492453e-01 -8.12074674e-01 -6.49857474e-01  3.84019418e-01\n",
      "  -1.11231452e-01  3.93375620e-01  8.33939565e-01 -1.53316901e+00\n",
      "   6.19668790e-01  8.40125057e-01  1.13312493e+00  9.13041259e-01\n",
      "   6.49451670e-01 -2.86610101e-01 -4.69900656e-01 -5.19798677e-01\n",
      "   3.53127063e-01 -5.28296142e-01 -7.51265227e-01  4.37165827e-01\n",
      "  -1.10988339e+00  3.14542543e-01 -6.61706756e-01 -8.51460348e-01\n",
      "  -3.69151175e-01 -1.22750289e+00  1.38206568e-01 -4.91794667e-01\n",
      "   2.56715874e-01  9.39217919e-01 -1.17527566e+00  5.02675844e-01\n",
      "  -3.87873611e-01 -4.13709077e-01  9.48209658e-01  6.47344831e-01\n",
      "  -2.63582122e-01  1.45621034e+00  9.55656606e-02 -4.16003005e-01\n",
      "   1.33306880e+00  5.81384270e-01 -1.17410271e+00 -2.08577072e+00\n",
      "  -2.91624854e-01  5.96771407e-01  1.90003068e+00  2.74587056e-01\n",
      "   1.00114130e+00  4.62411639e-01  1.11040105e+00 -5.13333475e-01\n",
      "  -5.43029291e-01  5.80906261e-01 -1.09622872e+00  6.53992751e-01\n",
      "  -9.09025591e-01  2.50063394e-01  9.96033649e-01 -2.61521705e+00\n",
      "  -2.28538608e-01 -1.04953527e+00  6.76163768e-01  1.48963030e+00\n",
      "   6.63366175e-01 -2.95264975e-01  1.04073388e+00 -3.26233896e-01\n",
      "   4.98505153e-01 -3.98333106e-02 -4.75193722e-01 -1.38246463e+00\n",
      "   1.25776805e-01 -7.64793916e-01 -6.82784770e-02 -4.66925000e-01\n",
      "   8.94071001e-01  1.35252329e+00 -1.03586187e+00 -5.46542891e-01\n",
      "  -6.14410967e-01  1.09507406e+00 -1.92430410e-01  9.04685170e-01\n",
      "  -1.00577912e+00  1.15096555e+00  1.27280346e+00 -1.76166615e+00]\n",
      " [ 5.08335830e-01 -1.73679110e+00  4.43812457e-01 -1.11277937e-01\n",
      "  -7.43343418e-01  7.73231719e-01  1.86091793e+00  1.73054158e+00\n",
      "   4.90693296e-01 -1.10788644e+00 -1.72279789e-01  2.05706541e+00\n",
      "  -1.11956047e+00 -9.89389174e-01  1.77419413e+00 -2.56132600e-01\n",
      "  -1.45539625e+00 -5.11868466e-01  7.08819756e-01  7.69237905e-01\n",
      "  -5.22493671e-02 -5.24576807e-01 -8.29885076e-01  2.06234814e+00\n",
      "  -2.93165307e+00 -2.36934935e-02  6.70552203e-01  1.81355600e+00\n",
      "   9.04533012e-02 -4.24670505e-01  2.26919555e+00 -7.83499877e-01\n",
      "  -6.66924953e-01  1.06771986e+00 -6.61597233e-01  5.82572366e-01\n",
      "  -5.65728565e-01  1.93744761e+00  1.92537388e-01  1.37745347e+00\n",
      "  -2.73779928e+00  1.53230103e+00  3.56638276e-01 -6.26021377e-01\n",
      "  -6.14313293e-01  7.17596211e-01 -5.03147054e-01 -1.15112990e+00\n",
      "   2.54135881e+00  2.40783305e-02 -8.28107978e-02 -1.26539936e+00\n",
      "  -1.74812770e+00  4.19894780e-01  1.70077968e+00 -1.48069076e+00\n",
      "  -8.60951410e-01 -8.14179847e-01  2.42198140e-01  5.67463956e-01\n",
      "   6.63756551e-01 -1.16339265e+00  2.36188820e+00  2.29611030e-01\n",
      "  -2.83499667e-01  2.27959972e-01  1.17942836e+00 -9.17800419e-01\n",
      "   1.61738215e-01  6.25744400e-01 -6.68248039e-01  1.40340467e-02\n",
      "   1.42194803e+00  5.33223460e-01  6.94719519e-01 -1.36802367e+00\n",
      "  -4.53862828e-01  4.26141158e-01  1.03104071e+00  1.18312002e-01\n",
      "   1.33029937e+00  7.84360521e-01  1.08237776e+00 -2.13245378e+00\n",
      "   1.67605482e+00 -1.29083245e+00 -3.38384379e-01 -1.24112578e+00\n",
      "  -6.21252808e-01 -5.46521534e-01 -1.09464608e+00 -6.21330444e-01\n",
      "   2.07574932e-01  2.56079116e-01 -1.98271339e-01  1.84630445e+00\n",
      "   7.61695797e-01 -2.43254168e-02 -3.75448043e-01 -3.81099345e-01]\n",
      " [ 3.43125318e-02  4.32401123e-01  3.36835810e-01  5.95063030e-01\n",
      "  -1.21307216e+00  1.70797333e+00  3.68235792e-01 -1.18000285e-01\n",
      "  -1.27962366e+00 -1.03584466e+00 -1.14795131e+00  2.64204251e+00\n",
      "   2.19959045e+00  6.90461116e-01 -8.78072809e-01 -1.04208356e+00\n",
      "   1.42688092e+00  8.43212653e-01 -2.98181141e-01 -2.97403971e-01\n",
      "   3.43924933e-01 -5.74259290e-01 -2.16804222e+00 -1.12482601e+00\n",
      "   6.22613972e-02 -5.92023731e-01 -7.17319086e-01  4.39298430e-01\n",
      "  -7.14185781e-01 -1.16995983e+00  7.23401963e-01 -5.27379968e-01\n",
      "   1.48524214e-01  1.34843325e-02  2.72216595e-01 -3.22881279e-01\n",
      "   1.57132622e-01  9.91800691e-01 -6.69839331e-01  5.05779329e-02\n",
      "  -3.02381697e-01 -8.24613541e-01  2.22272241e-01  2.54059965e-01\n",
      "   1.08200836e+00  3.24149271e-01 -5.17667111e-01 -8.46671631e-01\n",
      "  -7.24157049e-01  9.51973170e-01 -4.55543729e-01  1.61492795e-02\n",
      "   1.28679820e+00  2.60845275e-01  8.82500620e-01  3.65649937e-01\n",
      "   7.17353390e-01 -1.59572623e-01  3.29979622e-01 -2.19204827e-01\n",
      "  -1.68642257e+00  2.59749128e+00  7.85658682e-02  8.30744316e-01\n",
      "   3.54061558e-01 -1.54902788e+00 -6.21430974e-01 -8.25126986e-01\n",
      "  -9.69929585e-01  1.17620808e+00 -1.54195107e+00  9.32123144e-01\n",
      "   3.35690654e+00  6.74301145e-01 -8.38892613e-01  2.94556468e-01\n",
      "   5.98784521e-01 -4.09362111e-01  1.15408195e+00  1.16942474e-01\n",
      "  -1.62926420e-01  2.19989377e+00  1.76337630e+00 -1.95681763e+00\n",
      "  -1.59881862e-01  1.77112256e+00  9.21801467e-01 -2.86642316e-01\n",
      "  -3.98933210e-01 -1.53790488e-01 -2.36759445e-01  1.58698849e+00\n",
      "   4.32260696e-01 -5.29095792e-01 -2.23060075e-01 -2.58891691e-01\n",
      "   6.42833586e-01  7.50197670e-04 -1.09593765e+00  1.27496625e+00]\n",
      " [ 1.64153624e-01 -4.70600782e-01  1.32553753e-01 -5.71824166e-01\n",
      "  -7.87563321e-01  8.13405267e-01 -6.24167047e-01  9.44685884e-02\n",
      "   1.80426671e+00 -2.82291397e-01  1.27165552e-01  5.06482456e-01\n",
      "   1.69968735e+00  3.41232150e-01 -9.27473726e-01  6.70290846e-01\n",
      "   1.00777335e+00  7.77232440e-01  1.66809251e+00 -6.41722473e-01\n",
      "   2.28655467e-01  8.39095568e-01 -2.56645812e-01 -5.05094960e-01\n",
      "   1.10275313e+00 -6.64252068e-01 -4.47915648e-01 -1.79837061e-01\n",
      "   4.29775129e-02  9.58848454e-02  1.13104407e+00 -3.08492068e-01\n",
      "  -2.11897896e-01 -2.68632757e+00  1.35450799e+00 -9.50094713e-01\n",
      "  -3.96508260e-01  1.48989701e+00 -4.01011826e-01 -1.19166152e+00\n",
      "  -5.38263783e-01 -2.64774397e-01  1.50458869e+00  1.42374562e+00\n",
      "  -7.97158399e-01  3.65298939e-01 -9.53746837e-01 -3.01648199e-01\n",
      "  -1.01307570e+00 -1.16628994e+00 -4.25410070e-01  2.89031391e-01\n",
      "   1.31806436e-01  2.79800564e-01  1.62169581e+00 -2.62727003e+00\n",
      "  -4.92295663e-01 -6.96353328e-01  4.41568998e-01 -1.45008859e-01\n",
      "   2.28838010e-01  5.99306031e-01  7.00359228e-01  6.32236185e-01\n",
      "  -2.73320721e-01  9.44387498e-01 -9.47443334e-01  3.53893652e-01\n",
      "   1.31742598e+00 -1.05919786e+00  9.65912133e-01 -2.50290299e-01\n",
      "   1.10027348e-01 -9.88492727e-01 -1.90201208e+00 -6.54100548e-01\n",
      "  -7.41870629e-01 -4.89366594e-01  3.85326297e-01 -1.25347971e+00\n",
      "   3.16419771e-01 -4.15652828e-01  2.04686295e-01 -7.48959765e-01\n",
      "  -2.18292386e-01 -9.79592345e-01  7.08713472e-01  3.86581777e-01\n",
      "   1.76139677e-01 -1.82026468e-01  4.86111009e-01 -1.43073406e-02\n",
      "   3.03692076e-01 -1.42175418e+00 -1.54896839e-01  1.74448219e+00\n",
      "  -1.00339192e+00  3.32434811e-01 -6.64138695e-02  7.45699380e-02]\n",
      " [ 3.73594319e-01  3.68606359e-01 -1.44312984e+00 -1.91528487e+00\n",
      "   1.06498602e-01 -5.67493350e-01  5.06842059e-01  2.44617309e-01\n",
      "  -2.01419149e-02  3.89462346e-01  5.77868744e-01  2.15768258e+00\n",
      "  -6.72607911e-01  1.16754570e+00  1.29092528e+00 -3.18685387e-01\n",
      "   1.52118939e+00  9.03507168e-01 -3.08947473e-01  1.55074970e+00\n",
      "   1.13368796e+00 -8.90300446e-01  3.53025615e-01  8.49504243e-01\n",
      "  -1.77405675e-01  2.25246050e-02  1.21193195e+00  1.07080287e-01\n",
      "  -1.39909866e+00 -3.39680143e-01  1.00588878e+00 -1.17743910e-01\n",
      "  -1.09320606e+00 -9.44919630e-02  1.26620073e+00 -3.48155817e-01\n",
      "  -1.36488217e+00  1.19817821e+00 -1.55969398e+00  1.44112406e-01\n",
      "  -6.00699350e-01 -9.73536049e-01 -3.85323897e-01 -6.56503793e-01\n",
      "   2.21663581e+00 -1.99741484e-01  8.58276974e-01  8.99384890e-01\n",
      "  -1.24808447e+00 -9.24560798e-01  3.46452378e-01 -1.53100849e+00\n",
      "  -9.78180435e-01 -5.45690483e-01 -1.69363356e+00  1.37807307e+00\n",
      "   1.21261091e+00 -3.69891891e-01 -2.39334239e-02  7.56438360e-01\n",
      "  -1.02394166e+00  1.27895295e+00  5.61163491e-01  6.98770130e-01\n",
      "  -1.99219670e+00 -9.52730402e-01 -6.56356203e-01 -2.86049253e-01\n",
      "   2.49501519e-01 -1.89892901e+00 -7.04780650e-01 -6.05634214e-01\n",
      "   2.83159967e-01 -1.10399258e+00 -1.38019624e-01  5.52657613e-01\n",
      "   1.17073899e+00 -2.44699312e+00  5.81256556e-01 -7.86953468e-01\n",
      "  -1.33813020e+00  2.11898846e+00  7.26421573e-01 -1.14661045e+00\n",
      "   9.62978294e-01  1.81279079e+00  4.01549321e-01  9.89674644e-01\n",
      "   2.07088622e+00 -3.52848768e-01 -9.76038122e-02 -4.27881770e-01\n",
      "  -8.58194125e-02 -1.13500277e+00  2.78537991e-01  9.74980367e-01\n",
      "  -8.90721587e-01  5.96001284e-01 -1.21938358e+00 -2.78610788e-02]\n",
      " [-1.19519937e+00 -2.12085435e+00 -7.59939970e-03 -8.54934519e-01\n",
      "  -8.98366325e-01 -9.18192898e-01 -5.75920366e-01 -7.98914382e-01\n",
      "  -2.56436342e-02  1.40245965e+00 -6.86908048e-01  4.84252082e-01\n",
      "   9.80660141e-02 -4.21457787e-01  1.00399420e+00  1.04387709e+00\n",
      "  -9.40037289e-01 -1.86876469e+00  1.76719198e+00 -2.50077268e-01\n",
      "   2.83516138e+00  1.25667210e+00  8.13248977e-01  5.86273563e-01\n",
      "   9.41002701e-01 -3.28511804e-02  1.64968868e-01 -5.19461296e-01\n",
      "   2.87512333e-01 -6.60542048e-01  1.34666963e+00  2.50246836e-01\n",
      "  -4.05115277e-01  1.10250244e+00  2.56274657e-02  9.23736062e-01\n",
      "   2.97111670e-01 -5.50420682e-01 -5.70099756e-01  5.05192203e-01\n",
      "   6.51850839e-01 -4.46343301e-01 -9.31188842e-01  2.15625559e-01\n",
      "  -1.42502342e+00  1.08553941e+00  1.79176955e+00  2.24828399e+00\n",
      "  -4.81402816e-01 -1.42385665e+00 -2.12136212e-01  2.29517464e-01\n",
      "   6.45707180e-02 -3.00919593e-01  2.27078863e+00 -9.82840101e-01\n",
      "  -1.59605847e-01  1.86040601e+00 -2.56730043e-01  2.55249271e-01\n",
      "  -2.89841391e-01 -3.61853399e-01  1.26482494e+00 -5.33875483e-01\n",
      "  -8.93434076e-01  4.76779601e-01  1.44917032e-01  3.63487891e-01\n",
      "   1.02856405e+00 -9.35845518e-01 -4.15418855e-01  1.50372670e+00\n",
      "  -1.00338266e-01  4.84434096e-01  6.82726743e-01  1.97958330e+00\n",
      "  -1.33949119e-01  2.62287181e-01  6.50628277e-01  4.55431910e-02\n",
      "   5.64831235e-01  7.20722599e-02  1.75650229e+00  3.99059752e-01\n",
      "  -2.39682534e-01 -1.08377648e-01  2.33029744e-01 -1.05611776e+00\n",
      "   1.55436541e+00 -6.86162510e-01 -1.43799480e+00  8.15051840e-01\n",
      "   1.30388731e+00  3.09976480e-01  1.04302849e+00 -2.07105014e+00\n",
      "   1.03232745e+00 -8.32217571e-01  5.13544493e-01  1.65056237e+00]\n",
      " [ 9.99469784e-02 -1.10350440e+00  1.74309981e+00  1.73982967e+00\n",
      "  -9.79764696e-01  1.05919742e-01 -2.01431809e-01  1.61468951e+00\n",
      "   2.24202722e-01  1.06305688e+00  1.04333994e+00  1.30503843e+00\n",
      "   1.49489627e+00  6.05578373e-01  2.00998981e+00 -2.45807431e-01\n",
      "  -7.33310049e-01 -1.25761793e-01 -1.85249866e+00  2.08652398e+00\n",
      "  -1.79179307e+00 -2.52044201e-01 -1.40139270e+00  1.29940657e+00\n",
      "   4.46991231e-01  8.05416063e-01 -9.86553169e-01  1.07310526e+00\n",
      "  -1.17377070e+00 -1.96623013e+00  8.58766833e-01  8.23138648e-01\n",
      "  -2.71898984e+00  1.12527936e+00 -4.82907078e-01 -8.74547875e-01\n",
      "   7.04138267e-02  8.06441105e-01 -8.86039096e-01  2.05914089e-01\n",
      "  -3.42783293e-01 -1.81511982e+00  1.69418640e+00 -4.79712854e-01\n",
      "  -3.79474512e-01 -1.45584862e+00  1.23188337e+00 -5.17827366e-01\n",
      "   1.14301976e-01 -2.38630186e-02  4.00356097e-01 -1.76917687e+00\n",
      "  -1.15472817e+00  1.25637264e+00 -5.22036823e-01 -1.85633771e+00\n",
      "   7.64924042e-01  6.74054048e-01  1.38935653e-01 -7.94709464e-02\n",
      "   1.85507332e+00  1.55440810e+00 -8.82639755e-01 -3.55000802e-01\n",
      "   7.00311755e-01 -1.96943009e+00 -2.83260785e-01  9.98613184e-01\n",
      "  -6.90585131e-01  2.58478790e-02 -1.30779843e+00  1.33104084e+00\n",
      "   1.53303351e+00  5.31570466e-01  3.54489959e-01 -1.76787111e-01\n",
      "   1.67618695e-01 -3.38131192e-02  5.31794366e-02 -1.05084073e+00\n",
      "  -2.44641438e-01  6.34018331e-01 -5.94004717e-01 -1.37817243e+00\n",
      "  -5.92277535e-01  7.94757741e-01 -7.06500382e-02 -1.73145101e-02\n",
      "  -5.76640044e-02  9.32501288e-01 -8.41849424e-01 -3.04825590e-01\n",
      "   4.40095775e-01  1.13832916e+00 -1.48315214e+00 -2.18463171e+00\n",
      "   9.91382103e-01  7.96746765e-01 -4.60090814e-01  1.49355647e+00]\n",
      " [-1.37014363e+00 -6.04778006e-01  5.28867012e-01  5.28557924e-01\n",
      "  -1.92154016e-01 -3.94307601e-01  4.27461835e-01 -4.21478667e-01\n",
      "  -1.77976883e+00  6.01345258e-01  1.37953800e-01 -6.60431508e-01\n",
      "  -1.12815622e+00 -1.03991899e+00 -7.45416502e-01 -8.36086454e-01\n",
      "   1.38335980e-01 -8.59605892e-01 -1.39348745e+00  4.46806950e-01\n",
      "   1.96369135e-01  1.96563924e-01 -9.86317177e-01 -1.11334214e+00\n",
      "   1.92828335e+00 -9.09010940e-01  1.24123872e+00 -2.51392777e-01\n",
      "   7.18924610e-01 -2.98563975e-02 -1.54669337e+00 -1.38480790e-01\n",
      "   1.10641233e+00  4.81952383e-01 -4.17166683e-01 -8.13282278e-01\n",
      "  -6.51354526e-01 -9.12460913e-01  1.64689952e+00  4.79636922e-01\n",
      "  -3.94138006e-01 -1.26240893e+00 -1.54045053e+00 -1.30083776e+00\n",
      "   1.84194736e+00  3.97194919e-01  1.90207922e+00  9.89026851e-01\n",
      "   1.40275767e+00  1.25786197e+00 -3.11107707e-01  4.70035854e-01\n",
      "  -1.86608726e-01  7.87477904e-01  6.72983521e-01 -2.35487537e-02\n",
      "   2.13959949e+00  6.14896839e-01  2.15089139e-01  1.56069111e+00\n",
      "   6.66382359e-01 -1.09549064e+00 -9.67382011e-01 -1.45075806e+00\n",
      "   2.59775208e-01  1.03808458e+00  1.04149223e+00  1.01960251e+00\n",
      "  -4.79705819e-01 -2.90713369e-01  3.39241436e-01 -1.76892542e+00\n",
      "   1.54026732e+00 -9.54260950e-01 -1.00831866e-01  7.75242744e-01\n",
      "   1.45411843e-01 -1.46616498e+00 -1.23680272e+00  3.94795883e-01\n",
      "   1.33104259e+00 -7.90886882e-01  7.86887242e-01  1.04567594e+00\n",
      "  -5.06077101e-02 -1.42618388e-02 -1.85175075e+00  1.97283692e-01\n",
      "  -5.69700274e-01 -2.50045365e+00 -9.43015237e-01 -4.47360890e-01\n",
      "   7.86454128e-01  5.90882362e-01 -5.55623692e-01  5.06836633e-01\n",
      "   1.68290506e+00 -1.61345490e+00 -1.48828888e+00  8.20866417e-01]\n",
      " [ 1.04396292e+00 -1.13039224e+00  1.59395892e-01  5.29200691e-01\n",
      "   4.26427824e-02  7.19588546e-01 -8.71201622e-01  4.51608096e-01\n",
      "  -4.04166685e-02 -1.55701026e+00 -9.10314264e-01  1.43925875e+00\n",
      "   1.04279884e+00 -1.17037567e-01 -3.76839408e-01  1.63099302e-01\n",
      "   5.01496059e-01  5.97844977e-01  1.41199757e+00  5.32339768e-02\n",
      "  -9.73253765e-01 -1.48969375e-01  8.14432336e-01 -1.56505991e+00\n",
      "  -8.69609719e-01 -1.59563028e+00  2.09111132e+00 -2.26682213e+00\n",
      "  -1.88632139e-02 -9.64319788e-01  2.80856992e-01  2.20907819e+00\n",
      "   2.26821950e+00  3.59029565e-01  5.87621243e-01 -1.46206291e+00\n",
      "   1.57824765e+00  1.01807859e+00  1.99504018e+00 -6.40435830e-01\n",
      "  -1.72127457e+00  6.52999794e-01 -6.92037050e-01 -7.37408730e-01\n",
      "   1.68182260e+00  6.00284877e-02 -8.62717824e-01 -1.03478961e+00\n",
      "  -1.62030351e+00 -1.86033675e+00 -1.80430025e+00 -7.85548500e-01\n",
      "   8.43252472e-01 -1.75660315e+00 -4.33922479e-01  4.99645258e-01\n",
      "   4.32466108e-01  1.35930030e+00 -6.56624809e-02  2.09134159e-01\n",
      "  -6.01189129e-01  3.65183829e-01  1.12415166e+00  2.54139117e+00\n",
      "   9.09041963e-02 -5.28184429e-01  5.03062563e-01  9.29853377e-01\n",
      "  -5.42250231e-01  7.96536560e-02  7.12689337e-01  3.73099028e-01\n",
      "   1.90256591e+00 -1.44894092e+00  6.36701909e-01  9.44836466e-01\n",
      "   6.34907697e-01 -9.76208796e-02  1.63963273e-01  1.05428028e+00\n",
      "   1.34796945e+00  6.30873259e-01  2.15868058e-01  1.77134781e-01\n",
      "   5.65429871e-01  5.59820672e-02  2.13588427e+00  7.83804169e-02\n",
      "   6.16390123e-01 -4.73014739e-01 -8.15100033e-03  2.60174910e-01\n",
      "  -6.34280483e-01  3.16099362e-01  7.15426415e-01  4.22553032e-01\n",
      "  -7.70579415e-01  2.30554295e+00 -1.20446820e+00  1.03021895e+00]\n",
      " [ 6.13919550e-01  1.23576304e+00 -2.95395128e-01  7.08681263e-01\n",
      "  -8.90352629e-01  2.04061066e-01  4.22575653e-01 -5.64519526e-01\n",
      "   6.46658280e-02 -6.23905435e-01  1.15079625e-01 -6.34381432e-01\n",
      "  -6.70565322e-01  5.30280314e-02 -6.13631540e-01 -1.06211696e+00\n",
      "  -7.65635986e-01 -1.61989912e+00  3.05682139e-01 -5.53636376e-01\n",
      "   1.68099177e-02  4.61081690e-01 -8.69131743e-01  1.49982382e+00\n",
      "   2.89839478e-01  3.73714221e-01  3.23894033e-01 -1.07186884e+00\n",
      "  -2.44251271e-01 -9.91757802e-01 -6.47779856e-01 -1.19431528e+00\n",
      "  -1.78730854e+00  1.09085167e+00  2.64168257e+00  2.00720254e-01\n",
      "   5.83178743e-01 -1.59204150e+00 -3.38781128e-01 -1.38496576e+00\n",
      "  -9.10898094e-01 -1.83002473e+00  1.22276720e+00  7.20410224e-01\n",
      "  -4.88895748e-01  5.18803144e-01  4.84958158e-01 -1.29296732e+00\n",
      "  -3.65349311e-01 -1.38254206e+00  3.97066831e-01  3.36905884e-01\n",
      "   1.40343879e+00 -6.48018521e-02  1.45909809e+00  1.14510420e+00\n",
      "  -1.21940847e+00 -9.64056584e-01 -3.66249633e-01 -2.30044568e+00\n",
      "   8.52572139e-01  9.23704416e-01  1.40665453e+00  1.05598466e+00\n",
      "   1.70539475e+00  7.45733877e-01  1.03741753e+00  1.99803357e-01\n",
      "  -5.09976678e-01  5.79653614e-01 -2.49928053e-01  2.21519245e+00\n",
      "   6.08351789e-01  7.48892064e-01 -1.30884651e+00  2.30022215e+00\n",
      "   9.53851252e-02 -1.35300473e+00 -4.84527941e-01  1.21116248e+00\n",
      "  -1.73496371e+00 -1.81468897e-01 -9.16884431e-01  1.31376097e+00\n",
      "  -1.05688340e-01  5.31088767e-01  9.72674679e-01  7.99087256e-01\n",
      "  -1.10080110e+00 -1.05327528e+00  1.27691963e-01  1.18814199e+00\n",
      "   1.50351590e+00 -4.52079488e-01  2.57775893e-02  5.04307992e-01\n",
      "  -6.21750797e-01 -6.72534717e-02 -5.08656674e-01  1.31957935e+00]\n",
      " [-2.71995053e+00  1.24805625e-01  4.47169145e-01  3.06446617e-01\n",
      "   4.21506956e-01  5.47402718e-01 -1.00295842e+00  1.53324918e+00\n",
      "   6.56060082e-01 -1.07610814e+00  9.26501323e-01 -3.13683834e-01\n",
      "  -8.51262630e-01 -1.34996026e-01 -7.19186587e-01  1.49235557e+00\n",
      "   6.31213331e-01 -1.32699342e+00 -1.10339025e+00  4.70048840e-01\n",
      "   1.12292925e+00  2.10703593e-01  7.38843946e-01  9.06242267e-01\n",
      "   1.16955836e+00  1.20109605e-01 -5.15948905e-01 -4.59961095e-01\n",
      "  -6.30970240e-01 -1.31948754e-02  1.15135588e+00  8.76602845e-01\n",
      "   7.19490463e-01  1.48689467e+00 -5.82245739e-01 -5.32909716e-01\n",
      "  -6.55543239e-01 -1.43878911e+00  1.11674640e+00 -3.30844585e-01\n",
      "  -6.25499682e-02 -5.21735078e-01  1.35818659e-01 -1.33958711e+00\n",
      "  -3.86957429e-01 -1.83907939e-01 -2.03980331e-01  2.74027217e-01\n",
      "   1.56099318e+00 -1.48328609e-01 -2.85615721e-01  1.24982576e-01\n",
      "   1.35906947e+00 -5.52151610e-01 -6.71113676e-02  4.21052718e-01\n",
      "  -4.21688201e-01 -1.40602475e+00  2.88527569e-02  1.15549239e+00\n",
      "   8.31274694e-01  3.86983931e-01 -8.92995231e-01 -1.82850261e-01\n",
      "   5.32984519e-01  1.20931474e+00 -8.49445456e-01  5.02435602e-01\n",
      "   5.39604737e-01  1.31695896e+00 -1.67453682e+00  4.87860779e-01\n",
      "  -9.34223924e-01  2.88261190e-02  3.41184651e-01 -5.35525093e-01\n",
      "   1.74574412e+00  6.96848685e-01  6.68487387e-01 -1.23141413e-01\n",
      "  -8.99134307e-01 -1.91070517e-01  2.43664965e-01  2.66999125e-01\n",
      "  -6.64323484e-01  1.45045970e-01  5.01082312e-01 -1.02925589e+00\n",
      "  -4.16037854e-01  2.50568158e-01 -2.66287534e+00 -6.96111047e-01\n",
      "   6.20429917e-01 -1.62575715e+00  1.77837193e+00  2.46116294e+00\n",
      "   3.31494825e-01 -5.68791120e-01  6.90051772e-01 -1.09109754e-03]\n",
      " [ 2.14494982e+00 -1.45128603e+00 -2.80938527e-01 -4.53093489e-01\n",
      "  -5.06235453e-01 -8.98470482e-02  7.32021914e-01  1.76041313e+00\n",
      "   4.55623560e-01  8.65670751e-01 -6.37646577e-01 -7.20609113e-01\n",
      "  -4.63999873e-02  5.56628639e-01  4.02858303e-01  3.62843286e-01\n",
      "  -1.76994427e-01  1.22006332e+00 -1.13178825e+00 -1.23337289e+00\n",
      "   6.71619571e-01  1.75214520e+00  3.11526002e-01  6.59372966e-01\n",
      "   3.00734318e-01 -1.80056742e-01  1.28396469e+00  3.84689212e-01\n",
      "  -2.23233484e+00  1.74600437e+00  2.19578846e-01  2.14757161e-01\n",
      "   1.77863538e-01  8.12860611e-01  1.82570290e-01  1.48102150e+00\n",
      "  -5.72541750e-01  1.19725987e+00 -4.01929841e-01  1.15399350e+00\n",
      "   8.48444777e-01  3.74509222e-02  9.72612820e-01  3.76372193e-01\n",
      "  -2.64436179e+00 -1.17319804e+00 -2.32301943e-01  2.56325387e+00\n",
      "  -5.17570690e-01  1.19724306e-01  6.06835446e-01  3.65928783e-01\n",
      "   7.18935402e-01  4.19631725e-01 -7.15218309e-01  6.87479545e-01\n",
      "  -3.93067069e-01  1.63568076e+00  7.10043784e-02 -9.92996846e-01\n",
      "   2.42872151e-01 -2.17445156e-01  2.44325721e-01 -1.38774229e+00\n",
      "  -1.33248624e+00  9.57474844e-01 -6.91661039e-01 -1.05077218e+00\n",
      "  -6.55371892e-01 -7.61791112e-01 -9.47380098e-01 -2.15882336e-01\n",
      "   4.34663598e-01  7.19449349e-01  1.94617534e+00 -1.24432356e+00\n",
      "   8.22637452e-01  3.04736217e-01 -2.27592430e+00 -1.49030774e-01\n",
      "  -1.07079927e+00  1.85931425e+00 -6.77308323e-01 -4.10709486e-01\n",
      "   9.68668423e-01  9.37156301e-01 -1.53480646e+00 -1.99628175e-01\n",
      "  -8.08862334e-01  6.09656356e-01  3.24533815e-01  1.20856614e+00\n",
      "   3.63366994e-01 -1.06557421e+00  3.50565047e-01  1.67722962e+00\n",
      "   9.61033544e-01 -2.51374309e+00 -2.10169711e-01  2.70416514e+00]\n",
      " [-1.17100194e+00  3.87122684e-01 -9.18760416e-01 -9.11386018e-01\n",
      "  -2.09157790e+00 -9.31982487e-01  1.96685696e-01  3.67745783e-01\n",
      "   1.08194873e+00  1.34668783e+00 -2.91195304e-01 -2.15946489e+00\n",
      "  -5.34892209e-02 -9.79988526e-01 -9.93136174e-01 -9.61424777e-01\n",
      "  -5.67191990e-01  9.84808196e-01 -6.94855250e-01  3.62810552e-01\n",
      "  -4.70273966e-01  4.03431051e-01  1.82330703e+00 -2.11831399e-01\n",
      "   2.76293823e-01  1.42094514e+00  3.67477657e-01  6.53069198e-01\n",
      "   9.95037113e-01 -2.17743993e-01 -1.76359618e-01  9.34700574e-01\n",
      "   6.87680519e-01  2.94461396e-01  1.14777236e+00 -5.27304395e-01\n",
      "   8.49656383e-01  2.13332308e-01 -6.55075003e-01  1.70033400e+00\n",
      "  -6.26031748e-01 -2.89001587e-01  1.35542872e+00  9.05835912e-02\n",
      "   1.47263413e+00 -6.90964820e-01 -6.80492642e-01  1.71077294e+00\n",
      "  -1.66968707e+00  3.09630290e-01  3.43516549e-01 -1.07293028e+00\n",
      "   1.87470060e+00  1.02004901e+00  1.58285473e+00 -1.33667289e+00\n",
      "  -3.78450651e-01 -7.20511324e-01 -4.29224086e-01 -4.02455966e-01\n",
      "  -4.67682112e-01  1.69394144e+00 -6.97891464e-02 -1.01012924e+00\n",
      "  -3.60325998e-01  1.71845935e+00  3.48058810e-01  2.36021309e+00\n",
      "   9.34120159e-01 -5.75768106e-02  4.94295486e-01 -3.94981833e-02\n",
      "  -6.14381255e-01 -8.46172128e-02  8.19781368e-02 -1.42903190e+00\n",
      "   4.49408822e-02  4.84644087e-01 -2.95041671e-01 -2.60543748e-01\n",
      "  -2.00689972e-01  2.10256008e+00 -1.01296332e+00 -7.67716235e-01\n",
      "  -7.56075744e-01 -9.84452766e-01 -6.59095525e-01  2.38056413e-01\n",
      "   3.41348962e-01  3.59819887e-02  8.00568650e-01 -1.24083173e+00\n",
      "  -4.44448306e-01  2.03846796e-01 -6.54157326e-02 -7.42373872e-01\n",
      "   1.02595372e+00  7.09558870e-03  1.82758302e+00 -1.33493048e+00]\n",
      " [-2.25365676e+00  8.77499488e-01  1.14426712e+00 -9.71845992e-01\n",
      "  -1.29614200e+00  1.69666873e-01 -1.20347392e+00  1.77420172e-01\n",
      "  -1.37192456e+00 -2.15158809e-02  1.06863366e+00 -3.91107721e-01\n",
      "   7.52229253e-01 -1.56052896e+00  1.08999721e+00 -7.66058564e-01\n",
      "   2.83098800e-01  1.15309583e+00 -2.29405019e-01 -6.50710356e-01\n",
      "   5.92207910e-01 -3.92115946e-01 -1.06492382e-01  9.97731338e-01\n",
      "   2.37320569e+00 -2.63365518e-01  9.11069449e-01  1.93973173e+00\n",
      "   2.05310780e+00 -2.05423191e+00  1.19877128e-01 -1.48694587e+00\n",
      "   6.27212625e-01  1.51309350e+00 -2.28650245e-01 -1.51331544e+00\n",
      "   1.20394856e+00 -1.22583256e+00 -1.11175080e-01 -1.49733134e+00\n",
      "   1.20587588e+00 -7.56754656e-01  9.83821058e-02  5.71064855e-02\n",
      "   2.45449354e+00 -4.82545147e-01 -9.42761598e-01  8.86070071e-01\n",
      "   1.75650137e-01  8.00160289e-02  1.05609256e+00 -5.09760785e-01\n",
      "  -6.89003813e-01 -1.10199126e+00  2.26780486e+00  1.06246019e+00\n",
      "   1.05953707e+00  1.03541190e+00 -2.25267790e-02 -8.93180506e-01\n",
      "  -1.30480306e-01  5.01488296e-01  2.49735084e+00 -7.73244549e-01\n",
      "  -5.83867238e-01 -8.96395642e-02  9.97280271e-01  5.99980373e-01\n",
      "  -8.23359907e-01 -6.51571640e-01  9.21373997e-01 -1.30571348e+00\n",
      "  -2.05367622e+00 -1.29903771e+00  7.28543704e-01  1.44570159e+00\n",
      "  -2.67355880e+00 -7.19877808e-01 -1.25742683e+00  9.11649312e-01\n",
      "  -8.28250753e-01  3.68943763e-01 -4.70229267e-01 -9.45739940e-01\n",
      "   3.93037809e-01  7.78427286e-02  4.74485051e-02  2.10954045e-01\n",
      "   5.11770854e-02 -3.06364388e-01 -1.54964110e-01  4.21533725e-01\n",
      "   5.61279374e-01  6.64168509e-01  1.14713265e+00  5.63027876e-01\n",
      "  -3.62578756e-01 -2.35620273e+00  2.25695502e+00  8.04728427e-01]\n",
      " [ 4.87248641e-01 -7.42150142e-01 -2.18091467e-01 -3.60338627e-01\n",
      "   1.07179348e+00  4.21141399e-01 -4.12581849e-01  6.91911959e-01\n",
      "  -1.31043272e-01  1.25910484e+00  1.50912689e+00  1.13078376e+00\n",
      "  -9.82648036e-02 -1.61976945e-03 -7.16630959e-01 -5.65346028e-01\n",
      "   1.55994218e+00 -8.39478600e-01 -1.88831825e-01 -2.91007664e+00\n",
      "   2.33073315e+00 -5.37431478e-01 -1.24485342e+00 -4.05983643e-01\n",
      "   1.32987442e+00  5.61279668e-01  1.05086683e-01  3.06669512e-01\n",
      "   8.34888944e-01 -3.82400304e-01 -4.81452390e-01 -2.71899288e-02\n",
      "  -3.93725884e-02 -2.10661199e-01 -8.24562486e-01  1.56685188e+00\n",
      "   8.62980171e-01  2.71595017e+00  3.89382078e-01  3.40466522e-01\n",
      "   5.83248211e-01  1.46029246e-01 -2.25925046e+00  2.62558612e+00\n",
      "  -4.63501264e-01  1.63724954e+00 -3.31294322e-01 -1.31837799e+00\n",
      "   3.32583892e+00  3.39534213e-01  2.03783621e-01 -5.22099873e-01\n",
      "   1.03550048e+00 -3.59558381e-01  1.39736125e+00 -1.84902777e-01\n",
      "  -1.24517106e-01  5.83807120e-01 -1.50863868e-01 -4.52894704e-01\n",
      "  -1.24159493e+00  3.00276833e+00  1.06164847e+00 -5.88516410e-01\n",
      "   6.72904149e-01 -1.02901402e-01 -1.85996615e-01  6.91911712e-01\n",
      "  -2.90461424e-01  2.13308990e+00 -2.28554245e+00 -1.72107214e-01\n",
      "   1.11014706e+00 -4.29238617e-01  3.93962339e-01 -1.92325924e+00\n",
      "  -9.79386343e-01 -1.36667208e+00  1.16069869e+00  1.89378156e+00\n",
      "  -7.91765488e-01 -6.20490816e-01 -1.51597583e-01 -7.74567357e-01\n",
      "   7.61601300e-01  1.10531580e-01 -1.79525476e+00 -1.52410153e-01\n",
      "  -6.04554168e-02 -2.44342742e+00  1.22325796e-01 -8.01490299e-01\n",
      "   8.53086895e-01 -1.49156650e+00  1.05910347e+00  9.61774209e-01\n",
      "   1.43225735e+00 -5.03327191e-01  7.03209561e-01  6.52807102e-02]\n",
      " [-5.25320622e-01  2.02616046e-01  1.09811592e+00  5.82723674e-01\n",
      "  -6.48726644e-01  7.51117539e-01  1.60946470e+00 -8.03062999e-02\n",
      "  -6.86860100e-01 -1.50780046e-02 -2.03285400e+00  5.71397954e-01\n",
      "  -1.58929677e+00  1.70383028e-01 -2.93812881e-01 -1.14353465e+00\n",
      "   7.81085234e-01  1.73189556e-01 -8.30977640e-01 -5.29298524e-01\n",
      "   4.36268286e-03  9.97003653e-01  9.96330767e-01 -2.49015413e+00\n",
      "   6.01702298e-01 -2.19930855e-01  2.92448932e-01  1.90425836e-01\n",
      "   1.15595576e+00  6.48720675e-01 -2.44491367e-01 -1.39117384e+00\n",
      "  -1.00011044e+00 -2.25181207e+00  4.62522979e-01  4.83723000e-01\n",
      "   8.13064309e-01  9.01693295e-01  1.59033168e+00 -3.69175333e-02\n",
      "   2.40820786e+00 -2.16337169e-01 -4.30365642e-01 -4.77118312e-01\n",
      "   1.19261935e+00  1.48557407e-01 -1.19748289e+00  2.87362801e-01\n",
      "   1.07537439e+00 -1.12956344e+00  7.04679238e-01 -4.21898590e-01\n",
      "   2.06310415e+00 -3.36511388e-01  1.35045926e+00  2.03689210e-01\n",
      "  -1.78161754e+00 -6.54651170e-01 -4.38614316e-01 -1.76004674e-01\n",
      "  -1.05315375e-01  3.28001972e-01  1.95069548e+00 -1.39674694e+00\n",
      "  -6.77814943e-01 -9.30492139e-01 -2.90111478e-01  7.41363016e-02\n",
      "   6.79730186e-01  9.99870174e-01  4.36585264e-01  1.27151449e+00\n",
      "   7.20610216e-01 -6.51629448e-01 -1.23491906e+00 -3.02441193e-01\n",
      "   6.73337855e-01 -7.77559814e-01 -9.92248147e-01  3.40470044e-01\n",
      "  -4.66585434e-01  1.71730541e+00 -8.74711826e-01  1.40470256e+00\n",
      "   5.28768609e-01 -8.35712500e-01  1.05655487e+00 -6.89314435e-01\n",
      "   7.77357154e-01  1.19167048e+00 -3.20725325e-01  3.90167345e-01\n",
      "  -1.66091050e+00  5.69670099e-01  2.06609947e+00  2.59460417e-01\n",
      "  -2.77797748e-01  9.36215295e-01 -1.18854136e+00 -7.88561498e-01]\n",
      " [ 1.08707510e+00 -2.69673826e+00 -1.21095779e+00  9.40429193e-01\n",
      "  -1.08394499e+00  1.30300263e+00  6.80592949e-01  1.05499482e+00\n",
      "   1.03415521e+00  1.36782925e+00 -5.82892874e-01 -1.44762747e+00\n",
      "  -1.35995507e-01 -1.38218078e+00  8.56948262e-01 -1.05337834e+00\n",
      "  -6.14974731e-01  5.65926909e-01  1.35923762e+00  9.42729457e-01\n",
      "   1.07838893e-01 -1.96397018e-01 -5.11366782e-01  3.34951547e-01\n",
      "   3.24946971e-01 -3.56797718e-01  7.70475949e-01  6.17998155e-02\n",
      "  -7.91325108e-01 -6.06310298e-02  1.08984484e-01 -1.20334550e+00\n",
      "   1.57102908e+00  1.15495347e+00 -1.09018614e+00  3.92942308e-01\n",
      "   9.95688682e-01  3.87371426e-01  9.53087236e-02 -8.60231180e-01\n",
      "   6.04591652e-01  1.90426695e-01  9.33851861e-01  1.01978577e+00\n",
      "  -1.74556573e+00  1.88881585e+00  1.20985602e-01 -8.38464989e-02\n",
      "  -3.37116080e-01  1.50655329e-01  1.19202886e+00 -4.68514318e-01\n",
      "  -4.03594956e-01 -6.70684467e-01  8.58531186e-01 -8.70247204e-01\n",
      "   2.78353579e-02 -2.48392150e-01 -1.33610427e+00  7.85697301e-01\n",
      "   1.81479988e+00  9.27039108e-01 -4.72423771e-01  3.61378604e-01\n",
      "   7.97265453e-01  1.19350202e+00  4.44254411e-01  8.75258984e-01\n",
      "  -1.09199117e+00  1.86854055e+00 -4.46988706e-01  7.66085012e-01\n",
      "  -1.93589081e+00 -4.85217624e-02 -2.13240776e-01 -2.03663901e-01\n",
      "  -8.10934367e-02 -9.97608877e-01  6.55431366e-02  1.66233411e+00\n",
      "  -8.30263227e-01  2.10101031e+00 -5.50116105e-01  1.49932082e+00\n",
      "  -5.03077945e-01  1.80328174e+00  2.84995737e-01  7.51358107e-02\n",
      "   1.65878330e+00  6.39035829e-02  1.25496060e+00 -2.52187982e-01\n",
      "   2.10518203e+00 -6.50375729e-01  1.54231797e+00  8.98096317e-01\n",
      "  -9.63290220e-01  5.20372624e-01 -1.82798242e-01 -1.04542797e+00]\n",
      " [ 9.44757608e-01  1.26153325e+00  5.37697863e-01 -8.16281246e-01\n",
      "   4.29210434e-01  6.34587916e-01  1.02328808e-02  1.55902527e+00\n",
      "   5.48943087e-01  1.56795228e+00 -3.19217726e+00  7.51814698e-01\n",
      "   3.01884474e-01  1.01660386e+00  3.40804047e-01 -5.82118219e-01\n",
      "  -3.36352269e-02 -1.43596730e+00  1.33294180e+00 -1.75769221e-01\n",
      "   4.22846692e-01  2.08169252e-01 -7.92009265e-01 -8.44769601e-01\n",
      "  -2.21652792e-01  1.06471631e+00  1.06307359e+00  1.60762532e+00\n",
      "  -1.15454824e-01 -1.38870847e+00 -6.36654800e-01 -3.19759317e-01\n",
      "  -1.70103337e-01  1.86579623e-01 -8.93147376e-01 -4.14878768e-01\n",
      "  -1.16666916e+00 -6.51911770e-01  1.67451898e+00  2.22182966e-01\n",
      "   7.89987731e-01 -4.71457785e-01 -2.25552178e-01  1.22460799e+00\n",
      "   2.48467131e-01 -1.75488088e-01 -7.14748853e-01 -2.35970893e-01\n",
      "  -2.02352174e-01 -5.82540796e-01 -4.09053511e-01  6.02512286e-01\n",
      "   2.42613212e-01  2.21696927e+00 -8.47406992e-02  1.09680900e+00\n",
      "  -3.99390829e-01 -6.12278154e-01 -1.66845709e-01  6.57862887e-01\n",
      "   1.44536762e+00  2.27987123e+00 -2.84564339e-02 -6.52113299e-01\n",
      "   1.29511169e+00  4.38990879e-01  8.80546547e-01 -5.40879708e-01\n",
      "   6.25136906e-01 -2.84389481e-01  9.91451660e-01  8.07288288e-01\n",
      "   8.07198196e-01 -9.77245696e-01 -4.25795048e-02 -1.73641214e-02\n",
      "   5.11950220e-01  4.32342148e-01 -3.08932876e-01  1.84458088e+00\n",
      "   4.73805490e-01  1.85898928e-01  5.23511093e-01 -1.91739579e-01\n",
      "  -1.59371410e+00 -1.41460823e+00 -7.44317400e-01 -9.35871914e-01\n",
      "  -2.55204010e+00  1.98249257e+00  1.16037792e+00  2.65553789e+00\n",
      "   9.01268850e-01  3.81815570e-01  4.59095488e-02  8.08844103e-01\n",
      "   5.12384023e-01  2.22266567e-01 -2.16828794e-01 -3.07822888e-01]\n",
      " [ 3.60868578e-02  1.30183708e+00  6.45176312e-01 -4.23613474e-01\n",
      "  -2.65991754e-01  5.38232866e-01  1.65179093e+00 -3.93841090e-01\n",
      "   1.57543013e-01 -8.10445669e-01  8.05410069e-01  7.98862497e-01\n",
      "   4.88366336e-01 -1.78618853e+00 -6.53404944e-01 -7.12254203e-02\n",
      "   2.72212875e-01  3.06641192e-01 -7.14722133e-01 -1.39505505e+00\n",
      "   6.90618521e-01  1.00155838e+00 -4.68003269e-01 -1.12380323e+00\n",
      "   4.93873718e-01  7.69087265e-02  6.19019975e-01  1.68665898e+00\n",
      "  -1.36002662e+00 -4.69602888e-01 -2.61269248e-01  9.72528641e-01\n",
      "  -7.56766769e-01  3.03241306e-01  2.31106191e-01  6.90298763e-01\n",
      "   4.98882009e-01  6.53531356e-02  3.46538825e-01  1.01404002e+00\n",
      "  -1.00410486e+00  7.92733994e-01 -1.53974948e-01  1.16255487e+00\n",
      "   1.20446826e+00  7.61331491e-01  1.06091058e+00  5.62631413e-01\n",
      "   8.88991302e-01  2.90643871e-01 -3.94716471e-01 -2.06847390e+00\n",
      "   4.48200124e-01 -1.56125342e+00  5.94137953e-01  3.52208571e-01\n",
      "   4.43133681e-01 -1.30769837e-01  2.11661606e-01  6.50597506e-01\n",
      "   1.06505851e-01  1.88472512e+00 -1.31737635e+00  1.14544665e+00\n",
      "   3.00985405e-01 -1.47413223e+00 -3.41077379e-01  5.13659620e-01\n",
      "  -1.34352387e-01  9.06159424e-01 -1.85769283e+00  2.23919241e-01\n",
      "   9.06990243e-02  2.64368199e-01 -1.43017874e-01 -2.74538435e+00\n",
      "  -4.49474907e-01 -1.15004578e+00 -2.38814564e-01 -1.85401526e+00\n",
      "   1.91838325e-01  5.52221628e-01  1.78616417e-01  1.97162305e+00\n",
      "   5.49361147e-01 -9.79860774e-01  1.22862304e+00  3.52371580e-01\n",
      "   1.04496054e+00  1.55352561e+00 -1.10303883e+00  2.89247378e-01\n",
      "  -2.13303065e+00  1.91996273e-01 -1.15633223e+00 -1.45319766e+00\n",
      "   9.10259470e-01 -2.89796016e-01 -2.10581580e+00  1.78869714e+00]\n",
      " [ 1.82970267e+00 -6.86291898e-01 -4.21945408e-02 -2.20234662e+00\n",
      "  -1.96486873e+00  1.32932014e+00  2.04241318e-01  1.03760438e+00\n",
      "  -7.91570249e-01  1.27572661e+00  4.07624913e-01  6.80534088e-01\n",
      "   4.38916573e-01  5.72684194e-01  1.72955926e+00 -8.77931173e-01\n",
      "  -9.78788119e-01 -3.94268259e-02 -1.13469139e+00 -1.10465790e+00\n",
      "  -1.14299351e+00 -6.06834376e-01  1.52372580e+00 -1.06946761e-01\n",
      "   1.25948451e+00 -1.28314152e+00  5.51878046e-01 -1.33681027e+00\n",
      "  -9.09607553e-01  1.21284219e+00 -2.78715926e-01 -8.78272004e-01\n",
      "   8.84055215e-02 -3.19651229e-01  6.40574807e-01  8.79971373e-01\n",
      "  -7.69435766e-01  1.64034643e+00 -4.06116552e-01 -4.20528980e-01\n",
      "   2.80737250e-01  1.13670163e-01 -5.78845595e-02  7.10655887e-01\n",
      "   1.01641381e+00  1.46728852e+00  1.22301505e+00 -3.73768746e-02\n",
      "   7.92657799e-03 -5.33622770e-01 -5.07739593e-02  7.86536788e-01\n",
      "   1.40115016e-01 -7.08711623e-01 -7.95642722e-01  9.28752228e-01\n",
      "   1.14866707e+00 -1.07969461e+00  1.09185695e-01  1.11004947e+00\n",
      "   5.08819953e-02 -2.70125247e-01  1.96130733e+00 -1.24318386e+00\n",
      "  -3.17194413e-01  1.98145965e-01 -2.67618071e+00 -1.52082775e+00\n",
      "   1.39776672e+00 -2.86143300e-01 -1.03297398e+00 -1.48438053e+00\n",
      "  -6.34333452e-01  5.05174239e-01  2.47744014e-01  6.74399091e-02\n",
      "  -4.32466503e-01 -4.48414033e-01 -1.24631221e+00 -2.00276312e+00\n",
      "   1.19891140e+00  8.24930269e-01 -5.03085278e-01 -1.16578967e+00\n",
      "  -9.14113359e-02  5.78188957e-01 -6.84721603e-01  8.25683124e-01\n",
      "  -4.85276076e-01 -7.88803826e-01  3.33612036e-01  2.12457394e-01\n",
      "  -1.43584567e+00  9.73605441e-01 -5.96477115e-01  1.81033681e+00\n",
      "   1.07978028e+00  1.83973755e+00  1.11864976e+00  1.31895243e+00]\n",
      " [ 2.69687591e+00 -7.58966566e-01 -2.89131198e+00  1.11235700e+00\n",
      "   7.02477221e-01  7.16127652e-02  1.60995690e+00  6.12618705e-02\n",
      "   2.82606321e-01 -1.53631929e+00  1.73644823e+00  9.11215034e-01\n",
      "  -6.20875063e-01 -8.67257573e-01 -1.58353374e+00 -8.21851756e-01\n",
      "   9.37369369e-01 -1.76985655e+00 -1.55694072e+00 -7.80491166e-01\n",
      "  -3.67669250e-01 -1.23922923e+00 -6.02995047e-01 -5.64472233e-01\n",
      "   1.46792188e+00 -1.61605864e-01  3.28201746e-01  8.02957602e-01\n",
      "  -4.20492732e-01  1.17382692e+00  4.73091423e-01 -1.11905447e+00\n",
      "  -1.74947914e-01  1.45371856e+00 -1.18544416e+00 -7.07918728e-01\n",
      "  -9.78301106e-01 -2.23012027e-01 -1.45278979e+00  1.60538352e+00\n",
      "   1.25395634e-01  2.73407961e-02 -8.55478469e-01  3.58285294e-01\n",
      "  -9.81363216e-01  4.42165477e-01  3.11434380e-02 -1.94669806e+00\n",
      "  -7.81872580e-01 -1.46433615e+00 -1.40184616e+00 -1.21353231e+00\n",
      "   3.08703739e-01  4.33864792e-01  5.69486443e-01  7.28567735e-01\n",
      "   3.89097393e-01 -9.69786832e-03  5.27970396e-01  1.85477210e+00\n",
      "  -3.44960508e-01  1.25514197e+00 -6.59820237e-01 -1.55189796e-01\n",
      "   1.16264059e-01 -2.50581936e+00 -2.06641764e-01 -4.81243506e-01\n",
      "  -5.34940238e-01  6.15733923e-01 -8.68969124e-02 -1.94539323e-01\n",
      "   9.60063801e-01  2.12773804e-01  5.77211213e-01  1.19378215e+00\n",
      "   1.96796221e+00  6.96215318e-01 -1.65623903e+00 -4.69040169e-01\n",
      "  -5.20309518e-01 -6.43588919e-02  1.22757217e+00 -1.66988494e+00\n",
      "  -4.65797736e-01  3.06706727e-01 -9.20737829e-01  7.99689107e-01\n",
      "   4.13745793e-01 -8.91274536e-01  5.87012364e-01  4.59555650e-02\n",
      "  -1.93048063e+00  7.60626027e-01  5.77346259e-01  5.34947534e-01\n",
      "   1.06878044e+00 -1.14071923e+00  8.57573424e-01 -6.29823211e-01]\n",
      " [-1.91009331e+00 -1.84181307e+00 -1.04858189e+00  7.59594674e-01\n",
      "   1.01769757e+00  4.25843063e-02  1.21216296e+00  3.89072952e-01\n",
      "   1.04749890e+00 -1.38068011e+00  1.21711206e+00 -2.54413177e+00\n",
      "   6.63246149e-01  2.74606403e+00  1.13870434e-01 -4.84275622e-01\n",
      "   1.01844249e+00  7.74536592e-01  8.71500339e-01 -4.70930268e-01\n",
      "   2.52352608e-01 -8.67995970e-01  1.36472581e+00  1.25522798e+00\n",
      "  -1.62993714e+00  1.21047529e+00  1.27244152e+00 -4.47799066e-01\n",
      "   6.85638823e-01  3.12766412e-01 -1.01222213e-01 -1.25509333e+00\n",
      "   1.76475245e+00  6.27339557e-02 -4.19909401e-02  6.02702273e-01\n",
      "   1.36925586e+00  5.65776260e-01  1.21643019e-01  9.13750497e-01\n",
      "  -1.53522939e+00 -2.99076951e-01 -8.13526450e-01  1.43968425e+00\n",
      "   4.95740350e-01 -6.29555799e-01 -6.84736547e-01 -3.21855581e-01\n",
      "  -1.27726313e-01  1.14058418e-01 -1.09818803e+00 -1.12092711e+00\n",
      "  -1.14909157e+00 -1.03171469e+00 -1.27001593e+00  8.78423308e-01\n",
      "   2.14718340e+00 -1.64869137e-01  2.72464921e+00  3.60737326e-01\n",
      "  -6.40102335e-01 -3.41499589e-01  9.93488600e-01  8.22315574e-02\n",
      "   6.22969783e-01 -4.67443546e-01  1.93218900e+00  1.07827975e+00\n",
      "  -9.93058751e-01  1.47805967e+00 -1.07727697e-01 -2.89239682e+00\n",
      "  -7.01223757e-01  2.40675784e-01 -2.27453288e+00  1.70246384e+00\n",
      "  -7.14682249e-01 -4.19568241e-01  1.58442879e+00  1.81943457e+00\n",
      "   1.44161628e+00  4.74049374e-01 -3.61504677e-01 -2.85079097e-01\n",
      "   3.33361677e-01 -3.45707685e-01  4.35483617e-01  1.90312886e+00\n",
      "  -5.73826721e-01 -3.85153027e-01 -5.01574642e-01  2.42500972e-01\n",
      "   8.97015054e-02 -5.15492550e-01 -1.01045696e+00 -7.18245603e-01\n",
      "  -8.25828364e-02  2.10022359e-02 -1.59938014e-02  4.80690966e-01]\n",
      " [ 4.29648881e-01  1.88454331e-01 -3.51138292e-01  5.90081966e-01\n",
      "   2.53046904e-01  6.84991987e-01 -6.62124458e-01 -6.65419045e-01\n",
      "  -4.13977563e-01 -9.25021036e-01 -1.26377463e+00 -1.17304398e+00\n",
      "   1.84545311e+00 -1.06662998e+00 -1.89796562e+00  1.30556441e+00\n",
      "   8.67015339e-01 -8.88219563e-01  2.18489404e+00  3.10626271e-01\n",
      "   5.92671731e-03  1.35507743e-01 -2.80935165e-01 -6.25758993e-02\n",
      "   3.72436065e-01 -8.37317018e-01 -1.57262080e+00  6.36281203e-01\n",
      "  -1.93357076e+00 -5.63069060e-01  2.31252977e-01  1.51923360e+00\n",
      "   1.61590925e+00  1.86451656e-01  3.15165259e-01 -8.05334941e-01\n",
      "   1.05579312e+00 -2.63697824e-01 -1.37196011e+00  5.85323995e-01\n",
      "   1.69137957e+00  2.42020976e-02 -2.76931084e-02  1.31759459e+00\n",
      "   4.55468947e-01  1.13750062e+00 -9.08069685e-01  1.26720844e+00\n",
      "   2.04718343e+00  1.62667249e+00 -1.26323115e+00 -6.57878197e-01\n",
      "   4.69242651e-01 -1.10350748e+00  2.18935941e+00 -6.00552174e-01\n",
      "  -5.10709277e-01  5.23075992e-01  3.39396206e-01 -1.18730358e-01\n",
      "   6.19747083e-01 -1.54592531e+00 -1.03864402e+00 -5.04806217e-01\n",
      "  -9.98122324e-01 -1.71126668e+00 -8.92678991e-01  1.77465487e+00\n",
      "   4.05957519e-01  8.32289537e-01 -1.61335568e-01 -7.11767469e-01\n",
      "   7.10003368e-01 -5.28734656e-01 -8.23141181e-01  4.24355642e-01\n",
      "   3.65929976e-01 -1.01003949e+00 -1.95956047e+00 -1.66684553e-01\n",
      "  -7.42840226e-01 -9.34812839e-01 -1.63373123e+00  2.69195526e-02\n",
      "   6.89983530e-01 -1.62003800e-01  7.67616462e-01  1.98698059e-01\n",
      "  -9.09645312e-01  1.19523449e+00 -7.90180866e-01  1.75453409e+00\n",
      "   1.38412630e+00  9.98882693e-01 -9.05989747e-01 -1.03124304e+00\n",
      "  -1.37458143e+00 -1.23733402e+00 -6.19998573e-01  2.00376305e-01]\n",
      " [ 5.22920197e-01 -1.24533000e+00  1.55564863e+00 -1.08342207e+00\n",
      "  -8.76132209e-01 -2.09961215e-01 -1.53061344e+00  1.44879777e+00\n",
      "   2.21241966e-01 -1.43730029e+00  1.89076457e-02  7.74871979e-01\n",
      "   2.74915818e-01 -4.30851763e-01  2.81909104e+00  8.21539720e-01\n",
      "  -4.48825174e-01 -7.99925940e-01  8.14069731e-01  7.11771101e-01\n",
      "  -8.98442930e-01  2.12382257e-01 -2.40115030e-01 -6.32335435e-01\n",
      "   3.92307552e-01  1.09167441e+00 -2.71211164e-01 -3.21046407e+00\n",
      "  -1.03523822e+00  2.14194327e+00 -7.97007424e-01  1.03295828e-01\n",
      "  -4.18388550e-01 -8.65785483e-01 -1.12756702e+00 -1.40198106e+00\n",
      "  -4.31141227e-01  1.47086994e+00 -9.35309963e-01 -1.45764327e+00\n",
      "  -1.64461310e+00  9.83413683e-01 -7.89713744e-01  5.93195707e-01\n",
      "  -4.29423694e-01 -5.96816645e-02  6.95116131e-01  4.67363629e-01\n",
      "  -1.89077809e-02 -1.01730784e+00 -3.05231844e+00  1.10103559e-01\n",
      "  -3.60655651e-01  1.23925433e+00 -6.82983162e-01  1.68254209e+00\n",
      "  -7.77693352e-01 -5.09480644e-01 -1.19955027e+00  1.02577528e+00\n",
      "  -2.07071668e+00  1.00186776e+00 -3.27716770e-01  1.32645450e+00\n",
      "  -7.07314461e-01 -8.27301816e-01 -2.10109452e-01  2.61916966e-01\n",
      "  -4.73085606e-01  7.46975604e-01  1.21005568e+00 -8.25705332e-01\n",
      "  -5.60331728e-01 -4.27288561e-02  1.06001391e+00  2.34772027e-01\n",
      "  -2.11683309e+00 -1.20157802e+00  2.74558953e-01  7.30875455e-01\n",
      "   1.20061447e+00 -1.20038709e+00  1.14750976e+00  7.12124036e-01\n",
      "  -2.95356350e-01 -4.10271342e-01 -1.11661561e+00  2.41929630e-01\n",
      "   6.27025761e-01  2.99463482e-01 -2.00374185e-01  4.24491420e-01\n",
      "  -2.91420098e-01  4.70400273e-02 -4.84327353e-01  7.84844476e-01\n",
      "  -3.47941442e-01  1.09665625e+00 -7.70610506e-01 -3.30846587e-01]\n",
      " [ 8.73739051e-01 -1.52149837e+00 -3.76423787e-01  6.54089240e-01\n",
      "  -1.07966026e+00 -2.28796471e+00  6.02382909e-01  1.06358625e+00\n",
      "   2.01218836e-01 -7.12222418e-01 -7.08237554e-01  9.94420734e-02\n",
      "   2.09713256e+00  1.54913723e+00 -5.35531058e-02 -8.53566071e-01\n",
      "  -5.96509914e-01  4.36396527e-01  8.33124936e-01  8.97188166e-01\n",
      "   6.60551146e-01 -3.22922610e-01 -7.26437950e-01 -6.44959340e-01\n",
      "  -4.74895229e-01 -1.17418872e+00  8.91274815e-01 -7.82185149e-01\n",
      "  -1.45560769e-01 -1.33918564e+00 -9.80498628e-01 -1.02039707e-01\n",
      "   1.11762697e+00 -1.13627411e+00  1.00549007e+00 -4.07409324e-01\n",
      "  -4.46620042e-02 -8.07285593e-01 -4.43349654e-02 -7.88533804e-01\n",
      "  -8.76135274e-01 -1.55595432e+00  5.03961587e-01  5.71490475e-02\n",
      "   1.70110489e-01  8.35873079e-01 -5.26960081e-01 -7.50200895e-01\n",
      "   6.89402912e-01 -2.94225926e-01  2.68129877e-01  2.64785639e-01\n",
      "   6.57042733e-01  1.15286242e+00 -4.96278758e-01 -2.13333592e-01\n",
      "  -1.56189975e+00  6.56469045e-01 -1.16784216e+00 -1.02838389e+00\n",
      "   9.82666317e-01 -1.55871755e+00  4.04567625e-01  2.08345177e+00\n",
      "  -1.13193067e+00 -1.05656698e+00  1.59677766e-01 -3.65699180e-01\n",
      "   9.92383120e-01  9.83188987e-01  5.12272974e-01 -2.71589983e-01\n",
      "  -3.49645217e-01 -7.54780432e-01  1.32190229e+00 -7.71838380e-01\n",
      "   3.50015851e-01  1.65469545e+00 -4.69327225e-01  1.92574498e+00\n",
      "   7.91649130e-01  2.51799190e-01  1.21336808e+00 -1.42453082e+00\n",
      "   6.99434131e-02  6.62253076e-01 -1.53811381e-01 -1.31343087e+00\n",
      "   4.54791352e-01 -1.25335033e+00  5.43447855e-01  1.67307453e+00\n",
      "   9.10605161e-01  3.85963618e-01 -6.27037927e-01  8.34123803e-01\n",
      "   5.87596136e-01  1.15562494e+00 -7.12975763e-01 -1.33657405e+00]\n",
      " [ 5.62137911e-01 -3.69200842e-01  3.38610819e-01  1.48521421e+00\n",
      "  -1.22573784e+00  6.24446244e-01  2.19573873e-01 -3.37119079e-01\n",
      "   3.62219649e-01  9.61812234e-01 -7.40621047e-01  4.56405356e-01\n",
      "   7.26486454e-02  4.12111407e-01  1.20919106e+00 -8.02887020e-01\n",
      "  -7.38031619e-01 -2.46703393e-01  6.30585504e-01 -6.65725433e-01\n",
      "   3.24950876e-01 -2.78596939e-01 -1.88050999e-01  7.59740576e-01\n",
      "   3.12996916e-01 -9.26736673e-01 -7.96531000e-01 -2.86817838e-01\n",
      "   3.23153304e-01  9.31767466e-01  2.17712407e-01  8.18004697e-01\n",
      "  -7.85298543e-01  7.70304003e-01 -1.41642375e+00  1.14695521e+00\n",
      "   1.20214279e+00  2.91583750e-01  1.25190569e+00  1.02847818e+00\n",
      "   5.55280088e-02  2.99350773e-01 -4.87440906e-01  9.92239950e-01\n",
      "   1.12250681e-01 -1.14510573e-01 -6.81174242e-01 -1.45563737e+00\n",
      "  -4.35844910e-02  2.76618345e-01  3.54695962e-01  9.19997802e-01\n",
      "  -1.06262983e-01 -1.75134378e-01  1.27186929e+00  3.09208131e-01\n",
      "   2.46434483e+00  1.70770323e-01  6.68791926e-01 -5.48960430e-01\n",
      "  -9.57948451e-01  7.35331626e-01  2.62829775e-01 -7.70528022e-02\n",
      "  -1.12338501e-01 -7.76772723e-01 -3.83738159e-01  1.47096832e+00\n",
      "  -5.48386748e-01  5.17008802e-02  6.42892001e-01  6.79975318e-02\n",
      "   2.53374613e+00 -7.19030996e-01  6.45785109e-01  2.17986473e-01\n",
      "  -1.12313502e+00 -7.61558631e-02 -1.46225747e+00  4.27691678e-01\n",
      "  -1.97284542e-01 -7.62722159e-01 -6.10270249e-01 -1.35629071e+00\n",
      "  -5.21954610e-01  8.59494596e-01 -1.58455172e+00 -9.83997402e-01\n",
      "   1.32878183e+00  1.18752019e-01 -2.24519944e-01  1.26927173e+00\n",
      "  -7.72015942e-01  6.57468532e-01  1.82382537e+00  1.27368632e-01\n",
      "   1.97166993e+00 -9.46074210e-01  4.27020625e-02  3.09472453e-01]\n",
      " [-6.39969755e-01 -9.83478498e-01 -1.24485225e+00 -4.30650755e-01\n",
      "  -1.31395958e+00 -3.12414822e-01  2.47029541e-01  1.68091985e+00\n",
      "   1.74497696e+00 -9.60487451e-01  1.46073019e+00 -1.69066873e+00\n",
      "   5.80449613e-01 -1.13734108e+00  8.61812536e-02 -2.39526196e+00\n",
      "  -4.91468764e-01 -9.26177348e-01  3.49468621e-01 -3.70039535e-01\n",
      "   1.20714433e+00 -1.18511870e+00  8.63705180e-02  4.89614284e-01\n",
      "  -1.65518493e+00 -1.72433738e-02  1.45433526e+00  4.34289133e-01\n",
      "   8.56111547e-01  2.20265366e+00  1.44258327e+00  1.53077711e+00\n",
      "   3.63739105e-01 -1.05283210e-01  4.24091726e-02  1.26581701e-01\n",
      "   1.40375995e+00 -4.44950068e-02 -2.57284241e-01 -8.04162955e-01\n",
      "  -1.49825943e+00  9.17164480e-01  1.36588501e+00 -1.11070429e+00\n",
      "  -3.13255346e-02 -5.17018426e-01 -1.19582413e+00 -1.44390686e+00\n",
      "   1.71212019e+00  1.84737485e+00 -5.03569520e-01 -2.02157151e+00\n",
      "  -1.86554643e+00 -7.62468622e-01 -9.53715572e-01  3.04382360e-01\n",
      "   3.43193255e-01 -3.83019165e-01 -1.32691340e+00 -7.26782876e-01\n",
      "   1.35212112e-01  1.09062045e+00 -2.28761451e-01  4.54144172e-02\n",
      "   8.23812794e-01 -1.18865020e+00 -3.32134545e-01 -1.02962859e+00\n",
      "  -2.67090786e-01  7.15784628e-01 -2.23823392e-01 -1.89674391e+00\n",
      "  -1.71361085e-01  2.03592327e-01 -1.04680200e-01 -2.92155194e-01\n",
      "   7.42697863e-01  7.05953708e-01 -8.47715172e-01 -2.53101353e+00\n",
      "   2.16298802e+00 -1.17059919e-01  1.10946643e+00  1.55766837e+00\n",
      "   4.95848930e-01 -3.99475602e-01 -7.56988861e-01 -1.23971328e+00\n",
      "   1.27993165e-03  1.66464007e+00  1.02974700e+00 -3.25188274e-02\n",
      "   9.06822720e-01 -1.69808078e+00  6.66149027e-01  2.41195828e-01\n",
      "  -2.71697679e-01 -3.34268137e-01  2.71033170e-01  7.71863064e-01]\n",
      " [ 3.61874382e-01  3.45634367e-01  6.06864294e-01  1.19398592e+00\n",
      "   7.86596508e-01 -1.93456437e+00  9.99944807e-01 -1.12114919e+00\n",
      "   9.11284458e-01  1.06469696e+00 -2.78490581e-01 -1.62142317e+00\n",
      "  -7.18646222e-01  1.26860778e+00  6.16955826e-01  3.09012708e-01\n",
      "   8.10993998e-01 -4.32172747e-02 -5.28720970e-01 -1.26363783e+00\n",
      "   2.68734775e+00 -4.34899850e-01  2.19227833e+00 -9.37511075e-01\n",
      "  -1.01400007e+00 -2.48724992e-01  6.53142164e-01  8.56338450e-01\n",
      "   1.39945535e+00 -1.65581706e+00  9.54527979e-02  1.69348840e-01\n",
      "  -4.56884456e-02  1.14556567e+00  5.22039707e-02 -4.79584322e-01\n",
      "  -2.21491887e-01 -1.02846748e+00 -1.40873867e+00  6.91156679e-02\n",
      "  -1.56370576e-01 -5.42501212e-01  1.43853713e+00  8.64694078e-03\n",
      "   1.30695733e+00  5.03154599e-01 -6.80273567e-02 -8.49283015e-01\n",
      "   5.38737792e-01 -1.22337587e+00  9.58539814e-01  5.97250929e-01\n",
      "  -3.98528866e-02  6.27641085e-01  9.68493731e-01  1.70392544e+00\n",
      "   9.64717267e-01 -4.04434842e-01  1.22035029e+00 -9.39349272e-02\n",
      "   1.14664654e+00  1.05972206e+00 -3.54844712e-02  2.56683522e-02\n",
      "  -8.79234907e-01 -1.77772058e+00 -1.52286200e+00 -2.21797418e-01\n",
      "   8.87418445e-01 -2.37568248e-01 -2.07577970e-01  9.28644518e-01\n",
      "  -1.16040884e+00  6.42616290e-01  1.31805767e+00 -6.46063709e-01\n",
      "  -6.67362650e-01 -4.91420391e-01 -6.61799157e-01 -5.64677568e-01\n",
      "  -5.81750591e-01  3.71771560e-01  1.76573820e-01  2.19876921e-01\n",
      "  -5.18279365e-01  2.83505765e-01 -2.40185910e+00  1.70013503e+00\n",
      "   1.27513319e-01 -6.23752986e-02  6.93369762e-01 -5.09573929e-01\n",
      "   9.65027324e-02 -6.83582407e-01 -1.00538714e+00  1.51249877e+00\n",
      "  -7.33543021e-01  5.93478300e-01 -2.91580172e-01  1.27481570e+00]\n",
      " [-6.33586595e-01  5.36282793e-01  1.40129457e+00 -7.00109896e-01\n",
      "  -1.92754479e-01  5.24405946e-02  4.99054007e-01  3.86682902e-01\n",
      "   1.16695067e+00  1.01371043e+00  3.26955996e-01 -4.33409401e-02\n",
      "  -5.67954737e-01  5.47326702e-01  1.59243963e+00  1.16861621e+00\n",
      "   1.45943981e-01  3.40389962e-01  4.70923065e-01  1.22664307e+00\n",
      "   5.88987045e-01  9.24946832e-01  8.50567118e-01  1.21289502e+00\n",
      "   4.71770991e-01  1.01559832e+00 -1.44576769e+00 -2.40651095e-01\n",
      "   2.51851671e-01  1.50181905e+00  1.29493037e+00 -9.08990375e-01\n",
      "  -8.29904100e-01 -1.21391854e+00 -2.94594829e+00  1.38907276e-01\n",
      "   8.08870900e-01  8.07934749e-02 -5.97338740e-01 -1.39232036e+00\n",
      "   1.13766852e+00  2.16948666e+00 -5.03926583e-01  1.71552981e+00\n",
      "   1.00911504e+00 -1.68506106e+00 -2.67849250e+00 -4.42474827e-01\n",
      "  -5.42921287e-01  5.38945049e-01  1.28124310e-01  1.05142791e+00\n",
      "   3.43262150e-01 -5.86406798e-01 -9.43849153e-01  4.68211240e-01\n",
      "  -1.97547410e+00  1.37128263e+00 -6.42371304e-01  9.47560640e-01\n",
      "   1.25317047e+00 -1.21071538e+00  1.29476675e+00 -9.80887633e-01\n",
      "  -2.33843140e-01  6.31187390e-01  4.80337890e-01  1.44340688e-01\n",
      "   8.78662519e-01 -2.17685507e+00  1.28600789e+00  1.44437182e+00\n",
      "   4.39325520e-01 -1.95727761e+00 -1.87395663e+00 -1.20474177e+00\n",
      "   1.16772967e+00 -2.55347484e-01 -5.12519338e-01 -5.48700645e-01\n",
      "  -6.27433574e-01  1.25733473e+00  1.19462729e-01 -2.27909939e-01\n",
      "   2.77224870e-01  1.82757273e-01  9.50342662e-01  4.52598626e-01\n",
      "   1.97682216e+00  2.23539559e+00  3.40771129e-01  1.33589261e+00\n",
      "  -1.16842992e+00 -4.56724542e-01  4.92468172e-01 -1.19067150e+00\n",
      "  -5.79744436e-01 -5.24692592e-01  1.90799466e+00 -5.26902216e-01]\n",
      " [-1.49566981e+00  9.85037275e-01  1.05941709e+00  1.40446263e+00\n",
      "   7.19759346e-01  3.53290040e-01  4.66434068e-01 -1.68150135e+00\n",
      "  -1.14404214e+00 -3.45347013e-01  4.04517521e-01 -1.15427355e+00\n",
      "  -1.82023979e-01  1.66022486e+00 -3.62250574e-01  7.32035919e-01\n",
      "  -6.10874163e-01  4.78115567e-02 -1.58111750e-01 -1.10118807e-01\n",
      "  -5.08008471e-02  1.71308546e-01  9.02111674e-01  9.68436117e-01\n",
      "  -7.44765113e-01 -4.47480234e-01 -3.02021644e-01  5.28609205e-01\n",
      "   1.10333794e-02  2.16296209e-01  8.52495677e-01 -1.57537406e+00\n",
      "  -1.39667326e+00 -1.03588556e-01 -1.73253163e-02 -3.70550473e-01\n",
      "   6.77282979e-01 -2.33328267e-01  3.63957476e-01 -6.75378205e-01\n",
      "  -5.54840625e-01  2.59067472e-01 -1.46137795e+00 -1.33669520e+00\n",
      "   1.28279475e-01  1.84258634e+00  2.49326283e-01 -4.56241984e-01\n",
      "  -1.10695298e+00  9.95978419e-01  1.21498487e+00 -2.00055262e+00\n",
      "  -8.01032706e-01  4.41610731e-01  2.51154003e-02 -2.85249786e-01\n",
      "   1.28817208e+00 -3.28172285e-01 -4.17168416e-01  1.32254135e+00\n",
      "  -8.45328654e-01  3.75131741e-01  1.07868949e+00 -1.21248043e-01\n",
      "  -7.38613323e-01 -5.73973757e-01  3.82485626e-01 -1.59211186e-01\n",
      "  -1.52583699e+00  5.09712835e-01 -5.59409407e-01 -9.57717698e-01\n",
      "  -1.10204999e+00  1.19180028e+00 -1.43970756e+00 -6.86703662e-01\n",
      "   5.22552534e-01  2.03177065e+00 -1.03117561e+00 -3.60344222e+00\n",
      "  -4.35419621e-01  7.73378207e-01  7.76397414e-01  5.53461468e-02\n",
      "   2.91076171e-01 -2.13727326e+00  1.35195656e+00  1.43404215e+00\n",
      "   3.57217334e-01 -1.65076317e+00  1.63663468e-02  2.04794074e+00\n",
      "   7.77546271e-01 -7.28455800e-01  3.36004351e-01  1.15120515e+00\n",
      "  -4.58215280e-01  8.86009594e-01  7.52243535e-01  3.46516038e-01]\n",
      " [-6.93392838e-01 -5.76514548e-01  3.38434493e-01 -6.32946542e-01\n",
      "  -9.73659195e-01 -7.30251249e-01 -7.82763650e-03 -2.17919573e+00\n",
      "   7.64107140e-02  6.41459156e-01 -1.46179929e+00  9.77840492e-02\n",
      "   1.02859183e+00 -1.18036957e+00  7.55209716e-01 -7.33366730e-01\n",
      "   7.80744724e-02 -6.14943131e-01  1.16583320e-01 -1.97427349e+00\n",
      "   1.61315278e-01  3.82862834e-01  7.50091749e-01  1.45564474e+00\n",
      "   1.68207719e+00 -2.99813703e-02 -5.59794161e-01  1.17539009e-01\n",
      "   1.35111746e+00  1.11555514e+00 -9.03601620e-01 -7.60038495e-01\n",
      "  -3.67848882e-01  3.73830309e-01  1.77359976e+00 -6.28552966e-01\n",
      "  -2.25607001e+00  8.40357363e-01 -1.96173999e-01 -2.18245267e-01\n",
      "  -1.17280248e-01 -1.32594551e+00  1.70298017e+00  7.87703691e-02\n",
      "  -1.29667982e+00 -5.44746152e-01 -1.73133508e-01  9.06589928e-01\n",
      "  -2.69884118e+00  1.86357084e+00  9.44362016e-02  1.41833007e-01\n",
      "   4.99931447e-01  5.31798612e-01  1.63162293e+00 -1.31493163e+00\n",
      "   5.27157621e-01  4.64806489e-01 -1.01885709e+00  6.47052771e-01\n",
      "  -2.81430934e-01 -1.73318825e-01  9.17724271e-01  1.93855147e+00\n",
      "  -2.79477630e-01  6.14492333e-01  8.59612874e-01 -9.98555294e-01\n",
      "  -1.03173320e+00 -7.23670077e-01 -5.36973403e-01 -2.43799400e-02\n",
      "  -1.84217556e-03 -1.34893753e+00  5.17684481e-01  1.03181383e-01\n",
      "  -4.26054755e-01 -1.86204692e-01 -7.22191251e-01 -4.39351361e-01\n",
      "   1.94756149e+00 -1.19597665e+00  2.19917939e-01 -3.29234246e-02\n",
      "  -5.98133146e-01 -1.83119957e+00 -4.76820837e-01 -7.56069099e-01\n",
      "   4.04668549e-01  1.20815960e+00  3.48730924e-01 -7.83988600e-01\n",
      "  -2.30196729e-01 -1.38615474e+00 -7.47316102e-01  1.58771974e+00\n",
      "   4.76972587e-01  1.00954834e+00 -5.74898799e-01 -1.39087455e+00]\n",
      " [-4.12977810e-01  6.34561697e-01 -1.03768694e+00 -9.12451041e-01\n",
      "   4.48947718e-01  2.78957391e+00 -6.35477065e-01  5.05368989e-01\n",
      "   8.67443757e-01  9.18192671e-03 -6.13680073e-01 -2.32580861e-01\n",
      "  -2.01620813e+00  3.55515033e-01 -1.26608838e+00 -2.50160653e+00\n",
      "  -7.82210631e-02 -3.94884745e-01  1.65510732e+00  2.03953319e+00\n",
      "  -5.05780687e-01  3.29609447e-01 -5.73193919e-01  1.17774251e+00\n",
      "   1.85681451e-01 -8.11637606e-01  3.24088350e-02  4.06010402e-02\n",
      "  -9.98288261e-01 -5.20801269e-01  8.03932959e-01 -1.01302619e+00\n",
      "  -7.51810464e-02 -2.23775386e+00  6.33962333e-01 -7.08996547e-01\n",
      "   2.00646295e-01  1.57230982e-01  1.93416520e+00  1.81591968e+00\n",
      "  -1.43861497e+00 -1.15771865e-01 -3.69835090e-02  5.76707888e-01\n",
      "  -1.83526962e-01 -4.03048989e-01 -8.48364958e-01 -1.76201580e+00\n",
      "  -9.44134275e-01 -6.84376039e-01  7.62125777e-01  1.17056431e+00\n",
      "   1.51057310e+00 -4.86949174e-01 -1.04345087e+00  1.60421854e+00\n",
      "   7.05525898e-01 -8.63126853e-01 -9.85923029e-02  1.30936385e+00\n",
      "   1.42108055e+00 -6.90902490e-01  1.12442779e+00 -2.11778079e-01\n",
      "  -3.15263884e-01 -2.85048938e-01 -1.21826859e+00  3.25963296e+00\n",
      "   1.10095587e+00 -5.53598131e-02 -1.55098474e+00 -1.11375292e-01\n",
      "  -2.79358878e-02 -9.06131653e-02 -6.03120672e-01 -1.13246166e+00\n",
      "   4.13975884e-01  3.73805179e-02  3.50499593e-01 -9.70948708e-01\n",
      "  -4.50947961e-02  5.55491244e-01 -3.53659297e-01 -1.53186181e+00\n",
      "   8.45952775e-01  4.38827124e-01 -2.04636626e+00  7.23458345e-01\n",
      "  -3.47021426e-02  2.58583505e-01  9.62362307e-01  1.79343889e-01\n",
      "   7.53820811e-01  1.75984041e+00  4.52415408e-01 -1.26589215e+00\n",
      "  -1.27462444e+00  1.00364854e+00 -3.76322757e-01 -8.65504681e-01]\n",
      " [-6.43456262e-01  8.26837497e-01  5.30493487e-02  1.61999001e+00\n",
      "   1.13179818e+00  2.87818487e-01  1.44020698e+00 -7.03399974e-01\n",
      "   1.81404816e+00 -1.75279995e+00  5.35805633e-01 -1.04763864e+00\n",
      "   1.07337101e+00 -8.32455456e-01 -5.07834731e-01  2.14453001e+00\n",
      "  -3.91864237e-01  2.37313097e-01  5.76533244e-01  8.62132505e-01\n",
      "  -3.94649548e-01  2.77507966e-01  1.77535980e+00 -7.59412837e-01\n",
      "   1.17155714e-01  6.26735748e-01  9.69382461e-02 -1.33125403e+00\n",
      "   2.36658699e-01  8.91182785e-02 -1.12997026e+00  1.11361509e+00\n",
      "   6.24299198e-01  4.13509380e-01 -1.74825548e+00  6.47050341e-01\n",
      "  -3.53729592e-01  4.69399549e-01  1.92109233e+00  1.55997245e+00\n",
      "   1.22872097e+00  1.28903066e-01  5.55300179e-01  9.83478650e-01\n",
      "   1.79251309e+00  1.59100715e-01 -4.84954619e-01 -2.95090557e-01\n",
      "   9.63015211e-02  2.69218581e-01 -3.21962459e-01 -9.78444442e-01\n",
      "  -2.69812846e-01 -1.26076193e+00 -8.18384649e-01  6.40735280e-01\n",
      "  -4.04889284e-01  3.59626629e-01 -2.78525378e-01 -2.36833463e-01\n",
      "  -3.78308733e-01 -1.46174430e+00 -5.86284737e-01 -1.34100467e-01\n",
      "   2.63673281e-01  1.95671771e+00 -4.17543234e-01 -2.37006354e-01\n",
      "   4.86771742e-01  7.12079995e-01 -1.13898750e+00 -2.16722123e-01\n",
      "  -5.63265951e-01 -2.14609476e+00 -3.02045015e-01 -2.13168567e+00\n",
      "  -7.86238865e-01  1.41098778e+00  2.77696809e+00  6.97504917e-01\n",
      "   2.13066936e+00  7.74282269e-01  6.10180324e-01 -5.52745074e-01\n",
      "  -2.69694009e-01 -7.69359938e-01 -1.66567199e-01  1.17764617e-01\n",
      "   3.75425168e-01 -1.11423889e+00  8.57983266e-02  4.51684580e-01\n",
      "   7.64306079e-01 -8.93542282e-01  9.93145803e-01  6.11548495e-02\n",
      "   1.02160927e+00  3.90720655e-01  6.92849054e-01 -5.19016589e-01]\n",
      " [-8.46772953e-01  4.17116626e-01 -3.78684368e-01 -2.73362407e-01\n",
      "   6.61946690e-01  1.17319953e-01  3.34924964e-01 -1.41190147e+00\n",
      "   1.51023816e-01  7.69230930e-01  5.50672019e-01  9.13823675e-01\n",
      "   1.08536663e+00 -4.57463257e-01  1.38155385e-01  7.85459872e-01\n",
      "   7.29266509e-01  6.26272473e-01  3.07286447e-01  6.42383485e-01\n",
      "   2.26190093e+00 -4.07978020e-01  7.22525570e-01 -1.87157277e-02\n",
      "   8.08856171e-01  8.17389648e-02  9.26048549e-01  4.25304157e-01\n",
      "   8.27824204e-01 -4.49474946e-02 -3.78264803e-01 -1.26654713e-01\n",
      "  -1.23525221e+00 -8.18918751e-01  5.53893742e-01  8.86045406e-01\n",
      "   6.64070952e-01 -4.37514695e-01  7.81574439e-01 -1.03152304e+00\n",
      "  -1.73836313e+00  4.26108410e-01 -1.11039863e+00  1.23352034e+00\n",
      "  -1.56669884e-01  6.47860524e-01  1.29803451e+00  6.54933657e-01\n",
      "   1.92784239e+00 -1.22485730e+00 -7.23034545e-01 -5.39024203e-01\n",
      "   3.80594178e-01 -2.97422358e-01  5.38934151e-01 -1.28360604e+00\n",
      "  -4.19137963e-01 -9.12721730e-01  2.40885027e-01 -4.66847103e-01\n",
      "  -6.69400719e-01 -8.23489613e-01  8.31555649e-01 -2.12028792e+00\n",
      "  -3.27074022e-01 -4.71527178e-01  1.46340416e+00 -9.21760092e-01\n",
      "  -7.37714028e-01  1.19043447e+00  2.19878767e+00 -3.91280111e-01\n",
      "   9.47503347e-01 -1.88686926e+00  3.05962467e-01  1.94717637e-01\n",
      "  -1.32682582e+00 -5.18417953e-01  2.92652378e+00  3.90321975e-01\n",
      "   1.33695690e-01  1.55044709e+00  3.35245762e-02 -1.18910874e+00\n",
      "  -6.16274851e-01 -5.54328214e-01 -3.69825433e-01 -8.23655751e-01\n",
      "  -1.05042329e+00 -1.08198162e+00 -4.03471869e-01  3.81959842e-01\n",
      "   4.01864049e-01  6.58753063e-01  6.79182577e-01  5.37435931e-01\n",
      "  -6.88832907e-01  6.74528741e-01 -4.94970876e-01  1.05876908e+00]\n",
      " [-3.56401057e-01  2.02974730e+00  1.54878079e+00 -1.50557722e+00\n",
      "   5.36902627e-01 -6.47019949e-01 -1.80413212e+00  2.94745718e-01\n",
      "   1.53011829e-01  1.66043038e+00  6.66506545e-01 -5.21468340e-01\n",
      "  -1.81401092e-01  7.58330165e-01 -4.87572847e-01 -6.66067736e-01\n",
      "  -3.81486543e-01 -1.51548083e+00 -9.65827712e-01 -1.01594909e+00\n",
      "   1.29051144e+00  4.50715844e-01 -1.10863511e-01  5.33756341e-01\n",
      "   5.67750966e-01 -1.41077948e+00  1.03293576e+00  1.08501548e-01\n",
      "   1.21498271e+00  2.53348538e-01 -1.14671660e-01  9.09773237e-01\n",
      "  -9.51390624e-01  3.58455557e-01  1.39759436e+00 -4.23044881e-01\n",
      "   6.34520937e-01 -1.72722558e-01  2.41095369e+00  3.25637912e-01\n",
      "   1.46687205e+00  8.22617415e-01  7.90872007e-01  6.10739753e-01\n",
      "  -1.48364781e-01  1.39979301e+00  2.69846595e-01 -1.33539340e+00\n",
      "   1.73032668e+00  3.40714476e-01 -7.59757715e-01  9.99451830e-01\n",
      "  -2.63334215e+00 -2.00142132e-01  1.62715678e+00  1.29980813e+00\n",
      "  -6.79248312e-01 -9.00624899e-01 -5.35091753e-01 -5.77264665e-01\n",
      "   4.07260921e-01 -1.16306620e+00  1.43145737e-01 -1.00735355e+00\n",
      "  -3.13712876e-01 -1.69456547e+00  3.04605739e-01 -8.68070759e-01\n",
      "  -1.25446645e+00 -8.71138168e-02 -1.61659927e+00  1.05500884e-01\n",
      "   1.39227967e+00  2.26657284e-01  3.07119225e-01 -9.67178854e-01\n",
      "  -2.22042746e-01  2.06555097e-01  1.19639103e+00  6.72038991e-01\n",
      "  -8.95575797e-01  3.17614623e-01 -7.81370096e-01 -2.65740941e-01\n",
      "  -7.35414236e-01  8.53372911e-01 -8.14511877e-02 -2.23048095e+00\n",
      "  -9.39733663e-02  1.00478553e+00 -3.37171924e-01  2.12295469e-01\n",
      "  -1.22173932e+00 -1.24505453e+00 -1.42751456e+00  1.31198217e-01\n",
      "   7.89946285e-01  2.18179940e+00 -1.75740966e+00  1.06893166e+00]\n",
      " [-6.43596937e-01 -2.49356299e+00 -6.08291411e-02 -1.31599276e+00\n",
      "   4.73685194e-01  2.00904115e-01 -5.89321551e-01  1.27081269e-02\n",
      "  -6.87559751e-01  2.67432194e-01 -1.19486096e+00 -2.78427056e-01\n",
      "  -2.06344075e+00  6.81190345e-01 -7.19385395e-01  1.56694076e-01\n",
      "  -6.56298449e-01 -3.51322608e-01 -4.38482915e-01 -8.98347099e-01\n",
      "  -1.03532638e+00  1.86043039e+00  1.68105393e+00 -7.40564762e-02\n",
      "  -1.10304078e+00  6.78960774e-01 -4.06371406e-01  2.53832375e-01\n",
      "  -1.22756181e+00 -8.32397525e-01  5.70648543e-01  3.46655239e-01\n",
      "  -2.62878385e+00 -4.32116358e-01  6.99360280e-01 -1.00428768e+00\n",
      "   1.81064605e-01  6.57529299e-01 -4.43696341e-01 -7.31473972e-01\n",
      "   1.52806014e+00  4.59091318e-01 -1.82092846e-02  1.02962223e+00\n",
      "   2.68252344e-01  1.33389453e+00 -1.36445489e+00  7.91732074e-01\n",
      "  -5.41073744e-01 -6.35166435e-01 -9.60063689e-01 -2.30418487e-01\n",
      "  -5.13179622e-01 -2.70267424e-01  2.43681816e+00  3.48752533e-03\n",
      "   8.90010119e-03 -1.59638625e-01  5.93729624e-01 -1.48073931e+00\n",
      "   3.42788879e-01 -5.74509975e-01  3.97711734e-01  1.03717531e+00\n",
      "  -6.34618241e-01  1.95830916e-01  4.55722735e-01 -2.34176438e+00\n",
      "   1.83639938e+00 -4.86836443e-01  2.27822931e+00 -1.58121171e+00\n",
      "  -8.22384495e-01 -1.04300349e+00 -2.22918885e-02  1.34764987e+00\n",
      "   5.07594842e-01  1.13520330e+00  1.51306950e+00  6.49735678e-01\n",
      "  -1.55083841e+00  4.46765211e-01 -5.23227509e-01 -1.81707047e-01\n",
      "   2.39261538e+00 -3.48433646e-01  4.82227952e-01  6.41159768e-01\n",
      "   1.29869652e+00  3.79912363e-01  1.39030593e+00  7.03669635e-01\n",
      "  -9.27984439e-01 -5.57860979e-01  1.38038387e-01 -2.86722803e-02\n",
      "   1.15926770e+00 -5.41876925e-01  3.09008068e-01  4.50072912e-01]\n",
      " [-2.14142724e+00 -1.08167298e+00 -2.51090971e+00  1.62479362e+00\n",
      "   6.89937249e-01  6.78993377e-01  1.30685140e+00  1.43502528e-02\n",
      "   6.62543618e-01  1.19535794e+00 -2.14954964e-01 -2.24381759e+00\n",
      "   2.34577527e+00  2.11140216e+00 -7.66185009e-01  2.55068341e-02\n",
      "   2.38733896e+00  2.51482266e+00  8.70852844e-01  1.40871966e+00\n",
      "   1.52937817e+00  1.06062390e+00  1.13211134e+00 -8.61999249e-01\n",
      "   1.55718796e+00 -3.76622146e-01  4.31724558e-01 -1.25425050e+00\n",
      "   2.68482082e+00  1.61267915e+00 -4.85718415e-01  1.26944665e+00\n",
      "   3.62543264e-01  1.00095135e-01 -8.82269982e-01  2.42913608e-01\n",
      "  -5.23072300e-01 -2.43388479e+00  8.73819940e-01 -4.80547126e-01\n",
      "  -7.51340814e-01  9.61763691e-01 -1.87975352e-01  6.40123800e-01\n",
      "  -8.14264961e-02  2.93755272e-01  6.93304511e-01  3.89617908e-01\n",
      "   4.87026637e-01  3.11336479e-01  8.81001604e-01  7.81553219e-02\n",
      "  -1.47675192e-01  4.38332478e-01 -1.65472842e+00  4.41503183e-01\n",
      "  -4.97152272e-01 -8.93169457e-01 -8.38318114e-02 -6.14590858e-01\n",
      "   6.44201670e-02 -1.66711284e+00  5.44922477e-01  8.16644275e-01\n",
      "  -1.39247314e-01  1.27332072e+00  1.26789167e+00 -1.04164048e+00\n",
      "  -1.01322035e+00  1.19266350e+00  2.47643330e-02 -5.91023561e-01\n",
      "   3.39569905e-01 -5.90301845e-01  2.18591213e-01  9.30167756e-02\n",
      "  -4.66409759e-01 -8.48650489e-01 -4.64311323e-02  1.11306117e-01\n",
      "   6.15282867e-01 -2.72029425e+00  2.07726872e+00 -1.74570791e+00\n",
      "   1.46207355e+00 -8.33138292e-01 -1.94714079e+00  1.82072829e+00\n",
      "  -2.28442701e-01 -4.98192180e-01 -5.94245926e-02 -3.16400073e-01\n",
      "  -1.30767210e+00  1.51920930e+00 -4.61387873e-01  5.47150481e-01\n",
      "   2.01752633e+00 -8.92891299e-02  3.93478221e-01  2.10722434e+00]\n",
      " [ 9.97794692e-01 -6.39905784e-01  5.66052080e-01  9.94127303e-01\n",
      "  -1.05696401e+00  5.21154823e-01 -5.29339586e-01  1.13755703e+00\n",
      "   6.22875516e-01  1.46968774e-01 -6.09945125e-02  1.20654179e+00\n",
      "  -1.49284466e+00 -3.68060257e-02  2.52943914e+00  3.56141556e-02\n",
      "   7.14928194e-01  2.04281281e+00 -2.17687222e-01 -8.92177409e-01\n",
      "   1.70144371e+00  8.20626760e-01  5.11591422e-01  3.95872114e-01\n",
      "  -6.90846157e-01  1.77719022e-02  1.76590413e-01  7.31724137e-01\n",
      "   1.10532321e+00 -5.45702314e-01  1.43629545e+00 -1.46729071e+00\n",
      "  -4.42093418e-01  5.45327253e-02  5.57028405e-01 -1.16597016e+00\n",
      "  -3.61147451e-01  1.78978388e+00  1.05340823e+00  9.56777767e-01\n",
      "   5.15076588e-01  6.34284312e-01 -9.45115930e-01 -4.01641472e-02\n",
      "   9.59842024e-01 -2.25110761e+00 -1.33156179e+00  1.37132533e+00\n",
      "  -1.45929985e+00  3.47148792e-01  1.06915294e-02 -5.53600607e-01\n",
      "   2.38032452e+00  4.29415028e-02  1.13964042e+00  8.21533538e-01\n",
      "  -9.39038156e-01  7.82431342e-01 -5.91826222e-01 -1.34338629e+00\n",
      "  -5.97848262e-01 -2.70131607e+00  1.00998751e+00  1.78969014e+00\n",
      "   6.55804140e-01  8.07376585e-01  3.98655281e-01  1.69519885e+00\n",
      "   1.18963340e+00  2.12992157e+00 -1.18216699e+00 -4.56978269e-01\n",
      "   2.44623712e+00  4.03663872e-01 -2.08765437e+00 -8.69806217e-01\n",
      "  -1.90472191e+00 -5.57277375e-01  4.82988900e-01 -6.27897478e-01\n",
      "  -4.00072212e-01 -7.08231764e-02  5.94720985e-01 -6.85435752e-01\n",
      "   9.56512720e-02 -9.05150906e-01 -2.33478791e+00  1.75724170e-01\n",
      "   1.57500795e-01 -1.61533576e-01 -5.28000366e-01 -1.63690066e+00\n",
      "  -8.43313852e-01  1.35212666e+00  7.44206177e-01  2.09008084e+00\n",
      "  -2.77163443e-01 -1.38259798e+00 -1.54679407e+00  2.31458407e-01]\n",
      " [-1.25058316e+00  7.19577323e-01  3.93188940e-01  1.47550415e+00\n",
      "  -8.25659598e-01 -3.11953446e-01 -2.99294664e-01 -1.99824479e+00\n",
      "   6.75131676e-02 -9.94412670e-01  6.79668674e-01  4.17116314e-01\n",
      "   1.56434868e+00 -2.41452979e-01  1.38427766e-01 -8.08711974e-02\n",
      "   1.59033992e+00 -1.95458159e-01 -1.49937612e-01  3.01800112e-01\n",
      "   1.03332714e+00  7.20128295e-02  1.90590768e-01  2.88264557e-01\n",
      "  -1.16826852e+00  3.24434069e-01 -1.54160116e-01  5.85571751e-02\n",
      "  -2.74768592e-01  2.03505276e+00  6.69815280e-01  1.57139827e+00\n",
      "   2.41346068e-01  7.79721353e-01 -4.72060129e-01  9.93480733e-01\n",
      "   2.10114783e+00 -9.47083527e-01  3.31186270e-01  1.21357147e+00\n",
      "   3.02864553e-01  6.49108841e-01 -1.11355822e+00 -4.24614161e-01\n",
      "  -8.39377611e-01  3.30487999e-01 -1.70760629e+00  7.56762538e-01\n",
      "   2.32739654e+00 -8.29859391e-01 -2.04155021e-01  1.10321360e+00\n",
      "   6.99551478e-01 -2.47361958e-01  1.75458009e-01  6.25740855e-01\n",
      "   2.86438989e-01  1.23021109e+00 -5.52283870e-02 -5.32224468e-01\n",
      "  -6.38631490e-01  1.19495973e-01 -4.34182031e-01 -1.71820529e-01\n",
      "  -1.25049756e+00 -7.98220527e-01  1.13289590e+00 -2.14181078e-01\n",
      "  -1.70914526e-01  4.27588265e-02 -5.45476786e-01  2.28443097e-01\n",
      "   5.47430680e-01  6.70652516e-01  3.92778130e-01  1.04776462e+00\n",
      "  -4.22293177e-01 -5.71739889e-02 -2.17266097e+00  5.03876529e-01\n",
      "  -1.14026419e+00 -5.58515865e-01 -1.48290982e-01 -7.98878456e-01\n",
      "  -5.03587499e-01  1.10200124e+00 -1.20050218e+00  6.76300596e-01\n",
      "  -8.35030316e-01  2.49683421e-02 -1.34357233e+00 -2.69460260e+00\n",
      "  -2.30869696e-02 -1.22192587e+00  2.48023458e-01 -2.85653623e-01\n",
      "   5.65669461e-01 -5.47691339e-01  2.41962197e-01 -3.03542457e-01]\n",
      " [-1.28119452e+00 -4.82870005e-01 -4.30197274e-01  1.19065027e-01\n",
      "   5.43369479e-02 -1.93997722e-01  1.35796288e+00 -7.83791832e-01\n",
      "   4.84340677e-02 -1.78292251e-01  3.78123003e-01 -9.49316784e-01\n",
      "  -6.90315139e-01 -8.27050449e-01 -5.81011229e-01  7.16357779e-01\n",
      "   1.20143308e+00 -1.01584577e+00  4.58050492e-01 -5.25446770e-01\n",
      "  -1.35361110e+00  4.22506518e-01  1.23293503e+00 -3.86708232e-02\n",
      "   2.28323616e-01 -2.68075565e-01 -1.33181996e+00 -2.86922668e-02\n",
      "   2.39834005e-01 -1.18077044e+00 -1.00820651e-01 -3.57125495e-01\n",
      "   2.41385823e+00  7.48249093e-01  1.51444853e+00  9.59375664e-01\n",
      "   8.79376783e-01  9.06147598e-03 -1.29684728e+00 -2.94757506e-01\n",
      "   1.16881838e-01 -1.14554293e+00 -1.43600942e+00 -5.38077828e-01\n",
      "   3.08994085e-01  1.48981307e-01  3.93386271e-01 -1.38499491e-01\n",
      "   1.43526285e+00  4.58523226e-01  2.53848309e+00 -2.14377499e+00\n",
      "   6.00397838e-01 -5.01347859e-01 -1.21289450e+00  2.07090330e-01\n",
      "  -8.87745568e-01  9.02437824e-02 -5.47295787e-01 -2.49329224e+00\n",
      "  -2.68612220e-01  4.76801718e-01 -1.08579792e+00  1.52488267e+00\n",
      "   1.13675016e-01  1.35003436e+00  2.07411178e-01  8.19536919e-01\n",
      "  -1.07650455e-01 -7.89349223e-01  8.59491219e-01 -6.54089227e-01\n",
      "   3.11902131e-01  4.24858703e-01  1.10358551e+00 -1.38531271e+00\n",
      "  -1.74528220e+00  2.56835591e-01  5.54923961e-01  1.24860014e+00\n",
      "  -8.12177952e-01  5.40116424e-01  2.26398114e+00 -1.78442539e-02\n",
      "  -9.90004895e-02 -1.63800619e+00 -7.83123097e-02 -8.46359601e-01\n",
      "  -2.17792619e-01 -3.27230399e+00 -5.39465491e-01  7.20621414e-01\n",
      "  -5.27340881e-01  9.92918127e-01 -6.36391352e-01 -2.90625556e-01\n",
      "   4.06937639e-01 -4.01112410e-01 -6.96321715e-02  1.18625789e+00]\n",
      " [-8.79144179e-02 -1.41403812e+00 -3.53516220e-01  4.67662252e-01\n",
      "  -6.04406303e-01  3.87469270e-01 -1.29998545e+00 -6.32221772e-01\n",
      "  -1.26348247e+00  9.56398044e-01  3.93991758e-01 -6.87033585e-02\n",
      "  -1.20964791e+00  5.54358044e-01 -6.15976849e-01  5.06545223e-01\n",
      "  -1.55705861e-01  4.76862098e-01 -8.49483559e-01 -1.32947716e+00\n",
      "   3.90787097e-01  2.12137475e+00 -4.55322487e-01 -2.31549652e-01\n",
      "  -4.06347129e-01  6.31324048e-01  6.51935305e-01  1.31440753e+00\n",
      "   1.16786049e+00 -4.81363590e-01  3.49253698e-01 -1.63748703e-01\n",
      "  -1.71601190e-01 -1.21425907e+00 -5.33693144e-01  4.92887783e-01\n",
      "   2.36473440e-01  2.84598792e-01 -1.22780309e+00 -9.75168450e-01\n",
      "  -9.60807174e-01 -2.36664820e-01 -1.12301515e+00 -1.30422883e+00\n",
      "  -1.51278235e-01 -7.38984541e-01  5.63644012e-01 -6.69965706e-01\n",
      "   2.49784757e-01 -8.66036247e-01  9.23185103e-02 -3.16063769e-01\n",
      "  -7.91107671e-01 -2.84985818e-02  1.96889970e+00  1.12448979e+00\n",
      "   5.65932221e-01 -3.09410094e+00  5.38537851e-01  6.30781280e-01\n",
      "  -8.61862692e-01 -3.56065903e-02 -2.69139311e-01  7.85299582e-01\n",
      "  -7.26765617e-01  1.03267182e+00 -4.07605189e-01 -1.98009970e-01\n",
      "  -4.82194335e-01 -1.53715035e-01  2.53364233e-01  7.77174898e-01\n",
      "  -5.20243108e-01 -3.46567371e-01 -6.93194917e-01  1.59215867e-01\n",
      "  -3.08068481e-01 -7.04313252e-01 -5.06048538e-01  1.69491076e+00\n",
      "  -1.13741054e-01 -3.48203466e-01 -2.51599085e+00 -4.93233727e-02\n",
      "   1.49348022e-01 -1.52930553e-01  8.43995290e-01  6.30373350e-01\n",
      "  -8.57670262e-01 -3.13983304e-01  1.24255903e+00  2.68342317e-01\n",
      "   1.52559893e+00 -7.44346759e-01 -8.24671100e-01  8.40012816e-01\n",
      "   5.95049058e-01 -7.16526911e-01  1.64084670e+00  5.39442433e-01]\n",
      " [ 1.76896887e+00  1.31052734e-01 -2.74982892e-01 -6.13287357e-01\n",
      "  -2.39935758e-01 -1.82450433e+00 -1.09669658e+00  4.85691862e-01\n",
      "   1.02264642e-01  9.49164176e-01 -5.36120214e-01  7.34618243e-01\n",
      "   3.72970439e-01  1.16082535e+00 -3.55347129e-01  8.61932122e-02\n",
      "  -3.91260603e-01 -6.11379814e-01 -2.78937144e+00 -1.75537037e+00\n",
      "   9.01181079e-01  1.09211941e-01  8.04451460e-01  1.15302881e+00\n",
      "   1.12374744e+00  4.69615420e-01  5.63984999e-02 -4.11020186e-01\n",
      "   5.37620940e-01  4.66474658e-01  1.88754573e+00 -1.60406472e-01\n",
      "   7.80785842e-01  5.36300610e-01 -4.18846235e-01 -1.89477579e+00\n",
      "   1.39565808e+00  1.06831071e+00 -1.54419804e+00  1.64905298e-01\n",
      "   3.53370615e-01  1.52867419e+00  4.77677870e-01  8.48305901e-01\n",
      "   7.60308378e-01  5.32409862e-01  3.29268488e-01 -7.38080338e-01\n",
      "  -8.67366365e-01  1.86536293e-01  1.91037884e+00  3.04671078e-01\n",
      "   7.48233463e-01 -6.57371468e-02 -2.92263010e+00 -1.21195703e-01\n",
      "   2.51984125e+00 -3.01667078e-01  7.37622050e-01  4.80563863e-01\n",
      "  -4.19258346e-01  1.88372554e-01  6.91741910e-01 -1.06212842e-01\n",
      "   4.49386737e-01  5.47306183e-02 -7.08150182e-01  1.12545073e+00\n",
      "   9.90289707e-02  1.55112087e+00 -2.20640106e+00 -1.97244801e+00\n",
      "   2.34643234e+00  5.83593627e-01 -1.05368598e+00 -1.80693193e-02\n",
      "   5.86867656e-01 -1.76583520e-01 -8.24405858e-01 -9.60003345e-01\n",
      "  -1.73848514e+00 -1.04673508e+00  2.40319206e-02  1.24708370e-01\n",
      "  -1.12064185e+00 -9.65392774e-01  1.21405994e+00 -1.26296063e+00\n",
      "   7.08248482e-01 -7.63528896e-01 -7.75787573e-01  1.07058005e+00\n",
      "  -2.09438139e-01  1.70848802e+00 -9.95296467e-01 -9.47369190e-01\n",
      "   1.62759305e+00  5.11385435e-02 -3.38113364e-01 -2.37258109e-01]\n",
      " [ 6.39421429e-01 -1.03188684e+00  6.99371072e-01  1.24049548e-01\n",
      "   1.46849449e+00  2.03341252e+00  1.40904107e-01 -4.29874945e-02\n",
      "   1.02209116e+00 -6.64979356e-01 -1.43356041e+00  3.81946386e-01\n",
      "  -1.91333523e-02  4.12751986e-01 -8.63099549e-01  4.00842439e-01\n",
      "  -2.46673152e-01  1.29170982e+00  1.12983098e+00  1.54701197e+00\n",
      "   1.29102732e+00 -4.62658402e-01 -6.88330494e-01  5.51384211e-01\n",
      "  -1.85577872e+00  1.24668512e+00  1.66230591e-01 -8.06029403e-01\n",
      "   2.62231823e-02  1.41184279e-01 -3.56540883e-01 -1.37514731e+00\n",
      "   1.88800538e-01 -8.06771601e-01  5.02740398e-01  7.94395917e-01\n",
      "  -1.40428804e+00 -1.03563867e+00 -9.73406687e-01  2.23984085e+00\n",
      "  -4.10653386e-01 -1.06515934e+00  2.05061437e+00 -1.19574437e-01\n",
      "   1.41566613e+00  2.95016431e-01 -6.09970131e-02 -6.20857250e-01\n",
      "   2.20731051e-02 -3.83639264e-01  7.36653917e-01  1.14259639e+00\n",
      "   3.55396415e-01 -1.11667314e+00 -4.09412412e-01  1.48522270e-01\n",
      "   1.29589741e+00 -5.00331943e-01 -1.95603430e-01  8.71219227e-01\n",
      "   1.61481078e+00  6.63218329e-01  4.64660880e-01 -2.14942229e-01\n",
      "   1.28194251e+00  6.14014261e-01  3.52343285e-01  3.15303932e-02\n",
      "  -9.35773170e-01  5.60918035e-01 -8.06825640e-01  3.58308309e-01\n",
      "   1.37122481e+00 -1.87531029e+00  5.30113860e-01  1.57724301e+00\n",
      "  -1.75434970e-01 -1.15006201e+00  8.28004827e-02 -6.90023519e-01\n",
      "   3.26465773e-01  1.84205445e+00  1.64513119e+00  7.38000974e-01\n",
      "  -6.62810470e-01 -1.24533965e+00  6.34507237e-02 -9.37019873e-01\n",
      "  -1.11878658e+00  9.28648425e-01  7.65559202e-01  1.99358793e+00\n",
      "  -3.27186325e-01 -2.72881009e+00 -5.73654580e-02  1.98824855e+00\n",
      "  -1.67150750e+00  1.48595167e+00  6.84960086e-01  1.73593641e-01]\n",
      " [-5.58658907e-01  1.42887515e+00  3.45603102e-01  1.25701067e+00\n",
      "   1.76825948e+00 -6.72478485e-01  1.25787018e-01  7.46680115e-02\n",
      "  -9.70432970e-01 -1.70476265e-01  3.62054694e-01  3.73945606e-01\n",
      "   9.10573787e-01  5.44107916e-01  4.01655448e-01 -1.55215731e-03\n",
      "  -5.66226382e-01 -1.13610448e+00  3.32954752e-01 -3.44667898e-01\n",
      "   1.83337538e+00  1.03619522e+00  8.46884474e-01  9.09745409e-01\n",
      "  -4.66658090e-01  6.62244591e-01 -6.90830047e-01 -1.98552503e-01\n",
      "  -1.31010855e+00 -2.62664607e-01 -2.81291926e-01  1.16683268e+00\n",
      "   5.10316514e-01 -1.38991075e+00  9.64183523e-01  2.11968862e-01\n",
      "  -7.64691642e-01 -1.57342747e+00  2.15230849e+00  2.06791485e+00\n",
      "   1.64707794e-01  7.45317580e-02  5.66665005e-01  6.15396454e-01\n",
      "  -5.24694137e-01 -4.43642590e-01  6.07796345e-01  4.32587561e-01\n",
      "   7.24291431e-01  9.69745346e-01 -1.97738379e+00  1.51437757e+00\n",
      "   7.78619544e-01  1.34124762e+00  2.37598291e-01 -7.03919456e-01\n",
      "  -1.85590135e+00  4.80310397e-01 -1.34187757e+00 -1.86515296e-01\n",
      "   6.10411897e-01  7.81074525e-01  5.76760205e-01  4.17903480e-01\n",
      "   1.17691485e+00 -8.12161415e-02 -2.15106330e-01  4.60436518e-01\n",
      "  -8.27988371e-01 -1.57443508e+00 -1.46239091e+00 -3.25166769e+00\n",
      "   1.17386738e+00  4.24180835e-01 -1.13154668e+00  3.47624241e-01\n",
      "  -7.27907807e-01  1.31328617e+00 -1.93282627e+00 -7.10287346e-02\n",
      "  -6.83691647e-01  3.43280601e-01 -2.16759502e+00  1.85990403e-01\n",
      "   8.31224509e-02  4.41576316e-01  1.02635511e+00 -9.37763259e-02\n",
      "  -2.48375660e-01  1.13028142e+00  1.06985947e+00  1.42573682e-01\n",
      "  -4.95086083e-01 -8.21341204e-01  3.07042991e-02 -1.16282251e+00\n",
      "  -8.42069374e-01  1.37309507e+00 -2.05579366e+00 -6.78739355e-02]\n",
      " [-3.62651986e-01 -1.63854952e+00 -1.12341233e+00  7.77459075e-01\n",
      "  -1.71191903e-01  2.98685738e+00  3.05057878e-01  4.19734166e-02\n",
      "   7.43421562e-01 -1.10600567e+00 -7.85284615e-04 -3.07306598e-01\n",
      "  -1.05904124e+00  8.80423663e-01  2.25297546e-01  5.15779640e-01\n",
      "  -4.67816589e-01  5.58607216e-02 -3.86379248e-01  8.78923861e-01\n",
      "   3.31031396e-01  7.16095417e-01 -2.56386870e-01  2.06197834e+00\n",
      "   4.05023737e-01  6.58241517e-01 -3.06267867e+00  1.46267156e+00\n",
      "   2.44611648e-01  6.49515514e-01  3.11187693e-01  8.66026314e-01\n",
      "   4.24429551e-01 -1.56734291e+00  2.42175472e+00 -1.48245670e+00\n",
      "   1.61857017e+00 -4.15122386e-02 -1.04871994e+00  8.33159341e-01\n",
      "  -5.33424246e-01  8.03820187e-01 -4.95826452e-01  4.97631594e-01\n",
      "   1.73465320e-01 -7.19749426e-01  1.20537171e+00 -1.99699119e-01\n",
      "  -4.55862848e-01  1.58061566e+00  1.43980289e+00 -9.52361952e-01\n",
      "  -5.31287234e-01 -1.19991083e+00 -3.19928164e-01 -9.90919437e-01\n",
      "   6.47011969e-01  1.20702890e+00  7.67594424e-01  4.11175684e-01\n",
      "  -4.67610421e-01  5.89499086e-02  2.77095091e-01  6.45353247e-01\n",
      "   8.61079233e-01 -7.85015013e-01  2.01373333e+00 -3.89059130e-01\n",
      "  -6.92762668e-01 -6.84994727e-01 -1.74745839e+00 -1.04323310e+00\n",
      "  -1.06132707e+00 -1.15442804e-01  9.20875331e-01  5.23598016e-01\n",
      "   9.98817027e-01  4.88720274e-01  1.21514748e+00 -4.36926982e-01\n",
      "   2.15421506e-01  1.13859162e+00  3.52966786e-02  1.59945533e+00\n",
      "   1.32671109e+00  1.81403758e+00  1.11803867e+00  6.58678025e-01\n",
      "  -1.32010135e+00 -1.09589567e+00  1.63404531e-01 -2.55577570e-01\n",
      "  -5.58729574e-02 -7.96233215e-01  4.71670243e-02  4.89242906e-02\n",
      "  -1.38872884e+00  2.63410858e-02  5.27576613e-01  4.14697714e-01]\n",
      " [ 6.44634709e-02 -4.71787518e-01 -4.96395808e-03 -1.35406610e+00\n",
      "  -1.04344663e+00 -8.63298134e-01  1.99146679e+00  6.71709205e-01\n",
      "   1.50360698e-01  1.41203205e+00 -3.51924716e-01 -4.48209166e-02\n",
      "   1.15458809e-01 -1.30631366e+00  7.54854677e-01 -3.50941407e-01\n",
      "  -1.13228337e+00 -8.22110876e-01  1.47732618e-01 -4.82431926e-01\n",
      "  -1.89438322e-01 -4.90731302e-01  8.27912603e-01 -5.39660698e-01\n",
      "  -7.51863782e-01  4.51001584e-01 -1.98919740e+00  1.31176923e+00\n",
      "  -2.09798739e-01  2.13389143e-01  9.33718208e-01 -5.31624214e-01\n",
      "  -1.44602767e+00 -3.95581478e-01  7.15508531e-01 -1.09259928e+00\n",
      "   1.26951853e+00 -1.03176766e+00 -1.78728731e+00  1.87590269e+00\n",
      "   8.65725923e-01 -2.46377139e-01 -2.18148483e-01  9.16994507e-01\n",
      "  -1.88931103e+00  1.52802839e+00  1.79301853e-01  2.55282381e-02\n",
      "  -7.93444188e-03 -4.24245654e-01 -8.60523569e-01  5.05206193e-02\n",
      "  -7.71709627e-01  5.09190012e-01  9.76449938e-01 -2.29888961e-01\n",
      "  -4.59612710e-01  1.75001282e-01  2.55524137e-01 -3.14516950e-01\n",
      "  -2.31018903e-01 -8.11296572e-01  3.57108308e-01  8.59037159e-01\n",
      "   1.01965002e+00  1.94350730e-01 -4.53945998e-01  1.14077749e+00\n",
      "  -7.74028151e-02  8.19931686e-01  1.38249001e+00 -1.13298157e-01\n",
      "   2.25544751e-01 -1.12170245e-01 -1.17657636e+00 -1.53676688e+00\n",
      "   8.75602524e-01 -9.31644745e-01  7.06042822e-01  7.48019782e-01\n",
      "   1.87614323e-01 -2.07594345e+00  1.51453627e-01  2.41032102e+00\n",
      "   6.15398416e-01 -4.08780087e-01 -3.98026639e-01 -1.49513445e+00\n",
      "  -1.29728469e+00  7.90767632e-01  2.60092533e-01  1.55536072e-02\n",
      "  -1.27262741e-02  5.10832978e-01 -1.45085439e-01  1.17818446e+00\n",
      "   3.43364825e+00  1.24079159e-01  1.41408068e+00  1.98732272e-02]\n",
      " [-4.23771107e-01 -7.78819801e-01 -7.26958201e-01 -9.25465489e-02\n",
      "  -7.42996373e-01  1.23934194e+00  2.28037546e-01  2.23361818e+00\n",
      "   3.28456119e-02 -2.10404072e+00  1.13150062e+00  1.69602564e-02\n",
      "  -3.12504537e-01 -3.07492209e-01  1.59251894e+00  3.39466634e-01\n",
      "   2.27955115e-01  1.30717791e+00  2.18452632e-01 -9.94480628e-01\n",
      "   2.25930120e+00 -2.26059783e-01  1.62483829e+00  1.64199770e-01\n",
      "  -4.61633062e-01 -3.11063564e-02  4.39262929e-03  1.17267290e+00\n",
      "  -1.20331175e+00  9.65635310e-01 -1.11734798e+00 -5.31941918e-01\n",
      "  -2.70209822e+00 -4.85971201e-01 -4.91808542e-02 -1.39151470e+00\n",
      "   5.00958528e-01 -1.84386845e+00 -7.67241111e-01  1.08069362e+00\n",
      "   1.58448078e+00  9.31592520e-01  1.66453529e-01 -1.56664380e+00\n",
      "   4.00098062e-01 -1.53146523e-01 -2.05113951e-02 -1.06973296e+00\n",
      "   2.86442232e-01  1.92137719e+00 -1.14429134e+00  5.67638230e-01\n",
      "   1.41347662e+00  1.55250182e+00  2.09403179e-01  7.38964244e-03\n",
      "   8.02079820e-02 -8.20954208e-01  2.28229219e-02  2.06884048e-01\n",
      "   3.83759627e-01 -3.40356779e-01 -1.92778071e+00  1.27942450e+00\n",
      "  -3.65963552e-01 -4.28563964e-01  1.38962285e+00 -2.87394969e-02\n",
      "   9.83353922e-02  5.69293674e-02  1.04882650e+00  1.97489190e-01\n",
      "  -3.34657882e-01 -8.80906361e-01  1.77016998e-01  1.22858771e-02\n",
      "   8.32745432e-01 -1.22490740e-01  1.65410303e-01 -3.96003347e-01\n",
      "   9.86704201e-01 -1.50311719e+00  6.22673825e-01 -3.01505586e-01\n",
      "  -1.37512422e+00  4.92164653e-01 -3.23837818e-01 -8.46874709e-01\n",
      "  -2.08885033e-01 -3.64606025e-01  1.39739974e-01  6.64348930e-01\n",
      "   1.79744836e+00 -8.35541565e-01  1.13193053e+00 -8.26389951e-01\n",
      "  -4.07623278e-01  1.83020611e+00  5.30500786e-01 -1.72775373e+00]\n",
      " [-6.91836395e-01 -6.96130743e-01  9.62797458e-01  1.49352865e+00\n",
      "  -8.21471910e-01  5.17326646e-01  9.29375295e-01 -1.09081899e+00\n",
      "   1.19365643e+00 -3.20491085e+00 -1.13612753e+00 -1.47284612e+00\n",
      "  -2.03284331e+00  1.43854974e+00  4.00512067e-01  1.15983229e+00\n",
      "   5.66515837e-01 -1.05742275e+00 -1.06587150e+00 -1.01754535e+00\n",
      "  -1.28202261e+00  1.39824417e-01  9.51510802e-02  5.92498935e-01\n",
      "  -1.22991761e+00  2.81937816e+00 -1.07823221e+00 -3.72312568e-01\n",
      "  -2.98104373e+00 -3.01120658e-01 -5.23781998e-01  7.25058873e-01\n",
      "   1.12085733e-01 -3.54759310e-01  8.73937531e-01 -2.64200918e-01\n",
      "   9.76092928e-01  1.36380164e+00 -6.63088789e-01 -1.07238702e+00\n",
      "   5.51366654e-01  3.94071888e-02  1.11707162e+00  7.65886058e-01\n",
      "  -1.55907632e+00  5.79326709e-01  4.05377274e-01  1.44184149e-01\n",
      "   5.25102383e-03 -1.92807476e+00  1.06341585e+00 -1.09478754e+00\n",
      "  -1.05929002e+00 -6.78213892e-01 -1.02541434e+00  8.01346369e-01\n",
      "   3.72558667e-01  6.77147025e-01 -6.75119216e-01 -1.02061947e+00\n",
      "   1.70715806e+00 -1.45365714e-01 -1.10557602e+00  1.22177275e+00\n",
      "  -1.20133537e+00  3.17772630e-01  1.03924135e-01  5.51824757e-02\n",
      "  -2.34435183e-01 -8.89444628e-01 -8.56050323e-02 -8.52229395e-01\n",
      "  -1.85470177e+00 -2.77109174e-01  5.35047904e-01 -1.69835139e+00\n",
      "  -1.52869761e+00  5.82804730e-01 -7.12848612e-01 -4.52835239e-01\n",
      "   1.16335672e+00  8.30498730e-01  9.31191529e-01  1.02776728e+00\n",
      "  -6.42965762e-01 -5.49500044e-01  1.12031103e+00 -1.26155394e+00\n",
      "  -6.50548211e-02  4.54918431e-01  2.85252040e+00  1.98891867e+00\n",
      "   2.61689688e-01 -1.90753483e-01  6.90356036e-01  2.55376371e-01\n",
      "   1.18177114e+00 -4.85122716e-01 -3.01496679e-01 -2.24566049e-01]\n",
      " [ 9.02415931e-01 -1.47913327e+00  7.01421951e-01 -2.94170856e-02\n",
      "  -1.49273517e+00  1.77666362e+00 -2.50418068e+00 -7.33914979e-01\n",
      "   3.79660435e-01 -8.20118437e-01 -7.66257788e-01  1.22257866e-01\n",
      "   9.40994769e-02 -1.56149996e-01  1.43283612e+00 -9.31981927e-01\n",
      "  -1.11001986e+00 -1.49518119e+00 -1.37529910e+00 -3.89990863e-01\n",
      "  -3.07045855e-01 -1.36879146e+00 -5.55654972e-02 -1.33622409e-01\n",
      "  -7.04257378e-01 -1.97392716e-01  9.83283830e-01  2.25924792e-01\n",
      "   1.35938196e+00  2.17532409e-01 -5.86664051e-01  3.49937195e-01\n",
      "   1.67729106e+00  1.02337659e+00  7.21783003e-01  1.40846325e-01\n",
      "   3.48803582e-01 -7.14357854e-01 -1.61308871e+00  7.35990635e-02\n",
      "  -4.08311825e-01  3.99310012e-01  6.80210986e-01 -3.47252116e-01\n",
      "  -1.19407873e-01  2.27031299e-01  1.00651496e-01  5.12323844e-01\n",
      "  -7.40316816e-02  3.54469449e-01 -6.20298951e-01 -1.81226127e+00\n",
      "   6.00678197e-02  6.18765909e-01  3.79974729e-01  6.00846129e-02\n",
      "   2.43861730e-01 -3.22414448e-01 -1.42349774e+00  6.05484463e-01\n",
      "  -3.33864434e-01 -3.57007812e-01 -2.82890439e-01  1.15388797e+00\n",
      "   9.08515824e-01 -4.87946476e-01 -9.07292722e-01  1.66102665e+00\n",
      "   1.13578557e+00 -1.40759010e-01  4.14763542e-01  3.40273956e-01\n",
      "  -2.59900397e-01 -3.65022768e-01  1.17475688e+00 -2.00184732e+00\n",
      "   8.01147515e-01  2.09569840e+00  1.41996906e+00 -1.80506383e-01\n",
      "  -7.63878283e-01  1.15958613e+00  2.51897903e-01  1.36817342e+00\n",
      "   9.05660006e-01  1.13130288e+00  1.28684182e+00 -3.33897992e-01\n",
      "   1.91379378e-01  4.85573985e-01 -3.77182002e-01 -3.53632227e-01\n",
      "  -6.29079548e-02  1.33803732e-01 -2.95444724e-01  2.88093614e-01\n",
      "   4.08106447e-01  1.24045104e+00  6.28787379e-01  1.31039251e+00]\n",
      " [-6.30729828e-01  2.46910896e+00 -8.42798952e-01  1.26837321e+00\n",
      "   1.44362196e+00  5.27687191e-01  8.73991565e-01  1.04879742e-01\n",
      "  -6.29788445e-01  3.12347593e-01 -2.58023881e-01 -8.46168138e-01\n",
      "   6.79972058e-01 -3.06796029e-01 -5.15988521e-01 -6.11246615e-01\n",
      "   6.82126623e-02  2.37795270e+00 -1.55624591e+00  8.60034484e-01\n",
      "  -1.52477025e+00 -9.05180135e-02  8.56583048e-01 -7.00034887e-02\n",
      "   2.83037932e-01 -2.52420767e+00 -8.97783135e-01  1.04688723e-01\n",
      "   1.42317203e+00  8.14814228e-01 -7.33523082e-01  1.66230384e+00\n",
      "   2.99652810e-01 -3.63195248e-01 -1.24227768e+00  6.35097788e-02\n",
      "   8.95570514e-01 -2.02502913e+00  1.45498168e+00  1.02617968e+00\n",
      "  -7.73406072e-01  4.76239607e-01 -9.98339615e-02  8.00355289e-01\n",
      "   8.49607363e-01  5.73933946e-02  1.11363686e+00  1.47243494e+00\n",
      "   1.59066337e+00 -2.64766814e-01  6.96741561e-01  1.64486219e-01\n",
      "  -6.70459548e-01 -3.92128996e-01 -1.15669105e+00  4.82904880e-01\n",
      "  -3.92003604e-01 -4.02554621e-01 -1.31812119e+00  5.32205581e-01\n",
      "  -1.47241986e+00  1.24969021e-01 -9.93107262e-01 -2.07712509e+00\n",
      "  -7.52706396e-01 -1.73655437e+00 -1.72011830e+00  1.39897836e+00\n",
      "   9.93883839e-01  1.55246967e+00 -1.28934894e+00  3.28740184e-01\n",
      "  -5.50719239e-01 -9.65834192e-01 -2.02803637e+00 -1.84698587e+00\n",
      "  -6.00728262e-01  3.89684683e-01 -3.85601274e-02  2.79727525e-01\n",
      "   3.77280146e-01 -7.57381193e-01  5.61873218e-02  5.92845705e-02\n",
      "   1.69386249e-01  2.72499123e+00 -1.21733864e+00  6.73573409e-01\n",
      "  -4.26927313e-02  2.31328569e-02 -1.05264546e+00 -2.57119170e-01\n",
      "  -4.19636220e-01  5.26478638e-01  1.25430476e+00  6.24667616e-01\n",
      "  -5.05699105e-01  1.38565454e-01 -6.76228546e-01 -7.48418235e-01]\n",
      " [-1.86471598e+00 -1.54921074e+00 -1.13953107e+00  8.36703993e-01\n",
      "  -7.58023125e-02 -6.80488802e-01  6.89123733e-02  6.90523944e-01\n",
      "   8.43996290e-01 -3.33719875e-01 -6.66173845e-01  1.63954286e+00\n",
      "  -1.52893277e-01 -1.09447893e+00 -5.51528503e-01 -1.04740215e+00\n",
      "  -1.65551158e-02 -3.34575494e-01  1.50088005e-01  8.76450264e-01\n",
      "   3.19556118e-02  9.05833803e-01 -2.40700223e+00 -6.86516440e-01\n",
      "   1.45263296e+00  1.32902204e-02 -1.31726511e+00 -3.39864197e-01\n",
      "   1.04247263e+00  1.07265120e-01 -8.51204182e-02 -6.65708638e-01\n",
      "   6.03786109e-01  5.55190278e-01 -1.47730467e-01  4.68773092e-01\n",
      "   1.09744252e+00  8.41886291e-01  2.61675801e-02  5.10072481e-01\n",
      "   9.16683198e-01 -4.11843982e-01 -1.11886986e+00 -1.68271281e+00\n",
      "   2.05680037e+00 -7.90732683e-01  9.20099221e-01  8.47315933e-02\n",
      "  -2.55420082e-01  1.83230783e-01 -1.40393584e+00 -1.22914434e+00\n",
      "   9.21790650e-01  1.08893678e-01 -1.49787175e+00  4.97431081e-01\n",
      "  -9.69829980e-01  6.96594810e-01 -1.16517996e+00 -1.04224059e+00\n",
      "  -5.33190780e-01 -1.68135904e+00  3.57925264e-01  7.86871012e-01\n",
      "   3.77524234e-01  1.99124809e-02  1.63371393e+00 -1.88870684e-01\n",
      "  -1.17458422e+00 -6.25766506e-01 -4.81525701e-01 -1.18238297e+00\n",
      "   1.23721917e+00 -6.42445356e-01 -6.60603290e-01  3.82756228e-01\n",
      "   4.62967912e-01 -5.72015076e-01 -9.88034332e-01  9.13952616e-02\n",
      "   1.72666649e-01 -9.08603951e-01  3.43062895e-01  6.21485546e-01\n",
      "  -1.71930969e+00  2.45824973e-01  4.35854048e-01  5.08780787e-01\n",
      "  -1.98893721e-01 -2.61475431e-01  1.05634436e+00  2.90434225e-01\n",
      "   1.14875990e+00 -2.19406542e-01  6.11314779e-01 -3.71010117e-01\n",
      "   4.09469944e-01 -1.20376245e+00 -1.21377203e+00 -4.89958590e-01]\n",
      " [-7.70239277e-01 -2.34882711e+00  1.15284537e+00  8.44645140e-01\n",
      "   6.10512994e-01  1.94365624e+00 -1.47840843e+00  2.21718099e-01\n",
      "  -7.60923521e-02 -1.75955223e+00  7.16309215e-01 -1.58386196e+00\n",
      "  -2.05264932e-01 -6.76234049e-01  8.77773902e-01  1.81559052e-01\n",
      "   5.01621414e-01  2.84036367e+00  5.71415811e-02 -1.81309538e+00\n",
      "   2.93831259e-01 -1.23230613e+00  3.07593164e-01 -3.72326278e-01\n",
      "   3.73488959e-01 -1.00908958e+00 -1.37645904e+00  3.65912073e-01\n",
      "  -7.16825864e-01  6.92102931e-01  1.68715861e+00  1.24234769e+00\n",
      "   1.11249933e+00  2.31818381e+00 -1.95781292e+00  3.99670914e-01\n",
      "  -1.52144142e+00 -3.35680835e-02 -9.87627753e-02  7.96484802e-01\n",
      "  -1.02598134e+00 -6.72356286e-02 -2.44105658e-01  1.44418529e+00\n",
      "   3.39729532e-01  1.51607340e+00 -2.07814967e-01 -1.39609049e+00\n",
      "  -1.92440085e-02 -1.30119226e+00 -5.50866574e-01 -5.05425655e-01\n",
      "   6.37292885e-01  2.18803686e+00 -1.75274280e+00 -4.75216025e-01\n",
      "   4.82716134e-01  4.62048612e-01 -3.10466342e-01 -5.01031922e-01\n",
      "   6.77522041e-02 -3.04626142e-01  1.42053501e+00 -4.88476549e-01\n",
      "  -1.44078870e+00  3.41572217e-01  2.80400003e-01  4.84576254e-02\n",
      "  -2.71085381e-01 -3.73428298e-01 -5.28625564e-01  1.63586933e+00\n",
      "   2.36776872e+00 -7.98589807e-01 -2.44612982e-01  2.82915446e+00\n",
      "   1.20623890e+00 -1.21891759e+00  1.15094799e+00 -1.89576206e-01\n",
      "  -4.28272573e-01  3.27911414e-01  6.99022261e-01 -1.66466046e+00\n",
      "   4.23638905e-01  1.10496637e+00  7.89750206e-01 -8.66706588e-01\n",
      "   3.46618137e-01  5.54643497e-02  4.25541855e-01 -6.26279826e-01\n",
      "   3.53048259e-01 -1.05191697e+00 -3.65665158e-01 -4.99204345e-01\n",
      "   1.29962832e+00 -4.51159428e-02 -5.03925500e-01  3.50164284e-01]\n",
      " [ 2.54409292e-01  1.50707530e+00  7.87666314e-01  3.70101392e-01\n",
      "   2.00250715e-01 -4.03987000e-01 -1.01941879e+00  1.16170657e+00\n",
      "  -5.99670122e-02 -1.68047851e+00 -6.50741395e-02  8.89005353e-01\n",
      "   6.31324679e-02  1.46871591e+00  2.13401268e-01 -1.08480043e-01\n",
      "  -2.81373642e+00 -1.14632862e+00 -3.87027573e-01 -8.32379008e-02\n",
      "   1.31548099e-01 -9.21233091e-01 -8.19185931e-01 -7.55637809e-01\n",
      "  -1.57316401e-01 -1.16253444e+00 -6.75728102e-01  2.38339789e-01\n",
      "  -4.00046124e-01 -3.57900967e-01 -7.98249438e-01  4.61565957e-01\n",
      "   6.68442519e-01 -3.38580618e-01 -4.86458598e-01 -1.47246473e+00\n",
      "  -2.54233680e+00  8.08387215e-01  1.22085638e-01 -3.23084912e-01\n",
      "  -5.20601656e-01  9.87556656e-01 -8.67172528e-01  7.59521471e-02\n",
      "   1.31012104e+00 -2.87218018e-01 -1.14207929e+00 -6.97059484e-01\n",
      "  -4.30364940e-02 -7.21036724e-01  2.20372482e-01 -9.03060493e-02\n",
      "   3.27268557e-01 -1.22225778e+00 -4.48468959e-02 -9.91407432e-01\n",
      "  -8.89962444e-01 -1.02129334e+00  1.56161971e+00  7.08040605e-01\n",
      "   1.65091278e+00  1.84502993e+00  3.22699607e-01  1.04329173e+00\n",
      "  -4.55205799e-01 -2.24777808e-01 -6.79008095e-01 -2.99315499e-01\n",
      "   1.35688037e+00 -1.70990621e+00 -1.72500478e+00  1.89464655e-01\n",
      "  -1.55613027e+00  2.71084041e+00  2.51175614e+00 -4.12629168e-01\n",
      "   2.74137661e-01 -1.72897157e+00  8.02094240e-01  2.39721508e-01\n",
      "   1.77622727e+00 -2.35588478e+00 -1.09395045e+00  5.40421131e-01\n",
      "  -2.01271009e+00  9.81266557e-01  8.22233155e-02  1.52883292e+00\n",
      "  -1.23074969e+00  1.12286708e+00 -3.83244845e-01  1.22104742e-03\n",
      "  -4.19297106e-01 -7.06443600e-01  1.06236351e+00  1.71660863e-01\n",
      "  -7.87928468e-01  1.14079929e+00 -6.33681489e-01  1.16082548e+00]\n",
      " [ 1.09945337e+00  9.27468795e-01  8.28121541e-01 -7.06722276e-01\n",
      "  -7.40423535e-01  7.85943052e-02 -1.72495037e+00  1.05939280e-02\n",
      "   9.89475148e-01 -3.64142599e-01  8.72020891e-01 -5.32787105e-01\n",
      "  -1.38270831e+00  1.60876843e+00  2.80440260e-01  1.40550467e-02\n",
      "   1.06250315e+00 -7.89601518e-01 -1.03311859e+00 -2.20195175e+00\n",
      "   2.53593470e+00 -8.45513139e-03 -4.78267083e-01 -1.02533775e+00\n",
      "  -2.54844605e-01  1.06185627e-02 -7.71300645e-02 -2.66071288e-01\n",
      "  -1.16904876e-02  5.97667475e-01 -1.98473517e+00 -1.28808431e+00\n",
      "  -8.34869806e-01 -3.21225275e-01  4.40268478e-01 -2.14821182e-01\n",
      "   1.92273692e+00 -1.40327902e+00 -2.94690583e-01 -1.38188068e+00\n",
      "   2.09269639e-01  3.83293769e-01 -1.13839356e+00  7.80958005e-01\n",
      "   8.39363662e-01  9.71168095e-01 -3.81020549e-01 -1.19496148e-01\n",
      "  -1.05983720e+00  9.12651150e-01 -2.10745432e+00 -1.90508435e-01\n",
      "   1.58043101e+00  1.41006339e+00 -3.15505890e+00  3.41731954e-01\n",
      "  -8.02299894e-01  9.88894150e-01 -1.13314528e+00  6.60380074e-01\n",
      "   1.40374397e-01  1.34722942e+00  2.82296292e+00 -5.66538081e-01\n",
      "   5.52451022e-01 -4.07541581e-01 -7.50722454e-01 -1.27286671e-01\n",
      "   1.84116729e+00 -1.13795081e+00  7.61133771e-01 -3.96506026e-02\n",
      "  -6.56127342e-01 -5.25087894e-01  9.33345999e-01 -1.19500370e+00\n",
      "   1.41409894e+00 -1.87637520e-01 -2.13618566e+00  8.46020626e-01\n",
      "  -4.67076112e-01  1.25535496e+00 -2.68959050e+00 -9.74008692e-01\n",
      "  -9.22967094e-01  2.22481268e+00  1.35012383e+00  5.20453953e-01\n",
      "  -1.41824188e-01 -1.23912136e-01 -1.05101687e+00 -6.47544241e-01\n",
      "  -1.43996675e+00 -8.46579752e-01 -1.46419014e-01 -1.77268154e+00\n",
      "  -2.70257529e-01  1.47989771e-01  1.75508469e-01  3.39796802e-01]\n",
      " [ 2.01703403e+00 -2.16583939e+00 -4.05080059e-01 -1.01691248e+00\n",
      "  -1.03720174e+00  1.05988995e+00 -7.15452424e-01 -5.97781812e-02\n",
      "  -1.51034928e+00  7.08744897e-01  1.73816929e-01  7.94316982e-01\n",
      "   1.13376514e+00 -6.67834161e-02 -2.23056072e-01  1.24306298e-01\n",
      "   3.58915496e-01  6.25180911e-01  6.06904634e-03 -5.89736432e-01\n",
      "  -1.13464698e+00  1.05254573e+00  1.10382983e+00  1.71304651e+00\n",
      "   2.51483309e-01  3.48248685e-01  7.83392107e-01 -4.49140342e-01\n",
      "   6.71429422e-01  1.33341189e+00 -5.27196535e-01  2.12636026e-01\n",
      "  -5.52829707e-01 -1.30713852e-01  9.95945422e-01  1.02685550e+00\n",
      "  -1.44667773e+00 -2.00429089e-01  1.12250629e+00 -5.52899447e-02\n",
      "  -6.87412433e-01 -4.92762234e-01 -1.32381605e+00  1.56783567e+00\n",
      "   6.56516388e-01 -2.21002779e+00  1.25110718e+00  8.11995890e-01\n",
      "  -7.38640508e-03  8.22247536e-01 -1.82545031e+00 -7.55310044e-01\n",
      "  -1.14004653e+00 -8.27249459e-01 -5.33839037e-01  2.08513988e-01\n",
      "   1.42852887e+00  4.93597807e-01  2.61492292e-01  1.33236203e+00\n",
      "   2.23172223e+00  4.39110889e-01 -8.92552691e-01 -5.37439110e-01\n",
      "   6.04934791e-01 -7.48349304e-01  1.69375486e+00  1.37157214e+00\n",
      "   1.20058415e+00 -5.13103768e-01 -1.52521924e+00 -3.84491324e-01\n",
      "  -1.02764692e+00 -4.22079347e-02 -3.46816727e-01 -1.48267507e+00\n",
      "   3.76833587e-02  1.19902236e+00  4.10893465e-01  3.54785650e-01\n",
      "   1.40952932e+00  5.26349198e-03 -9.60973661e-01  1.64725518e-01\n",
      "  -7.95149600e-01  2.85365057e-01  4.72168931e-01  3.44325227e-01\n",
      "   6.74000662e-01 -6.98109994e-01  1.50956926e+00 -5.23793882e-01\n",
      "  -5.62092499e-01 -2.47913390e-02 -3.39743921e-01 -5.97422297e-01\n",
      "  -1.59805737e+00  2.63732709e-01  8.52768012e-04 -7.67035499e-01]\n",
      " [-8.60347641e-01 -3.04434307e-01  4.40581456e-01 -3.22537014e-01\n",
      "  -3.29418922e-01  9.34163135e-01 -1.49375012e-01  5.93808668e-01\n",
      "   7.03495134e-01  1.75483985e-01 -9.74993651e-01 -3.16173580e-01\n",
      "   1.38861715e+00 -4.37374260e-01  6.01053408e-02 -3.12427830e-02\n",
      "  -1.38343254e+00 -6.43569799e-02 -8.26450360e-01 -1.06762521e+00\n",
      "   1.47017626e+00 -1.83531273e-01 -3.06357693e-01  7.51116427e-01\n",
      "   3.72712875e-01 -5.93587733e-01  1.07953974e+00 -9.35708546e-01\n",
      "  -3.21391586e-01  1.35618633e+00  3.82263575e-01  1.83822714e-01\n",
      "  -2.63336626e-01 -8.67645876e-01  1.13282159e+00 -3.67515773e-01\n",
      "   4.37401408e-01 -1.79524347e-01  2.04856104e-01 -3.21171720e-01\n",
      "  -1.66981016e+00 -1.98670488e+00  1.58752232e+00 -4.18683291e-01\n",
      "   2.19451553e+00 -3.23834116e-01 -3.58562790e-01 -4.93180000e-01\n",
      "  -2.17918218e+00 -9.17738372e-01 -9.44714324e-01 -4.45041672e-01\n",
      "   3.38834820e-01  4.56328336e-01 -8.02878744e-01  7.83123467e-01\n",
      "  -3.82846786e-01 -1.09914039e+00  6.95017449e-02  1.47745184e+00\n",
      "   1.72001771e+00 -7.16630838e-02 -4.16150569e-01  9.73238960e-01\n",
      "  -3.94805395e-01  5.32994503e-01  2.99901046e-02  3.62565311e-01\n",
      "  -7.43115900e-01  3.52132104e-01  2.74007194e-01 -5.08617078e-01\n",
      "   1.89615651e-01 -7.61785737e-01 -2.17757782e-01  1.64808650e+00\n",
      "  -9.84515691e-01 -6.98656317e-02 -2.90325547e-01 -1.04170391e+00\n",
      "  -5.45545861e-01 -3.50266675e-01  3.21175006e-01 -9.02945842e-01\n",
      "  -7.50985897e-01 -8.76749250e-02  6.86303948e-02 -8.20937031e-01\n",
      "   4.86910668e-01  1.71808063e+00  1.26218480e+00  1.75475054e+00\n",
      "   1.12874804e+00  7.39628686e-01 -1.02911253e+00  9.47456472e-02\n",
      "  -6.16071925e-01  3.45866013e-01  8.53850721e-01  7.24700892e-01]\n",
      " [-1.49830488e+00  4.91221277e-01 -4.59177851e-01  4.65586102e-01\n",
      "  -5.31566026e-02 -4.39878634e-02 -1.26451986e+00 -1.76209873e-01\n",
      "  -8.05968304e-02  9.76327508e-02 -2.48191456e-01 -3.13825621e-01\n",
      "   9.43914811e-01 -4.40724713e-01 -1.73879679e-01 -5.41241058e-02\n",
      "  -3.19720405e-02  1.29782959e-01 -1.17751850e+00 -1.37801511e+00\n",
      "  -1.09553183e+00 -7.54471450e-01 -4.89953347e-01  1.66525848e+00\n",
      "   4.19976276e-01 -2.03155323e-01 -1.03948577e+00 -1.11329161e+00\n",
      "  -1.15654424e+00  1.38014405e-01 -7.52078559e-01 -1.55736931e+00\n",
      "   1.12153972e+00  9.05125355e-01  1.59222496e+00 -1.46309241e+00\n",
      "   7.60725191e-01  1.70442301e-01 -2.53067236e-01  5.39710920e-01\n",
      "  -1.26722902e+00 -3.08943700e-02  7.87844634e-02  1.15168812e+00\n",
      "  -4.47897135e-01 -8.09360803e-01 -3.90378350e-02  8.49431195e-01\n",
      "  -1.30863948e+00 -3.47245266e-01 -7.64120997e-01  9.44149130e-01\n",
      "  -6.09018800e-01 -4.29446702e-01  5.49489478e-01 -4.40524719e-01\n",
      "  -1.76395686e+00  3.97041543e-01  8.20607731e-01 -4.59071979e-01\n",
      "   1.24116231e+00  1.25117461e+00 -1.35432107e-02  2.32278210e+00\n",
      "   1.28322538e+00  1.40015398e+00 -7.45052388e-01  2.35598255e+00\n",
      "   2.34211576e+00  7.56306028e-01  1.05588930e+00 -4.15907005e-02\n",
      "   8.60678913e-01  5.63056165e-01 -5.88117138e-01  8.02158064e-01\n",
      "  -5.95492674e-01 -9.48745012e-01  2.12018729e+00 -1.69383843e+00\n",
      "   1.28187442e-01 -4.93580588e-01 -3.14802765e-01 -2.84074224e-01\n",
      "   2.57167075e+00  1.34436806e+00  1.34168847e+00 -1.49351012e+00\n",
      "  -4.73987908e-01 -1.79584893e+00  7.00892232e-01 -5.27126253e-01\n",
      "   4.66099527e-01 -8.80976360e-01 -3.74461626e-01  5.32664542e-01\n",
      "  -8.26317952e-01 -8.45913867e-01 -1.33243207e-01 -1.27629631e-01]\n",
      " [-3.12822740e-01 -5.43336494e-01 -1.53289559e-01 -2.30469605e+00\n",
      "  -1.23219875e+00  9.52432424e-01 -1.20969290e+00 -3.01311764e-01\n",
      "  -1.19153524e+00  8.92263969e-01 -1.96551687e+00  2.22428386e-01\n",
      "  -1.13387997e+00 -1.46105455e+00 -4.80406908e-01 -2.24458705e+00\n",
      "   1.83667454e+00 -5.46230143e-02 -5.12737775e-01 -5.32571971e-01\n",
      "  -1.57164570e+00  1.13104409e+00 -4.00906190e-01  7.80292848e-01\n",
      "  -8.48789317e-01  3.16872976e-02  7.32623081e-02 -6.87143862e-01\n",
      "   1.85742182e+00  3.47636906e-02  1.60237560e+00 -4.00324957e-01\n",
      "   5.41140836e-01 -4.17749832e-01  3.34276965e-01  2.30143490e-01\n",
      "   2.11907944e-02 -6.68385062e-01 -5.41512608e-01  1.56734054e-01\n",
      "   1.05101797e-01  1.29083930e+00 -1.20708244e+00 -1.63951124e+00\n",
      "  -6.01383099e-01  4.43555813e-01  5.34837116e-01  2.98528653e-01\n",
      "  -8.45274564e-01  1.12894799e+00 -3.41313865e-01  4.23111886e-02\n",
      "   5.64591280e-01 -1.14049004e+00  1.99264679e+00  4.66547290e-01\n",
      "  -2.64598667e-01 -2.06727918e-01  8.44786501e-01 -9.90233832e-01\n",
      "   1.85172437e-01  3.80519301e-01  1.05602190e+00 -1.74998141e+00\n",
      "   7.83552319e-01  5.93401404e-02 -4.77332089e-01  4.95119905e-01\n",
      "   2.84249212e+00 -3.64119965e-01  7.70762647e-02  1.19989946e-01\n",
      "   4.86440170e-01  1.73191897e+00  1.75646243e-01  1.60227389e+00\n",
      "   1.14144807e+00  5.65486526e-01 -1.58975903e-01 -8.09316432e-01\n",
      "  -5.72065413e-01  1.28336892e-01 -1.10747588e+00 -5.01320228e-01\n",
      "   2.06954343e+00 -5.63955531e-02  1.01511890e+00 -8.90296016e-01\n",
      "   1.58334800e-01 -2.07639263e-01 -1.50393971e-01 -6.30118435e-01\n",
      "   1.42683881e-01  4.53300028e-01  6.00048553e-01  2.47511526e+00\n",
      "   8.25744697e-02 -5.79103821e-01  6.59728309e-01  1.54593055e+00]\n",
      " [-1.10030380e+00 -1.34790103e-01 -5.09472969e-01 -4.05882810e-01\n",
      "   9.82241692e-01  8.24046690e-02  3.79176142e-02  2.67836221e-01\n",
      "   6.31470749e-02 -3.86708222e-01 -1.03419358e-02 -1.24467576e+00\n",
      "   1.09921153e+00 -7.54815433e-01 -2.47138715e-01  1.69979390e+00\n",
      "   8.63555887e-01 -9.38752405e-02 -1.95590034e-01 -7.96940681e-01\n",
      "  -4.04247665e-01 -1.79496116e+00  1.83615463e+00 -2.95213137e-01\n",
      "  -2.61510874e-01 -2.15191446e+00 -8.68809559e-01  4.67650563e-02\n",
      "   9.36522552e-01  4.01923735e-01 -9.81647670e-01 -2.14505823e+00\n",
      "   9.81677140e-01  1.44237626e+00  8.51208331e-01  7.79781751e-01\n",
      "   1.14147861e+00 -2.01669940e+00 -4.13258706e-01  1.13234269e+00\n",
      "  -1.22465914e-02  1.82646167e+00  6.83589595e-01 -2.35442789e-01\n",
      "   4.86161310e-01  2.39425120e-01 -9.04364464e-01 -4.56623994e-01\n",
      "   3.71528365e-01  1.19554904e+00 -7.13855101e-01 -9.74269663e-02\n",
      "  -2.23412272e-01  8.87452240e-01 -3.30960153e-01 -2.17558245e+00\n",
      "   3.77168035e-01  2.13973608e-01 -9.95103498e-01 -2.63510026e-01\n",
      "  -2.85765184e+00  9.29470221e-01 -1.17463885e+00 -1.20236125e+00\n",
      "   1.58606408e+00 -2.08160697e+00  2.33434866e+00 -2.30643925e-01\n",
      "   2.59342547e-02  5.05969926e-02  1.22098274e-01  4.17214064e-01\n",
      "  -2.01787505e+00  2.02648526e-02 -5.37760010e-01  1.16205316e+00\n",
      "  -7.02845363e-01  2.61696264e-01  1.08895814e+00  1.41617217e+00\n",
      "   1.01713104e+00 -7.57239799e-01 -6.15830959e-02 -1.02370244e+00\n",
      "  -1.52435508e+00  7.09164456e-01 -2.14235337e-01  8.21791254e-01\n",
      "   1.85906822e-02 -1.32214207e-01 -2.32341274e-01  1.24509918e+00\n",
      "   1.03856255e+00 -1.02755782e-01  1.01424740e+00  7.68948647e-01\n",
      "  -1.26518719e-01 -2.41143287e+00  3.28559562e-01  1.00662353e+00]\n",
      " [-1.21613154e+00  3.15620356e-01 -4.23484237e-01 -1.83010675e-01\n",
      "   2.16295527e+00  1.13292346e+00 -7.74749322e-01  9.68473343e-01\n",
      "  -8.02894263e-01 -7.23177352e-02  1.29857655e+00 -2.07310676e-01\n",
      "   8.63357344e-01  2.18786228e+00  5.13411736e-01  7.10166854e-01\n",
      "  -7.25372001e-01  1.12778232e-01 -1.14598803e+00 -5.88479379e-01\n",
      "   1.48782224e-01 -3.86504199e-01 -3.86333302e-01  2.85723063e-01\n",
      "  -8.59219256e-01  3.49980172e-01 -9.18206931e-01 -2.78883229e-01\n",
      "   6.42185909e-01 -8.31445378e-01  1.64317529e+00  1.49435816e+00\n",
      "  -9.05882788e-01 -5.13583991e-01  4.55572366e-01 -9.85237817e-01\n",
      "  -9.57165296e-01 -9.16475236e-01  5.99269421e-01 -1.98154871e-01\n",
      "   1.65906078e+00  6.81083309e-01 -2.43700196e-01  6.50873280e-01\n",
      "  -1.41773509e+00 -3.75755977e-02 -1.32388665e+00 -1.04454326e+00\n",
      "   8.34352691e-01 -1.08603080e+00  4.06096836e-01 -5.09933912e-01\n",
      "  -2.03376146e+00  5.35063508e-01  6.48534272e-01  2.01581552e+00\n",
      "  -1.39081683e+00 -4.37649084e-01  1.10836171e+00  9.89248184e-01\n",
      "  -3.27139166e-01 -1.48001825e+00  1.00643433e-01  4.08922981e-01\n",
      "   1.28482625e-01 -1.22470543e+00 -1.42985462e+00 -2.01934227e+00\n",
      "  -1.35632890e-01  1.44494516e-01 -7.37384533e-01 -3.80700918e-02\n",
      "  -7.67763618e-01 -5.16010049e-01  1.31402616e-01  2.73707478e-01\n",
      "   2.64515110e-02  9.91077027e-01 -1.40489679e-01 -6.60481171e-01\n",
      "   5.99281345e-01  2.96947093e-01  1.55672931e+00  3.03446451e-01\n",
      "  -1.39875511e+00 -7.84910092e-01 -1.04951913e+00 -1.54382838e+00\n",
      "  -7.47236177e-01  8.22657235e-01  1.23061906e+00 -3.93622959e-01\n",
      "   3.53494971e-01 -1.86237841e-01 -1.54113645e-01 -9.63034135e-01\n",
      "  -1.98623001e+00  1.49960458e+00  3.01192348e+00 -5.47564393e-01]\n",
      " [ 1.13824701e+00 -9.07651369e-01  2.43648467e-01 -1.59518714e-01\n",
      "   5.43832831e-01  1.22618500e-01  8.91621118e-01 -6.41310783e-01\n",
      "  -3.92300156e-01 -1.14953664e+00  3.38072401e-01 -3.08074349e-01\n",
      "  -4.58095075e-02  2.64310686e+00  4.12111790e-01 -1.75088489e-02\n",
      "  -3.66276178e-01 -1.75805630e-01  4.03503975e-02 -6.51435927e-01\n",
      "  -9.49507032e-01  4.51673417e-01 -1.88025227e-01  1.30578499e+00\n",
      "   1.30920313e+00  3.42929573e-01  4.17769940e-01 -1.09753868e+00\n",
      "   2.33533786e-02  7.56669150e-01  6.19726537e-01 -5.89334930e-02\n",
      "  -3.05434329e-01 -1.13574867e-01 -8.05263870e-01  7.23566993e-01\n",
      "   1.61683603e+00  2.62024734e-02  2.22295568e+00 -8.32678780e-01\n",
      "  -7.13591559e-01  1.24303742e+00 -6.18326174e-01 -7.05930500e-01\n",
      "  -8.12198925e-01 -5.06450161e-01 -1.30845681e-01 -4.94683437e-01\n",
      "  -9.93365752e-01  3.40693135e-01 -2.07370711e+00 -1.09295494e+00\n",
      "   1.39396565e-01 -7.98373762e-01 -1.19458032e-01  5.86410961e-01\n",
      "  -2.72497957e-01 -2.04777827e-01 -2.51962891e-02 -6.30185489e-01\n",
      "  -6.94694033e-01 -2.46892323e+00  1.63001798e+00  1.55171342e+00\n",
      "  -7.67041041e-01  2.59228658e-01  6.41423215e-01  1.09354056e+00\n",
      "  -6.04846169e-01 -1.51273450e+00 -6.66489698e-01  1.52444262e-01\n",
      "  -1.44658771e+00  1.66603557e+00 -1.40800575e+00  6.00713974e-01\n",
      "   3.40410530e-01 -1.53272067e-01 -9.58219964e-01  8.39413126e-02\n",
      "  -4.83158044e-02  2.57415594e-01  1.09539557e+00 -2.30322991e+00\n",
      "  -2.98548439e-01 -9.76253193e-01 -1.97212601e+00 -1.84421360e+00\n",
      "  -1.09866426e+00  4.50476547e-01  4.96999584e-01 -1.86560472e-01\n",
      "  -1.35551378e+00 -5.25076773e-02 -7.41194064e-01 -1.55088644e+00\n",
      "  -3.54359003e-01 -1.99765075e+00 -1.31393423e+00  6.11738713e-01]\n",
      " [-4.39653012e-01  1.07525232e+00  1.16882933e-01 -1.11697973e+00\n",
      "  -3.80634582e-01 -9.29484464e-01  3.01955704e-01  3.63843418e-01\n",
      "   7.95371717e-01  2.78734783e-01  7.45301234e-01  1.02659066e+00\n",
      "  -1.28803685e+00 -1.04803275e+00 -8.81701814e-01 -1.45008190e+00\n",
      "  -1.80983471e+00 -1.17883905e+00  6.66290958e-01  2.27820845e-01\n",
      "   4.80312004e-01  4.83197755e-01  2.23166574e-01  4.79610751e-02\n",
      "   8.78142506e-01 -7.21927680e-01 -1.31727232e+00 -6.10233412e-02\n",
      "  -1.39310639e+00 -8.58899509e-01 -4.63173165e-02 -8.52014270e-01\n",
      "   1.68810118e+00  1.18442210e+00  1.13502345e+00  6.70008114e-01\n",
      "  -1.53725081e-01 -2.03268566e+00 -9.35479478e-01 -1.65662571e+00\n",
      "  -3.76380751e-01  1.70502345e+00  1.37199267e-01  1.73749083e-02\n",
      "  -2.05661563e-01  1.56109227e-01 -1.68775077e-01 -1.36569821e+00\n",
      "   2.24296680e+00  7.49662362e-01  2.44891194e-01 -1.39772014e+00\n",
      "  -7.07187986e-01  5.73266917e-01  7.69439591e-01 -6.13812368e-01\n",
      "  -3.68064186e-01  1.48045938e+00  5.56261546e-01 -9.90123454e-01\n",
      "   7.09837600e-01  1.40683063e-01  7.56773606e-01  9.20399799e-01\n",
      "  -2.48520032e+00 -2.09289986e+00  3.76924837e-01  4.19969227e-01\n",
      "  -5.38578697e-01  2.52006713e-02 -1.44757859e+00  1.64791750e+00\n",
      "   1.24583575e+00 -1.29662509e+00  7.85624954e-02  1.75287677e+00\n",
      "  -7.09473589e-01 -2.11539908e+00  9.10896127e-03 -7.60415105e-01\n",
      "   1.53913282e-01  1.42375535e+00 -1.87080697e-01 -8.29998721e-01\n",
      "  -3.36386958e-02  1.14491530e-01  4.45832746e-01  2.94651406e-01\n",
      "   3.19569868e-01  1.10966820e+00 -1.99242712e+00 -5.22705989e-01\n",
      "  -6.94779665e-01 -1.08757708e+00 -8.70058782e-01 -9.49223800e-01\n",
      "   1.36857607e+00 -2.95161824e-01  3.85395244e-01 -2.33085488e-01]\n",
      " [ 3.25223179e-02 -2.51502989e-01 -3.11055824e-01  5.68617382e-01\n",
      "  -1.50037032e+00 -1.24853619e+00 -3.36924244e-01 -3.89457711e-01\n",
      "   1.64912294e+00 -2.31996165e-01  7.53864247e-01 -4.97030001e-01\n",
      "  -3.27682104e-02 -8.88908577e-02  8.37974682e-01  5.76728834e-01\n",
      "   1.43427010e+00  1.98590440e+00  5.16644035e-01 -5.06973434e-01\n",
      "  -4.93392374e-01  1.02454060e+00  1.59376571e-01 -9.21380953e-01\n",
      "   4.29873256e-01  5.61386237e-02 -9.74367037e-01 -1.72458417e+00\n",
      "   2.34977933e-01  3.89466596e-01  9.73252106e-01  8.99331795e-01\n",
      "   1.53558850e+00  9.42182058e-01  1.90994239e-01 -2.20184425e-01\n",
      "   1.17141820e+00  8.97682998e-01 -8.07118069e-01 -2.38587991e-02\n",
      "  -6.67159652e-01 -8.75746602e-01  6.44540002e-01 -3.70968535e-01\n",
      "   8.95512999e-01  1.69001265e+00  3.87786357e-02  8.54660415e-01\n",
      "  -2.44734274e-01 -1.65180562e+00  1.92397102e+00  1.95752285e+00\n",
      "  -7.70959112e-02  1.68179845e-01 -4.54832473e-01 -6.18521238e-01\n",
      "  -1.94165483e-01  1.30665111e+00 -6.87383352e-02  2.12558524e+00\n",
      "  -1.89545662e+00 -3.29297614e+00 -1.72552599e+00 -6.94518530e-01\n",
      "  -2.12396744e-01  5.89205116e-01 -1.71987330e+00 -6.32809297e-02\n",
      "   2.07507667e-01  6.09217100e-01  1.11224358e+00 -2.24324062e-01\n",
      "   9.39301640e-01  4.66608451e-01  3.57911427e-01 -7.23385468e-01\n",
      "   1.30221164e-01  1.01019051e+00 -4.02570001e-01  4.87529772e-01\n",
      "  -1.66019893e-01 -3.29658988e-01 -1.62348954e+00  6.83789272e-02\n",
      "   2.85008520e-01  2.28136741e+00 -3.38968783e-01  7.33470355e-01\n",
      "   8.96622405e-01 -2.58201327e-01  5.10886778e-01  2.67840785e-01\n",
      "  -1.91084432e+00  1.42195596e+00 -8.61425371e-02  1.12593281e-01\n",
      "  -2.51110387e-01  1.73851899e+00 -1.39170006e+00  6.37992740e-01]\n",
      " [ 6.45836712e-01  1.43136046e+00 -8.70417217e-02  7.79971829e-01\n",
      "   1.21246122e+00  7.42257229e-02 -4.13962557e-01 -5.77116898e-02\n",
      "  -6.18213402e-01 -3.61236939e-01 -1.34927158e-01  2.55636485e-01\n",
      "   1.66206571e+00 -9.37821683e-01 -1.18722108e+00  2.25850304e+00\n",
      "  -7.01130714e-01 -1.01686872e-01 -5.19542978e-02  1.23191564e-01\n",
      "  -2.71431629e+00  1.61288668e-01 -3.72887306e-01 -4.32387601e-01\n",
      "   4.06133872e-01  1.86443527e+00 -5.30282531e-01 -2.72502606e-01\n",
      "  -1.79084781e-01 -4.99274623e-01  7.17681345e-01 -5.94086672e-01\n",
      "  -8.73500346e-01  4.42616081e-01 -9.07846793e-02  4.76057094e-01\n",
      "  -4.23461852e-01  7.66924605e-01  1.87155117e+00  1.07239484e+00\n",
      "   1.67252049e+00  2.94403690e-01  7.66143430e-01 -1.28565060e-01\n",
      "   3.44467739e-02 -2.41190248e-01  7.35846539e-01 -9.55650594e-01\n",
      "   1.77433676e-01 -1.46204654e+00 -1.05089813e+00 -8.87069517e-01\n",
      "   9.23245466e-01  9.91006358e-01 -2.68820002e+00 -1.02782610e+00\n",
      "  -5.83448350e-01 -6.76494265e-01  7.50310130e-01  1.12051564e+00\n",
      "  -2.02949169e-01 -8.33191914e-01 -5.57690523e-01 -1.04398392e-01\n",
      "   2.53555362e-03 -3.05977219e-02 -4.11152318e-01  1.46802314e+00\n",
      "   3.08922160e-01  2.12483070e+00  3.70639649e-01 -1.40170784e+00\n",
      "   5.08911278e-01  3.17559732e-01  2.92340433e-01  1.15738298e-01\n",
      "  -9.51734758e-01  2.91613141e-01 -6.60310909e-01 -2.51622394e+00\n",
      "  -4.87824662e-01  1.92042960e-01 -1.02853831e-01 -9.42233428e-01\n",
      "  -7.85476889e-01 -1.88262039e-01 -7.38936761e-01  8.51658565e-01\n",
      "  -3.20301185e-01  6.95742329e-01  1.00414037e+00 -1.97669823e+00\n",
      "   6.78256841e-01 -2.76531737e-01 -3.30915057e-01 -3.46095984e-01\n",
      "  -8.51917854e-01  5.93713172e-01  5.12070031e-01 -4.05626732e-01]\n",
      " [-8.86404632e-01  4.22947891e-01 -9.70500527e-01 -7.02379577e-01\n",
      "  -9.37419076e-01 -9.63264068e-01 -1.03166212e+00 -2.95959072e-01\n",
      "   1.54419298e+00  5.70657254e-01  5.95652752e-01  1.76305692e+00\n",
      "  -3.93647666e-01  2.78577500e-01 -1.44857058e-01  1.47093059e+00\n",
      "   7.72473305e-01  1.71593585e-01  2.91931439e-01  1.25827234e-01\n",
      "  -9.98090514e-01  1.91998600e+00  3.04897392e-01 -2.20104152e-01\n",
      "  -6.52519620e-01  7.44586651e-01 -8.49009702e-01  9.90137727e-01\n",
      "  -1.36982671e+00  1.15874922e+00 -1.73704873e+00 -6.09842463e-01\n",
      "  -6.13139457e-01 -2.36432291e+00  2.21876562e+00 -3.14644098e-01\n",
      "  -3.76712089e-01  8.56346419e-01 -6.62773110e-02  1.22680831e+00\n",
      "   5.03262835e-01 -1.25152295e-01 -6.15985790e-01 -7.44278139e-01\n",
      "  -1.92010779e+00 -4.56030388e-01  7.93607927e-01 -2.22337232e-01\n",
      "  -1.58159674e+00  1.25396703e+00  1.04678401e+00 -1.09821761e+00\n",
      "   4.38079816e-01 -1.66466448e-01 -4.15630037e-01 -1.60342325e-02\n",
      "  -1.52039075e-01 -1.35223097e+00 -1.37696589e+00  1.77636071e-01\n",
      "  -2.89981899e-01 -2.91017813e-01  1.83365679e-01 -1.07656640e+00\n",
      "  -2.56582824e-01 -2.70903251e-01 -1.03098371e+00 -1.15575021e-01\n",
      "   1.39536461e+00 -6.83154714e-01 -2.35931005e+00 -1.04534019e+00\n",
      "   1.37730460e+00  2.06434263e+00 -5.89675324e-01 -7.34767323e-02\n",
      "   1.16852605e+00 -5.67965587e-01  1.22723400e+00  1.99976298e+00\n",
      "  -5.83369520e-02  2.70547067e-01 -1.37416306e+00  3.53614921e-01\n",
      "  -6.93321624e-01  6.09672247e-02  9.55156983e-01  5.43643997e-01\n",
      "  -1.40823423e+00  1.00955966e+00  1.60873499e+00  2.19051783e-01\n",
      "  -5.00295422e-01  9.56536957e-01  5.89221301e-01 -1.56930356e+00\n",
      "  -1.31609806e+00  8.24368604e-01  1.63921066e+00  8.71792010e-01]\n",
      " [ 1.58743944e+00 -1.18755665e+00  5.74159705e-01  1.71761151e-01\n",
      "  -2.69239387e-01  2.23492496e-01  1.00384909e+00  5.74020301e-01\n",
      "   5.35514009e-01  6.40453976e-01 -1.41960563e+00  1.03401276e+00\n",
      "  -1.34256705e-01 -1.11047060e+00 -1.02536585e+00  1.23365994e+00\n",
      "  -1.13678516e+00 -6.54029706e-01  9.55429525e-01 -6.06626110e-01\n",
      "   5.94685045e-01  1.55432688e-01 -1.67823437e-01 -1.49060363e+00\n",
      "   2.19635815e+00 -2.18981441e+00  1.15330978e+00  1.11799778e+00\n",
      "  -3.82398950e-01 -5.02233346e-01  3.39571380e-01 -4.58123071e-01\n",
      "  -4.29295934e-01 -1.03436692e+00  1.13808938e+00  8.13156606e-01\n",
      "   9.44222443e-01  1.55457716e-01 -1.35747054e+00  4.16210549e-01\n",
      "   1.43584710e+00  2.14297313e-01 -5.29575728e-01 -1.93201834e+00\n",
      "  -1.36162642e+00 -1.47965576e+00  3.65305735e-01  2.99978420e-01\n",
      "  -6.53261606e-02  2.28635614e+00 -1.71930799e+00  2.49661971e-01\n",
      "   8.51189109e-01 -1.46508545e+00 -1.33296870e+00 -7.78825521e-01\n",
      "   7.78321427e-01 -4.03997693e-01 -2.99651486e-01  1.02319250e+00\n",
      "  -1.15994675e+00  1.71031372e+00 -5.51105367e-01 -5.24073237e-01\n",
      "   1.82763543e+00  2.84733117e-01  6.38304750e-02 -1.68291126e+00\n",
      "   2.90622341e+00  3.10836436e-01  1.08855967e-01 -1.21380388e+00\n",
      "   1.27393630e+00  9.34236274e-01  1.53920983e-02 -1.46005952e+00\n",
      "  -3.03606555e-01  4.23768397e-01  1.12866378e+00 -3.95823163e-03\n",
      "   3.56620787e-01 -4.15183663e-01 -6.91055756e-01 -1.50969010e+00\n",
      "   3.36377475e-01  1.26890119e+00  1.08956666e-01  8.76783559e-01\n",
      "  -2.09715278e+00 -8.77146637e-02 -1.63591686e+00  8.80461278e-01\n",
      "   7.74846476e-01 -8.08598373e-01  1.34322852e+00  6.71864847e-01\n",
      "   9.55879644e-01 -5.47380209e-01 -8.95954478e-01 -9.34684399e-01]\n",
      " [-4.25004812e-01  1.53050389e+00 -1.20447623e+00  9.75351706e-01\n",
      "  -1.50590946e+00 -1.40274008e+00 -1.37661641e+00 -1.49381337e+00\n",
      "   7.33304249e-01  3.33907089e-02 -1.02655908e+00  1.46480065e+00\n",
      "   6.03044907e-01  1.10562029e+00  1.13510082e+00  1.03704757e+00\n",
      "  -1.27396249e+00  4.27633863e-01 -2.22786530e-01  6.92079951e-01\n",
      "   1.87697793e-01 -1.45009905e+00 -1.36538179e+00 -6.28118528e-01\n",
      "   6.48702115e-01 -1.13547495e+00  5.65139276e-01 -1.19068050e+00\n",
      "  -1.22191918e+00 -3.16228670e-01 -9.57539698e-01  3.14732199e-01\n",
      "   9.11469662e-01 -9.43976861e-01  9.48996696e-01  9.63220348e-01\n",
      "  -6.81128306e-01 -1.02618056e+00 -3.25300841e-01  2.47244343e-01\n",
      "  -2.20655210e-01 -9.34314557e-01  1.45216262e+00 -1.52679676e+00\n",
      "   2.12688155e-01  2.08953443e-01 -1.25368821e-02  5.67700063e-01\n",
      "  -2.07604355e-01 -1.07392628e+00  1.43608096e+00  3.32917581e-01\n",
      "  -4.45305907e-02  1.08945534e+00  6.66372246e-01  1.38736057e+00\n",
      "  -9.32282520e-01  3.08135221e-01  4.69787608e-01  1.68574612e+00\n",
      "  -1.17035271e+00 -6.89853674e-01 -2.48599542e-01  2.49766885e-01\n",
      "  -7.82219745e-01 -1.19215565e-02 -9.88600596e-01  2.11457221e-01\n",
      "  -1.45387130e+00 -7.25131714e-01 -7.36538422e-01 -7.08506028e-01\n",
      "  -7.53493056e-01 -3.76735699e-01 -3.19041656e-01 -7.78082367e-01\n",
      "  -2.63830430e+00  2.42074513e+00  5.86082566e-01 -1.92559374e+00\n",
      "   2.12511767e+00 -5.26515101e-01 -4.58052098e-01  3.21285868e-01\n",
      "  -1.02498760e-01  3.89188248e-01  6.25364182e-01 -2.06006827e+00\n",
      "   5.86138922e-02 -1.32409875e+00 -8.63928083e-01  5.96571590e-01\n",
      "  -1.24643814e+00  4.09100381e-01 -3.41008824e-01 -1.22858493e-01\n",
      "  -6.05318553e-01 -1.52963157e-01 -2.39707811e+00 -1.63401389e-01]\n",
      " [ 2.09768180e+00  4.02273126e-01  1.13124725e+00  1.16783768e+00\n",
      "   1.27626657e+00  4.32680802e-01  1.93116075e-01 -1.27672362e+00\n",
      "   6.61354084e-01 -1.00578452e+00  2.88537349e-01  1.39513673e+00\n",
      "   5.08792414e-01 -3.37738354e-01 -4.65238197e-01  6.33405347e-01\n",
      "  -2.36354041e-01 -2.66090663e-01 -8.22366454e-01 -3.42530834e-01\n",
      "   1.47519969e+00  1.12258153e+00  1.44010038e+00 -1.68272820e+00\n",
      "   6.40201735e-01 -8.03373977e-01 -5.24921572e-01  8.64016457e-01\n",
      "   1.11389660e-01 -1.71497914e+00 -7.37934893e-01  1.68346828e-01\n",
      "  -1.07587721e+00 -7.00108097e-01  1.37481912e-01  1.38565451e+00\n",
      "   9.00234895e-01  9.89656529e-01  2.27567859e+00  3.78744192e-01\n",
      "  -9.42053587e-01 -4.48423330e-01  9.05303197e-01  1.43557213e+00\n",
      "  -8.48060376e-01  1.20576879e-01  2.79470006e-01 -3.58189291e-01\n",
      "   6.80011830e-01  9.49386572e-01 -1.91182784e+00  4.11167951e-01\n",
      "   1.11062053e+00  1.28376299e+00 -1.83781863e-03  5.64914171e-01\n",
      "   3.10908792e-01 -4.52887493e-01 -6.75176090e-01  1.19730096e+00\n",
      "   5.47954965e-01 -7.24607663e-01  4.38655186e-01  1.19718865e+00\n",
      "   4.42963293e-01  6.85815772e-02 -1.17826176e-02 -5.61912078e-01\n",
      "  -1.82202796e+00  9.13764458e-01  1.74792087e-01  1.47450762e-01\n",
      "  -1.72887858e+00 -8.73226805e-01  3.29906672e-01  3.46330234e-01\n",
      "  -4.75264815e-01  6.95553819e-01 -1.04392055e+00 -1.67592132e+00\n",
      "   5.44749577e-01  3.03340243e-01 -1.99730659e+00  2.21123631e+00\n",
      "  -4.95944559e-02 -2.17786239e-01 -3.76849516e-01 -8.65371829e-01\n",
      "   1.30682137e+00  4.35578159e-01 -7.63162095e-01  8.33730439e-01\n",
      "  -1.47765156e+00 -4.04480882e-01 -1.21286333e+00 -1.19713695e+00\n",
      "   3.26523311e-01  1.97781542e-01  5.71230531e-01  1.34036573e+00]\n",
      " [-8.05512147e-01  4.26984815e-01 -1.51347188e+00 -1.00649337e+00\n",
      "  -1.28061847e-01 -3.55101820e-01 -1.40466877e+00  4.92332108e-01\n",
      "   1.51894117e-01  8.86758222e-01  3.30898064e-01 -1.19112402e-01\n",
      "   1.06856201e+00 -7.76511071e-01  2.36554909e-01 -9.67266386e-01\n",
      "   6.56147791e-01 -4.78898791e-02 -5.02840982e-01 -1.18924934e+00\n",
      "   6.47950219e-01 -2.41796241e-01  9.15922496e-01 -5.19216383e-01\n",
      "  -1.44674023e+00 -4.07698443e-01 -1.23938843e+00 -1.02431317e+00\n",
      "  -1.22406836e-01 -9.37061863e-01  7.86829192e-02 -6.59426288e-01\n",
      "  -3.47276004e-02 -2.49499715e-01  9.41583905e-01  8.93322290e-01\n",
      "   4.77422157e-01  1.76037609e+00 -2.24892196e+00 -1.13735001e+00\n",
      "  -7.08808051e-01  1.01248926e-01 -1.40985413e+00 -3.70056816e-01\n",
      "  -1.81207021e+00 -1.03854439e+00  3.40403111e-01  1.10575128e+00\n",
      "   8.97525662e-01  6.38063190e-01 -8.31781044e-01 -2.04610746e-01\n",
      "   2.96116839e-01  2.29529793e-01  9.03314092e-01 -2.55694674e-01\n",
      "  -1.03792855e-01  5.68957234e-01  1.93969509e-01 -2.09514949e+00\n",
      "  -9.41398947e-01  1.40851720e+00  2.56618310e-01 -1.25919695e+00\n",
      "   1.37799720e+00  7.39243517e-01 -3.96037318e-03 -4.57095488e-01\n",
      "   6.89815705e-01 -1.00374850e+00 -1.97419248e-01 -1.93630354e-02\n",
      "  -9.11184969e-01 -5.67276168e-01  1.25614569e-01  1.37461411e-01\n",
      "  -2.05541983e-01 -1.36687238e-01 -3.31151826e-01  7.61278937e-01\n",
      "  -1.79114320e-02  9.57523717e-01 -2.52553640e-01 -7.85109622e-01\n",
      "   1.24472569e+00 -2.39783630e-01 -1.52220068e-01 -6.05344726e-01\n",
      "  -5.12615718e-01  1.56321302e-01  5.27925064e-01  9.54681867e-01\n",
      "  -5.73966545e-01 -2.27238904e+00  1.30158758e+00  2.07266592e+00\n",
      "  -1.16203457e+00 -6.50689613e-01  1.25771118e+00 -6.65585937e-02]\n",
      " [-1.99247077e-01 -1.18108918e+00 -6.33115544e-01  9.54501955e-01\n",
      "  -6.81302830e-01  1.44416905e+00  1.89085562e+00  1.12584788e+00\n",
      "   1.25705641e+00  2.74685297e-01  5.90169187e-01  1.77476410e+00\n",
      "   1.13966998e-01  2.61519647e-01 -1.41981629e+00  1.32560141e+00\n",
      "   1.95101395e+00 -3.07967330e-01  2.77142460e-01  3.75239028e-01\n",
      "  -1.62212920e+00 -5.18834102e-01 -5.41005889e-01  6.23389193e-01\n",
      "   1.68780973e-01 -2.61431870e-01 -3.56336075e-01 -1.22235068e+00\n",
      "   7.79539073e-01  1.35967387e+00  1.14759439e+00  1.46867157e+00\n",
      "   3.14324252e-01 -8.69488034e-01  4.97594072e-02 -1.08433370e+00\n",
      "   4.23386979e-01  2.37939532e-01 -4.64479271e-01 -9.02244237e-01\n",
      "  -6.31982913e-02 -3.55003107e-01 -3.92656980e-01  1.01083141e+00\n",
      "   9.62564549e-01 -8.68416489e-01 -1.56434522e+00 -1.14203179e+00\n",
      "   1.41390721e-01 -6.39350153e-01  2.01327650e-01  1.28878858e+00\n",
      "  -6.99167248e-01  1.56344406e+00  5.80044410e-01 -7.58412728e-01\n",
      "  -1.21312170e+00  6.04206939e-01 -1.24673650e-01  1.38103389e+00\n",
      "   7.47677404e-01 -6.59411732e-01 -1.79729101e+00  1.99433152e+00\n",
      "  -8.78171898e-02  9.99201082e-01  8.44209311e-01  8.98623829e-01\n",
      "  -2.18985841e-01 -2.44975975e-01 -9.48789864e-01  8.88669006e-01\n",
      "   5.78738244e-01 -1.50538125e+00  6.72716685e-01  9.07870934e-01\n",
      "  -1.42394198e+00  2.90616947e-01  7.25162920e-01 -6.42175088e-01\n",
      "  -6.35076881e-01  1.29273304e+00 -3.44846777e-01  2.43882933e-01\n",
      "  -2.51184286e-01 -8.51630709e-01  3.48554941e-01 -1.32982992e-01\n",
      "   1.82434811e+00  1.65557816e+00 -1.78346039e-01  2.09997757e+00\n",
      "   7.98677646e-01  1.45577442e+00  4.79906401e-02  9.32880231e-03\n",
      "   2.43230324e-01  4.50619917e-01 -7.57987281e-01 -2.57947445e-01]\n",
      " [-2.50189236e+00 -7.79137912e-01  1.07784293e-01  4.75571629e-02\n",
      "   1.93270811e-01  1.22010559e-01  6.45790683e-01 -3.13861668e-01\n",
      "  -6.10248695e-01  9.74564772e-01  2.84429397e-01  1.28178279e+00\n",
      "  -5.77858241e-01 -1.83741400e+00 -2.13630152e-01  3.52906024e-01\n",
      "   1.76103494e+00  5.16590559e-01 -5.44228298e-01 -3.23503982e-01\n",
      "   2.71523731e-01 -8.27779816e-01 -1.15929693e-01 -9.46791466e-02\n",
      "   9.41463484e-01  2.49002547e-01 -8.83672524e-01  1.01123298e+00\n",
      "  -4.90707967e-01  1.59485682e+00 -1.11122981e+00  1.13840331e+00\n",
      "  -7.76750176e-01 -8.72130134e-01  1.43133232e-01 -1.10533596e+00\n",
      "   1.72192708e-01  1.56789240e+00 -6.43977944e-01  9.53902894e-02\n",
      "   6.09377737e-01  4.00825655e-01 -5.63549619e-01 -6.37821385e-01\n",
      "  -3.88291492e-01  8.18427411e-01 -9.05748564e-02 -3.07109582e-02\n",
      "  -1.22745875e-02  8.95241917e-02 -8.24664926e-02  5.31132365e-01\n",
      "  -1.97968096e-01 -7.54403205e-01  3.76080254e-01  5.04328637e-01\n",
      "   1.36009238e+00 -5.68607518e-01 -4.44584390e-02  1.36265033e-01\n",
      "   1.61472089e+00 -3.78484921e-01 -1.29871825e+00 -5.46168096e-01\n",
      "  -2.02839634e+00 -5.18770303e-01  1.38077375e+00  5.43007930e-01\n",
      "   3.37883514e-01  2.24713994e-02  5.07977130e-01  1.43445830e+00\n",
      "   9.10947868e-01 -9.95171473e-01  1.82487353e-01 -1.12918962e+00\n",
      "  -3.89125588e-01  1.87824971e+00  8.17331861e-02  1.64539958e+00\n",
      "  -5.90426879e-01 -6.16778804e-01 -1.32230868e+00 -2.37389515e+00\n",
      "   5.59205171e-01 -2.20194101e+00  2.21221619e-01 -1.10254507e-01\n",
      "  -9.09618647e-01 -4.09449638e-01  1.80102957e+00  9.33910357e-01\n",
      "  -9.20823610e-01 -5.84920418e-01  5.02324931e-01 -8.14201823e-01\n",
      "   2.21730548e-01 -1.65164237e+00 -1.34070455e+00  6.67592680e-01]\n",
      " [ 8.68078863e-01  1.33583170e-01  1.13304548e-02  1.00867993e+00\n",
      "  -2.49450894e-01 -2.54384933e+00  1.14281421e-01 -1.36965746e+00\n",
      "   6.30923759e-02 -1.60260451e-02 -1.14561815e+00 -1.82217391e-01\n",
      "   4.02211581e-01  1.56706028e+00 -1.80760111e-01 -1.40578002e+00\n",
      "  -2.49901649e-01 -7.62204637e-01  1.30114148e+00  6.28077103e-01\n",
      "   1.23877374e+00 -6.39185553e-01 -1.03216883e+00 -7.86334073e-01\n",
      "  -3.26187150e-02  8.58228841e-01 -9.94891899e-02  5.99012578e-01\n",
      "   1.42574964e+00  9.48235676e-01 -4.81818478e-01 -9.94751958e-01\n",
      "  -7.46318478e-01 -2.16073327e-01 -1.51222858e+00  2.14651543e-01\n",
      "  -9.39464146e-01 -1.64737114e+00  1.87724359e+00  2.13870989e-03\n",
      "  -5.82355072e-01 -1.18490444e-01  2.74877706e-01  1.09790907e+00\n",
      "  -3.16371833e-01  5.62021888e-01 -2.15914686e+00  5.94788126e-01\n",
      "   3.76751216e-01  9.50741048e-01 -3.06883214e-01  6.14716226e-01\n",
      "   9.83910387e-01 -2.12670196e+00 -1.78031630e-01 -2.14786191e-01\n",
      "  -8.17956942e-02  2.82466122e-01 -8.61208574e-01 -8.34303871e-01\n",
      "  -3.24490083e-01  7.57704048e-02  1.86457445e-02 -8.59848800e-01\n",
      "  -8.59696831e-03 -1.84340400e-02 -2.10976022e+00  7.09272152e-01\n",
      "   4.18291769e-01  7.37224472e-01  1.17469104e+00  8.97493139e-01\n",
      "  -1.04608481e+00  7.11326837e-01 -7.14943247e-01 -1.20843572e+00\n",
      "   1.03399479e+00  1.28611269e+00 -6.07746657e-01  4.82186921e-01\n",
      "   2.60662930e-01 -6.14203007e-01 -7.78464829e-01  6.97598303e-01\n",
      "  -2.20347450e-01 -6.63834021e-01  4.50135858e-01  1.20233329e+00\n",
      "   1.79782898e+00 -3.33545911e-01 -1.88625974e+00 -5.16324298e-01\n",
      "   1.17123718e-01  2.29074666e+00 -6.58028106e-01  1.34603427e-01\n",
      "  -7.28972526e-01  1.03776480e+00 -1.02661037e+00  1.00703459e-01]\n",
      " [ 6.57527228e-02 -8.37530474e-01 -1.40781099e+00 -2.18151026e-01\n",
      "   6.53552656e-01  8.12519366e-01  7.73014555e-01  4.23035844e-01\n",
      "  -1.69587568e+00  9.20412048e-01  9.94886517e-01  1.33132692e+00\n",
      "  -1.01666792e+00 -2.80412131e-01  1.12896234e+00  2.59115666e+00\n",
      "   5.44314210e-01 -9.93056247e-01 -4.49979541e-01 -1.66973202e-01\n",
      "   2.98929628e-01  1.08730074e+00  1.12867380e+00  5.20923605e-01\n",
      "  -5.70801153e-01  3.08302895e-03 -3.11646654e-02 -1.00837129e+00\n",
      "   7.45329718e-01 -1.69448198e+00 -1.48850660e+00 -1.65542325e+00\n",
      "   1.00358348e+00  1.83281890e+00 -1.40203608e+00 -2.57327040e+00\n",
      "  -5.62688638e-01 -1.02101492e+00 -4.51038313e-01 -2.73298999e+00\n",
      "  -1.38939239e+00  1.84135782e-01 -2.67982628e+00 -1.28003400e+00\n",
      "  -4.19006669e-01  2.83381157e-01 -2.29738814e-01  1.07704927e+00\n",
      "  -2.20921735e-01  1.06174018e+00  1.55384101e+00 -3.48629369e-01\n",
      "  -1.76366531e-01  2.85406052e-01  2.13609071e+00 -6.10354399e-01\n",
      "  -1.20414867e+00 -1.26556555e+00  8.04161791e-01 -5.54298355e-01\n",
      "   1.78059941e-01 -8.07558193e-01  6.15142304e-01 -2.59910200e-01\n",
      "  -3.14384825e-01  1.95409918e+00 -2.78080961e-01  8.27884618e-01\n",
      "   5.34100342e-01  1.19276966e-01  1.13150670e+00  1.05938722e+00\n",
      "   7.42040806e-02 -1.52960690e+00 -6.69585375e-02  1.49805786e+00\n",
      "   6.44098526e-01  2.18429246e-01 -1.61978746e-01 -1.76683777e+00\n",
      "  -8.07111616e-01 -1.44679929e+00 -1.83390728e-01 -4.07579288e-01\n",
      "  -1.12521799e+00 -7.27350481e-01 -3.54912691e-01 -1.56752371e+00\n",
      "  -1.07900678e+00  2.49007930e-01  1.97986906e-01 -4.99219743e-01\n",
      "  -8.78609909e-01  2.93504585e-03  1.10778889e+00 -1.33453839e+00\n",
      "  -1.72250463e+00  1.32130863e+00 -1.09414200e+00 -1.04018517e+00]\n",
      " [ 3.88240190e-01 -3.98908241e-01 -1.56177655e+00 -1.35054738e-01\n",
      "  -2.47215348e-01 -2.45007562e-01 -7.30169950e-01 -2.34978364e-02\n",
      "   4.63741264e-01 -1.29586270e+00  1.70030496e+00 -6.25184147e-01\n",
      "   9.91265561e-01  6.92011480e-01  1.54780509e+00  1.13666052e-01\n",
      "  -1.12797128e-01  7.40440090e-01 -6.02858326e-01 -7.38810516e-01\n",
      "   4.04956459e-01 -1.70109340e-01  1.47002142e+00 -3.37835428e-01\n",
      "   5.75294899e-01 -3.73083746e-01 -1.03572108e+00  1.77169031e+00\n",
      "   1.05363705e+00 -7.97309878e-01 -7.08516024e-01  5.21811992e-01\n",
      "  -7.94544676e-01 -6.08823535e-01 -4.92709669e-01 -9.84314640e-01\n",
      "  -1.36845760e+00 -1.45726087e+00 -6.75848898e-01  1.31292241e-01\n",
      "  -1.57890510e+00 -8.75452033e-01  3.99573842e-01  1.09851562e+00\n",
      "  -1.53655544e+00  5.26883231e-01 -2.43098895e-01 -1.25930155e-01\n",
      "   5.89688591e-01 -1.12357182e+00  6.87589991e-01  1.54224767e-01\n",
      "  -4.72841014e-02  3.15465026e-01  2.05787754e-01  3.70817971e-01\n",
      "  -3.07143219e-01  8.10597100e-01 -4.97644720e-01 -4.16781077e-01\n",
      "  -3.70090657e-01 -5.02392140e-01  4.52918939e-01 -8.88336782e-01\n",
      "   7.78358374e-01 -9.96117259e-01  8.16626264e-01  1.87024142e+00\n",
      "   1.53031842e+00 -1.72308093e-01  3.93430938e-01 -9.24614901e-01\n",
      "  -3.72098693e-01 -3.38530900e-01 -2.43087416e+00 -8.87226995e-02\n",
      "   1.89949393e-01  2.81570703e-01  7.26802152e-01 -1.24620409e+00\n",
      "   2.85019542e-01  1.00382845e+00 -4.11376660e-01  2.99163186e-01\n",
      "   2.14428414e-01  1.66547034e-01  3.07840229e-01  4.96880374e-02\n",
      "  -2.07389873e+00 -1.33862568e+00  1.23496967e+00 -2.85998884e-01\n",
      "  -7.68195555e-01 -1.98553175e+00  2.43597927e+00 -9.33708306e-02\n",
      "  -8.45486392e-01  1.78190322e-01  4.39684168e-01 -8.33013177e-01]\n",
      " [ 1.09771768e+00  2.50350849e-01 -3.71945936e-01  1.32578053e+00\n",
      "  -1.39779044e+00  6.52437465e-01 -2.81641293e-01 -9.49679462e-01\n",
      "  -1.02613566e+00 -1.22878588e+00 -1.00487416e+00 -9.29514823e-01\n",
      "  -3.04492154e-01 -2.81288964e-01  1.51324740e-01  3.94583428e-01\n",
      "  -1.35427275e+00  1.34451938e+00  1.24751976e+00  1.17031076e-01\n",
      "  -1.03774735e+00 -4.22995144e-01 -1.06983706e+00  2.93209974e-03\n",
      "   2.56292740e-02  1.54684744e+00 -4.91928656e-01 -8.61098504e-01\n",
      "  -2.03668800e+00 -1.98581778e+00  1.70255880e-01 -2.61084020e-01\n",
      "   1.18027740e+00 -8.07160548e-01 -9.98594132e-01 -9.48333310e-01\n",
      "   5.63901103e-01  6.44303793e-01  2.03271571e-01  6.76389392e-01\n",
      "   8.26443464e-01  5.32951049e-01  7.93960904e-01 -1.40651076e+00\n",
      "  -1.52789524e+00  2.54146888e-02  5.92360522e-01 -7.31857134e-02\n",
      "   5.50975637e-01 -6.75699398e-01  1.58527287e+00  5.31841744e-01\n",
      "  -9.54971226e-01  3.82661576e-01  1.63859108e+00  1.17484045e+00\n",
      "   3.46457615e-01 -4.19300274e-01  2.37443564e-01  1.63080757e+00\n",
      "  -2.56619764e-01 -5.38189804e-01  2.55999369e-01 -1.60770150e-01\n",
      "  -1.10510368e+00 -1.54534322e+00 -9.89279549e-01  4.85209548e-01\n",
      "  -9.96616533e-01  2.57060934e-01 -1.57602006e+00  5.39482164e-02\n",
      "   9.26679508e-01  1.15347331e-01 -1.40866638e+00  1.06477176e+00\n",
      "   8.10311354e-01 -8.41289174e-01 -3.64932589e-01  5.78760331e-01\n",
      "  -1.58600761e-02 -1.61792218e+00  2.71226035e-01  2.19569722e-01\n",
      "  -1.15696928e+00  6.92228888e-01 -3.25194266e-01 -2.80746721e-01\n",
      "   1.04262672e+00 -2.34742341e-01 -3.27239237e-01 -8.46587875e-01\n",
      "  -1.00612982e+00  1.28470421e+00 -2.47368423e-01  1.45576823e+00\n",
      "  -1.98255715e+00 -3.63952141e-01 -8.64335453e-01 -4.96996262e-01]\n",
      " [-8.09980367e-01 -1.78396178e-01 -6.67758117e-01  1.05252016e+00\n",
      "  -9.95216246e-01  7.84219435e-02 -1.68646717e+00  1.89896252e-01\n",
      "  -1.60490397e+00  1.98335324e+00  4.32293652e-01  5.48403556e-01\n",
      "  -4.12884884e-01 -1.76460184e-02 -1.90668188e+00  2.97730195e-01\n",
      "   3.11825753e-01  3.51104563e-01  1.14685144e+00 -5.72093585e-01\n",
      "  -9.52307974e-01 -7.95857425e-01  9.01772254e-01  4.83337841e-01\n",
      "   9.02847162e-01  7.09814646e-01  5.73542055e-01 -2.58659525e+00\n",
      "  -1.19001579e+00  8.52089899e-01  5.38796542e-01 -1.69634068e-01\n",
      "   1.07241131e+00 -3.91841527e-01 -4.18175170e-01  1.16736298e+00\n",
      "   5.77736053e-01 -9.81762414e-01  1.68342319e+00 -3.17576511e-01\n",
      "   2.22352091e-01  9.21022367e-01  6.73693462e-01 -1.56753220e-01\n",
      "   5.63977452e-01 -4.85810447e-02  6.15665918e-01 -1.38053423e+00\n",
      "  -1.01027568e+00  1.38654794e+00  7.53529148e-01  7.19914839e-01\n",
      "   6.92498448e-01  8.53980304e-01 -1.03644474e+00 -6.90283264e-01\n",
      "   4.06986571e-01  6.18616500e-01 -4.16837825e-01 -1.79355957e-01\n",
      "   4.85103801e-01 -5.21057838e-01  7.23049249e-01 -2.41768039e-01\n",
      "   9.40277361e-01  1.08574908e+00  2.14624920e-01  6.98996182e-01\n",
      "   2.73343220e-01  5.30479808e-01 -5.68503573e-01 -1.09715756e+00\n",
      "   2.55958054e-01  9.44234119e-01 -1.70463112e+00  1.23715911e+00\n",
      "   7.48737200e-01  9.74966395e-01 -7.30708001e-02 -1.90585991e+00\n",
      "  -2.25875510e+00 -7.69473274e-01 -1.10277520e+00  9.22274724e-01\n",
      "  -2.53253535e-01  2.58697759e-01  3.73284119e-01 -1.25560584e-01\n",
      "  -7.53789683e-01  4.64526217e-01  3.68331813e-02  1.30491421e+00\n",
      "  -8.59492313e-01  2.29188525e-01  9.96792658e-02 -1.59091036e+00\n",
      "   1.15082960e+00 -5.74127078e-01  7.21765933e-01 -2.16509044e-02]]\n"
     ]
    },
    {
     "data": {
      "image/png": "[encoded data removed]",
      "text/plain": [
       "<Figure size 640x480 with 2 Axes>"
      ]
     },
     "metadata": {},
     "output_type": "display_data"
    }
   ],
   "source": [
    "import numpy as np\n",
    "import matplotlib.pyplot as plt\n",
    "\n",
    "mean = 0          \n",
    "std_dev = 1     \n",
    "shape = (100, 100)\n",
    "\n",
    "gaussian_array = np.random.normal(mean, std_dev, shape)\n",
    "\n",
    "print(gaussian_array)\n",
    "\n",
    "plt.imshow(gaussian_array, cmap='viridis', interpolation='nearest')\n",
    "plt.colorbar()\n",
    "plt.title(\"2D Gaussian-like Array\")\n",
    "plt.show()\n"
   ]
  },
  {
   "cell_type": "markdown",
   "id": "2e76d589",
   "metadata": {},
   "source": [
    "#### 57. How to randomly place p elements in a 2D array? (★★☆)"
   ]
  },
  {
   "cell_type": "code",
   "execution_count": 86,
   "id": "0c2e4fcc",
   "metadata": {},
   "outputs": [
    {
     "name": "stdout",
     "output_type": "stream",
     "text": [
      "[[0 0 0 0 1]\n",
      " [0 1 0 0 0]\n",
      " [0 0 0 1 0]\n",
      " [0 1 0 1 0]\n",
      " [0 0 0 0 0]]\n"
     ]
    }
   ],
   "source": [
    "import numpy as np\n",
    "\n",
    "shape = (5, 5)   # Shape of the 2D array (5x5)\n",
    "p = 5            # Number of elements to randomly place\n",
    "value = 1        # Value to assign to the random positions\n",
    "\n",
    "array = np.zeros(shape, dtype=int)\n",
    "\n",
    "indices = np.random.choice(array.size, p, replace=False)\n",
    "\n",
    "row_indices, col_indices = np.unravel_index(indices, shape)\n",
    "\n",
    "array[row_indices, col_indices] = value\n",
    "\n",
    "print(array)\n"
   ]
  },
  {
   "cell_type": "markdown",
   "id": "8b3933eb",
   "metadata": {},
   "source": [
    "#### 58. Subtract the mean of each row of a matrix (★★☆)"
   ]
  },
  {
   "cell_type": "code",
   "execution_count": 87,
   "id": "a306c9ef",
   "metadata": {},
   "outputs": [
    {
     "name": "stdout",
     "output_type": "stream",
     "text": [
      "[[0 0 1 0 1]\n",
      " [0 1 0 0 0]\n",
      " [0 0 1 0 0]\n",
      " [0 0 0 0 0]\n",
      " [1 0 0 0 0]]\n"
     ]
    }
   ],
   "source": [
    "import numpy as np\n",
    "\n",
    "shape = (5, 5)   # Shape of the 2D array (5x5)\n",
    "p = 5            # Number of elements to randomly place\n",
    "value = 1        # Value to assign to the random positions\n",
    "\n",
    "array = np.zeros(shape, dtype=int)\n",
    "\n",
    "indices = np.random.choice(array.size, p, replace=False)\n",
    "\n",
    "row_indices, col_indices = np.unravel_index(indices, shape)\n",
    "\n",
    "array[row_indices, col_indices] = value\n",
    "\n",
    "print(array)\n"
   ]
  },
  {
   "cell_type": "markdown",
   "id": "ea8807c0",
   "metadata": {},
   "source": [
    "#### 59. How to sort an array by the nth column? (★★☆)"
   ]
  },
  {
   "cell_type": "code",
   "execution_count": 88,
   "id": "cc89a699",
   "metadata": {},
   "outputs": [
    {
     "name": "stdout",
     "output_type": "stream",
     "text": [
      "Original Array:\n",
      " [[57 53  3 42]\n",
      " [63 27  4 95]\n",
      " [16 92 31 96]\n",
      " [62 44 29 25]\n",
      " [98 86  7 21]]\n",
      "\n",
      "Array Sorted by Column 2:\n",
      " [[57 53  3 42]\n",
      " [63 27  4 95]\n",
      " [98 86  7 21]\n",
      " [62 44 29 25]\n",
      " [16 92 31 96]]\n"
     ]
    }
   ],
   "source": [
    "import numpy as np\n",
    "\n",
    "array = np.random.randint(1, 100, (5, 4))  # 5 rows, 4 columns\n",
    "\n",
    "n = 2\n",
    "\n",
    "sorted_array = array[array[:, n].argsort()]\n",
    "\n",
    "print(\"Original Array:\\n\", array)\n",
    "print(f\"\\nArray Sorted by Column {n}:\\n\", sorted_array)\n"
   ]
  },
  {
   "cell_type": "markdown",
   "id": "00fa00a1",
   "metadata": {},
   "source": [
    "#### 60. How to tell if a given 2D array has null columns? (★★☆)"
   ]
  },
  {
   "cell_type": "code",
   "execution_count": 89,
   "id": "3436e165",
   "metadata": {},
   "outputs": [
    {
     "name": "stdout",
     "output_type": "stream",
     "text": [
      "Original Array:\n",
      " [[0 2 0 4]\n",
      " [0 0 0 5]\n",
      " [0 7 0 8]]\n",
      "\n",
      "Null Columns (all-zero): [ True False  True False]\n",
      "Indices of Null Columns: [0 2]\n"
     ]
    }
   ],
   "source": [
    "import numpy as np\n",
    "\n",
    "array = np.array([\n",
    "    [0, 2, 0, 4],\n",
    "    [0, 0, 0, 5],\n",
    "    [0, 7, 0, 8]\n",
    "])\n",
    "\n",
    "null_columns = np.all(array == 0, axis=0)\n",
    "\n",
    "print(\"Original Array:\\n\", array)\n",
    "print(\"\\nNull Columns (all-zero):\", null_columns)\n",
    "\n",
    "null_col_indices = np.where(null_columns)[0]\n",
    "print(\"Indices of Null Columns:\", null_col_indices)\n"
   ]
  },
  {
   "cell_type": "markdown",
   "id": "5a65c7a2",
   "metadata": {},
   "source": [
    "#### 61. Find the nearest value from a given value in an array (★★☆)"
   ]
  },
  {
   "cell_type": "code",
   "execution_count": 90,
   "id": "73f149d6",
   "metadata": {},
   "outputs": [
    {
     "name": "stdout",
     "output_type": "stream",
     "text": [
      "Array: [91.87452794 55.42815648 32.74786243  7.76936968  6.02439001 36.49972964\n",
      " 49.0432716  38.74251008 44.13124527 47.15136054]\n",
      "Target Value: 50\n",
      "Nearest Value: 49.043271600593656 (Index: 6)\n"
     ]
    }
   ],
   "source": [
    "import numpy as np\n",
    "\n",
    "array = np.random.uniform(0, 100, 10)  \n",
    "\n",
    "target_value = 50\n",
    "\n",
    "nearest_index = np.abs(array - target_value).argmin()\n",
    "\n",
    "nearest_value = array[nearest_index]\n",
    "\n",
    "print(\"Array:\", array)\n",
    "print(f\"Target Value: {target_value}\")\n",
    "print(f\"Nearest Value: {nearest_value} (Index: {nearest_index})\")\n"
   ]
  },
  {
   "cell_type": "markdown",
   "id": "dd83e8af",
   "metadata": {},
   "source": [
    "#### 62. Considering two arrays with shape (1,3) and (3,1), how to compute their sum using an iterator? (★★☆)"
   ]
  },
  {
   "cell_type": "code",
   "execution_count": 165,
   "id": "da03e114",
   "metadata": {},
   "outputs": [
    {
     "name": "stdout",
     "output_type": "stream",
     "text": [
      "Sum of elements using iterator: 21\n"
     ]
    }
   ],
   "source": [
    "import numpy as np\n",
    "\n",
    "# Define the two arrays\n",
    "A = np.array([[1, 2, 3]])  # Shape (1, 3)\n",
    "B = np.array([[4], [5], [6]])  # Shape (3, 1)\n",
    "\n",
    "# Compute the sum using an iterator\n",
    "sum_result = 0\n",
    "for a, b in zip(A.flatten(), B.flatten()):\n",
    "    sum_result += a + b\n",
    "\n",
    "print(f\"Sum of elements using iterator: {sum_result}\")\n"
   ]
  },
  {
   "cell_type": "markdown",
   "id": "6c042efa",
   "metadata": {},
   "source": [
    "#### 63. Create an array class that has a name attribute (★★☆)"
   ]
  },
  {
   "cell_type": "code",
   "execution_count": 94,
   "id": "45b3d2e0",
   "metadata": {},
   "outputs": [
    {
     "name": "stdout",
     "output_type": "stream",
     "text": [
      "Array Content:\n",
      " [[1 2 3]\n",
      " [4 5 6]]\n",
      "Array Name: MyArray\n",
      "\n",
      "New Array After Addition:\n",
      " [[11 12 13]\n",
      " [14 15 16]]\n",
      "New Array Name: MyArray\n"
     ]
    }
   ],
   "source": [
    "import numpy as np\n",
    "\n",
    "class NamedArray(np.ndarray):\n",
    "    def __new__(cls, input_array, name=\"Default\"):\n",
    "        \n",
    "        obj = np.asarray(input_array).view(cls)\n",
    "    \n",
    "        obj.name = name\n",
    "        return obj\n",
    "    \n",
    "    def __array_finalize__(self, obj):\n",
    "        if obj is None: \n",
    "            return\n",
    "        \n",
    "        self.name = getattr(obj, 'name', \"Default\")\n",
    "\n",
    "\n",
    "data = np.array([[1, 2, 3], [4, 5, 6]])\n",
    "named_array = NamedArray(data, name=\"MyArray\")\n",
    "                         \n",
    "print(\"Array Content:\\n\", named_array)\n",
    "print(\"Array Name:\", named_array.name)\n",
    "\n",
    "new_array = named_array + 10\n",
    "print(\"\\nNew Array After Addition:\\n\", new_array)\n",
    "print(\"New Array Name:\", new_array.name)\n"
   ]
  },
  {
   "cell_type": "markdown",
   "id": "0a075c3d",
   "metadata": {},
   "source": [
    "#### 64. Consider a given vector, how to add 1 to each element indexed by a second vector (be careful with repeated indices)? (★★★)"
   ]
  },
  {
   "cell_type": "code",
   "execution_count": 95,
   "id": "36c50470",
   "metadata": {},
   "outputs": [
    {
     "name": "stdout",
     "output_type": "stream",
     "text": [
      "Updated Vector: [0 0 2 1 0 2 0 1 0 0]\n"
     ]
    }
   ],
   "source": [
    "import numpy as np\n",
    "\n",
    "vector = np.zeros(10, dtype=int)\n",
    "\n",
    "indices = np.array([2, 3, 2, 5, 5, 7])\n",
    "\n",
    "np.add.at(vector, indices, 1)\n",
    "\n",
    "print(\"Updated Vector:\", vector)\n"
   ]
  },
  {
   "cell_type": "markdown",
   "id": "0fb2f0c5",
   "metadata": {},
   "source": [
    "#### 65. How to accumulate elements of a vector (X) to an array (F) based on an index list (I)? (★★★)"
   ]
  },
  {
   "cell_type": "code",
   "execution_count": 96,
   "id": "58aa5f82",
   "metadata": {},
   "outputs": [
    {
     "name": "stdout",
     "output_type": "stream",
     "text": [
      "Vector X: [1 2 3 4 5]\n",
      "Index List I: [0 1 2 1 3]\n",
      "Accumulated Array F: [1 6 3 5 0]\n"
     ]
    }
   ],
   "source": [
    "import numpy as np\n",
    "\n",
    "X = np.array([1, 2, 3, 4, 5])   \n",
    "I = np.array([0, 1, 2, 1, 3])   \n",
    "\n",
    "F = np.zeros(5, dtype=int)\n",
    "\n",
    "np.add.at(F, I, X)\n",
    "\n",
    "print(\"Vector X:\", X)\n",
    "print(\"Index List I:\", I)\n",
    "print(\"Accumulated Array F:\", F)\n"
   ]
  },
  {
   "cell_type": "markdown",
   "id": "d89dc506",
   "metadata": {},
   "source": [
    "#### 66. Considering a (w,h,3) image of (dtype=ubyte), compute the number of unique colors (★★☆)"
   ]
  },
  {
   "cell_type": "code",
   "execution_count": 97,
   "id": "8fb43a49",
   "metadata": {},
   "outputs": [
    {
     "name": "stdout",
     "output_type": "stream",
     "text": [
      "Image Array:\n",
      " [[[169  40 169]\n",
      "  [250 203 205]\n",
      "  [140  38 232]\n",
      "  [235  94 236]]\n",
      "\n",
      " [[214  99 111]\n",
      "  [225  53  85]\n",
      "  [197 162  62]\n",
      "  [118  85 181]]\n",
      "\n",
      " [[155   5  23]\n",
      "  [ 61 111 114]\n",
      "  [ 13 128  62]\n",
      "  [168  80  15]]\n",
      "\n",
      " [[ 88 110  54]\n",
      "  [161   6 243]\n",
      "  [ 86  20  23]\n",
      "  [103 128  70]]]\n",
      "\n",
      "Unique Colors:\n",
      " [[ 13 128  62]\n",
      " [ 61 111 114]\n",
      " [ 86  20  23]\n",
      " [ 88 110  54]\n",
      " [103 128  70]\n",
      " [118  85 181]\n",
      " [140  38 232]\n",
      " [155   5  23]\n",
      " [161   6 243]\n",
      " [168  80  15]\n",
      " [169  40 169]\n",
      " [197 162  62]\n",
      " [214  99 111]\n",
      " [225  53  85]\n",
      " [235  94 236]\n",
      " [250 203 205]]\n",
      "\n",
      "Number of Unique Colors: 16\n"
     ]
    }
   ],
   "source": [
    "import numpy as np\n",
    "\n",
    "w, h = 4, 4  \n",
    "image = np.random.randint(0, 256, (w, h, 3), dtype=np.uint8)\n",
    "\n",
    "reshaped_image = image.reshape(-1, 3)\n",
    "\n",
    "unique_colors = np.unique(reshaped_image, axis=0)\n",
    "\n",
    "num_unique_colors = len(unique_colors)\n",
    "\n",
    "print(\"Image Array:\\n\", image)\n",
    "print(\"\\nUnique Colors:\\n\", unique_colors)\n",
    "print(f\"\\nNumber of Unique Colors: {num_unique_colors}\")\n"
   ]
  },
  {
   "cell_type": "markdown",
   "id": "535a5d81",
   "metadata": {},
   "source": [
    "#### 67. Considering a four dimensions array, how to get sum over the last two axis at once? (★★★)"
   ]
  },
  {
   "cell_type": "code",
   "execution_count": 98,
   "id": "f954ab9d",
   "metadata": {},
   "outputs": [
    {
     "name": "stdout",
     "output_type": "stream",
     "text": [
      "Original Array Shape: (3, 4, 5, 6)\n",
      "\n",
      "Sum Over Last Two Axes:\n",
      " [[135 118 106 160]\n",
      " [130 106 104 127]\n",
      " [134 151  99 155]]\n"
     ]
    }
   ],
   "source": [
    "import numpy as np\n",
    "\n",
    "array = np.random.randint(0, 10, (3, 4, 5, 6))\n",
    "\n",
    "sum_result = np.sum(array, axis=(-2, -1))\n",
    "\n",
    "print(\"Original Array Shape:\", array.shape)\n",
    "print(\"\\nSum Over Last Two Axes:\\n\", sum_result)\n"
   ]
  },
  {
   "cell_type": "markdown",
   "id": "eee66d3c",
   "metadata": {},
   "source": [
    "#### 68. Considering a one-dimensional vector D, how to compute means of subsets of D using a vector S of same size describing subset  indices? (★★★)"
   ]
  },
  {
   "cell_type": "code",
   "execution_count": 100,
   "id": "8929773a",
   "metadata": {},
   "outputs": [
    {
     "name": "stdout",
     "output_type": "stream",
     "text": [
      "vector D: [10 20 30 40 50 60]\n",
      "subset indices S: [0 1 0 2 1 2]\n",
      "subset means: [20. 35. 50.]\n"
     ]
    }
   ],
   "source": [
    "import numpy as np\n",
    "\n",
    "D = np.array([10, 20, 30, 40, 50, 60])   \n",
    "S = np.array([0, 1, 0, 2, 1, 2])         \n",
    "\n",
    "max_index = np.max(S) + 1  \n",
    "sums = np.zeros(max_index)  \n",
    "counts = np.zeros(max_index)  \n",
    "\n",
    "np.add.at(sums, S, D)  \n",
    "np.add.at(counts, S, 1) \n",
    "\n",
    "means = sums / counts\n",
    "print(\"vector D:\", D)\n",
    "print(\"subset indices S:\", S)\n",
    "print(\"subset means:\", means)\n",
    "\n"
   ]
  },
  {
   "cell_type": "markdown",
   "id": "f90d4c40",
   "metadata": {},
   "source": [
    "#### 69. How to get the diagonal of a dot product? (★★★)"
   ]
  },
  {
   "cell_type": "code",
   "execution_count": 101,
   "id": "b47d392d",
   "metadata": {},
   "outputs": [
    {
     "name": "stdout",
     "output_type": "stream",
     "text": [
      "Dot Product:\n",
      " [[ 25  28]\n",
      " [ 57  64]\n",
      " [ 89 100]]\n",
      "\n",
      "Diagonal of the Dot Product: [25 64]\n"
     ]
    }
   ],
   "source": [
    "import numpy as np\n",
    "\n",
    "A = np.array([[1, 2], [3, 4], [5, 6]])  # Shape (3, 2)\n",
    "B = np.array([[7, 8], [9, 10]])         # Shape (2, 2)\n",
    "\n",
    "dot_product = np.dot(A, B)\n",
    "\n",
    "diagonal = np.diagonal(dot_product)\n",
    "\n",
    "print(\"Dot Product:\\n\", dot_product)\n",
    "print(\"\\nDiagonal of the Dot Product:\", diagonal)\n"
   ]
  },
  {
   "cell_type": "markdown",
   "id": "a8a97e7d",
   "metadata": {},
   "source": [
    "#### 70. Consider the vector [1, 2, 3, 4, 5], how to build a new vector with 3 consecutive zeros interleaved between each value? (★★★)"
   ]
  },
  {
   "cell_type": "code",
   "execution_count": 102,
   "id": "ee6c6c37",
   "metadata": {},
   "outputs": [
    {
     "name": "stdout",
     "output_type": "stream",
     "text": [
      "[1, 0, 0, 0, 2, 0, 0, 0, 3, 0, 0, 0, 4, 0, 0, 0, 5]\n"
     ]
    }
   ],
   "source": [
    "original_vector = [1, 2, 3, 4, 5]\n",
    "new_vector = []\n",
    "\n",
    "for value in original_vector:\n",
    "    new_vector.append(value)  \n",
    "    new_vector.extend([0, 0, 0])  \n",
    "\n",
    "new_vector = new_vector[:-3]\n",
    "\n",
    "print(new_vector)\n"
   ]
  },
  {
   "cell_type": "markdown",
   "id": "d6a30d60",
   "metadata": {},
   "source": [
    "#### 71. Consider an array of dimension (5,5,3), how to mulitply it by an array with dimensions (5,5)? (★★★)"
   ]
  },
  {
   "cell_type": "code",
   "execution_count": 103,
   "id": "e9703f2e",
   "metadata": {},
   "outputs": [
    {
     "name": "stdout",
     "output_type": "stream",
     "text": [
      "[[[0.03430256 0.36381491 0.663017  ]\n",
      "  [0.14449679 0.06662068 0.02089148]\n",
      "  [0.04883032 0.03493858 0.00611268]\n",
      "  [0.02748617 0.77968809 0.00267167]\n",
      "  [0.152939   0.61114508 0.2548114 ]]\n",
      "\n",
      " [[0.50512956 0.31370255 0.62464976]\n",
      "  [0.05304032 0.02284436 0.09635446]\n",
      "  [0.05000541 0.03136967 0.08201812]\n",
      "  [0.28242746 0.24214853 0.19925111]\n",
      "  [0.02383587 0.61383226 0.23142501]]\n",
      "\n",
      " [[0.22232806 0.17249958 0.14008257]\n",
      "  [0.4834217  0.40700065 0.627991  ]\n",
      "  [0.01602469 0.07056641 0.0483805 ]\n",
      "  [0.06843393 0.16428161 0.13238129]\n",
      "  [0.24785638 0.48720469 0.56701176]]\n",
      "\n",
      " [[0.04218058 0.17401231 0.51260362]\n",
      "  [0.403036   0.28533036 0.24846474]\n",
      "  [0.00325375 0.01002795 0.0139818 ]\n",
      "  [0.47900143 0.56617929 0.73725914]\n",
      "  [0.2528643  0.34191852 0.27409064]]\n",
      "\n",
      " [[0.69612282 0.62135235 0.58958337]\n",
      "  [0.00191621 0.02387429 0.00422732]\n",
      "  [0.76953145 0.07201341 0.82269759]\n",
      "  [0.23982412 0.67301199 0.60748434]\n",
      "  [0.07649846 0.76325731 0.64197572]]]\n"
     ]
    }
   ],
   "source": [
    "import numpy as np\n",
    "\n",
    "array1 = np.random.rand(5, 5, 3)\n",
    "\n",
    "array2 = np.random.rand(5, 5)\n",
    "\n",
    "result = array1 * array2[:, :, np.newaxis]\n",
    "\n",
    "print(result)\n"
   ]
  },
  {
   "cell_type": "markdown",
   "id": "bac359a9",
   "metadata": {},
   "source": [
    "#### 72. How to swap two rows of an array? (★★★)"
   ]
  },
  {
   "cell_type": "code",
   "execution_count": 105,
   "id": "f1b432b1",
   "metadata": {},
   "outputs": [
    {
     "name": "stdout",
     "output_type": "stream",
     "text": [
      "Original Array:\n",
      "[[ 1  2  3  4  5]\n",
      " [ 6  7  8  9 10]\n",
      " [11 12 13 14 15]\n",
      " [16 17 18 19 20]\n",
      " [21 22 23 24 25]]\n"
     ]
    }
   ],
   "source": [
    "import numpy as np\n",
    "\n",
    "array = np.array([[1, 2, 3, 4, 5],\n",
    "                  [6, 7, 8, 9, 10],\n",
    "                  [11, 12, 13, 14, 15],\n",
    "                  [16, 17, 18, 19, 20],\n",
    "                  [21, 22, 23, 24, 25]])\n",
    "\n",
    "print(\"Original Array:\")\n",
    "print(array)\n",
    "\n",
    "i, j = 1, 3 \n",
    "\n",
    "array[[i, j]] = array[[j,i]]\n"
   ]
  },
  {
   "cell_type": "markdown",
   "id": "620c9f83",
   "metadata": {},
   "source": [
    "#### 73. Consider a set of 10 triplets describing 10 triangles (with shared vertices), find the set of unique line segments composing all the  triangles (★★★)"
   ]
  },
  {
   "cell_type": "code",
   "execution_count": 164,
   "id": "be435614",
   "metadata": {},
   "outputs": [
    {
     "name": "stdout",
     "output_type": "stream",
     "text": [
      "Unique edges (as sorted pairs):\n",
      "(np.int64(3), np.int64(4))\n",
      "(np.int64(4), np.int64(6))\n",
      "(np.int64(5), np.int64(7))\n",
      "(np.int64(0), np.int64(2))\n",
      "(np.int64(8), np.int64(9))\n",
      "(np.int64(0), np.int64(8))\n",
      "(np.int64(1), np.int64(3))\n",
      "(np.int64(1), np.int64(9))\n",
      "(np.int64(6), np.int64(8))\n",
      "(np.int64(4), np.int64(5))\n",
      "(np.int64(5), np.int64(6))\n",
      "(np.int64(0), np.int64(1))\n",
      "(np.int64(2), np.int64(4))\n",
      "(np.int64(1), np.int64(2))\n",
      "(np.int64(7), np.int64(9))\n",
      "(np.int64(6), np.int64(7))\n",
      "(np.int64(3), np.int64(5))\n",
      "(np.int64(0), np.int64(9))\n",
      "(np.int64(2), np.int64(3))\n",
      "(np.int64(7), np.int64(8))\n"
     ]
    }
   ],
   "source": [
    "import numpy as np\n",
    "\n",
    "# Example set of triplets (each triplet defines a triangle with 3 vertices)\n",
    "triplets = np.array([\n",
    "    [0, 1, 2],  # Triangle 1\n",
    "    [2, 3, 4],  # Triangle 2\n",
    "    [4, 5, 6],  # Triangle 3\n",
    "    [6, 7, 8],  # Triangle 4\n",
    "    [8, 9, 0],  # Triangle 5\n",
    "    [1, 2, 3],  # Triangle 6\n",
    "    [3, 4, 5],  # Triangle 7\n",
    "    [5, 6, 7],  # Triangle 8\n",
    "    [7, 8, 9],  # Triangle 9\n",
    "    [9, 0, 1]   # Triangle 10\n",
    "])\n",
    "\n",
    "# Function to find unique edges\n",
    "def find_unique_edges(triplets):\n",
    "    edges = set()  # Use a set to store unique edges\n",
    "    for triplet in triplets:\n",
    "        # Extract all three edges from the triangle (unordered pairs)\n",
    "        edges.add(tuple(sorted([triplet[0], triplet[1]])))\n",
    "        edges.add(tuple(sorted([triplet[1], triplet[2]])))\n",
    "        edges.add(tuple(sorted([triplet[2], triplet[0]])))\n",
    "    \n",
    "    return edges\n",
    "\n",
    "# Get the unique edges\n",
    "unique_edges = find_unique_edges(triplets)\n",
    "\n",
    "# Convert the set to a list and print\n",
    "unique_edges_list = list(unique_edges)\n",
    "print(\"Unique edges (as sorted pairs):\")\n",
    "for edge in unique_edges_list:\n",
    "    print(edge)\n"
   ]
  },
  {
   "cell_type": "markdown",
   "id": "a76c55a2",
   "metadata": {},
   "source": [
    "#### 74. Given a sorted array C that corresponds to a bincount, how to produce an array A such that np.bincount(A) == C? (★★★)"
   ]
  },
  {
   "cell_type": "code",
   "execution_count": 117,
   "id": "2d2ae65a",
   "metadata": {},
   "outputs": [
    {
     "name": "stdout",
     "output_type": "stream",
     "text": [
      "Array A: [0 0 1 1 1 2]\n"
     ]
    }
   ],
   "source": [
    "import numpy as np\n",
    "\n",
    "C = np.array([2, 3, 1])\n",
    "\n",
    "A = np.concatenate([np.full(count, i) for i, count in enumerate(C)])\n",
    "\n",
    "print(\"Array A:\", A)\n"
   ]
  },
  {
   "cell_type": "markdown",
   "id": "d550c8e2",
   "metadata": {},
   "source": [
    "#### 75. How to compute averages using a sliding window over an array? (★★★)"
   ]
  },
  {
   "cell_type": "code",
   "execution_count": 118,
   "id": "841c457c",
   "metadata": {},
   "outputs": [
    {
     "name": "stdout",
     "output_type": "stream",
     "text": [
      "Sliding window averages: [np.float64(2.0), np.float64(3.0), np.float64(4.0), np.float64(5.0), np.float64(6.0), np.float64(7.0), np.float64(8.0), np.float64(9.0)]\n"
     ]
    }
   ],
   "source": [
    "import numpy as np\n",
    "\n",
    "def sliding_window_avg(arr, window_size):\n",
    "    result = []\n",
    "    window_sum = sum(arr[:window_size])  \n",
    "    result.append(window_sum / window_size)  \n",
    "    \n",
    "    for i in range(window_size, len(arr)):\n",
    "    \n",
    "        window_sum += arr[i] - arr[i - window_size]\n",
    "        result.append(window_sum / window_size)\n",
    "    \n",
    "    return result\n",
    "\n",
    "arr = np.array([1, 2, 3, 4, 5, 6, 7, 8, 9, 10])\n",
    "window_size = 3\n",
    "averages = sliding_window_avg(arr, window_size)\n",
    "\n",
    "print(\"Sliding window averages:\", averages)\n"
   ]
  },
  {
   "cell_type": "markdown",
   "id": "6b170b00",
   "metadata": {},
   "source": [
    "#### 76. Consider a one-dimensional array Z, build a two-dimensional array whose first row is (Z[0],Z[1],Z[2]) and each subsequent row is  shifted by 1 (last row should be (Z[-3],Z[-2],Z[-1]) (★★★)"
   ]
  },
  {
   "cell_type": "code",
   "execution_count": 119,
   "id": "d9a0cf4e",
   "metadata": {},
   "outputs": [
    {
     "name": "stdout",
     "output_type": "stream",
     "text": [
      "Shifted 2D Array:\n",
      "[[1 2 3]\n",
      " [2 3 4]\n",
      " [3 4 5]\n",
      " [4 5 6]\n",
      " [5 6 7]\n",
      " [6 7 8]\n",
      " [7 8 9]]\n"
     ]
    }
   ],
   "source": [
    "import numpy as np\n",
    "\n",
    "def build_shifted_array(Z):\n",
    "    \n",
    "    n = len(Z)\n",
    "    result = np.array([Z[i:i+3] for i in range(n - 2)])\n",
    "    return result\n",
    "\n",
    "Z = np.array([1, 2, 3, 4, 5, 6, 7, 8, 9])\n",
    "shifted_array = build_shifted_array(Z)\n",
    "\n",
    "print(\"Shifted 2D Array:\")\n",
    "print(shifted_array)\n"
   ]
  },
  {
   "cell_type": "markdown",
   "id": "e94a5c1d",
   "metadata": {},
   "source": [
    "#### 77. How to negate a boolean, or to change the sign of a float inplace? (★★★)"
   ]
  },
  {
   "cell_type": "code",
   "execution_count": 120,
   "id": "c0f9504f",
   "metadata": {},
   "outputs": [
    {
     "name": "stdout",
     "output_type": "stream",
     "text": [
      "True\n"
     ]
    }
   ],
   "source": [
    "bool_val = True\n",
    "\n",
    "bool_val = not bool_val  \n",
    "bool_val = bool_val != True\n",
    "\n",
    "print(bool_val) \n"
   ]
  },
  {
   "cell_type": "markdown",
   "id": "4eb8b5c1",
   "metadata": {},
   "source": [
    "#### 78. Consider 2 sets of points P0,P1 describing lines (2d) and a point p, how to compute distance from p to each line i (P0[i],P1[i])? (★★★)"
   ]
  },
  {
   "cell_type": "code",
   "execution_count": 129,
   "id": "0f30327e",
   "metadata": {},
   "outputs": [
    {
     "name": "stdout",
     "output_type": "stream",
     "text": [
      "Distances from p to each line:\n",
      "[np.float64(1.0), np.float64(0.0), np.float64(1.118033988749895)]\n"
     ]
    }
   ],
   "source": [
    "import numpy as np\n",
    "\n",
    "def point_to_line_distance(p, P0, P1):\n",
    "    \"\"\"\n",
    "    Compute the perpendicular distance from point p to the line defined by points P0 and P1.\n",
    "    p, P0, P1 are (x, y) coordinates.\n",
    "    \"\"\"\n",
    "    x0, y0 = p\n",
    "    x1, y1 = P0\n",
    "    x2, y2 = P1\n",
    "    \n",
    "    # Compute the numerator and denominator of the distance formula\n",
    "    numerator = abs((x2 - x1) * (y1 - y0) - (x1 - x0) * (y2 - y1))\n",
    "    denominator = np.sqrt((x2 - x1)**2 + (y2 - y1)**2)\n",
    "    \n",
    "    # Return the distance\n",
    "    return numerator / denominator\n",
    "def compute_distances(p, P0, P1):\n",
    "    \"\"\"\n",
    "    Compute the distance from point p to each line (P0[i], P1[i]).\n",
    "    P0 and P1 are lists of points (arrays).\n",
    "    \"\"\"\n",
    "    distances = []\n",
    "    for i in range(len(P0)):\n",
    "        dist = point_to_line_distance(p, P0[i], P1[i])\n",
    "        distances.append(dist)\n",
    "    return distances\n",
    "\n",
    "# Example usage\n",
    "P0 = np.array([[0, 0], [1, 1], [0, 2]])  # Array of points P0 (start points of lines)\n",
    "P1 = np.array([[1, 0], [3, 1], [2, 3]])  # Array of points P1 (end points of lines)\n",
    "p = np.array([0.5, 1])  # Point p\n",
    "\n",
    "# Compute the distances from p to each line (P0[i], P1[i])\n",
    "distances = compute_distances(p, P0, P1)\n",
    "\n",
    "print(\"Distances from p to each line:\")\n",
    "print(distances)\n",
    "\n",
    "\n"
   ]
  },
  {
   "cell_type": "markdown",
   "id": "3df99948",
   "metadata": {},
   "source": [
    "#### 79. Consider 2 sets of points P0,P1 describing lines (2d) and a set of points P, how to compute distance from each point j (P[j]) to each line i (P0[i],P1[i])? (★★★)"
   ]
  },
  {
   "cell_type": "code",
   "execution_count": 128,
   "id": "dc2df37b",
   "metadata": {},
   "outputs": [
    {
     "name": "stdout",
     "output_type": "stream",
     "text": [
      "Distances from each point to each line:\n",
      "[[1.         0.         1.11803399]\n",
      " [2.         1.         0.89442719]\n",
      " [3.         2.         0.4472136 ]]\n"
     ]
    }
   ],
   "source": [
    "import numpy as np\n",
    "\n",
    "def point_to_line_distance(p, P0, P1):\n",
    "\n",
    "    x0, y0 = p\n",
    "    x1, y1 = P0\n",
    "    x2, y2 = P1\n",
    "    \n",
    "    numerator = abs((x2 - x1)*(y1 - y0) - (x1 - x0)*(y2 - y1))\n",
    "    denominator = np.sqrt((x2 - x1)**2 + (y2 - y1)**2)\n",
    "    return numerator / denominator\n",
    "\n",
    "def compute_distances(P, P0, P1):\n",
    "    distances = []\n",
    "    for p in P:\n",
    "        point_distances = []\n",
    "        for i in range(len(P0)):  \n",
    "            point_distances.append(point_to_line_distance(p, P0[i], P1[i]))\n",
    "        distances.append(point_distances)\n",
    "    return np.array(distances)\n",
    "P0 = np.array([[0, 0], [1, 1], [0, 2]])  # Array of points P0 (start points of lines)\n",
    "P1 = np.array([[1, 0], [3, 1], [2, 3]])  # Array of points P1 (end points of lines)\n",
    "P = np.array([[0.5, 1], [2, 2], [1, 3]])  # Array of points P\n",
    "\n",
    "# Compute the distances from each point P[j] to each line (P0[i], P1[i])\n",
    "distances = compute_distances(P, P0, P1)\n",
    "\n",
    "print(\"Distances from each point to each line:\")\n",
    "print(distances)\n"
   ]
  },
  {
   "cell_type": "markdown",
   "id": "11e972c2",
   "metadata": {},
   "source": [
    "#### 80. Consider an arbitrary array, write a function that extract a subpart with a fixed shape and centered on a given element (pad with a `fill` value when necessary) (★★★)"
   ]
  },
  {
   "cell_type": "code",
   "execution_count": 131,
   "id": "0291247f",
   "metadata": {},
   "outputs": [
    {
     "name": "stdout",
     "output_type": "stream",
     "text": [
      "Extracted Subarray:\n",
      "[[ 1  2  3]\n",
      " [ 5  6  7]\n",
      " [ 9 10 11]]\n"
     ]
    }
   ],
   "source": [
    "import numpy as np\n",
    "\n",
    "def extract_subarray(arr, center, shape, fill_value=0):\n",
    "    \"\"\"\n",
    "    Extract a subarray from the array arr, centered on the element at 'center' with the given 'shape'.\n",
    "    Pad with 'fill_value' if necessary.\n",
    "    \n",
    "    Parameters:\n",
    "        arr (ndarray): The input array.\n",
    "        center (tuple): The (row, col) index of the center element.\n",
    "        shape (tuple): The shape of the subarray (rows, cols).\n",
    "        fill_value: The value to use for padding.\n",
    "    \n",
    "    Returns:\n",
    "        ndarray: The extracted subarray with padding where necessary.\n",
    "    \"\"\"\n",
    "    rows, cols = shape\n",
    "    row_start, col_start = center\n",
    "\n",
    "    # Calculate the bounds for the subarray\n",
    "    half_rows = rows // 2\n",
    "    half_cols = cols // 2\n",
    "    row_indices = range(row_start - half_rows, row_start + half_rows + 1)\n",
    "    col_indices = range(col_start - half_cols, col_start + half_cols + 1)\n",
    "    \n",
    "    # Create an output array of the same shape, filled with the fill_value\n",
    "    subarray = np.full((rows, cols), fill_value, dtype=arr.dtype)\n",
    "    \n",
    "    # Loop through the calculated indices and copy values from the input array\n",
    "    for i, row_idx in enumerate(row_indices):\n",
    "        for j, col_idx in enumerate(col_indices):\n",
    "            if 0 <= row_idx < arr.shape[0] and 0 <= col_idx < arr.shape[1]:\n",
    "                subarray[i, j] = arr[row_idx, col_idx]\n",
    "    \n",
    "    return subarray\n",
    "\n",
    "# Example usage\n",
    "arr = np.array([[1, 2, 3, 4],\n",
    "                [5, 6, 7, 8],\n",
    "                [9, 10, 11, 12],\n",
    "                [13, 14, 15, 16]])\n",
    "\n",
    "center = (1, 1)  # Centering on the element arr[1, 1] (which is 6)\n",
    "shape = (3, 3)    # Extract a 3x3 subarray\n",
    "fill_value = 0    # Pad with zeros\n",
    "\n",
    "subarray = extract_subarray(arr, center, shape, fill_value)\n",
    "\n",
    "print(\"Extracted Subarray:\")\n",
    "print(subarray)\n",
    "    \n",
    "    "
   ]
  },
  {
   "cell_type": "markdown",
   "id": "93cfeab3",
   "metadata": {},
   "source": [
    "#### 81. Consider an array Z = [1,2,3,4,5,6,7,8,9,10,11,12,13,14], how to generate an array R = [[1,2,3,4], [2,3,4,5], [3,4,5,6], ..., [11,12,13,14]]? (★★★)"
   ]
  },
  {
   "cell_type": "code",
   "execution_count": 132,
   "id": "360de791",
   "metadata": {},
   "outputs": [
    {
     "name": "stdout",
     "output_type": "stream",
     "text": [
      "[[ 1  2  3  4]\n",
      " [ 2  3  4  5]\n",
      " [ 3  4  5  6]\n",
      " [ 4  5  6  7]\n",
      " [ 5  6  7  8]\n",
      " [ 6  7  8  9]\n",
      " [ 7  8  9 10]\n",
      " [ 8  9 10 11]\n",
      " [ 9 10 11 12]\n",
      " [10 11 12 13]\n",
      " [11 12 13 14]]\n"
     ]
    }
   ],
   "source": [
    "import numpy as np\n",
    "\n",
    "# Original array\n",
    "Z = np.array([1, 2, 3, 4, 5, 6, 7, 8, 9, 10, 11, 12, 13, 14])\n",
    "\n",
    "# Window size\n",
    "window_size = 4\n",
    "\n",
    "# Generate the array R using slicing\n",
    "R = np.array([Z[i:i+window_size] for i in range(len(Z) - window_size + 1)])\n",
    "\n",
    "print(R)\n"
   ]
  },
  {
   "cell_type": "markdown",
   "id": "4c15ceff",
   "metadata": {},
   "source": [
    "#### 82. Compute a matrix rank (★★★)"
   ]
  },
  {
   "cell_type": "code",
   "execution_count": 133,
   "id": "9a4272d2",
   "metadata": {},
   "outputs": [
    {
     "name": "stdout",
     "output_type": "stream",
     "text": [
      "Rank of matrix A: 2\n"
     ]
    }
   ],
   "source": [
    "import numpy as np\n",
    "\n",
    "# Example matrix\n",
    "A = np.array([[1, 2, 3], \n",
    "              [4, 5, 6], \n",
    "              [7, 8, 9]])\n",
    "\n",
    "# Compute the rank of the matrix A\n",
    "rank_A = np.linalg.matrix_rank(A)\n",
    "\n",
    "print(\"Rank of matrix A:\", rank_A)\n"
   ]
  },
  {
   "cell_type": "markdown",
   "id": "1171cb84",
   "metadata": {},
   "source": [
    "#### 83. How to find the most frequent value in an array?"
   ]
  },
  {
   "cell_type": "code",
   "execution_count": 134,
   "id": "33e951c8",
   "metadata": {},
   "outputs": [
    {
     "name": "stdout",
     "output_type": "stream",
     "text": [
      "Most frequent value: 2\n"
     ]
    }
   ],
   "source": [
    "import numpy as np\n",
    "\n",
    "# Example array\n",
    "arr = np.array([1, 2, 3, 2, 2, 4, 5, 3, 1, 2])\n",
    "\n",
    "# Find the most frequent value\n",
    "most_frequent = np.bincount(arr).argmax()\n",
    "\n",
    "print(\"Most frequent value:\", most_frequent)\n"
   ]
  },
  {
   "cell_type": "markdown",
   "id": "04f472aa",
   "metadata": {},
   "source": [
    "#### 84. Extract all the contiguous 3x3 blocks from a random 10x10 matrix (★★★)"
   ]
  },
  {
   "cell_type": "code",
   "execution_count": 135,
   "id": "7aade14a",
   "metadata": {},
   "outputs": [
    {
     "name": "stdout",
     "output_type": "stream",
     "text": [
      "Original Matrix:\n",
      "[[4 6 6 3 9 6 6 7 2 6]\n",
      " [2 8 3 7 9 3 9 7 5 1]\n",
      " [5 9 3 7 7 5 4 7 9 9]\n",
      " [8 5 3 1 9 4 9 6 8 8]\n",
      " [2 8 9 3 6 6 8 8 8 8]\n",
      " [9 1 7 7 4 9 5 4 7 9]\n",
      " [9 4 5 5 1 4 4 6 7 2]\n",
      " [3 9 2 6 4 7 8 5 4 9]\n",
      " [5 1 8 8 3 6 5 9 1 1]\n",
      " [5 2 6 1 1 8 8 1 4 7]]\n",
      "\n",
      "All Contiguous 3x3 Blocks:\n",
      "[[4 6 6]\n",
      " [2 8 3]\n",
      " [5 9 3]]\n",
      "---\n",
      "[[6 6 3]\n",
      " [8 3 7]\n",
      " [9 3 7]]\n",
      "---\n",
      "[[6 3 9]\n",
      " [3 7 9]\n",
      " [3 7 7]]\n",
      "---\n",
      "[[3 9 6]\n",
      " [7 9 3]\n",
      " [7 7 5]]\n",
      "---\n",
      "[[9 6 6]\n",
      " [9 3 9]\n",
      " [7 5 4]]\n",
      "---\n",
      "[[6 6 7]\n",
      " [3 9 7]\n",
      " [5 4 7]]\n",
      "---\n",
      "[[6 7 2]\n",
      " [9 7 5]\n",
      " [4 7 9]]\n",
      "---\n",
      "[[7 2 6]\n",
      " [7 5 1]\n",
      " [7 9 9]]\n",
      "---\n",
      "[[2 8 3]\n",
      " [5 9 3]\n",
      " [8 5 3]]\n",
      "---\n",
      "[[8 3 7]\n",
      " [9 3 7]\n",
      " [5 3 1]]\n",
      "---\n",
      "[[3 7 9]\n",
      " [3 7 7]\n",
      " [3 1 9]]\n",
      "---\n",
      "[[7 9 3]\n",
      " [7 7 5]\n",
      " [1 9 4]]\n",
      "---\n",
      "[[9 3 9]\n",
      " [7 5 4]\n",
      " [9 4 9]]\n",
      "---\n",
      "[[3 9 7]\n",
      " [5 4 7]\n",
      " [4 9 6]]\n",
      "---\n",
      "[[9 7 5]\n",
      " [4 7 9]\n",
      " [9 6 8]]\n",
      "---\n",
      "[[7 5 1]\n",
      " [7 9 9]\n",
      " [6 8 8]]\n",
      "---\n",
      "[[5 9 3]\n",
      " [8 5 3]\n",
      " [2 8 9]]\n",
      "---\n",
      "[[9 3 7]\n",
      " [5 3 1]\n",
      " [8 9 3]]\n",
      "---\n",
      "[[3 7 7]\n",
      " [3 1 9]\n",
      " [9 3 6]]\n",
      "---\n",
      "[[7 7 5]\n",
      " [1 9 4]\n",
      " [3 6 6]]\n",
      "---\n",
      "[[7 5 4]\n",
      " [9 4 9]\n",
      " [6 6 8]]\n",
      "---\n",
      "[[5 4 7]\n",
      " [4 9 6]\n",
      " [6 8 8]]\n",
      "---\n",
      "[[4 7 9]\n",
      " [9 6 8]\n",
      " [8 8 8]]\n",
      "---\n",
      "[[7 9 9]\n",
      " [6 8 8]\n",
      " [8 8 8]]\n",
      "---\n",
      "[[8 5 3]\n",
      " [2 8 9]\n",
      " [9 1 7]]\n",
      "---\n",
      "[[5 3 1]\n",
      " [8 9 3]\n",
      " [1 7 7]]\n",
      "---\n",
      "[[3 1 9]\n",
      " [9 3 6]\n",
      " [7 7 4]]\n",
      "---\n",
      "[[1 9 4]\n",
      " [3 6 6]\n",
      " [7 4 9]]\n",
      "---\n",
      "[[9 4 9]\n",
      " [6 6 8]\n",
      " [4 9 5]]\n",
      "---\n",
      "[[4 9 6]\n",
      " [6 8 8]\n",
      " [9 5 4]]\n",
      "---\n",
      "[[9 6 8]\n",
      " [8 8 8]\n",
      " [5 4 7]]\n",
      "---\n",
      "[[6 8 8]\n",
      " [8 8 8]\n",
      " [4 7 9]]\n",
      "---\n",
      "[[2 8 9]\n",
      " [9 1 7]\n",
      " [9 4 5]]\n",
      "---\n",
      "[[8 9 3]\n",
      " [1 7 7]\n",
      " [4 5 5]]\n",
      "---\n",
      "[[9 3 6]\n",
      " [7 7 4]\n",
      " [5 5 1]]\n",
      "---\n",
      "[[3 6 6]\n",
      " [7 4 9]\n",
      " [5 1 4]]\n",
      "---\n",
      "[[6 6 8]\n",
      " [4 9 5]\n",
      " [1 4 4]]\n",
      "---\n",
      "[[6 8 8]\n",
      " [9 5 4]\n",
      " [4 4 6]]\n",
      "---\n",
      "[[8 8 8]\n",
      " [5 4 7]\n",
      " [4 6 7]]\n",
      "---\n",
      "[[8 8 8]\n",
      " [4 7 9]\n",
      " [6 7 2]]\n",
      "---\n",
      "[[9 1 7]\n",
      " [9 4 5]\n",
      " [3 9 2]]\n",
      "---\n",
      "[[1 7 7]\n",
      " [4 5 5]\n",
      " [9 2 6]]\n",
      "---\n",
      "[[7 7 4]\n",
      " [5 5 1]\n",
      " [2 6 4]]\n",
      "---\n",
      "[[7 4 9]\n",
      " [5 1 4]\n",
      " [6 4 7]]\n",
      "---\n",
      "[[4 9 5]\n",
      " [1 4 4]\n",
      " [4 7 8]]\n",
      "---\n",
      "[[9 5 4]\n",
      " [4 4 6]\n",
      " [7 8 5]]\n",
      "---\n",
      "[[5 4 7]\n",
      " [4 6 7]\n",
      " [8 5 4]]\n",
      "---\n",
      "[[4 7 9]\n",
      " [6 7 2]\n",
      " [5 4 9]]\n",
      "---\n",
      "[[9 4 5]\n",
      " [3 9 2]\n",
      " [5 1 8]]\n",
      "---\n",
      "[[4 5 5]\n",
      " [9 2 6]\n",
      " [1 8 8]]\n",
      "---\n",
      "[[5 5 1]\n",
      " [2 6 4]\n",
      " [8 8 3]]\n",
      "---\n",
      "[[5 1 4]\n",
      " [6 4 7]\n",
      " [8 3 6]]\n",
      "---\n",
      "[[1 4 4]\n",
      " [4 7 8]\n",
      " [3 6 5]]\n",
      "---\n",
      "[[4 4 6]\n",
      " [7 8 5]\n",
      " [6 5 9]]\n",
      "---\n",
      "[[4 6 7]\n",
      " [8 5 4]\n",
      " [5 9 1]]\n",
      "---\n",
      "[[6 7 2]\n",
      " [5 4 9]\n",
      " [9 1 1]]\n",
      "---\n",
      "[[3 9 2]\n",
      " [5 1 8]\n",
      " [5 2 6]]\n",
      "---\n",
      "[[9 2 6]\n",
      " [1 8 8]\n",
      " [2 6 1]]\n",
      "---\n",
      "[[2 6 4]\n",
      " [8 8 3]\n",
      " [6 1 1]]\n",
      "---\n",
      "[[6 4 7]\n",
      " [8 3 6]\n",
      " [1 1 8]]\n",
      "---\n",
      "[[4 7 8]\n",
      " [3 6 5]\n",
      " [1 8 8]]\n",
      "---\n",
      "[[7 8 5]\n",
      " [6 5 9]\n",
      " [8 8 1]]\n",
      "---\n",
      "[[8 5 4]\n",
      " [5 9 1]\n",
      " [8 1 4]]\n",
      "---\n",
      "[[5 4 9]\n",
      " [9 1 1]\n",
      " [1 4 7]]\n",
      "---\n"
     ]
    }
   ],
   "source": [
    "import numpy as np\n",
    "\n",
    "# Create a random 10x10 matrix\n",
    "matrix = np.random.randint(1, 10, size=(10, 10))\n",
    "\n",
    "# List to store the 3x3 blocks\n",
    "blocks = []\n",
    "\n",
    "# Extract all contiguous 3x3 blocks\n",
    "for i in range(matrix.shape[0] - 2):  # Rows\n",
    "    for j in range(matrix.shape[1] - 2):  # Columns\n",
    "        block = matrix[i:i+3, j:j+3]  # Extract 3x3 block\n",
    "        blocks.append(block)\n",
    "\n",
    "# Convert blocks to a NumPy array (optional)\n",
    "blocks = np.array(blocks)\n",
    "\n",
    "# Print the random matrix and the 3x3 blocks\n",
    "print(\"Original Matrix:\")\n",
    "print(matrix)\n",
    "\n",
    "print(\"\\nAll Contiguous 3x3 Blocks:\")\n",
    "for block in blocks:\n",
    "    print(block)\n",
    "    print(\"---\")\n"
   ]
  },
  {
   "cell_type": "markdown",
   "id": "52836346",
   "metadata": {},
   "source": [
    "#### 85. Create a 2D array subclass such that Z[i,j] == Z[j,i] (★★★)"
   ]
  },
  {
   "cell_type": "code",
   "execution_count": 138,
   "id": "4f5b9752",
   "metadata": {},
   "outputs": [
    {
     "name": "stdout",
     "output_type": "stream",
     "text": [
      "[[0. 0. 0. 0.]\n",
      " [0. 0. 5. 0.]\n",
      " [0. 5. 0. 0.]\n",
      " [0. 0. 0. 0.]]\n",
      "5.0\n"
     ]
    }
   ],
   "source": [
    "import numpy as np\n",
    "\n",
    "class SymmetricArray(np.ndarray):\n",
    "    def __new__(cls, shape, dtype=float, buffer=None, offset=0, strides=None, order=None):\n",
    "        # Create a new instance of the ndarray\n",
    "        obj = super(SymmetricArray, cls).__new__(cls, shape, dtype, buffer, offset, strides, order)\n",
    "        return obj\n",
    "    \n",
    "    def __setitem__(self, key, value):\n",
    "        # Ensure symmetry: Z[i,j] = Z[j,i]\n",
    "        i, j = key\n",
    "        super(SymmetricArray, self).__setitem__((i, j), value)\n",
    "        if i != j:  # Make sure (j,i) is also set to the same value\n",
    "            super(SymmetricArray, self).__setitem__((j, i), value)\n",
    "    \n",
    "    def __getitem__(self, key):\n",
    "        # Always return the value for Z[i,j] or Z[j,i]\n",
    "        i, j = key\n",
    "        return super(SymmetricArray, self).__getitem__((i, j))\n",
    "\n",
    "# Example usage:\n",
    "shape = (4, 4)\n",
    "Z = np.zeros(shape, dtype=float).view(SymmetricArray)\n",
    "\n",
    "Z[1, 2] = 5\n",
    "print(Z)\n",
    "print(Z[2, 1])  # This will print 5, because Z is symmetric\n"
   ]
  },
  {
   "cell_type": "markdown",
   "id": "78c43ee5",
   "metadata": {},
   "source": [
    "#### 86. Consider a set of p matrices with shape (n,n) and a set of p vectors with shape (n,1). How to compute the sum of of the p matrix products at once? (result has shape (n,1)) (★★★)"
   ]
  },
  {
   "cell_type": "code",
   "execution_count": 139,
   "id": "32fd2c3b",
   "metadata": {},
   "outputs": [
    {
     "name": "stdout",
     "output_type": "stream",
     "text": [
      "[[ 2.73334041]\n",
      " [-0.40450953]\n",
      " [-1.9620636 ]]\n"
     ]
    }
   ],
   "source": [
    "import numpy as np\n",
    "\n",
    "# Example data\n",
    "n = 3\n",
    "p = 4\n",
    "\n",
    "# Create p matrices of shape (n, n) and p vectors of shape (n, 1)\n",
    "A = np.random.randn(p, n, n)  # Shape (p, n, n)\n",
    "b = np.random.randn(p, n, 1)  # Shape (p, n, 1)\n",
    "\n",
    "# Compute the sum of the matrix-vector products\n",
    "result = np.sum(A @ b, axis=0)\n",
    "\n",
    "# The result will have shape (n, 1)\n",
    "print(result)\n"
   ]
  },
  {
   "cell_type": "markdown",
   "id": "158f9945",
   "metadata": {},
   "source": [
    "#### 87. Consider a 16x16 array, how to get the block-sum (block size is 4x4)? (★★★)"
   ]
  },
  {
   "cell_type": "code",
   "execution_count": 141,
   "id": "5a9b808f",
   "metadata": {},
   "outputs": [
    {
     "name": "stdout",
     "output_type": "stream",
     "text": [
      "[[-1.97645313  0.30023459  1.51063403 -0.16486589]\n",
      " [-1.37586307 -2.10576979 -1.05835912  5.20027976]\n",
      " [-5.59362899 -4.88475075  1.7285898  -5.19298   ]\n",
      " [ 4.7308275  -2.74333425 -0.72420155  5.12419621]]\n"
     ]
    }
   ],
   "source": [
    "import numpy as np\n",
    "\n",
    "# Create a 16x16 array\n",
    "arr = np.random.randn(16, 16)\n",
    "\n",
    "# Define block size\n",
    "block_size = 4\n",
    "\n",
    "# Reshape the array into (4, 4, 4, 4) blocks\n",
    "arr_reshaped = arr.reshape(4, block_size, 4, block_size)\n",
    "\n",
    "block_sum = arr_reshaped.sum(axis=(1, 3))\n",
    "\n",
    "print(block_sum)\n"
   ]
  },
  {
   "cell_type": "markdown",
   "id": "2e0ad860",
   "metadata": {},
   "source": [
    "#### 88. How to implement the Game of Life using numpy arrays? (★★★)"
   ]
  },
  {
   "cell_type": "code",
   "execution_count": 143,
   "id": "574acff5",
   "metadata": {},
   "outputs": [
    {
     "data": {
      "image/png": "[encoded data removed]",
      "text/plain": [
       "<Figure size 640x480 with 1 Axes>"
      ]
     },
     "metadata": {},
     "output_type": "display_data"
    },
    {
     "data": {
      "image/png": "[encoded data removed]",
      "text/plain": [
       "<Figure size 640x480 with 1 Axes>"
      ]
     },
     "metadata": {},
     "output_type": "display_data"
    }
   ],
   "source": [
    "import numpy as np\n",
    "import matplotlib.pyplot as plt\n",
    "\n",
    "def game_of_life(grid, num_generations):\n",
    "    # Define the shape of the grid\n",
    "    rows, cols = grid.shape\n",
    "\n",
    "    # List of 8 possible neighbor offsets (8 neighbors around each cell)\n",
    "    neighbors = [(-1, -1), (-1, 0), (-1, 1),\n",
    "                 (0, -1),         (0, 1),\n",
    "                 (1, -1), (1, 0), (1, 1)]\n",
    "\n",
    "    # Create a copy of the grid to prevent modifying it while updating\n",
    "    new_grid = grid.copy()\n",
    "\n",
    "    for _ in range(num_generations):\n",
    "        for i in range(rows):\n",
    "            for j in range(cols):\n",
    "                # Count the number of live neighbors\n",
    "                live_neighbors = 0\n",
    "                for dx, dy in neighbors:\n",
    "                    ni, nj = i + dx, j + dy\n",
    "                    if 0 <= ni < rows and 0 <= nj < cols:  # Ensure within bounds\n",
    "                        live_neighbors += grid[ni, nj]\n",
    "\n",
    "                # Apply the Game of Life rules\n",
    "                if grid[i, j] == 1:  # If the cell is currently alive\n",
    "                    if live_neighbors < 2 or live_neighbors > 3:\n",
    "                        new_grid[i,j] = 0\n",
    "                else:\n",
    "                    if live_neighbors == 3:\n",
    "                        new_grid[i,j] = 1\n",
    "\n",
    "        grid = new_grid.copy()\n",
    "    return new_grid\n",
    "if __name__ == \"__main__\":\n",
    "    # Initialize a random grid of size 10x10\n",
    "    grid_size = 10\n",
    "    grid = np.random.choice([0, 1], size=(grid_size, grid_size), p=[0.8, 0.2])\n",
    "\n",
    "    # Plot initial grid\n",
    "    plt.imshow(grid, cmap=\"binary\")\n",
    "    plt.title(\"Initial Grid\")\n",
    "    plt.show()\n",
    "\n",
    "    # Run the Game of Life for 10 generations\n",
    "    generations = 10\n",
    "    final_grid = game_of_life(grid, generations)\n",
    "\n",
    "    # Plot final grid after the game\n",
    "    plt.imshow(final_grid, cmap=\"binary\")\n",
    "    plt.title(f\"Grid after {generations} Generations\")\n",
    "    plt.show()\n"
   ]
  },
  {
   "cell_type": "markdown",
   "id": "69a892fa",
   "metadata": {},
   "source": [
    "#### 89. How to get the n largest values of an array (★★★)"
   ]
  },
  {
   "cell_type": "code",
   "execution_count": 144,
   "id": "63ffd88c",
   "metadata": {},
   "outputs": [
    {
     "name": "stdout",
     "output_type": "stream",
     "text": [
      "Original array: [ 0.21589911 -0.17502489  0.66505818  2.08099226 -1.49677426  0.97768573\n",
      " -0.42320105  0.08158696  0.28761425  0.50619667]\n",
      "3 largest values: [0.66505818 0.97768573 2.08099226]\n"
     ]
    }
   ],
   "source": [
    "import numpy as np\n",
    "\n",
    "# Example array\n",
    "arr = np.random.randn(10)\n",
    "\n",
    "# Number of largest values to get\n",
    "n = 3\n",
    "\n",
    "# Using np.partition to find the n largest values\n",
    "largest_values = np.partition(arr, -n)[-n:]\n",
    "\n",
    "print(\"Original array:\", arr)\n",
    "print(f\"{n} largest values:\", largest_values)\n"
   ]
  },
  {
   "cell_type": "markdown",
   "id": "b55ccacc",
   "metadata": {},
   "source": [
    "#### 90. Given an arbitrary number of vectors, build the cartesian product (every combinations of every item) (★★★)"
   ]
  },
  {
   "cell_type": "code",
   "execution_count": 145,
   "id": "4b645da4",
   "metadata": {},
   "outputs": [
    {
     "name": "stdout",
     "output_type": "stream",
     "text": [
      "[[1 3 5]\n",
      " [1 3 6]\n",
      " [1 4 5]\n",
      " [1 4 6]\n",
      " [2 3 5]\n",
      " [2 3 6]\n",
      " [2 4 5]\n",
      " [2 4 6]]\n"
     ]
    }
   ],
   "source": [
    "import numpy as np\n",
    "import itertools\n",
    "\n",
    "# Example vectors\n",
    "vec1 = [1, 2]\n",
    "vec2 = [3, 4]\n",
    "vec3 = [5, 6]\n",
    "\n",
    "# Compute the Cartesian product using itertools.product\n",
    "cartesian_product = np.array(list(itertools.product(vec1, vec2, vec3)))\n",
    "\n",
    "print(cartesian_product)\n"
   ]
  },
  {
   "cell_type": "markdown",
   "id": "89187a23",
   "metadata": {},
   "source": [
    "#### 91. How to create a record array from a regular array? (★★★)"
   ]
  },
  {
   "cell_type": "code",
   "execution_count": 147,
   "id": "da94c71a",
   "metadata": {},
   "outputs": [
    {
     "name": "stdout",
     "output_type": "stream",
     "text": [
      "Record Array:\n",
      "[(1, 2, 3) (4, 5, 6)]\n",
      "\n",
      "Accessing 'a' field:\n",
      "[1 4]\n",
      "\n",
      "Element from 'b' field (second element in second row):\n",
      "5\n"
     ]
    },
    {
     "name": "stderr",
     "output_type": "stream",
     "text": [
      "C:\\Users\\rishi\\AppData\\Local\\Temp\\ipykernel_20088\\2731211605.py:10: DeprecationWarning: numpy.core is deprecated and has been renamed to numpy._core. The numpy._core namespace contains private NumPy internals and its use is discouraged, as NumPy internals can change without warning in any release. In practice, most real-world usage of numpy.core is to access functionality in the public NumPy API. If that is the case, use the public NumPy API. If not, you are using NumPy internals. If you would still like to access an internal attribute, use numpy._core.records.\n",
      "  record_arr = np.core.records.fromarrays(arr.T, names=fields)\n"
     ]
    }
   ],
   "source": [
    "import numpy as np\n",
    "\n",
    "# Create a regular 2D array\n",
    "arr = np.array([[1, 2, 3], [4, 5, 6]])\n",
    "\n",
    "# Define field names for the record array\n",
    "fields = ['a', 'b', 'c']\n",
    "\n",
    "# Create a record array from the regular array\n",
    "record_arr = np.core.records.fromarrays(arr.T, names=fields)\n",
    "\n",
    "# Access fields as attributes\n",
    "print(\"Record Array:\")\n",
    "print(record_arr)\n",
    "\n",
    "# Access a specific field by name\n",
    "print(\"\\nAccessing 'a' field:\")\n",
    "print(record_arr.a)\n",
    "\n",
    "# Access a specific element using the field\n",
    "print(\"\\nElement from 'b' field (second element in second row):\")\n",
    "print(record_arr.b[1])"
   ]
  },
  {
   "cell_type": "markdown",
   "id": "aa70d4ca",
   "metadata": {},
   "source": [
    "#### 92. Consider a large vector Z, compute Z to the power of 3 using 3 different methods (★★★)"
   ]
  },
  {
   "cell_type": "code",
   "execution_count": 148,
   "id": "7cff1bf5",
   "metadata": {},
   "outputs": [
    {
     "name": "stdout",
     "output_type": "stream",
     "text": [
      "Z^3 computed using 3 methods successfully.\n"
     ]
    }
   ],
   "source": [
    "import numpy as np\n",
    "\n",
    "# Create a large vector Z (e.g., size 10^6 for illustration)\n",
    "Z = np.random.randn(10**6)\n",
    "\n",
    "# Method 1: Using np.power() function\n",
    "Z_power_1 = np.power(Z, 3)\n",
    "\n",
    "# Method 2: Using the '**' operator\n",
    "Z_power_2 = Z ** 3\n",
    "\n",
    "# Method 3: Using np.multiply() (Z * Z * Z)\n",
    "Z_power_3 = np.multiply(np.multiply(Z, Z), Z)\n",
    "\n",
    "# Optionally, check that all methods give the same result\n",
    "assert np.allclose(Z_power_1, Z_power_2), \"Results from method 1 and method 2 don't match\"\n",
    "assert np.allclose(Z_power_1, Z_power_3), \"Results from method 1 and method 3 don't match\"\n",
    "\n",
    "print(\"Z^3 computed using 3 methods successfully.\")\n"
   ]
  },
  {
   "cell_type": "markdown",
   "id": "5f79dd00",
   "metadata": {},
   "source": [
    "#### 93. Consider two arrays A and B of shape (8,3) and (2,2). How to find rows of A that contain elements of each row of B regardless of the order of the elements in B? (★★★)"
   ]
  },
  {
   "cell_type": "code",
   "execution_count": 151,
   "id": "20c105b2",
   "metadata": {},
   "outputs": [
    {
     "name": "stdout",
     "output_type": "stream",
     "text": [
      "Rows of A that contain elements of each row of B:\n",
      "[[1 5 9]]\n"
     ]
    }
   ],
   "source": [
    "import numpy as np\n",
    "\n",
    "# Example arrays\n",
    "A = np.array([[1, 2, 3],\n",
    "              [4, 5, 6],\n",
    "              [7, 8, 9],\n",
    "              [1, 5, 9],\n",
    "              [3, 4, 5],\n",
    "              [2, 7, 8],\n",
    "              [9, 2, 5],\n",
    "              [1, 8, 7]])\n",
    "\n",
    "B = np.array([[1, 5],\n",
    "              [3, 8]])\n",
    "\n",
    "# Find rows of A that contain elements of each row of B (order doesn't matter)\n",
    "result = []\n",
    "\n",
    "for b_row in B:\n",
    "    \n",
    "   for a_row in A:\n",
    "        if set(b_row).issubset(set(a_row)):\n",
    "            result.append(a_row)\n",
    "\n",
    "# Convert the result back to a numpy array\n",
    "result_array = np.array(result)\n",
    "\n",
    "print(\"Rows of A that contain elements of each row of B:\")\n",
    "print(result_array)"
   ]
  },
  {
   "cell_type": "markdown",
   "id": "a80570cd",
   "metadata": {},
   "source": [
    "#### 94. Considering a 10x3 matrix, extract rows with unequal values (e.g. [2,2,3]) (★★★)"
   ]
  },
  {
   "cell_type": "code",
   "execution_count": 153,
   "id": "ff7cd63c",
   "metadata": {},
   "outputs": [
    {
     "name": "stdout",
     "output_type": "stream",
     "text": [
      "Rows with unequal values:\n",
      "[[ 1  2  3]\n",
      " [ 6  6  7]\n",
      " [ 9 10 11]]\n"
     ]
    }
   ],
   "source": [
    "matrix = np.array([[2, 2, 2],\n",
    "                   [3, 3, 3],\n",
    "                   [1, 2, 3],\n",
    "                   [5, 5, 5],\n",
    "                   [8, 8, 8],\n",
    "                   [6, 6, 7],\n",
    "                   [4, 4, 4],\n",
    "                   [9, 10, 11],\n",
    "                   [3, 3, 3],\n",
    "                   [1, 1, 1]])\n",
    "\n",
    "# Extract rows where not all values are equal\n",
    "unequal_rows = matrix[~np.all(matrix == matrix[:, 0:1], axis=1)]\n",
    "\n",
    "print(\"Rows with unequal values:\")\n",
    "print(unequal_rows)"
   ]
  },
  {
   "cell_type": "markdown",
   "id": "ba154f43",
   "metadata": {},
   "source": [
    "#### 95. Convert a vector of ints into a matrix binary representation (★★★)"
   ]
  },
  {
   "cell_type": "code",
   "execution_count": 154,
   "id": "cfa96e1b",
   "metadata": {},
   "outputs": [
    {
     "name": "stdout",
     "output_type": "stream",
     "text": [
      "Binary representation matrix:\n",
      "[[0 0 0 0 0 1 0 1]\n",
      " [0 0 0 0 1 0 1 0]\n",
      " [1 1 1 1 1 1 1 1]\n",
      " [0 0 0 0 0 0 1 1]]\n"
     ]
    }
   ],
   "source": [
    "import numpy as np\n",
    "\n",
    "# Example vector of integers\n",
    "vector = np.array([5, 10, 255, 3])\n",
    "\n",
    "# Convert the vector to its binary representation\n",
    "# First, we need to ensure that we treat each integer as an 8-bit representation\n",
    "binary_matrix = np.unpackbits(vector.astype(np.uint8).reshape(-1, 1), axis=1)\n",
    "\n",
    "print(\"Binary representation matrix:\")\n",
    "print(binary_matrix)\n"
   ]
  },
  {
   "cell_type": "code",
   "execution_count": null,
   "id": "a16c423f",
   "metadata": {},
   "outputs": [],
   "source": []
  },
  {
   "cell_type": "markdown",
   "id": "89fef2f3",
   "metadata": {},
   "source": [
    "#### 97. Considering 2 vectors A & B, write the einsum equivalent of inner, outer, sum, and mul function (★★★)"
   ]
  },
  {
   "cell_type": "code",
   "execution_count": 156,
   "id": "bb9c14b2",
   "metadata": {},
   "outputs": [
    {
     "name": "stdout",
     "output_type": "stream",
     "text": [
      "32\n"
     ]
    }
   ],
   "source": [
    "import numpy as np\n",
    "\n",
    "A = np.array([1, 2, 3])\n",
    "B = np.array([4, 5, 6])\n",
    "inner_product = np.einsum('i,i', A, B)\n",
    "print(inner_product)\n",
    "\n",
    "\n",
    "\n"
   ]
  },
  {
   "cell_type": "markdown",
   "id": "7ad5cc5f",
   "metadata": {},
   "source": [
    "#### 98. Considering a path described by two vectors (X,Y), how to sample it using equidistant samples (★★★)?"
   ]
  },
  {
   "cell_type": "code",
   "execution_count": 157,
   "id": "0899d1d5",
   "metadata": {},
   "outputs": [
    {
     "data": {
      "image/png": "[encoded data removed]",
      "text/plain": [
       "<Figure size 800x600 with 1 Axes>"
      ]
     },
     "metadata": {},
     "output_type": "display_data"
    }
   ],
   "source": [
    "import numpy as np\n",
    "import matplotlib.pyplot as plt\n",
    "\n",
    "# Example path (X, Y) with irregular spacing\n",
    "X = np.array([0, 1, 2, 3, 5, 7])\n",
    "Y = np.array([0, 1, 0, -1, 0, 1])\n",
    "\n",
    "# 1. Compute the distances between consecutive points\n",
    "distances = np.sqrt(np.diff(X)**2 + np.diff(Y)**2)\n",
    "\n",
    "# 2. Compute the cumulative distance\n",
    "cumulative_distance = np.concatenate(([0], np.cumsum(distances)))\n",
    "\n",
    "# 3. Define the equidistant spacing\n",
    "num_samples = 50  # Number of equidistant samples\n",
    "total_distance = cumulative_distance[-1]\n",
    "equidistant_distances = np.linspace(0, total_distance, num_samples)\n",
    "\n",
    "# 4. Interpolate to find the X and Y coordinates of the equidistant samples\n",
    "equidistant_X = np.interp(equidistant_distances, cumulative_distance, X)\n",
    "equidistant_Y = np.interp(equidistant_distances, cumulative_distance, Y)\n",
    "\n",
    "# 5. Plot the original and the sampled path\n",
    "plt.figure(figsize=(8, 6))\n",
    "plt.plot(X, Y, label='Original Path', marker='o', linestyle='-', color='blue')\n",
    "plt.plot(equidistant_X, equidistant_Y, label='Equidistant Samples', marker='x', linestyle='-', color='red')\n",
    "plt.legend()\n",
    "plt.xlabel('X')\n",
    "plt.ylabel('Y')\n",
    "plt.title('Path Sampling with Equidistant Points')\n",
    "plt.show()\n"
   ]
  },
  {
   "cell_type": "markdown",
   "id": "2b69272e",
   "metadata": {},
   "source": [
    "#### 99. Given an integer n and a 2D array X, select from X the rows which can be interpreted as draws from a multinomial distribution with n degrees, i.e., the rows which only contain integers and which sum to n. (★★★)"
   ]
  },
  {
   "cell_type": "code",
   "execution_count": 158,
   "id": "55c8b034",
   "metadata": {},
   "outputs": [
    {
     "name": "stdout",
     "output_type": "stream",
     "text": [
      "Selected rows that can be interpreted as draws from a multinomial distribution:\n",
      "[[3 2 1]]\n"
     ]
    }
   ],
   "source": [
    "import numpy as np\n",
    "\n",
    "# Example 2D array X and the integer n\n",
    "X = np.array([[3, 2, 1],\n",
    "              [1, 1, 1],\n",
    "              [4, 5, 6],\n",
    "              [0, 5, 3]])\n",
    "\n",
    "n = 6  # The number of degrees in the multinomial distribution\n",
    "\n",
    "# Select rows which sum to n and contain only integers\n",
    "valid_rows = X[np.all(X == X.astype(int), axis=1) & (np.sum(X, axis=1) == n)]\n",
    "\n",
    "print(\"Selected rows that can be interpreted as draws from a multinomial distribution:\")\n",
    "print(valid_rows)\n"
   ]
  },
  {
   "cell_type": "markdown",
   "id": "59ab5516",
   "metadata": {},
   "source": [
    "#### 100. Compute bootstrapped 95% confidence intervals for the mean of a 1D array X (i.e., resample the elements of an array with replacement N times, compute the mean of each sample, and then compute percentiles over the means). (★★★)"
   ]
  },
  {
   "cell_type": "code",
   "execution_count": 163,
   "id": "450877d8",
   "metadata": {},
   "outputs": [
    {
     "name": "stdout",
     "output_type": "stream",
     "text": [
      "Bootstrapped 95% confidence interval for the mean: (3.8, 7.3)\n"
     ]
    }
   ],
   "source": [
    "\n",
    "import numpy as np\n",
    "\n",
    "# Example 1D array X\n",
    "X = np.array([1, 2, 3, 4, 5, 6, 7, 8, 9, 10])\n",
    "\n",
    "# Number of bootstrap resamples\n",
    "N = 10000\n",
    "\n",
    "# Resample the array N times and compute the mean of each resample\n",
    "boot_means = np.empty(N)\n",
    "for i in range(N):\n",
    "    sample = np.random.choice(X, size=len(X), replace=True)  # Resample with replacement\n",
    "    boot_means[i] = np.mean(sample)\n",
    "\n",
    "# Compute the 95% confidence interval (2.5th and 97.5th percentiles)\n",
    "lower_bound = np.percentile(boot_means, 2.5)\n",
    "upper_bound = np.percentile(boot_means, 97.5)\n",
    "\n",
    "print(f\"Bootstrapped 95% confidence interval for the mean: ({lower_bound}, {upper_bound})\")\n"
   ]
  }
 ],
 "metadata": {
  "kernelspec": {
   "display_name": "Python 3",
   "language": "python",
   "name": "python3"
  },
  "language_info": {
   "codemirror_mode": {
    "name": "ipython",
    "version": 3
   },
   "file_extension": ".py",
   "mimetype": "text/x-python",
   "name": "python",
   "nbconvert_exporter": "python",
   "pygments_lexer": "ipython3",
   "version": "3.11.9"
  }
 },
 "nbformat": 4,
 "nbformat_minor": 5
}
